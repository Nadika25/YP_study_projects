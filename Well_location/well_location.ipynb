{
 "cells": [
  {
   "cell_type": "markdown",
   "metadata": {},
   "source": [
    "# Выбор локации для скважины"
   ]
  },
  {
   "cell_type": "markdown",
   "metadata": {},
   "source": [
    "## Введение"
   ]
  },
  {
   "cell_type": "markdown",
   "metadata": {},
   "source": [
    "Добывающая компания «ГлавРосГосНефть» хочет узнать, где бурить новую скважину. В нескольких регионах собрали характеристики для скважин: качество нефти и объем её запасов. Необходимо определить регион с максимальной суммарной прибылью отобранных скважин.\n",
    "\n",
    "**Входные данные**\n",
    "* Для обучения модели подходит только линейная регрессия.\n",
    "* При разведке региона исследуют 500 точек, из которых нужно выбрать 200 лучших для разработки.\n",
    "* Бюджет на разработку скважин в регионе — 10 млрд рублей.\n",
    "* Один баррель сырья приносит 450 рублей дохода. Доход с каждой единицы продукта составляет 450 тыс. рублей, поскольку объём указан в тысячах баррелей.\n",
    "* После оценки рисков нужно оставить лишь те регионы, в которых вероятность убытков меньше 2.5%. Среди них выбирают регион с наибольшей средней прибылью.\n",
    "* Данные синтетические: детали контрактов и характеристики месторождений не разглашаются.\n",
    "\n",
    "**Ход работы**\n",
    "\n",
    "Компанией предоставлены датафремы с данными от каждого из трёх регионов. Для начала необходимо загрузить данные и изучить их. Данные необходимо проверить на пропуски и дубликаты.\n",
    "\n",
    "Следующей частью работы станет исследовательский анализ данных. По каждому датасету посмотрим, есть ли корреляция между данными. Также проверим данные на выбросы и изучим гистограммы.\n",
    "\n",
    "Затем можно будет перейти к обучению модели. Данные разделим на обучающую и валидационную выборки. Все модели обучим, а затем для данных каждого региона найдём: реальный средний запас сырья, предсказанный средний запас сырья и среднеквадратическую ошибку RMSE.\n",
    "\n",
    "Подготовимся к расчету прибыли. Зададим переменные для входных значений. Определим достаточный объём сырья для безубыточной разработки новой скважины. Найдем средний запас в каждом регионе. Далее необходимо будет точечно выявить выгодные скважины в каждом регионе. Рассчитаем прибыли и риски, учитывая, что компания исследует 500 точек, а разработает 200 лучших.\n",
    "\n",
    "\n",
    "Наконец перейдём к выявлению наиболее выгодных скважин в каждом регионе. Рассчитаем прибыли и риски, учитывая, что компания исследует 500 точек, а разработает 200 лучших."
   ]
  },
  {
   "cell_type": "markdown",
   "metadata": {},
   "source": [
    "## Загрузка и подготовка данных"
   ]
  },
  {
   "cell_type": "markdown",
   "metadata": {},
   "source": [
    "### Загрузка данных"
   ]
  },
  {
   "cell_type": "markdown",
   "metadata": {},
   "source": [
    "Импорт библиотек"
   ]
  },
  {
   "cell_type": "code",
   "execution_count": 1,
   "metadata": {},
   "outputs": [
    {
     "data": {
      "text/html": [
       "<style>.container { width:90% !important; }</style>"
      ],
      "text/plain": [
       "<IPython.core.display.HTML object>"
      ]
     },
     "metadata": {},
     "output_type": "display_data"
    }
   ],
   "source": [
    "import pandas as pd\n",
    "import numpy as np\n",
    "import matplotlib.pyplot as plt\n",
    "import seaborn as sn\n",
    "import warnings\n",
    "from sklearn.model_selection import train_test_split\n",
    "from sklearn.preprocessing import StandardScaler\n",
    "from sklearn.metrics import make_scorer\n",
    "from sklearn.model_selection import GridSearchCV\n",
    "from sklearn.metrics import accuracy_score\n",
    "from sklearn.metrics import precision_score\n",
    "from sklearn.metrics import recall_score\n",
    "from sklearn.metrics import f1_score\n",
    "from sklearn.linear_model import LinearRegression\n",
    "from sklearn.metrics import mean_squared_error\n",
    "from tqdm import tqdm_notebook\n",
    "\n",
    "from IPython.core.display import display, HTML\n",
    "display(HTML(\"<style>.container { width:90% !important; }</style>\"))"
   ]
  },
  {
   "cell_type": "markdown",
   "metadata": {},
   "source": [
    "Загрузка данных"
   ]
  },
  {
   "cell_type": "code",
   "execution_count": 2,
   "metadata": {},
   "outputs": [],
   "source": [
    "data1 = pd.read_csv('/datasets/geo_data_0.csv')\n",
    "data2 = pd.read_csv('/datasets/geo_data_1.csv')\n",
    "data3 = pd.read_csv('/datasets/geo_data_2.csv')"
   ]
  },
  {
   "cell_type": "code",
   "execution_count": 3,
   "metadata": {},
   "outputs": [
    {
     "name": "stdout",
     "output_type": "stream",
     "text": [
      "Данные по региону 1\n"
     ]
    },
    {
     "data": {
      "text/html": [
       "<div>\n",
       "<style scoped>\n",
       "    .dataframe tbody tr th:only-of-type {\n",
       "        vertical-align: middle;\n",
       "    }\n",
       "\n",
       "    .dataframe tbody tr th {\n",
       "        vertical-align: top;\n",
       "    }\n",
       "\n",
       "    .dataframe thead th {\n",
       "        text-align: right;\n",
       "    }\n",
       "</style>\n",
       "<table border=\"1\" class=\"dataframe\">\n",
       "  <thead>\n",
       "    <tr style=\"text-align: right;\">\n",
       "      <th></th>\n",
       "      <th>id</th>\n",
       "      <th>f0</th>\n",
       "      <th>f1</th>\n",
       "      <th>f2</th>\n",
       "      <th>product</th>\n",
       "    </tr>\n",
       "  </thead>\n",
       "  <tbody>\n",
       "    <tr>\n",
       "      <th>0</th>\n",
       "      <td>txEyH</td>\n",
       "      <td>0.705745</td>\n",
       "      <td>-0.497823</td>\n",
       "      <td>1.221170</td>\n",
       "      <td>105.280062</td>\n",
       "    </tr>\n",
       "    <tr>\n",
       "      <th>1</th>\n",
       "      <td>2acmU</td>\n",
       "      <td>1.334711</td>\n",
       "      <td>-0.340164</td>\n",
       "      <td>4.365080</td>\n",
       "      <td>73.037750</td>\n",
       "    </tr>\n",
       "    <tr>\n",
       "      <th>2</th>\n",
       "      <td>409Wp</td>\n",
       "      <td>1.022732</td>\n",
       "      <td>0.151990</td>\n",
       "      <td>1.419926</td>\n",
       "      <td>85.265647</td>\n",
       "    </tr>\n",
       "    <tr>\n",
       "      <th>3</th>\n",
       "      <td>iJLyR</td>\n",
       "      <td>-0.032172</td>\n",
       "      <td>0.139033</td>\n",
       "      <td>2.978566</td>\n",
       "      <td>168.620776</td>\n",
       "    </tr>\n",
       "    <tr>\n",
       "      <th>4</th>\n",
       "      <td>Xdl7t</td>\n",
       "      <td>1.988431</td>\n",
       "      <td>0.155413</td>\n",
       "      <td>4.751769</td>\n",
       "      <td>154.036647</td>\n",
       "    </tr>\n",
       "  </tbody>\n",
       "</table>\n",
       "</div>"
      ],
      "text/plain": [
       "      id        f0        f1        f2     product\n",
       "0  txEyH  0.705745 -0.497823  1.221170  105.280062\n",
       "1  2acmU  1.334711 -0.340164  4.365080   73.037750\n",
       "2  409Wp  1.022732  0.151990  1.419926   85.265647\n",
       "3  iJLyR -0.032172  0.139033  2.978566  168.620776\n",
       "4  Xdl7t  1.988431  0.155413  4.751769  154.036647"
      ]
     },
     "metadata": {},
     "output_type": "display_data"
    },
    {
     "data": {
      "text/html": [
       "<div>\n",
       "<style scoped>\n",
       "    .dataframe tbody tr th:only-of-type {\n",
       "        vertical-align: middle;\n",
       "    }\n",
       "\n",
       "    .dataframe tbody tr th {\n",
       "        vertical-align: top;\n",
       "    }\n",
       "\n",
       "    .dataframe thead th {\n",
       "        text-align: right;\n",
       "    }\n",
       "</style>\n",
       "<table border=\"1\" class=\"dataframe\">\n",
       "  <thead>\n",
       "    <tr style=\"text-align: right;\">\n",
       "      <th></th>\n",
       "      <th>f0</th>\n",
       "      <th>f1</th>\n",
       "      <th>f2</th>\n",
       "      <th>product</th>\n",
       "    </tr>\n",
       "  </thead>\n",
       "  <tbody>\n",
       "    <tr>\n",
       "      <th>count</th>\n",
       "      <td>100000.000000</td>\n",
       "      <td>100000.000000</td>\n",
       "      <td>100000.000000</td>\n",
       "      <td>100000.000000</td>\n",
       "    </tr>\n",
       "    <tr>\n",
       "      <th>mean</th>\n",
       "      <td>0.500419</td>\n",
       "      <td>0.250143</td>\n",
       "      <td>2.502647</td>\n",
       "      <td>92.500000</td>\n",
       "    </tr>\n",
       "    <tr>\n",
       "      <th>std</th>\n",
       "      <td>0.871832</td>\n",
       "      <td>0.504433</td>\n",
       "      <td>3.248248</td>\n",
       "      <td>44.288691</td>\n",
       "    </tr>\n",
       "    <tr>\n",
       "      <th>min</th>\n",
       "      <td>-1.408605</td>\n",
       "      <td>-0.848218</td>\n",
       "      <td>-12.088328</td>\n",
       "      <td>0.000000</td>\n",
       "    </tr>\n",
       "    <tr>\n",
       "      <th>25%</th>\n",
       "      <td>-0.072580</td>\n",
       "      <td>-0.200881</td>\n",
       "      <td>0.287748</td>\n",
       "      <td>56.497507</td>\n",
       "    </tr>\n",
       "    <tr>\n",
       "      <th>50%</th>\n",
       "      <td>0.502360</td>\n",
       "      <td>0.250252</td>\n",
       "      <td>2.515969</td>\n",
       "      <td>91.849972</td>\n",
       "    </tr>\n",
       "    <tr>\n",
       "      <th>75%</th>\n",
       "      <td>1.073581</td>\n",
       "      <td>0.700646</td>\n",
       "      <td>4.715088</td>\n",
       "      <td>128.564089</td>\n",
       "    </tr>\n",
       "    <tr>\n",
       "      <th>max</th>\n",
       "      <td>2.362331</td>\n",
       "      <td>1.343769</td>\n",
       "      <td>16.003790</td>\n",
       "      <td>185.364347</td>\n",
       "    </tr>\n",
       "  </tbody>\n",
       "</table>\n",
       "</div>"
      ],
      "text/plain": [
       "                  f0             f1             f2        product\n",
       "count  100000.000000  100000.000000  100000.000000  100000.000000\n",
       "mean        0.500419       0.250143       2.502647      92.500000\n",
       "std         0.871832       0.504433       3.248248      44.288691\n",
       "min        -1.408605      -0.848218     -12.088328       0.000000\n",
       "25%        -0.072580      -0.200881       0.287748      56.497507\n",
       "50%         0.502360       0.250252       2.515969      91.849972\n",
       "75%         1.073581       0.700646       4.715088     128.564089\n",
       "max         2.362331       1.343769      16.003790     185.364347"
      ]
     },
     "metadata": {},
     "output_type": "display_data"
    },
    {
     "name": "stdout",
     "output_type": "stream",
     "text": [
      "\n",
      "Данные по региону 2\n"
     ]
    },
    {
     "data": {
      "text/html": [
       "<div>\n",
       "<style scoped>\n",
       "    .dataframe tbody tr th:only-of-type {\n",
       "        vertical-align: middle;\n",
       "    }\n",
       "\n",
       "    .dataframe tbody tr th {\n",
       "        vertical-align: top;\n",
       "    }\n",
       "\n",
       "    .dataframe thead th {\n",
       "        text-align: right;\n",
       "    }\n",
       "</style>\n",
       "<table border=\"1\" class=\"dataframe\">\n",
       "  <thead>\n",
       "    <tr style=\"text-align: right;\">\n",
       "      <th></th>\n",
       "      <th>id</th>\n",
       "      <th>f0</th>\n",
       "      <th>f1</th>\n",
       "      <th>f2</th>\n",
       "      <th>product</th>\n",
       "    </tr>\n",
       "  </thead>\n",
       "  <tbody>\n",
       "    <tr>\n",
       "      <th>0</th>\n",
       "      <td>kBEdx</td>\n",
       "      <td>-15.001348</td>\n",
       "      <td>-8.276000</td>\n",
       "      <td>-0.005876</td>\n",
       "      <td>3.179103</td>\n",
       "    </tr>\n",
       "    <tr>\n",
       "      <th>1</th>\n",
       "      <td>62mP7</td>\n",
       "      <td>14.272088</td>\n",
       "      <td>-3.475083</td>\n",
       "      <td>0.999183</td>\n",
       "      <td>26.953261</td>\n",
       "    </tr>\n",
       "    <tr>\n",
       "      <th>2</th>\n",
       "      <td>vyE1P</td>\n",
       "      <td>6.263187</td>\n",
       "      <td>-5.948386</td>\n",
       "      <td>5.001160</td>\n",
       "      <td>134.766305</td>\n",
       "    </tr>\n",
       "    <tr>\n",
       "      <th>3</th>\n",
       "      <td>KcrkZ</td>\n",
       "      <td>-13.081196</td>\n",
       "      <td>-11.506057</td>\n",
       "      <td>4.999415</td>\n",
       "      <td>137.945408</td>\n",
       "    </tr>\n",
       "    <tr>\n",
       "      <th>4</th>\n",
       "      <td>AHL4O</td>\n",
       "      <td>12.702195</td>\n",
       "      <td>-8.147433</td>\n",
       "      <td>5.004363</td>\n",
       "      <td>134.766305</td>\n",
       "    </tr>\n",
       "  </tbody>\n",
       "</table>\n",
       "</div>"
      ],
      "text/plain": [
       "      id         f0         f1        f2     product\n",
       "0  kBEdx -15.001348  -8.276000 -0.005876    3.179103\n",
       "1  62mP7  14.272088  -3.475083  0.999183   26.953261\n",
       "2  vyE1P   6.263187  -5.948386  5.001160  134.766305\n",
       "3  KcrkZ -13.081196 -11.506057  4.999415  137.945408\n",
       "4  AHL4O  12.702195  -8.147433  5.004363  134.766305"
      ]
     },
     "metadata": {},
     "output_type": "display_data"
    },
    {
     "data": {
      "text/html": [
       "<div>\n",
       "<style scoped>\n",
       "    .dataframe tbody tr th:only-of-type {\n",
       "        vertical-align: middle;\n",
       "    }\n",
       "\n",
       "    .dataframe tbody tr th {\n",
       "        vertical-align: top;\n",
       "    }\n",
       "\n",
       "    .dataframe thead th {\n",
       "        text-align: right;\n",
       "    }\n",
       "</style>\n",
       "<table border=\"1\" class=\"dataframe\">\n",
       "  <thead>\n",
       "    <tr style=\"text-align: right;\">\n",
       "      <th></th>\n",
       "      <th>f0</th>\n",
       "      <th>f1</th>\n",
       "      <th>f2</th>\n",
       "      <th>product</th>\n",
       "    </tr>\n",
       "  </thead>\n",
       "  <tbody>\n",
       "    <tr>\n",
       "      <th>count</th>\n",
       "      <td>100000.000000</td>\n",
       "      <td>100000.000000</td>\n",
       "      <td>100000.000000</td>\n",
       "      <td>100000.000000</td>\n",
       "    </tr>\n",
       "    <tr>\n",
       "      <th>mean</th>\n",
       "      <td>1.141296</td>\n",
       "      <td>-4.796579</td>\n",
       "      <td>2.494541</td>\n",
       "      <td>68.825000</td>\n",
       "    </tr>\n",
       "    <tr>\n",
       "      <th>std</th>\n",
       "      <td>8.965932</td>\n",
       "      <td>5.119872</td>\n",
       "      <td>1.703572</td>\n",
       "      <td>45.944423</td>\n",
       "    </tr>\n",
       "    <tr>\n",
       "      <th>min</th>\n",
       "      <td>-31.609576</td>\n",
       "      <td>-26.358598</td>\n",
       "      <td>-0.018144</td>\n",
       "      <td>0.000000</td>\n",
       "    </tr>\n",
       "    <tr>\n",
       "      <th>25%</th>\n",
       "      <td>-6.298551</td>\n",
       "      <td>-8.267985</td>\n",
       "      <td>1.000021</td>\n",
       "      <td>26.953261</td>\n",
       "    </tr>\n",
       "    <tr>\n",
       "      <th>50%</th>\n",
       "      <td>1.153055</td>\n",
       "      <td>-4.813172</td>\n",
       "      <td>2.011479</td>\n",
       "      <td>57.085625</td>\n",
       "    </tr>\n",
       "    <tr>\n",
       "      <th>75%</th>\n",
       "      <td>8.621015</td>\n",
       "      <td>-1.332816</td>\n",
       "      <td>3.999904</td>\n",
       "      <td>107.813044</td>\n",
       "    </tr>\n",
       "    <tr>\n",
       "      <th>max</th>\n",
       "      <td>29.421755</td>\n",
       "      <td>18.734063</td>\n",
       "      <td>5.019721</td>\n",
       "      <td>137.945408</td>\n",
       "    </tr>\n",
       "  </tbody>\n",
       "</table>\n",
       "</div>"
      ],
      "text/plain": [
       "                  f0             f1             f2        product\n",
       "count  100000.000000  100000.000000  100000.000000  100000.000000\n",
       "mean        1.141296      -4.796579       2.494541      68.825000\n",
       "std         8.965932       5.119872       1.703572      45.944423\n",
       "min       -31.609576     -26.358598      -0.018144       0.000000\n",
       "25%        -6.298551      -8.267985       1.000021      26.953261\n",
       "50%         1.153055      -4.813172       2.011479      57.085625\n",
       "75%         8.621015      -1.332816       3.999904     107.813044\n",
       "max        29.421755      18.734063       5.019721     137.945408"
      ]
     },
     "metadata": {},
     "output_type": "display_data"
    },
    {
     "name": "stdout",
     "output_type": "stream",
     "text": [
      "\n",
      "Данные по региону 3\n"
     ]
    },
    {
     "data": {
      "text/html": [
       "<div>\n",
       "<style scoped>\n",
       "    .dataframe tbody tr th:only-of-type {\n",
       "        vertical-align: middle;\n",
       "    }\n",
       "\n",
       "    .dataframe tbody tr th {\n",
       "        vertical-align: top;\n",
       "    }\n",
       "\n",
       "    .dataframe thead th {\n",
       "        text-align: right;\n",
       "    }\n",
       "</style>\n",
       "<table border=\"1\" class=\"dataframe\">\n",
       "  <thead>\n",
       "    <tr style=\"text-align: right;\">\n",
       "      <th></th>\n",
       "      <th>id</th>\n",
       "      <th>f0</th>\n",
       "      <th>f1</th>\n",
       "      <th>f2</th>\n",
       "      <th>product</th>\n",
       "    </tr>\n",
       "  </thead>\n",
       "  <tbody>\n",
       "    <tr>\n",
       "      <th>0</th>\n",
       "      <td>fwXo0</td>\n",
       "      <td>-1.146987</td>\n",
       "      <td>0.963328</td>\n",
       "      <td>-0.828965</td>\n",
       "      <td>27.758673</td>\n",
       "    </tr>\n",
       "    <tr>\n",
       "      <th>1</th>\n",
       "      <td>WJtFt</td>\n",
       "      <td>0.262778</td>\n",
       "      <td>0.269839</td>\n",
       "      <td>-2.530187</td>\n",
       "      <td>56.069697</td>\n",
       "    </tr>\n",
       "    <tr>\n",
       "      <th>2</th>\n",
       "      <td>ovLUW</td>\n",
       "      <td>0.194587</td>\n",
       "      <td>0.289035</td>\n",
       "      <td>-5.586433</td>\n",
       "      <td>62.871910</td>\n",
       "    </tr>\n",
       "    <tr>\n",
       "      <th>3</th>\n",
       "      <td>q6cA6</td>\n",
       "      <td>2.236060</td>\n",
       "      <td>-0.553760</td>\n",
       "      <td>0.930038</td>\n",
       "      <td>114.572842</td>\n",
       "    </tr>\n",
       "    <tr>\n",
       "      <th>4</th>\n",
       "      <td>WPMUX</td>\n",
       "      <td>-0.515993</td>\n",
       "      <td>1.716266</td>\n",
       "      <td>5.899011</td>\n",
       "      <td>149.600746</td>\n",
       "    </tr>\n",
       "  </tbody>\n",
       "</table>\n",
       "</div>"
      ],
      "text/plain": [
       "      id        f0        f1        f2     product\n",
       "0  fwXo0 -1.146987  0.963328 -0.828965   27.758673\n",
       "1  WJtFt  0.262778  0.269839 -2.530187   56.069697\n",
       "2  ovLUW  0.194587  0.289035 -5.586433   62.871910\n",
       "3  q6cA6  2.236060 -0.553760  0.930038  114.572842\n",
       "4  WPMUX -0.515993  1.716266  5.899011  149.600746"
      ]
     },
     "metadata": {},
     "output_type": "display_data"
    },
    {
     "data": {
      "text/html": [
       "<div>\n",
       "<style scoped>\n",
       "    .dataframe tbody tr th:only-of-type {\n",
       "        vertical-align: middle;\n",
       "    }\n",
       "\n",
       "    .dataframe tbody tr th {\n",
       "        vertical-align: top;\n",
       "    }\n",
       "\n",
       "    .dataframe thead th {\n",
       "        text-align: right;\n",
       "    }\n",
       "</style>\n",
       "<table border=\"1\" class=\"dataframe\">\n",
       "  <thead>\n",
       "    <tr style=\"text-align: right;\">\n",
       "      <th></th>\n",
       "      <th>f0</th>\n",
       "      <th>f1</th>\n",
       "      <th>f2</th>\n",
       "      <th>product</th>\n",
       "    </tr>\n",
       "  </thead>\n",
       "  <tbody>\n",
       "    <tr>\n",
       "      <th>count</th>\n",
       "      <td>100000.000000</td>\n",
       "      <td>100000.000000</td>\n",
       "      <td>100000.000000</td>\n",
       "      <td>100000.000000</td>\n",
       "    </tr>\n",
       "    <tr>\n",
       "      <th>mean</th>\n",
       "      <td>0.002023</td>\n",
       "      <td>-0.002081</td>\n",
       "      <td>2.495128</td>\n",
       "      <td>95.000000</td>\n",
       "    </tr>\n",
       "    <tr>\n",
       "      <th>std</th>\n",
       "      <td>1.732045</td>\n",
       "      <td>1.730417</td>\n",
       "      <td>3.473445</td>\n",
       "      <td>44.749921</td>\n",
       "    </tr>\n",
       "    <tr>\n",
       "      <th>min</th>\n",
       "      <td>-8.760004</td>\n",
       "      <td>-7.084020</td>\n",
       "      <td>-11.970335</td>\n",
       "      <td>0.000000</td>\n",
       "    </tr>\n",
       "    <tr>\n",
       "      <th>25%</th>\n",
       "      <td>-1.162288</td>\n",
       "      <td>-1.174820</td>\n",
       "      <td>0.130359</td>\n",
       "      <td>59.450441</td>\n",
       "    </tr>\n",
       "    <tr>\n",
       "      <th>50%</th>\n",
       "      <td>0.009424</td>\n",
       "      <td>-0.009482</td>\n",
       "      <td>2.484236</td>\n",
       "      <td>94.925613</td>\n",
       "    </tr>\n",
       "    <tr>\n",
       "      <th>75%</th>\n",
       "      <td>1.158535</td>\n",
       "      <td>1.163678</td>\n",
       "      <td>4.858794</td>\n",
       "      <td>130.595027</td>\n",
       "    </tr>\n",
       "    <tr>\n",
       "      <th>max</th>\n",
       "      <td>7.238262</td>\n",
       "      <td>7.844801</td>\n",
       "      <td>16.739402</td>\n",
       "      <td>190.029838</td>\n",
       "    </tr>\n",
       "  </tbody>\n",
       "</table>\n",
       "</div>"
      ],
      "text/plain": [
       "                  f0             f1             f2        product\n",
       "count  100000.000000  100000.000000  100000.000000  100000.000000\n",
       "mean        0.002023      -0.002081       2.495128      95.000000\n",
       "std         1.732045       1.730417       3.473445      44.749921\n",
       "min        -8.760004      -7.084020     -11.970335       0.000000\n",
       "25%        -1.162288      -1.174820       0.130359      59.450441\n",
       "50%         0.009424      -0.009482       2.484236      94.925613\n",
       "75%         1.158535       1.163678       4.858794     130.595027\n",
       "max         7.238262       7.844801      16.739402     190.029838"
      ]
     },
     "metadata": {},
     "output_type": "display_data"
    },
    {
     "name": "stdout",
     "output_type": "stream",
     "text": [
      "\n"
     ]
    }
   ],
   "source": [
    "dframes = {\n",
    "    '1': data1,\n",
    "    '2': data2,\n",
    "    '3': data3\n",
    "}\n",
    "\n",
    "for i, j in dframes.items():\n",
    "    print('Данные по региону', i)\n",
    "    display(j.head())\n",
    "    display(j.describe())\n",
    "    print()"
   ]
  },
  {
   "cell_type": "markdown",
   "metadata": {},
   "source": [
    "Нам предоставлены три датасета - пробы нефти в трёх регионах.\n",
    "Описание столбцов в каждом датасете:\n",
    "* **id** — уникальный идентификатор скважины;\n",
    "* **f0, f1, f2** — три признака точек (неважно, что они означают, но сами признаки значимы);\n",
    "* **product** — объём запасов в скважине (тыс. баррелей).\n",
    "\n",
    "Данные в столбцах f0, f1, f2 синтетические: характеристики месторождений не разглашаются."
   ]
  },
  {
   "cell_type": "markdown",
   "metadata": {},
   "source": [
    "### Пропуски"
   ]
  },
  {
   "cell_type": "markdown",
   "metadata": {},
   "source": [
    "Изучим информацию о датасетах."
   ]
  },
  {
   "cell_type": "code",
   "execution_count": 4,
   "metadata": {},
   "outputs": [
    {
     "name": "stdout",
     "output_type": "stream",
     "text": [
      "<class 'pandas.core.frame.DataFrame'>\n",
      "RangeIndex: 100000 entries, 0 to 99999\n",
      "Data columns (total 5 columns):\n",
      " #   Column   Non-Null Count   Dtype  \n",
      "---  ------   --------------   -----  \n",
      " 0   id       100000 non-null  object \n",
      " 1   f0       100000 non-null  float64\n",
      " 2   f1       100000 non-null  float64\n",
      " 3   f2       100000 non-null  float64\n",
      " 4   product  100000 non-null  float64\n",
      "dtypes: float64(4), object(1)\n",
      "memory usage: 3.8+ MB\n"
     ]
    }
   ],
   "source": [
    "data1.info()"
   ]
  },
  {
   "cell_type": "code",
   "execution_count": 5,
   "metadata": {},
   "outputs": [
    {
     "name": "stdout",
     "output_type": "stream",
     "text": [
      "<class 'pandas.core.frame.DataFrame'>\n",
      "RangeIndex: 100000 entries, 0 to 99999\n",
      "Data columns (total 5 columns):\n",
      " #   Column   Non-Null Count   Dtype  \n",
      "---  ------   --------------   -----  \n",
      " 0   id       100000 non-null  object \n",
      " 1   f0       100000 non-null  float64\n",
      " 2   f1       100000 non-null  float64\n",
      " 3   f2       100000 non-null  float64\n",
      " 4   product  100000 non-null  float64\n",
      "dtypes: float64(4), object(1)\n",
      "memory usage: 3.8+ MB\n"
     ]
    }
   ],
   "source": [
    "data2.info()"
   ]
  },
  {
   "cell_type": "code",
   "execution_count": 6,
   "metadata": {},
   "outputs": [
    {
     "name": "stdout",
     "output_type": "stream",
     "text": [
      "<class 'pandas.core.frame.DataFrame'>\n",
      "RangeIndex: 100000 entries, 0 to 99999\n",
      "Data columns (total 5 columns):\n",
      " #   Column   Non-Null Count   Dtype  \n",
      "---  ------   --------------   -----  \n",
      " 0   id       100000 non-null  object \n",
      " 1   f0       100000 non-null  float64\n",
      " 2   f1       100000 non-null  float64\n",
      " 3   f2       100000 non-null  float64\n",
      " 4   product  100000 non-null  float64\n",
      "dtypes: float64(4), object(1)\n",
      "memory usage: 3.8+ MB\n"
     ]
    }
   ],
   "source": [
    "data3.info()"
   ]
  },
  {
   "cell_type": "markdown",
   "metadata": {},
   "source": [
    "Ни в одном датасете нет пропущенных значений."
   ]
  },
  {
   "cell_type": "markdown",
   "metadata": {},
   "source": [
    "### Дубликаты"
   ]
  },
  {
   "cell_type": "markdown",
   "metadata": {},
   "source": [
    "Проверим данные на явные дубликаты по столбцу id, т.к. это уникальный идентификатор."
   ]
  },
  {
   "cell_type": "code",
   "execution_count": 7,
   "metadata": {},
   "outputs": [
    {
     "data": {
      "text/plain": [
       "10"
      ]
     },
     "execution_count": 7,
     "metadata": {},
     "output_type": "execute_result"
    }
   ],
   "source": [
    "data1.duplicated(subset=['id']).sum()"
   ]
  },
  {
   "cell_type": "code",
   "execution_count": 8,
   "metadata": {},
   "outputs": [
    {
     "data": {
      "text/plain": [
       "4"
      ]
     },
     "execution_count": 8,
     "metadata": {},
     "output_type": "execute_result"
    }
   ],
   "source": [
    "data2.duplicated(subset=['id']).sum()"
   ]
  },
  {
   "cell_type": "code",
   "execution_count": 9,
   "metadata": {},
   "outputs": [
    {
     "data": {
      "text/plain": [
       "4"
      ]
     },
     "execution_count": 9,
     "metadata": {},
     "output_type": "execute_result"
    }
   ],
   "source": [
    "data3.duplicated(subset=['id']).sum()"
   ]
  },
  {
   "cell_type": "markdown",
   "metadata": {},
   "source": [
    "Во всех датасетах обнаружены дубликаты. Посмотрим, есть ли дубликаты по сумме параметров."
   ]
  },
  {
   "cell_type": "code",
   "execution_count": 10,
   "metadata": {},
   "outputs": [
    {
     "data": {
      "text/plain": [
       "0"
      ]
     },
     "execution_count": 10,
     "metadata": {},
     "output_type": "execute_result"
    }
   ],
   "source": [
    "data1.duplicated(subset=['id', 'f0', 'f1', 'f2', 'product']).sum()"
   ]
  },
  {
   "cell_type": "code",
   "execution_count": 11,
   "metadata": {},
   "outputs": [
    {
     "data": {
      "text/plain": [
       "0"
      ]
     },
     "execution_count": 11,
     "metadata": {},
     "output_type": "execute_result"
    }
   ],
   "source": [
    "data2.duplicated(subset=['id', 'f0', 'f1', 'f2', 'product']).sum()"
   ]
  },
  {
   "cell_type": "code",
   "execution_count": 12,
   "metadata": {},
   "outputs": [
    {
     "data": {
      "text/plain": [
       "0"
      ]
     },
     "execution_count": 12,
     "metadata": {},
     "output_type": "execute_result"
    }
   ],
   "source": [
    "data3.duplicated(subset=['id', 'f0', 'f1', 'f2', 'product']).sum()"
   ]
  },
  {
   "cell_type": "markdown",
   "metadata": {},
   "source": [
    "По сумме параметров дубликаты не обнаружены. Неизвестно с чем связаны дубликаты. Получается, что с некоторых скважин пробы брали несколько раз. Посмотрим на повторяющиеся данные."
   ]
  },
  {
   "cell_type": "code",
   "execution_count": 13,
   "metadata": {},
   "outputs": [
    {
     "data": {
      "text/html": [
       "<div>\n",
       "<style scoped>\n",
       "    .dataframe tbody tr th:only-of-type {\n",
       "        vertical-align: middle;\n",
       "    }\n",
       "\n",
       "    .dataframe tbody tr th {\n",
       "        vertical-align: top;\n",
       "    }\n",
       "\n",
       "    .dataframe thead th {\n",
       "        text-align: right;\n",
       "    }\n",
       "</style>\n",
       "<table border=\"1\" class=\"dataframe\">\n",
       "  <thead>\n",
       "    <tr style=\"text-align: right;\">\n",
       "      <th></th>\n",
       "      <th>id</th>\n",
       "      <th>f0</th>\n",
       "      <th>f1</th>\n",
       "      <th>f2</th>\n",
       "      <th>product</th>\n",
       "    </tr>\n",
       "  </thead>\n",
       "  <tbody>\n",
       "    <tr>\n",
       "      <th>66136</th>\n",
       "      <td>74z30</td>\n",
       "      <td>1.084962</td>\n",
       "      <td>-0.312358</td>\n",
       "      <td>6.990771</td>\n",
       "      <td>127.643327</td>\n",
       "    </tr>\n",
       "    <tr>\n",
       "      <th>64022</th>\n",
       "      <td>74z30</td>\n",
       "      <td>0.741456</td>\n",
       "      <td>0.459229</td>\n",
       "      <td>5.153109</td>\n",
       "      <td>140.771492</td>\n",
       "    </tr>\n",
       "    <tr>\n",
       "      <th>51970</th>\n",
       "      <td>A5aEY</td>\n",
       "      <td>-0.180335</td>\n",
       "      <td>0.935548</td>\n",
       "      <td>-2.094773</td>\n",
       "      <td>33.020205</td>\n",
       "    </tr>\n",
       "    <tr>\n",
       "      <th>3389</th>\n",
       "      <td>A5aEY</td>\n",
       "      <td>-0.039949</td>\n",
       "      <td>0.156872</td>\n",
       "      <td>0.209861</td>\n",
       "      <td>89.249364</td>\n",
       "    </tr>\n",
       "    <tr>\n",
       "      <th>69163</th>\n",
       "      <td>AGS9W</td>\n",
       "      <td>-0.933795</td>\n",
       "      <td>0.116194</td>\n",
       "      <td>-3.655896</td>\n",
       "      <td>19.230453</td>\n",
       "    </tr>\n",
       "    <tr>\n",
       "      <th>42529</th>\n",
       "      <td>AGS9W</td>\n",
       "      <td>1.454747</td>\n",
       "      <td>-0.479651</td>\n",
       "      <td>0.683380</td>\n",
       "      <td>126.370504</td>\n",
       "    </tr>\n",
       "    <tr>\n",
       "      <th>931</th>\n",
       "      <td>HZww2</td>\n",
       "      <td>0.755284</td>\n",
       "      <td>0.368511</td>\n",
       "      <td>1.863211</td>\n",
       "      <td>30.681774</td>\n",
       "    </tr>\n",
       "    <tr>\n",
       "      <th>7530</th>\n",
       "      <td>HZww2</td>\n",
       "      <td>1.061194</td>\n",
       "      <td>-0.373969</td>\n",
       "      <td>10.430210</td>\n",
       "      <td>158.828695</td>\n",
       "    </tr>\n",
       "    <tr>\n",
       "      <th>63593</th>\n",
       "      <td>QcMuo</td>\n",
       "      <td>0.635635</td>\n",
       "      <td>-0.473422</td>\n",
       "      <td>0.862670</td>\n",
       "      <td>64.578675</td>\n",
       "    </tr>\n",
       "    <tr>\n",
       "      <th>1949</th>\n",
       "      <td>QcMuo</td>\n",
       "      <td>0.506563</td>\n",
       "      <td>-0.323775</td>\n",
       "      <td>-2.215583</td>\n",
       "      <td>75.496502</td>\n",
       "    </tr>\n",
       "    <tr>\n",
       "      <th>75715</th>\n",
       "      <td>Tdehs</td>\n",
       "      <td>0.112079</td>\n",
       "      <td>0.430296</td>\n",
       "      <td>3.218993</td>\n",
       "      <td>60.964018</td>\n",
       "    </tr>\n",
       "    <tr>\n",
       "      <th>21426</th>\n",
       "      <td>Tdehs</td>\n",
       "      <td>0.829407</td>\n",
       "      <td>0.298807</td>\n",
       "      <td>-0.049563</td>\n",
       "      <td>96.035308</td>\n",
       "    </tr>\n",
       "    <tr>\n",
       "      <th>92341</th>\n",
       "      <td>TtcGQ</td>\n",
       "      <td>0.110711</td>\n",
       "      <td>1.022689</td>\n",
       "      <td>0.911381</td>\n",
       "      <td>101.318008</td>\n",
       "    </tr>\n",
       "    <tr>\n",
       "      <th>60140</th>\n",
       "      <td>TtcGQ</td>\n",
       "      <td>0.569276</td>\n",
       "      <td>-0.104876</td>\n",
       "      <td>6.440215</td>\n",
       "      <td>85.350186</td>\n",
       "    </tr>\n",
       "    <tr>\n",
       "      <th>89582</th>\n",
       "      <td>bsk9y</td>\n",
       "      <td>0.398908</td>\n",
       "      <td>-0.400253</td>\n",
       "      <td>10.122376</td>\n",
       "      <td>163.433078</td>\n",
       "    </tr>\n",
       "    <tr>\n",
       "      <th>97785</th>\n",
       "      <td>bsk9y</td>\n",
       "      <td>0.378429</td>\n",
       "      <td>0.005837</td>\n",
       "      <td>0.160827</td>\n",
       "      <td>160.637302</td>\n",
       "    </tr>\n",
       "    <tr>\n",
       "      <th>41724</th>\n",
       "      <td>bxg6G</td>\n",
       "      <td>-0.823752</td>\n",
       "      <td>0.546319</td>\n",
       "      <td>3.630479</td>\n",
       "      <td>93.007798</td>\n",
       "    </tr>\n",
       "    <tr>\n",
       "      <th>1364</th>\n",
       "      <td>bxg6G</td>\n",
       "      <td>0.411645</td>\n",
       "      <td>0.856830</td>\n",
       "      <td>-3.653440</td>\n",
       "      <td>73.604260</td>\n",
       "    </tr>\n",
       "    <tr>\n",
       "      <th>16633</th>\n",
       "      <td>fiKDv</td>\n",
       "      <td>0.157341</td>\n",
       "      <td>1.028359</td>\n",
       "      <td>5.585586</td>\n",
       "      <td>95.817889</td>\n",
       "    </tr>\n",
       "    <tr>\n",
       "      <th>90815</th>\n",
       "      <td>fiKDv</td>\n",
       "      <td>0.049883</td>\n",
       "      <td>0.841313</td>\n",
       "      <td>6.394613</td>\n",
       "      <td>137.346586</td>\n",
       "    </tr>\n",
       "  </tbody>\n",
       "</table>\n",
       "</div>"
      ],
      "text/plain": [
       "          id        f0        f1         f2     product\n",
       "66136  74z30  1.084962 -0.312358   6.990771  127.643327\n",
       "64022  74z30  0.741456  0.459229   5.153109  140.771492\n",
       "51970  A5aEY -0.180335  0.935548  -2.094773   33.020205\n",
       "3389   A5aEY -0.039949  0.156872   0.209861   89.249364\n",
       "69163  AGS9W -0.933795  0.116194  -3.655896   19.230453\n",
       "42529  AGS9W  1.454747 -0.479651   0.683380  126.370504\n",
       "931    HZww2  0.755284  0.368511   1.863211   30.681774\n",
       "7530   HZww2  1.061194 -0.373969  10.430210  158.828695\n",
       "63593  QcMuo  0.635635 -0.473422   0.862670   64.578675\n",
       "1949   QcMuo  0.506563 -0.323775  -2.215583   75.496502\n",
       "75715  Tdehs  0.112079  0.430296   3.218993   60.964018\n",
       "21426  Tdehs  0.829407  0.298807  -0.049563   96.035308\n",
       "92341  TtcGQ  0.110711  1.022689   0.911381  101.318008\n",
       "60140  TtcGQ  0.569276 -0.104876   6.440215   85.350186\n",
       "89582  bsk9y  0.398908 -0.400253  10.122376  163.433078\n",
       "97785  bsk9y  0.378429  0.005837   0.160827  160.637302\n",
       "41724  bxg6G -0.823752  0.546319   3.630479   93.007798\n",
       "1364   bxg6G  0.411645  0.856830  -3.653440   73.604260\n",
       "16633  fiKDv  0.157341  1.028359   5.585586   95.817889\n",
       "90815  fiKDv  0.049883  0.841313   6.394613  137.346586"
      ]
     },
     "execution_count": 13,
     "metadata": {},
     "output_type": "execute_result"
    }
   ],
   "source": [
    "data1[data1.id.duplicated(keep=False)].sort_values(by='id')"
   ]
  },
  {
   "cell_type": "code",
   "execution_count": 14,
   "metadata": {},
   "outputs": [
    {
     "data": {
      "text/html": [
       "<div>\n",
       "<style scoped>\n",
       "    .dataframe tbody tr th:only-of-type {\n",
       "        vertical-align: middle;\n",
       "    }\n",
       "\n",
       "    .dataframe tbody tr th {\n",
       "        vertical-align: top;\n",
       "    }\n",
       "\n",
       "    .dataframe thead th {\n",
       "        text-align: right;\n",
       "    }\n",
       "</style>\n",
       "<table border=\"1\" class=\"dataframe\">\n",
       "  <thead>\n",
       "    <tr style=\"text-align: right;\">\n",
       "      <th></th>\n",
       "      <th>id</th>\n",
       "      <th>f0</th>\n",
       "      <th>f1</th>\n",
       "      <th>f2</th>\n",
       "      <th>product</th>\n",
       "    </tr>\n",
       "  </thead>\n",
       "  <tbody>\n",
       "    <tr>\n",
       "      <th>5849</th>\n",
       "      <td>5ltQ6</td>\n",
       "      <td>-3.435401</td>\n",
       "      <td>-12.296043</td>\n",
       "      <td>1.999796</td>\n",
       "      <td>57.085625</td>\n",
       "    </tr>\n",
       "    <tr>\n",
       "      <th>84461</th>\n",
       "      <td>5ltQ6</td>\n",
       "      <td>18.213839</td>\n",
       "      <td>2.191999</td>\n",
       "      <td>3.993869</td>\n",
       "      <td>107.813044</td>\n",
       "    </tr>\n",
       "    <tr>\n",
       "      <th>1305</th>\n",
       "      <td>LHZR0</td>\n",
       "      <td>11.170835</td>\n",
       "      <td>-1.945066</td>\n",
       "      <td>3.002872</td>\n",
       "      <td>80.859783</td>\n",
       "    </tr>\n",
       "    <tr>\n",
       "      <th>41906</th>\n",
       "      <td>LHZR0</td>\n",
       "      <td>-8.989672</td>\n",
       "      <td>-4.286607</td>\n",
       "      <td>2.009139</td>\n",
       "      <td>57.085625</td>\n",
       "    </tr>\n",
       "    <tr>\n",
       "      <th>2721</th>\n",
       "      <td>bfPNe</td>\n",
       "      <td>-9.494442</td>\n",
       "      <td>-5.463692</td>\n",
       "      <td>4.006042</td>\n",
       "      <td>110.992147</td>\n",
       "    </tr>\n",
       "    <tr>\n",
       "      <th>82178</th>\n",
       "      <td>bfPNe</td>\n",
       "      <td>-6.202799</td>\n",
       "      <td>-4.820045</td>\n",
       "      <td>2.995107</td>\n",
       "      <td>84.038886</td>\n",
       "    </tr>\n",
       "    <tr>\n",
       "      <th>47591</th>\n",
       "      <td>wt4Uk</td>\n",
       "      <td>-9.091098</td>\n",
       "      <td>-8.109279</td>\n",
       "      <td>-0.002314</td>\n",
       "      <td>3.179103</td>\n",
       "    </tr>\n",
       "    <tr>\n",
       "      <th>82873</th>\n",
       "      <td>wt4Uk</td>\n",
       "      <td>10.259972</td>\n",
       "      <td>-9.376355</td>\n",
       "      <td>4.994297</td>\n",
       "      <td>134.766305</td>\n",
       "    </tr>\n",
       "  </tbody>\n",
       "</table>\n",
       "</div>"
      ],
      "text/plain": [
       "          id         f0         f1        f2     product\n",
       "5849   5ltQ6  -3.435401 -12.296043  1.999796   57.085625\n",
       "84461  5ltQ6  18.213839   2.191999  3.993869  107.813044\n",
       "1305   LHZR0  11.170835  -1.945066  3.002872   80.859783\n",
       "41906  LHZR0  -8.989672  -4.286607  2.009139   57.085625\n",
       "2721   bfPNe  -9.494442  -5.463692  4.006042  110.992147\n",
       "82178  bfPNe  -6.202799  -4.820045  2.995107   84.038886\n",
       "47591  wt4Uk  -9.091098  -8.109279 -0.002314    3.179103\n",
       "82873  wt4Uk  10.259972  -9.376355  4.994297  134.766305"
      ]
     },
     "execution_count": 14,
     "metadata": {},
     "output_type": "execute_result"
    }
   ],
   "source": [
    "data2[data2.id.duplicated(keep=False)].sort_values(by='id')"
   ]
  },
  {
   "cell_type": "code",
   "execution_count": 15,
   "metadata": {},
   "outputs": [
    {
     "data": {
      "text/html": [
       "<div>\n",
       "<style scoped>\n",
       "    .dataframe tbody tr th:only-of-type {\n",
       "        vertical-align: middle;\n",
       "    }\n",
       "\n",
       "    .dataframe tbody tr th {\n",
       "        vertical-align: top;\n",
       "    }\n",
       "\n",
       "    .dataframe thead th {\n",
       "        text-align: right;\n",
       "    }\n",
       "</style>\n",
       "<table border=\"1\" class=\"dataframe\">\n",
       "  <thead>\n",
       "    <tr style=\"text-align: right;\">\n",
       "      <th></th>\n",
       "      <th>id</th>\n",
       "      <th>f0</th>\n",
       "      <th>f1</th>\n",
       "      <th>f2</th>\n",
       "      <th>product</th>\n",
       "    </tr>\n",
       "  </thead>\n",
       "  <tbody>\n",
       "    <tr>\n",
       "      <th>45404</th>\n",
       "      <td>KUPhW</td>\n",
       "      <td>0.231846</td>\n",
       "      <td>-1.698941</td>\n",
       "      <td>4.990775</td>\n",
       "      <td>11.716299</td>\n",
       "    </tr>\n",
       "    <tr>\n",
       "      <th>55967</th>\n",
       "      <td>KUPhW</td>\n",
       "      <td>1.211150</td>\n",
       "      <td>3.176408</td>\n",
       "      <td>5.543540</td>\n",
       "      <td>132.831802</td>\n",
       "    </tr>\n",
       "    <tr>\n",
       "      <th>11449</th>\n",
       "      <td>VF7Jo</td>\n",
       "      <td>2.122656</td>\n",
       "      <td>-0.858275</td>\n",
       "      <td>5.746001</td>\n",
       "      <td>181.716817</td>\n",
       "    </tr>\n",
       "    <tr>\n",
       "      <th>49564</th>\n",
       "      <td>VF7Jo</td>\n",
       "      <td>-0.883115</td>\n",
       "      <td>0.560537</td>\n",
       "      <td>0.723601</td>\n",
       "      <td>136.233420</td>\n",
       "    </tr>\n",
       "    <tr>\n",
       "      <th>44378</th>\n",
       "      <td>Vcm5J</td>\n",
       "      <td>-1.229484</td>\n",
       "      <td>-2.439204</td>\n",
       "      <td>1.222909</td>\n",
       "      <td>137.968290</td>\n",
       "    </tr>\n",
       "    <tr>\n",
       "      <th>95090</th>\n",
       "      <td>Vcm5J</td>\n",
       "      <td>2.587702</td>\n",
       "      <td>1.986875</td>\n",
       "      <td>2.482245</td>\n",
       "      <td>92.327572</td>\n",
       "    </tr>\n",
       "    <tr>\n",
       "      <th>28039</th>\n",
       "      <td>xCHr8</td>\n",
       "      <td>1.633027</td>\n",
       "      <td>0.368135</td>\n",
       "      <td>-2.378367</td>\n",
       "      <td>6.120525</td>\n",
       "    </tr>\n",
       "    <tr>\n",
       "      <th>43233</th>\n",
       "      <td>xCHr8</td>\n",
       "      <td>-0.847066</td>\n",
       "      <td>2.101796</td>\n",
       "      <td>5.597130</td>\n",
       "      <td>184.388641</td>\n",
       "    </tr>\n",
       "  </tbody>\n",
       "</table>\n",
       "</div>"
      ],
      "text/plain": [
       "          id        f0        f1        f2     product\n",
       "45404  KUPhW  0.231846 -1.698941  4.990775   11.716299\n",
       "55967  KUPhW  1.211150  3.176408  5.543540  132.831802\n",
       "11449  VF7Jo  2.122656 -0.858275  5.746001  181.716817\n",
       "49564  VF7Jo -0.883115  0.560537  0.723601  136.233420\n",
       "44378  Vcm5J -1.229484 -2.439204  1.222909  137.968290\n",
       "95090  Vcm5J  2.587702  1.986875  2.482245   92.327572\n",
       "28039  xCHr8  1.633027  0.368135 -2.378367    6.120525\n",
       "43233  xCHr8 -0.847066  2.101796  5.597130  184.388641"
      ]
     },
     "execution_count": 15,
     "metadata": {},
     "output_type": "execute_result"
    }
   ],
   "source": [
    "data3[data3.id.duplicated(keep=False)].sort_values(by='id')"
   ]
  },
  {
   "cell_type": "markdown",
   "metadata": {},
   "source": [
    "Дубликаты могут повлиять на результат. Характеристики одной и той же скважины отличаются. Но, с другой стороны, у нас нет возможности уточнить данные, поэтому оставим дубликаты как есть."
   ]
  },
  {
   "cell_type": "markdown",
   "metadata": {},
   "source": [
    "### Вывод"
   ]
  },
  {
   "cell_type": "markdown",
   "metadata": {},
   "source": [
    "В данном разделе были загружены и изучены предоставленные данные. В каждом датасете присутствуют следующие данные:\n",
    "\n",
    "* **id** — уникальный идентификатор скважины;\n",
    "* **f0, f1, f2** — три признака точек (неважно, что они означают, но сами признаки значимы);\n",
    "* **product** — объём запасов в скважине (тыс. баррелей).\n",
    "\n",
    "Данные в столбцах **f0, f1, f2** синтетические: характеристики месторождений не разглашаются.\n",
    "\n",
    "Пропущенные значения в данных не найдены. Также данные были проверены на дубликаты. В каждом датафрейме найдены дубликаты по уникальному идентификатору. Получается, что из некоторых скважин пробы брали несколько раз. По сумме ключевых параметров дубликаты не найдены. Т.к. нет возможности уточнить, какие данные верные, а какие нет, было принято решение дубликаты не трогать."
   ]
  },
  {
   "cell_type": "markdown",
   "metadata": {},
   "source": [
    "## Исследовательский анализ данных"
   ]
  },
  {
   "cell_type": "markdown",
   "metadata": {},
   "source": [
    "### Корелляция"
   ]
  },
  {
   "cell_type": "markdown",
   "metadata": {},
   "source": [
    "По каждому датасету посмотрим, есть ли корреляция между данными."
   ]
  },
  {
   "cell_type": "code",
   "execution_count": 16,
   "metadata": {},
   "outputs": [],
   "source": [
    "def korr(data):\n",
    "    plt.figure(figsize=(15, 10))\n",
    "    sn.heatmap(data.corr(), annot=True, cmap='GnBu', cbar=False, robust=True, linewidths=.2)\n",
    "    plt.show()"
   ]
  },
  {
   "cell_type": "code",
   "execution_count": 17,
   "metadata": {},
   "outputs": [
    {
     "data": {
      "image/png": "[encoded data removed]",
      "text/plain": [
       "<Figure size 1080x720 with 1 Axes>"
      ]
     },
     "metadata": {
      "needs_background": "light"
     },
     "output_type": "display_data"
    }
   ],
   "source": [
    "korr(data1)"
   ]
  },
  {
   "cell_type": "markdown",
   "metadata": {},
   "source": [
    "Наблюдается умеренная положительная корреляция между объемом запасов скважин и столбцом f2, а также умеренная отрицательная корреляция между признаками f0 и f1."
   ]
  },
  {
   "cell_type": "code",
   "execution_count": 18,
   "metadata": {},
   "outputs": [
    {
     "data": {
      "image/png": "[encoded data removed]",
      "text/plain": [
       "<Figure size 1080x720 with 1 Axes>"
      ]
     },
     "metadata": {
      "needs_background": "light"
     },
     "output_type": "display_data"
    }
   ],
   "source": [
    "korr(data2)"
   ]
  },
  {
   "cell_type": "markdown",
   "metadata": {},
   "source": [
    "Наблюдается весьма высокая корреляция между объемом запасов скважин и столбцом f2."
   ]
  },
  {
   "cell_type": "code",
   "execution_count": 19,
   "metadata": {},
   "outputs": [
    {
     "data": {
      "image/png": "[encoded data removed]",
      "text/plain": [
       "<Figure size 1080x720 with 1 Axes>"
      ]
     },
     "metadata": {
      "needs_background": "light"
     },
     "output_type": "display_data"
    }
   ],
   "source": [
    "korr(data3)"
   ]
  },
  {
   "cell_type": "markdown",
   "metadata": {},
   "source": [
    "Наблюдается умеренная корреляция между объемом запасов скважин и столбцом f2."
   ]
  },
  {
   "cell_type": "markdown",
   "metadata": {},
   "source": [
    "### Выбросы"
   ]
  },
  {
   "cell_type": "markdown",
   "metadata": {},
   "source": [
    "Создадим функции для построения графиков, которые помогут определить выбросы в данных."
   ]
  },
  {
   "cell_type": "code",
   "execution_count": 20,
   "metadata": {},
   "outputs": [],
   "source": [
    "def boxplot_graf(data, name):\n",
    "    box = plt.boxplot(\n",
    "        x=data, vert=False, \n",
    "        patch_artist=True,  \n",
    "        boxprops = dict(facecolor = \"#35c0cd\")\n",
    "    )\n",
    "    fig = plt.gcf()\n",
    "    fig.set_size_inches(20, 5)\n",
    "    plt.title(\n",
    "            f'Боксплот признака {name}', \n",
    "            fontsize=14\n",
    "        )\n",
    "    plt.show()\n",
    "    print()\n",
    "    z1 = data.quantile(0.25)\n",
    "    z3 = data.quantile(0.75)\n",
    "    r = z3 - z1\n",
    "    lower = z1 - (1.5 * r)\n",
    "    upper = z3 + (1.5 * r)\n",
    "    print()\n",
    "    print('\\033[1m' + f'Пороговые значения {name}:' + '\\033[0m')\n",
    "    print('Нижняя граница значений:', lower)\n",
    "    print('Верхняя граница значений:', upper)"
   ]
  },
  {
   "cell_type": "code",
   "execution_count": 21,
   "metadata": {},
   "outputs": [],
   "source": [
    "def hist_graf(data, name, title, y_name, x_name, bins):\n",
    "    print()\n",
    "    print('\\033[1m' + f'Описание признака {name}:' + '\\033[0m')\n",
    "    print()\n",
    "    print(data.describe())\n",
    "    print()\n",
    "    \n",
    "    data.plot(\n",
    "        kind='hist', \n",
    "        title=title, \n",
    "        bins=bins, \n",
    "        grid=True, \n",
    "        figsize = (15,8),\n",
    "        color = '#35c0cd',\n",
    "        edgecolor='black');\n",
    "    plt.ylabel(y_name)\n",
    "    plt.xlabel(x_name);"
   ]
  },
  {
   "cell_type": "markdown",
   "metadata": {},
   "source": [
    "#### Регион 1"
   ]
  },
  {
   "cell_type": "code",
   "execution_count": 22,
   "metadata": {},
   "outputs": [
    {
     "name": "stdout",
     "output_type": "stream",
     "text": [
      "\n",
      "\u001b[1mОписание признака f0:\u001b[0m\n",
      "\n",
      "count    100000.000000\n",
      "mean          0.500419\n",
      "std           0.871832\n",
      "min          -1.408605\n",
      "25%          -0.072580\n",
      "50%           0.502360\n",
      "75%           1.073581\n",
      "max           2.362331\n",
      "Name: f0, dtype: float64\n",
      "\n"
     ]
    },
    {
     "data": {
      "image/png": "[encoded data removed]",
      "text/plain": [
       "<Figure size 1080x576 with 1 Axes>"
      ]
     },
     "metadata": {
      "needs_background": "light"
     },
     "output_type": "display_data"
    }
   ],
   "source": [
    "hist_graf(data1['f0'], \n",
    "          'f0', \n",
    "          'КОЛИЧЕСТВО СКВАЖИН В ЗАВИСИМОСТИ ОТ СТОЛБЦА F0', \n",
    "          'КОЛИЧЕСТВО СКВАЖИН', \n",
    "          'f0', \n",
    "          70)"
   ]
  },
  {
   "cell_type": "markdown",
   "metadata": {},
   "source": [
    "Минимальное значение: -1.4, максимальное: 2.3. Гистограмма мультимодальна. Медиана и среднее близки, скорее всего, выбросов нет. Однако, учитывая предоставленные данные, сложно судить, какие значения являются близкими, а какие нет. Проверим наличие выбросов."
   ]
  },
  {
   "cell_type": "code",
   "execution_count": 23,
   "metadata": {},
   "outputs": [
    {
     "data": {
      "image/png": "[encoded data removed]",
      "text/plain": [
       "<Figure size 1440x360 with 1 Axes>"
      ]
     },
     "metadata": {
      "needs_background": "light"
     },
     "output_type": "display_data"
    },
    {
     "name": "stdout",
     "output_type": "stream",
     "text": [
      "\n",
      "\n",
      "\u001b[1mПороговые значения f0:\u001b[0m\n",
      "Нижняя граница значений: -1.791823168535949\n",
      "Верхняя граница значений: 2.792824148989128\n"
     ]
    }
   ],
   "source": [
    "boxplot_graf(data1['f0'], 'f0')"
   ]
  },
  {
   "cell_type": "markdown",
   "metadata": {},
   "source": [
    "Выбросов нет."
   ]
  },
  {
   "cell_type": "code",
   "execution_count": 24,
   "metadata": {},
   "outputs": [
    {
     "name": "stdout",
     "output_type": "stream",
     "text": [
      "\n",
      "\u001b[1mОписание признака f1:\u001b[0m\n",
      "\n",
      "count    100000.000000\n",
      "mean          0.250143\n",
      "std           0.504433\n",
      "min          -0.848218\n",
      "25%          -0.200881\n",
      "50%           0.250252\n",
      "75%           0.700646\n",
      "max           1.343769\n",
      "Name: f1, dtype: float64\n",
      "\n"
     ]
    },
    {
     "data": {
      "image/png": "[encoded data removed]",
      "text/plain": [
       "<Figure size 1080x576 with 1 Axes>"
      ]
     },
     "metadata": {
      "needs_background": "light"
     },
     "output_type": "display_data"
    }
   ],
   "source": [
    "hist_graf(data1['f1'], \n",
    "          'f1', \n",
    "          'КОЛИЧЕСТВО СКВАЖИН В ЗАВИСИМОСТИ ОТ СТОЛБЦА F1', \n",
    "          'КОЛИЧЕСТВО СКВАЖИН', \n",
    "          'f1', \n",
    "          70)"
   ]
  },
  {
   "cell_type": "markdown",
   "metadata": {},
   "source": [
    "Минимальное значение: -0.8, максимальное: 1.3. Гистограмма мультимодальна. Медиана и среднее близки."
   ]
  },
  {
   "cell_type": "code",
   "execution_count": 25,
   "metadata": {},
   "outputs": [
    {
     "data": {
      "image/png": "[encoded data removed]",
      "text/plain": [
       "<Figure size 1440x360 with 1 Axes>"
      ]
     },
     "metadata": {
      "needs_background": "light"
     },
     "output_type": "display_data"
    },
    {
     "name": "stdout",
     "output_type": "stream",
     "text": [
      "\n",
      "\n",
      "\u001b[1mПороговые значения f1:\u001b[0m\n",
      "Нижняя граница значений: -1.5531725709976618\n",
      "Верхняя граница значений: 2.052937789619416\n"
     ]
    }
   ],
   "source": [
    "boxplot_graf(data1['f1'], 'f1')"
   ]
  },
  {
   "cell_type": "markdown",
   "metadata": {},
   "source": [
    "Выбросов нет."
   ]
  },
  {
   "cell_type": "code",
   "execution_count": 26,
   "metadata": {},
   "outputs": [
    {
     "name": "stdout",
     "output_type": "stream",
     "text": [
      "\n",
      "\u001b[1mОписание признака f2:\u001b[0m\n",
      "\n",
      "count    100000.000000\n",
      "mean          2.502647\n",
      "std           3.248248\n",
      "min         -12.088328\n",
      "25%           0.287748\n",
      "50%           2.515969\n",
      "75%           4.715088\n",
      "max          16.003790\n",
      "Name: f2, dtype: float64\n",
      "\n"
     ]
    },
    {
     "data": {
      "image/png": "[encoded data removed]",
      "text/plain": [
       "<Figure size 1080x576 with 1 Axes>"
      ]
     },
     "metadata": {
      "needs_background": "light"
     },
     "output_type": "display_data"
    }
   ],
   "source": [
    "hist_graf(data1['f2'], \n",
    "          'f2', \n",
    "          'КОЛИЧЕСТВО СКВАЖИН В ЗАВИСИМОСТИ ОТ СТОЛБЦА F2', \n",
    "          'КОЛИЧЕСТВО СКВАЖИН', \n",
    "          'f2', \n",
    "          70)"
   ]
  },
  {
   "cell_type": "markdown",
   "metadata": {},
   "source": [
    "Минимальное значение: -12, максимальное: 4.7. Гистограмма распределена нормальна. Медиана и среднее близки. Проверим выбросы."
   ]
  },
  {
   "cell_type": "code",
   "execution_count": 27,
   "metadata": {},
   "outputs": [
    {
     "data": {
      "image/png": "[encoded data removed]",
      "text/plain": [
       "<Figure size 1440x360 with 1 Axes>"
      ]
     },
     "metadata": {
      "needs_background": "light"
     },
     "output_type": "display_data"
    },
    {
     "name": "stdout",
     "output_type": "stream",
     "text": [
      "\n",
      "\n",
      "\u001b[1mПороговые значения f2:\u001b[0m\n",
      "Нижняя граница значений: -6.3532614580838125\n",
      "Верхняя граница значений: 11.356097512311544\n"
     ]
    }
   ],
   "source": [
    "boxplot_graf(data1['f2'], 'f2')"
   ]
  },
  {
   "cell_type": "code",
   "execution_count": 28,
   "metadata": {},
   "outputs": [
    {
     "data": {
      "text/plain": [
       "247"
      ]
     },
     "execution_count": 28,
     "metadata": {},
     "output_type": "execute_result"
    }
   ],
   "source": [
    "len(data1[data1['f2'] < -7]) + len(data1[data1['f2'] > 12])"
   ]
  },
  {
   "cell_type": "markdown",
   "metadata": {},
   "source": [
    "Есть выбросы, 247 строк. Мало скважин с параметрами f2 меньше -7 и больше 12."
   ]
  },
  {
   "cell_type": "code",
   "execution_count": 29,
   "metadata": {},
   "outputs": [
    {
     "name": "stdout",
     "output_type": "stream",
     "text": [
      "\n",
      "\u001b[1mОписание признака \"объём запасов в скважине\":\u001b[0m\n",
      "\n",
      "count    100000.000000\n",
      "mean         92.500000\n",
      "std          44.288691\n",
      "min           0.000000\n",
      "25%          56.497507\n",
      "50%          91.849972\n",
      "75%         128.564089\n",
      "max         185.364347\n",
      "Name: product, dtype: float64\n",
      "\n"
     ]
    },
    {
     "data": {
      "image/png": "[encoded data removed]",
      "text/plain": [
       "<Figure size 1080x576 with 1 Axes>"
      ]
     },
     "metadata": {
      "needs_background": "light"
     },
     "output_type": "display_data"
    }
   ],
   "source": [
    "hist_graf(data1['product'], \n",
    "          '\"объём запасов в скважине\"', \n",
    "          'КОЛИЧЕСТВО СКВАЖИН В ЗАВИСИМОСТИ ОТ ОБЪЕМА ЗАПАСОВ В СКВАЖИНЕ', \n",
    "          'КОЛИЧЕСТВО СКВАЖИН', \n",
    "          'ОБЪЕМ ЗАПАСОВ В СКВАЖИНЕ', \n",
    "          70)"
   ]
  },
  {
   "cell_type": "markdown",
   "metadata": {},
   "source": [
    "Минимальное значение: 0, максимальное: 185.3. Гистограмма имеет много пиков. Медиана и среднее близки. Есть скважины с нулевым запасом. Проверим, сколько пробных скважины оказались пустыми."
   ]
  },
  {
   "cell_type": "code",
   "execution_count": 30,
   "metadata": {},
   "outputs": [
    {
     "data": {
      "text/plain": [
       "1"
      ]
     },
     "execution_count": 30,
     "metadata": {},
     "output_type": "execute_result"
    }
   ],
   "source": [
    "len(data1[data1['product'] == 0])"
   ]
  },
  {
   "cell_type": "markdown",
   "metadata": {},
   "source": [
    "Одна скважина. Часто скважины бурят и там, где нефти нет, чтобы уточнить некоторые параметры. Возможно, в данные попала именно такая скважина. "
   ]
  },
  {
   "cell_type": "code",
   "execution_count": 31,
   "metadata": {},
   "outputs": [
    {
     "data": {
      "image/png": "[encoded data removed]",
      "text/plain": [
       "<Figure size 1440x360 with 1 Axes>"
      ]
     },
     "metadata": {
      "needs_background": "light"
     },
     "output_type": "display_data"
    },
    {
     "name": "stdout",
     "output_type": "stream",
     "text": [
      "\n",
      "\n",
      "\u001b[1mПороговые значения product:\u001b[0m\n",
      "Нижняя граница значений: -51.60236680760907\n",
      "Верхняя граница значений: 236.66396243896986\n"
     ]
    }
   ],
   "source": [
    "boxplot_graf(data1['product'], 'product')"
   ]
  },
  {
   "cell_type": "markdown",
   "metadata": {},
   "source": [
    "Выбросов нет."
   ]
  },
  {
   "cell_type": "markdown",
   "metadata": {},
   "source": [
    "#### Регион 2"
   ]
  },
  {
   "cell_type": "code",
   "execution_count": 32,
   "metadata": {},
   "outputs": [
    {
     "name": "stdout",
     "output_type": "stream",
     "text": [
      "\n",
      "\u001b[1mОписание признака f0:\u001b[0m\n",
      "\n",
      "count    100000.000000\n",
      "mean          1.141296\n",
      "std           8.965932\n",
      "min         -31.609576\n",
      "25%          -6.298551\n",
      "50%           1.153055\n",
      "75%           8.621015\n",
      "max          29.421755\n",
      "Name: f0, dtype: float64\n",
      "\n"
     ]
    },
    {
     "data": {
      "image/png": "[encoded data removed]",
      "text/plain": [
       "<Figure size 1080x576 with 1 Axes>"
      ]
     },
     "metadata": {
      "needs_background": "light"
     },
     "output_type": "display_data"
    }
   ],
   "source": [
    "hist_graf(data2['f0'], \n",
    "          'f0', \n",
    "          'КОЛИЧЕСТВО СКВАЖИН В ЗАВИСИМОСТИ ОТ СТОЛБЦА F0', \n",
    "          'КОЛИЧЕСТВО СКВАЖИН', \n",
    "          'f0', \n",
    "          70)"
   ]
  },
  {
   "cell_type": "markdown",
   "metadata": {},
   "source": [
    "Минимальное значение: -31.6, максимальное: 29.4. Гистограмма бимодальна. Медиана и среднее близки. Проверим выбросы."
   ]
  },
  {
   "cell_type": "code",
   "execution_count": 33,
   "metadata": {},
   "outputs": [
    {
     "data": {
      "image/png": "[encoded data removed]",
      "text/plain": [
       "<Figure size 1440x360 with 1 Axes>"
      ]
     },
     "metadata": {
      "needs_background": "light"
     },
     "output_type": "display_data"
    },
    {
     "name": "stdout",
     "output_type": "stream",
     "text": [
      "\n",
      "\n",
      "\u001b[1mПороговые значения f0:\u001b[0m\n",
      "Нижняя граница значений: -28.677901128779617\n",
      "Верхняя граница значений: 31.000365467492706\n"
     ]
    }
   ],
   "source": [
    "boxplot_graf(data2['f0'], 'f0')"
   ]
  },
  {
   "cell_type": "markdown",
   "metadata": {},
   "source": [
    "Выбросов нет."
   ]
  },
  {
   "cell_type": "code",
   "execution_count": 34,
   "metadata": {},
   "outputs": [
    {
     "name": "stdout",
     "output_type": "stream",
     "text": [
      "\n",
      "\u001b[1mОписание признака f1:\u001b[0m\n",
      "\n",
      "count    100000.000000\n",
      "mean         -4.796579\n",
      "std           5.119872\n",
      "min         -26.358598\n",
      "25%          -8.267985\n",
      "50%          -4.813172\n",
      "75%          -1.332816\n",
      "max          18.734063\n",
      "Name: f1, dtype: float64\n",
      "\n"
     ]
    },
    {
     "data": {
      "image/png": "[encoded data removed]",
      "text/plain": [
       "<Figure size 1080x576 with 1 Axes>"
      ]
     },
     "metadata": {
      "needs_background": "light"
     },
     "output_type": "display_data"
    }
   ],
   "source": [
    "hist_graf(data2['f1'], \n",
    "          'f1', \n",
    "          'КОЛИЧЕСТВО СКВАЖИН В ЗАВИСИМОСТИ ОТ СТОЛБЦА F1', \n",
    "          'КОЛИЧЕСТВО СКВАЖИН', \n",
    "          'f1', \n",
    "          70)"
   ]
  },
  {
   "cell_type": "markdown",
   "metadata": {},
   "source": [
    "Минимальное значение: -26.3, максимальное: 18.7. Гистограмма имеет нормальное распределение. Медиана и среднее близки."
   ]
  },
  {
   "cell_type": "code",
   "execution_count": 35,
   "metadata": {},
   "outputs": [
    {
     "data": {
      "image/png": "[encoded data removed]",
      "text/plain": [
       "<Figure size 1440x360 with 1 Axes>"
      ]
     },
     "metadata": {
      "needs_background": "light"
     },
     "output_type": "display_data"
    },
    {
     "name": "stdout",
     "output_type": "stream",
     "text": [
      "\n",
      "\n",
      "\u001b[1mПороговые значения f1:\u001b[0m\n",
      "Нижняя граница значений: -18.670738069582377\n",
      "Верхняя граница значений: 9.069937223519565\n"
     ]
    }
   ],
   "source": [
    "boxplot_graf(data2['f1'], 'f1')"
   ]
  },
  {
   "cell_type": "code",
   "execution_count": 36,
   "metadata": {},
   "outputs": [
    {
     "data": {
      "text/plain": [
       "441"
      ]
     },
     "execution_count": 36,
     "metadata": {},
     "output_type": "execute_result"
    }
   ],
   "source": [
    "len(data2[data2['f1'] < -19]) + len(data2[data2['f1'] > 10])"
   ]
  },
  {
   "cell_type": "markdown",
   "metadata": {},
   "source": [
    "Есть выбросы. Относительно мало значений меньше -19 и больше 10."
   ]
  },
  {
   "cell_type": "code",
   "execution_count": 37,
   "metadata": {},
   "outputs": [
    {
     "name": "stdout",
     "output_type": "stream",
     "text": [
      "\n",
      "\u001b[1mОписание признака f2:\u001b[0m\n",
      "\n",
      "count    100000.000000\n",
      "mean          2.494541\n",
      "std           1.703572\n",
      "min          -0.018144\n",
      "25%           1.000021\n",
      "50%           2.011479\n",
      "75%           3.999904\n",
      "max           5.019721\n",
      "Name: f2, dtype: float64\n",
      "\n"
     ]
    },
    {
     "data": {
      "image/png": "[encoded data removed]",
      "text/plain": [
       "<Figure size 1080x576 with 1 Axes>"
      ]
     },
     "metadata": {
      "needs_background": "light"
     },
     "output_type": "display_data"
    }
   ],
   "source": [
    "hist_graf(data2['f2'], \n",
    "          'f2', \n",
    "          'КОЛИЧЕСТВО СКВАЖИН В ЗАВИСИМОСТИ ОТ СТОЛБЦА F2', \n",
    "          'КОЛИЧЕСТВО СКВАЖИН', \n",
    "          'f2', \n",
    "          10)"
   ]
  },
  {
   "cell_type": "markdown",
   "metadata": {},
   "source": [
    "Минимальное значение: -0.02, максимальное: 5.0. Среднее и медиана близки. Форма распределения случайная, четкой закономерности не прослеживается. Хотя прослеживается симметричность левой и правой части графика. Распределение выглядит как-то подозрительно по сравнению с данными из первого региона. Но т.к. мы не знаем, что это за параметр, других данных у нас нет, оставим все как есть."
   ]
  },
  {
   "cell_type": "code",
   "execution_count": 38,
   "metadata": {},
   "outputs": [
    {
     "data": {
      "image/png": "[encoded data removed]",
      "text/plain": [
       "<Figure size 1440x360 with 1 Axes>"
      ]
     },
     "metadata": {
      "needs_background": "light"
     },
     "output_type": "display_data"
    },
    {
     "name": "stdout",
     "output_type": "stream",
     "text": [
      "\n",
      "\n",
      "\u001b[1mПороговые значения f2:\u001b[0m\n",
      "Нижняя граница значений: -3.4998028621957973\n",
      "Верхняя граница значений: 8.499728223745905\n"
     ]
    }
   ],
   "source": [
    "boxplot_graf(data2['f2'], 'f2')"
   ]
  },
  {
   "cell_type": "markdown",
   "metadata": {},
   "source": [
    "Выбросов нет."
   ]
  },
  {
   "cell_type": "code",
   "execution_count": 39,
   "metadata": {},
   "outputs": [
    {
     "name": "stdout",
     "output_type": "stream",
     "text": [
      "\n",
      "\u001b[1mОписание признака \"объём запасов в скважине\":\u001b[0m\n",
      "\n",
      "count    100000.000000\n",
      "mean         68.825000\n",
      "std          45.944423\n",
      "min           0.000000\n",
      "25%          26.953261\n",
      "50%          57.085625\n",
      "75%         107.813044\n",
      "max         137.945408\n",
      "Name: product, dtype: float64\n",
      "\n"
     ]
    },
    {
     "data": {
      "image/png": "[encoded data removed]",
      "text/plain": [
       "<Figure size 1080x576 with 1 Axes>"
      ]
     },
     "metadata": {
      "needs_background": "light"
     },
     "output_type": "display_data"
    }
   ],
   "source": [
    "hist_graf(data2['product'], \n",
    "          '\"объём запасов в скважине\"', \n",
    "          'КОЛИЧЕСТВО СКВАЖИН В ЗАВИСИМОСТИ ОТ ОБЪЕМА ЗАПАСОВ В СКВАЖИНЕ', \n",
    "          'КОЛИЧЕСТВО СКВАЖИН', \n",
    "          'ОБЪЕМ ЗАПАСОВ В СКВАЖИНЕ', \n",
    "          10)"
   ]
  },
  {
   "cell_type": "markdown",
   "metadata": {},
   "source": [
    "Минимальное значение: 0, максимальное: 137.9. Среднее и медиана отличаются. Два пика: с нулевым значением и со значениями 125-130. Между этими значениями гистограмма однородна. Посмотрим, сколько нулевых значений в данных."
   ]
  },
  {
   "cell_type": "code",
   "execution_count": 40,
   "metadata": {},
   "outputs": [
    {
     "data": {
      "text/plain": [
       "8235"
      ]
     },
     "execution_count": 40,
     "metadata": {},
     "output_type": "execute_result"
    }
   ],
   "source": [
    "len(data2[data2['product'] == 0])"
   ]
  },
  {
   "cell_type": "markdown",
   "metadata": {},
   "source": [
    "Очень много скважин с нулевым объемом запасов."
   ]
  },
  {
   "cell_type": "code",
   "execution_count": 41,
   "metadata": {},
   "outputs": [
    {
     "data": {
      "image/png": "[encoded data removed]",
      "text/plain": [
       "<Figure size 1440x360 with 1 Axes>"
      ]
     },
     "metadata": {
      "needs_background": "light"
     },
     "output_type": "display_data"
    },
    {
     "name": "stdout",
     "output_type": "stream",
     "text": [
      "\n",
      "\n",
      "\u001b[1mПороговые значения product:\u001b[0m\n",
      "Нижняя граница значений: -94.33641361038892\n",
      "Верхняя граница значений: 229.10271876808736\n"
     ]
    }
   ],
   "source": [
    "boxplot_graf(data2['product'], 'product')"
   ]
  },
  {
   "cell_type": "markdown",
   "metadata": {},
   "source": [
    "Выбросов нет."
   ]
  },
  {
   "cell_type": "markdown",
   "metadata": {},
   "source": [
    "#### Регион 3"
   ]
  },
  {
   "cell_type": "code",
   "execution_count": 42,
   "metadata": {},
   "outputs": [
    {
     "name": "stdout",
     "output_type": "stream",
     "text": [
      "\n",
      "\u001b[1mОписание признака f0:\u001b[0m\n",
      "\n",
      "count    100000.000000\n",
      "mean          0.002023\n",
      "std           1.732045\n",
      "min          -8.760004\n",
      "25%          -1.162288\n",
      "50%           0.009424\n",
      "75%           1.158535\n",
      "max           7.238262\n",
      "Name: f0, dtype: float64\n",
      "\n"
     ]
    },
    {
     "data": {
      "image/png": "[encoded data removed]",
      "text/plain": [
       "<Figure size 1080x576 with 1 Axes>"
      ]
     },
     "metadata": {
      "needs_background": "light"
     },
     "output_type": "display_data"
    }
   ],
   "source": [
    "hist_graf(data3['f0'], \n",
    "          'f0', \n",
    "          'КОЛИЧЕСТВО СКВАЖИН В ЗАВИСИМОСТИ ОТ СТОЛБЦА F0', \n",
    "          'КОЛИЧЕСТВО СКВАЖИН', \n",
    "          'f0', \n",
    "          70)"
   ]
  },
  {
   "cell_type": "markdown",
   "metadata": {},
   "source": [
    "Минимальное значение: -8.7, максимальное: 7.2. Гистограмма с нормальным распределением. Медиана и среднее близки."
   ]
  },
  {
   "cell_type": "code",
   "execution_count": 43,
   "metadata": {},
   "outputs": [
    {
     "data": {
      "image/png": "[encoded data removed]",
      "text/plain": [
       "<Figure size 1440x360 with 1 Axes>"
      ]
     },
     "metadata": {
      "needs_background": "light"
     },
     "output_type": "display_data"
    },
    {
     "name": "stdout",
     "output_type": "stream",
     "text": [
      "\n",
      "\n",
      "\u001b[1mПороговые значения f0:\u001b[0m\n",
      "Нижняя граница значений: -4.643524223522959\n",
      "Верхняя граница значений: 4.639771092118378\n"
     ]
    }
   ],
   "source": [
    "boxplot_graf(data3['f0'], 'f0')"
   ]
  },
  {
   "cell_type": "code",
   "execution_count": 44,
   "metadata": {},
   "outputs": [
    {
     "data": {
      "text/plain": [
       "382"
      ]
     },
     "execution_count": 44,
     "metadata": {},
     "output_type": "execute_result"
    }
   ],
   "source": [
    "len(data3[data3['f0'] < -5]) + len(data3[data3['f0'] > 5])"
   ]
  },
  {
   "cell_type": "markdown",
   "metadata": {},
   "source": [
    "Есть выбросы, 382 строки. Мало скважин с параметрами f0 меньше -5 и больше 5."
   ]
  },
  {
   "cell_type": "code",
   "execution_count": 45,
   "metadata": {},
   "outputs": [
    {
     "name": "stdout",
     "output_type": "stream",
     "text": [
      "\n",
      "\u001b[1mОписание признака f1:\u001b[0m\n",
      "\n",
      "count    100000.000000\n",
      "mean         -0.002081\n",
      "std           1.730417\n",
      "min          -7.084020\n",
      "25%          -1.174820\n",
      "50%          -0.009482\n",
      "75%           1.163678\n",
      "max           7.844801\n",
      "Name: f1, dtype: float64\n",
      "\n"
     ]
    },
    {
     "data": {
      "image/png": "[encoded data removed]",
      "text/plain": [
       "<Figure size 1080x576 with 1 Axes>"
      ]
     },
     "metadata": {
      "needs_background": "light"
     },
     "output_type": "display_data"
    }
   ],
   "source": [
    "hist_graf(data3['f1'], \n",
    "          'f1', \n",
    "          'КОЛИЧЕСТВО СКВАЖИН В ЗАВИСИМОСТИ ОТ СТОЛБЦА F1', \n",
    "          'КОЛИЧЕСТВО СКВАЖИН', \n",
    "          'f1', \n",
    "          70)"
   ]
  },
  {
   "cell_type": "markdown",
   "metadata": {},
   "source": [
    "Минимальное значение: -7.0, максимальное: 7.8. Гистограмма с нормальным распределением. Медиана и среднее близки."
   ]
  },
  {
   "cell_type": "code",
   "execution_count": 46,
   "metadata": {},
   "outputs": [
    {
     "data": {
      "image/png": "[encoded data removed]",
      "text/plain": [
       "<Figure size 1440x360 with 1 Axes>"
      ]
     },
     "metadata": {
      "needs_background": "light"
     },
     "output_type": "display_data"
    },
    {
     "name": "stdout",
     "output_type": "stream",
     "text": [
      "\n",
      "\n",
      "\u001b[1mПороговые значения f1:\u001b[0m\n",
      "Нижняя граница значений: -4.682565825428671\n",
      "Верхняя граница значений: 4.671424081839961\n"
     ]
    }
   ],
   "source": [
    "boxplot_graf(data3['f1'], 'f1')"
   ]
  },
  {
   "cell_type": "code",
   "execution_count": 47,
   "metadata": {},
   "outputs": [
    {
     "data": {
      "text/plain": [
       "388"
      ]
     },
     "execution_count": 47,
     "metadata": {},
     "output_type": "execute_result"
    }
   ],
   "source": [
    "len(data3[data3['f1'] < -5]) + len(data3[data3['f1'] > 5])"
   ]
  },
  {
   "cell_type": "markdown",
   "metadata": {},
   "source": [
    "Есть выбросы, 388 строк. Мало скважин с параметрами f1 меньше -5 и больше 5."
   ]
  },
  {
   "cell_type": "code",
   "execution_count": 48,
   "metadata": {},
   "outputs": [
    {
     "name": "stdout",
     "output_type": "stream",
     "text": [
      "\n",
      "\u001b[1mОписание признака f2:\u001b[0m\n",
      "\n",
      "count    100000.000000\n",
      "mean          2.495128\n",
      "std           3.473445\n",
      "min         -11.970335\n",
      "25%           0.130359\n",
      "50%           2.484236\n",
      "75%           4.858794\n",
      "max          16.739402\n",
      "Name: f2, dtype: float64\n",
      "\n"
     ]
    },
    {
     "data": {
      "image/png": "[encoded data removed]",
      "text/plain": [
       "<Figure size 1080x576 with 1 Axes>"
      ]
     },
     "metadata": {
      "needs_background": "light"
     },
     "output_type": "display_data"
    }
   ],
   "source": [
    "hist_graf(data3['f2'], \n",
    "          'f2', \n",
    "          'КОЛИЧЕСТВО СКВАЖИН В ЗАВИСИМОСТИ ОТ СТОЛБЦА F2', \n",
    "          'КОЛИЧЕСТВО СКВАЖИН', \n",
    "          'f2', \n",
    "          70)"
   ]
  },
  {
   "cell_type": "markdown",
   "metadata": {},
   "source": [
    "Минимальное значение: -11.9, максимальное: 16.7. Гистограмма с нормальным распределением. Медиана и среднее близки."
   ]
  },
  {
   "cell_type": "code",
   "execution_count": 49,
   "metadata": {},
   "outputs": [
    {
     "data": {
      "image/png": "[encoded data removed]",
      "text/plain": [
       "<Figure size 1440x360 with 1 Axes>"
      ]
     },
     "metadata": {
      "needs_background": "light"
     },
     "output_type": "display_data"
    },
    {
     "name": "stdout",
     "output_type": "stream",
     "text": [
      "\n",
      "\n",
      "\u001b[1mПороговые значения f2:\u001b[0m\n",
      "Нижняя граница значений: -6.962293786328402\n",
      "Верхняя граница значений: 11.951446027690594\n"
     ]
    }
   ],
   "source": [
    "boxplot_graf(data3['f2'], 'f2')"
   ]
  },
  {
   "cell_type": "code",
   "execution_count": 50,
   "metadata": {},
   "outputs": [
    {
     "data": {
      "text/plain": [
       "567"
      ]
     },
     "execution_count": 50,
     "metadata": {},
     "output_type": "execute_result"
    }
   ],
   "source": [
    "len(data3[data3['f2'] < -7])+len(data3[data3['f2'] > 12])"
   ]
  },
  {
   "cell_type": "markdown",
   "metadata": {},
   "source": [
    "Есть выбросы, 567 строк. Мало скважин с параметрами f2 меньше -7 и больше 12."
   ]
  },
  {
   "cell_type": "code",
   "execution_count": 51,
   "metadata": {},
   "outputs": [
    {
     "name": "stdout",
     "output_type": "stream",
     "text": [
      "\n",
      "\u001b[1mОписание признака \"объём запасов в скважине\":\u001b[0m\n",
      "\n",
      "count    100000.000000\n",
      "mean         95.000000\n",
      "std          44.749921\n",
      "min           0.000000\n",
      "25%          59.450441\n",
      "50%          94.925613\n",
      "75%         130.595027\n",
      "max         190.029838\n",
      "Name: product, dtype: float64\n",
      "\n"
     ]
    },
    {
     "data": {
      "image/png": "[encoded data removed]",
      "text/plain": [
       "<Figure size 1080x576 with 1 Axes>"
      ]
     },
     "metadata": {
      "needs_background": "light"
     },
     "output_type": "display_data"
    }
   ],
   "source": [
    "hist_graf(data3['product'], \n",
    "          '\"объём запасов в скважине\"', \n",
    "          'КОЛИЧЕСТВО СКВАЖИН В ЗАВИСИМОСТИ ОТ ОБЪЕМА ЗАПАСОВ В СКВАЖИНЕ', \n",
    "          'КОЛИЧЕСТВО СКВАЖИН', \n",
    "          'ОБЪЕМ ЗАПАСОВ В СКВАЖИНЕ', \n",
    "          70)"
   ]
  },
  {
   "cell_type": "code",
   "execution_count": 52,
   "metadata": {},
   "outputs": [
    {
     "data": {
      "text/plain": [
       "1"
      ]
     },
     "execution_count": 52,
     "metadata": {},
     "output_type": "execute_result"
    }
   ],
   "source": [
    "len(data3[data3['product'] == 0])"
   ]
  },
  {
   "cell_type": "markdown",
   "metadata": {},
   "source": [
    "Одна скважина с нулевым объемом запасов нефти."
   ]
  },
  {
   "cell_type": "code",
   "execution_count": 53,
   "metadata": {},
   "outputs": [
    {
     "data": {
      "image/png": "[encoded data removed]",
      "text/plain": [
       "<Figure size 1440x360 with 1 Axes>"
      ]
     },
     "metadata": {
      "needs_background": "light"
     },
     "output_type": "display_data"
    },
    {
     "name": "stdout",
     "output_type": "stream",
     "text": [
      "\n",
      "\n",
      "\u001b[1mПороговые значения product:\u001b[0m\n",
      "Нижняя граница значений: -47.26643772727831\n",
      "Верхняя граница значений: 237.31190538130107\n"
     ]
    }
   ],
   "source": [
    "boxplot_graf(data3['product'], 'product')"
   ]
  },
  {
   "cell_type": "markdown",
   "metadata": {},
   "source": [
    "Выбросов нет."
   ]
  },
  {
   "cell_type": "markdown",
   "metadata": {},
   "source": [
    "### Вывод"
   ]
  },
  {
   "cell_type": "markdown",
   "metadata": {},
   "source": [
    "В данном разделе был проведён исследовательский анализ данных. \n",
    "\n",
    "Обнаружено:\n",
    "* В регионе 1 наблюдается умеренная положительная корреляция (0.48) между объемом запасов скважин и столбцом f2, а также умеренная отрицательная корреляция (-0.44) между признаками f0 и f1.\n",
    "* В регионе 2 наблюдается весьма высокая корреляция (1) между объемом запасов скважин и столбцом f2.\n",
    "* В регионе 3 наблюдается умеренная корреляция (0.45) между объемом запасов скважин и столбцом f2.\n",
    "\n",
    "По всем данным изучили гистограммы и проверили признаки на выбросы.\n",
    "\n",
    "По **региону 1**:\n",
    "* обнаружены выбросы в столбце f2 в количестве 247 строк;\n",
    "* одна скважина оказалась c нулевым запасом нефти.\n",
    "\n",
    "По **региону 2**:\n",
    "* обнаружены выбросы в столбце f1 в количестве 441 строка;\n",
    "* 8235 скважин c нулевым запасом нефти.\n",
    "\n",
    "По **региону 3**:\n",
    "* обнаружены выбросы в столбце f0 в количестве 382 строки;\n",
    "* обнаружены выбросы в столбце f1 в количестве 388 строк;\n",
    "* обнаружены выбросы в столбце f2 в количестве 567 строк;\n",
    "* одна скважина c нулевым запасом нефти.\n",
    "\n",
    "Выбросы трогать не стали, т.к. возможно, именно благодаря одной из этих скважин получится извлечь реальную выгоду.\n",
    "Часто скважины бурят там, где заведомо нет нефти (для уточнения параметров и т.д.). Возможно, данные из этих скважин попали к нам. Оставили без изменений."
   ]
  },
  {
   "cell_type": "markdown",
   "metadata": {},
   "source": [
    "## Обучение и проверка модели"
   ]
  },
  {
   "cell_type": "markdown",
   "metadata": {},
   "source": [
    "Создадим функцию, чтобы разделить данные по регионам на выборки."
   ]
  },
  {
   "cell_type": "code",
   "execution_count": 54,
   "metadata": {},
   "outputs": [],
   "source": [
    "def parts(df):\n",
    "    features = df.drop(['product', 'id'], axis=1)\n",
    "    target = df['product']\n",
    "    \n",
    "    # разделение на выборки \n",
    "    features_train, features_valid, target_train, target_valid = train_test_split(\n",
    "    features, target, test_size=0.25, random_state=12345)\n",
    "    \n",
    "    #масштабирование\n",
    "    numeric = ['f0', 'f1', 'f2']\n",
    "    scaler = StandardScaler()\n",
    "    scaler.fit(features_train[numeric])\n",
    "\n",
    "    features_train[numeric] = scaler.transform(features_train[numeric])\n",
    "    features_valid[numeric] = scaler.transform(features_valid[numeric])\n",
    "    \n",
    "    return features_train, features_valid, target_train, target_valid   "
   ]
  },
  {
   "cell_type": "markdown",
   "metadata": {},
   "source": [
    "### Деление на выборки"
   ]
  },
  {
   "cell_type": "markdown",
   "metadata": {},
   "source": [
    "Деление данных на features и target для **региона 1**"
   ]
  },
  {
   "cell_type": "code",
   "execution_count": 55,
   "metadata": {},
   "outputs": [
    {
     "name": "stdout",
     "output_type": "stream",
     "text": [
      "(75000, 3)\n",
      "(25000, 3)\n",
      "(75000,)\n",
      "(25000,)\n"
     ]
    }
   ],
   "source": [
    "warnings.filterwarnings('ignore')\n",
    "\n",
    "features_train_1, features_valid_1, target_train_1, target_valid_1 = parts(data1)\n",
    "\n",
    "print(features_train_1.shape)\n",
    "print(features_valid_1.shape)\n",
    "print(target_train_1.shape)\n",
    "print(target_valid_1.shape)"
   ]
  },
  {
   "cell_type": "code",
   "execution_count": 56,
   "metadata": {},
   "outputs": [
    {
     "data": {
      "text/html": [
       "<div>\n",
       "<style scoped>\n",
       "    .dataframe tbody tr th:only-of-type {\n",
       "        vertical-align: middle;\n",
       "    }\n",
       "\n",
       "    .dataframe tbody tr th {\n",
       "        vertical-align: top;\n",
       "    }\n",
       "\n",
       "    .dataframe thead th {\n",
       "        text-align: right;\n",
       "    }\n",
       "</style>\n",
       "<table border=\"1\" class=\"dataframe\">\n",
       "  <thead>\n",
       "    <tr style=\"text-align: right;\">\n",
       "      <th></th>\n",
       "      <th>f0</th>\n",
       "      <th>f1</th>\n",
       "      <th>f2</th>\n",
       "    </tr>\n",
       "  </thead>\n",
       "  <tbody>\n",
       "    <tr>\n",
       "      <th>27212</th>\n",
       "      <td>-0.544828</td>\n",
       "      <td>1.390264</td>\n",
       "      <td>-0.094959</td>\n",
       "    </tr>\n",
       "    <tr>\n",
       "      <th>7866</th>\n",
       "      <td>1.455912</td>\n",
       "      <td>-0.480422</td>\n",
       "      <td>1.209567</td>\n",
       "    </tr>\n",
       "    <tr>\n",
       "      <th>62041</th>\n",
       "      <td>0.260460</td>\n",
       "      <td>0.825069</td>\n",
       "      <td>-0.204865</td>\n",
       "    </tr>\n",
       "    <tr>\n",
       "      <th>70185</th>\n",
       "      <td>-1.837105</td>\n",
       "      <td>0.010321</td>\n",
       "      <td>-0.147634</td>\n",
       "    </tr>\n",
       "    <tr>\n",
       "      <th>82230</th>\n",
       "      <td>-1.299243</td>\n",
       "      <td>0.987558</td>\n",
       "      <td>1.273181</td>\n",
       "    </tr>\n",
       "  </tbody>\n",
       "</table>\n",
       "</div>"
      ],
      "text/plain": [
       "             f0        f1        f2\n",
       "27212 -0.544828  1.390264 -0.094959\n",
       "7866   1.455912 -0.480422  1.209567\n",
       "62041  0.260460  0.825069 -0.204865\n",
       "70185 -1.837105  0.010321 -0.147634\n",
       "82230 -1.299243  0.987558  1.273181"
      ]
     },
     "execution_count": 56,
     "metadata": {},
     "output_type": "execute_result"
    }
   ],
   "source": [
    "features_train_1.head(5)"
   ]
  },
  {
   "cell_type": "code",
   "execution_count": 57,
   "metadata": {},
   "outputs": [
    {
     "data": {
      "text/html": [
       "<div>\n",
       "<style scoped>\n",
       "    .dataframe tbody tr th:only-of-type {\n",
       "        vertical-align: middle;\n",
       "    }\n",
       "\n",
       "    .dataframe tbody tr th {\n",
       "        vertical-align: top;\n",
       "    }\n",
       "\n",
       "    .dataframe thead th {\n",
       "        text-align: right;\n",
       "    }\n",
       "</style>\n",
       "<table border=\"1\" class=\"dataframe\">\n",
       "  <thead>\n",
       "    <tr style=\"text-align: right;\">\n",
       "      <th></th>\n",
       "      <th>f0</th>\n",
       "      <th>f1</th>\n",
       "      <th>f2</th>\n",
       "    </tr>\n",
       "  </thead>\n",
       "  <tbody>\n",
       "    <tr>\n",
       "      <th>71751</th>\n",
       "      <td>0.517917</td>\n",
       "      <td>-0.610097</td>\n",
       "      <td>-0.126226</td>\n",
       "    </tr>\n",
       "    <tr>\n",
       "      <th>80493</th>\n",
       "      <td>0.568391</td>\n",
       "      <td>-0.086063</td>\n",
       "      <td>-0.814914</td>\n",
       "    </tr>\n",
       "    <tr>\n",
       "      <th>2655</th>\n",
       "      <td>0.805688</td>\n",
       "      <td>-1.613289</td>\n",
       "      <td>-1.341342</td>\n",
       "    </tr>\n",
       "    <tr>\n",
       "      <th>53233</th>\n",
       "      <td>0.222503</td>\n",
       "      <td>-1.355437</td>\n",
       "      <td>-0.597275</td>\n",
       "    </tr>\n",
       "    <tr>\n",
       "      <th>91141</th>\n",
       "      <td>-0.087941</td>\n",
       "      <td>1.433113</td>\n",
       "      <td>-0.544588</td>\n",
       "    </tr>\n",
       "  </tbody>\n",
       "</table>\n",
       "</div>"
      ],
      "text/plain": [
       "             f0        f1        f2\n",
       "71751  0.517917 -0.610097 -0.126226\n",
       "80493  0.568391 -0.086063 -0.814914\n",
       "2655   0.805688 -1.613289 -1.341342\n",
       "53233  0.222503 -1.355437 -0.597275\n",
       "91141 -0.087941  1.433113 -0.544588"
      ]
     },
     "execution_count": 57,
     "metadata": {},
     "output_type": "execute_result"
    }
   ],
   "source": [
    "features_valid_1.head(5)"
   ]
  },
  {
   "cell_type": "markdown",
   "metadata": {},
   "source": [
    "Деление данных на features и target для **региона 2**"
   ]
  },
  {
   "cell_type": "code",
   "execution_count": 58,
   "metadata": {},
   "outputs": [
    {
     "name": "stdout",
     "output_type": "stream",
     "text": [
      "(75000, 3)\n",
      "(25000, 3)\n",
      "(75000,)\n",
      "(25000,)\n"
     ]
    }
   ],
   "source": [
    "warnings.filterwarnings('ignore')\n",
    "\n",
    "features_train_2, features_valid_2, target_train_2, target_valid_2 = parts(data2)\n",
    "\n",
    "print(features_train_2.shape)\n",
    "print(features_valid_2.shape)\n",
    "print(target_train_2.shape)\n",
    "print(target_valid_2.shape)"
   ]
  },
  {
   "cell_type": "code",
   "execution_count": 59,
   "metadata": {},
   "outputs": [
    {
     "data": {
      "text/html": [
       "<div>\n",
       "<style scoped>\n",
       "    .dataframe tbody tr th:only-of-type {\n",
       "        vertical-align: middle;\n",
       "    }\n",
       "\n",
       "    .dataframe tbody tr th {\n",
       "        vertical-align: top;\n",
       "    }\n",
       "\n",
       "    .dataframe thead th {\n",
       "        text-align: right;\n",
       "    }\n",
       "</style>\n",
       "<table border=\"1\" class=\"dataframe\">\n",
       "  <thead>\n",
       "    <tr style=\"text-align: right;\">\n",
       "      <th></th>\n",
       "      <th>f0</th>\n",
       "      <th>f1</th>\n",
       "      <th>f2</th>\n",
       "    </tr>\n",
       "  </thead>\n",
       "  <tbody>\n",
       "    <tr>\n",
       "      <th>27212</th>\n",
       "      <td>-0.850855</td>\n",
       "      <td>0.624428</td>\n",
       "      <td>0.296943</td>\n",
       "    </tr>\n",
       "    <tr>\n",
       "      <th>7866</th>\n",
       "      <td>1.971935</td>\n",
       "      <td>1.832275</td>\n",
       "      <td>0.294333</td>\n",
       "    </tr>\n",
       "    <tr>\n",
       "      <th>62041</th>\n",
       "      <td>1.079305</td>\n",
       "      <td>0.170127</td>\n",
       "      <td>-0.296418</td>\n",
       "    </tr>\n",
       "    <tr>\n",
       "      <th>70185</th>\n",
       "      <td>-1.512028</td>\n",
       "      <td>-0.887837</td>\n",
       "      <td>-0.880471</td>\n",
       "    </tr>\n",
       "    <tr>\n",
       "      <th>82230</th>\n",
       "      <td>-1.804775</td>\n",
       "      <td>-0.718311</td>\n",
       "      <td>-0.293255</td>\n",
       "    </tr>\n",
       "  </tbody>\n",
       "</table>\n",
       "</div>"
      ],
      "text/plain": [
       "             f0        f1        f2\n",
       "27212 -0.850855  0.624428  0.296943\n",
       "7866   1.971935  1.832275  0.294333\n",
       "62041  1.079305  0.170127 -0.296418\n",
       "70185 -1.512028 -0.887837 -0.880471\n",
       "82230 -1.804775 -0.718311 -0.293255"
      ]
     },
     "execution_count": 59,
     "metadata": {},
     "output_type": "execute_result"
    }
   ],
   "source": [
    "features_train_2.head(5)"
   ]
  },
  {
   "cell_type": "code",
   "execution_count": 60,
   "metadata": {},
   "outputs": [
    {
     "data": {
      "text/html": [
       "<div>\n",
       "<style scoped>\n",
       "    .dataframe tbody tr th:only-of-type {\n",
       "        vertical-align: middle;\n",
       "    }\n",
       "\n",
       "    .dataframe tbody tr th {\n",
       "        vertical-align: top;\n",
       "    }\n",
       "\n",
       "    .dataframe thead th {\n",
       "        text-align: right;\n",
       "    }\n",
       "</style>\n",
       "<table border=\"1\" class=\"dataframe\">\n",
       "  <thead>\n",
       "    <tr style=\"text-align: right;\">\n",
       "      <th></th>\n",
       "      <th>f0</th>\n",
       "      <th>f1</th>\n",
       "      <th>f2</th>\n",
       "    </tr>\n",
       "  </thead>\n",
       "  <tbody>\n",
       "    <tr>\n",
       "      <th>71751</th>\n",
       "      <td>-0.168616</td>\n",
       "      <td>0.571372</td>\n",
       "      <td>0.297471</td>\n",
       "    </tr>\n",
       "    <tr>\n",
       "      <th>80493</th>\n",
       "      <td>0.878384</td>\n",
       "      <td>-1.772903</td>\n",
       "      <td>-0.293901</td>\n",
       "    </tr>\n",
       "    <tr>\n",
       "      <th>2655</th>\n",
       "      <td>-0.852976</td>\n",
       "      <td>-0.004986</td>\n",
       "      <td>-0.876502</td>\n",
       "    </tr>\n",
       "    <tr>\n",
       "      <th>53233</th>\n",
       "      <td>1.496940</td>\n",
       "      <td>-1.146077</td>\n",
       "      <td>-0.294011</td>\n",
       "    </tr>\n",
       "    <tr>\n",
       "      <th>91141</th>\n",
       "      <td>0.552177</td>\n",
       "      <td>0.057961</td>\n",
       "      <td>-1.457764</td>\n",
       "    </tr>\n",
       "  </tbody>\n",
       "</table>\n",
       "</div>"
      ],
      "text/plain": [
       "             f0        f1        f2\n",
       "71751 -0.168616  0.571372  0.297471\n",
       "80493  0.878384 -1.772903 -0.293901\n",
       "2655  -0.852976 -0.004986 -0.876502\n",
       "53233  1.496940 -1.146077 -0.294011\n",
       "91141  0.552177  0.057961 -1.457764"
      ]
     },
     "execution_count": 60,
     "metadata": {},
     "output_type": "execute_result"
    }
   ],
   "source": [
    "features_valid_2.head(5)"
   ]
  },
  {
   "cell_type": "markdown",
   "metadata": {},
   "source": [
    "Деление данных на features и target для  **региона 3**"
   ]
  },
  {
   "cell_type": "code",
   "execution_count": 61,
   "metadata": {},
   "outputs": [
    {
     "name": "stdout",
     "output_type": "stream",
     "text": [
      "(75000, 3)\n",
      "(25000, 3)\n",
      "(25000,)\n",
      "(25000,)\n"
     ]
    }
   ],
   "source": [
    "warnings.filterwarnings('ignore')\n",
    "\n",
    "features_train_3, features_valid_3, target_train_3, target_valid_3 = parts(data3)\n",
    "\n",
    "print(features_train_3.shape)\n",
    "print(features_valid_3.shape)\n",
    "print(target_valid_3.shape)\n",
    "print(target_valid_3.shape)"
   ]
  },
  {
   "cell_type": "code",
   "execution_count": 62,
   "metadata": {},
   "outputs": [
    {
     "data": {
      "text/html": [
       "<div>\n",
       "<style scoped>\n",
       "    .dataframe tbody tr th:only-of-type {\n",
       "        vertical-align: middle;\n",
       "    }\n",
       "\n",
       "    .dataframe tbody tr th {\n",
       "        vertical-align: top;\n",
       "    }\n",
       "\n",
       "    .dataframe thead th {\n",
       "        text-align: right;\n",
       "    }\n",
       "</style>\n",
       "<table border=\"1\" class=\"dataframe\">\n",
       "  <thead>\n",
       "    <tr style=\"text-align: right;\">\n",
       "      <th></th>\n",
       "      <th>f0</th>\n",
       "      <th>f1</th>\n",
       "      <th>f2</th>\n",
       "    </tr>\n",
       "  </thead>\n",
       "  <tbody>\n",
       "    <tr>\n",
       "      <th>27212</th>\n",
       "      <td>-0.526160</td>\n",
       "      <td>0.776329</td>\n",
       "      <td>-0.400793</td>\n",
       "    </tr>\n",
       "    <tr>\n",
       "      <th>7866</th>\n",
       "      <td>-0.889625</td>\n",
       "      <td>-0.404070</td>\n",
       "      <td>-1.222936</td>\n",
       "    </tr>\n",
       "    <tr>\n",
       "      <th>62041</th>\n",
       "      <td>-1.133984</td>\n",
       "      <td>0.208576</td>\n",
       "      <td>0.296765</td>\n",
       "    </tr>\n",
       "    <tr>\n",
       "      <th>70185</th>\n",
       "      <td>1.227045</td>\n",
       "      <td>1.570166</td>\n",
       "      <td>-0.764556</td>\n",
       "    </tr>\n",
       "    <tr>\n",
       "      <th>82230</th>\n",
       "      <td>-0.194289</td>\n",
       "      <td>0.878312</td>\n",
       "      <td>0.840821</td>\n",
       "    </tr>\n",
       "  </tbody>\n",
       "</table>\n",
       "</div>"
      ],
      "text/plain": [
       "             f0        f1        f2\n",
       "27212 -0.526160  0.776329 -0.400793\n",
       "7866  -0.889625 -0.404070 -1.222936\n",
       "62041 -1.133984  0.208576  0.296765\n",
       "70185  1.227045  1.570166 -0.764556\n",
       "82230 -0.194289  0.878312  0.840821"
      ]
     },
     "execution_count": 62,
     "metadata": {},
     "output_type": "execute_result"
    }
   ],
   "source": [
    "features_train_3.head(5)"
   ]
  },
  {
   "cell_type": "code",
   "execution_count": 63,
   "metadata": {},
   "outputs": [
    {
     "data": {
      "text/html": [
       "<div>\n",
       "<style scoped>\n",
       "    .dataframe tbody tr th:only-of-type {\n",
       "        vertical-align: middle;\n",
       "    }\n",
       "\n",
       "    .dataframe tbody tr th {\n",
       "        vertical-align: top;\n",
       "    }\n",
       "\n",
       "    .dataframe thead th {\n",
       "        text-align: right;\n",
       "    }\n",
       "</style>\n",
       "<table border=\"1\" class=\"dataframe\">\n",
       "  <thead>\n",
       "    <tr style=\"text-align: right;\">\n",
       "      <th></th>\n",
       "      <th>f0</th>\n",
       "      <th>f1</th>\n",
       "      <th>f2</th>\n",
       "    </tr>\n",
       "  </thead>\n",
       "  <tbody>\n",
       "    <tr>\n",
       "      <th>71751</th>\n",
       "      <td>-0.836717</td>\n",
       "      <td>-2.227439</td>\n",
       "      <td>-0.078489</td>\n",
       "    </tr>\n",
       "    <tr>\n",
       "      <th>80493</th>\n",
       "      <td>-0.821648</td>\n",
       "      <td>0.740237</td>\n",
       "      <td>-1.000811</td>\n",
       "    </tr>\n",
       "    <tr>\n",
       "      <th>2655</th>\n",
       "      <td>-2.651336</td>\n",
       "      <td>-0.235721</td>\n",
       "      <td>-0.244546</td>\n",
       "    </tr>\n",
       "    <tr>\n",
       "      <th>53233</th>\n",
       "      <td>1.077998</td>\n",
       "      <td>0.938090</td>\n",
       "      <td>0.511313</td>\n",
       "    </tr>\n",
       "    <tr>\n",
       "      <th>91141</th>\n",
       "      <td>-1.173938</td>\n",
       "      <td>2.387270</td>\n",
       "      <td>1.034363</td>\n",
       "    </tr>\n",
       "  </tbody>\n",
       "</table>\n",
       "</div>"
      ],
      "text/plain": [
       "             f0        f1        f2\n",
       "71751 -0.836717 -2.227439 -0.078489\n",
       "80493 -0.821648  0.740237 -1.000811\n",
       "2655  -2.651336 -0.235721 -0.244546\n",
       "53233  1.077998  0.938090  0.511313\n",
       "91141 -1.173938  2.387270  1.034363"
      ]
     },
     "execution_count": 63,
     "metadata": {},
     "output_type": "execute_result"
    }
   ],
   "source": [
    "features_valid_3.head(5)"
   ]
  },
  {
   "cell_type": "markdown",
   "metadata": {},
   "source": [
    "### Обучение модели"
   ]
  },
  {
   "cell_type": "markdown",
   "metadata": {},
   "source": [
    "Создадим функцию, которая поможет найти реальный средний запас сырья, предсказанный средний запас сырья и среднеквадратическую ошибку RMSE, чтобы изучить точность прогнозирования."
   ]
  },
  {
   "cell_type": "code",
   "execution_count": 64,
   "metadata": {},
   "outputs": [],
   "source": [
    "def LR(prediction, target, model, num):\n",
    "    mean_real = target.mean()\n",
    "    mean_pred = prediction.mean()\n",
    "    rmse = np.sqrt(((prediction - target) ** 2).mean())\n",
    "    print('Регион', num)\n",
    "    print()\n",
    "    print('Реальный средний запас сырья:', round(mean_real,2))\n",
    "    print('Предсказанный средний запас сырья:',round(mean_pred,2))\n",
    "    print('RMSE:', round(rmse,2))"
   ]
  },
  {
   "cell_type": "markdown",
   "metadata": {},
   "source": [
    "Обучим модель для каждого региона и найдем все необходимые показатели."
   ]
  },
  {
   "cell_type": "code",
   "execution_count": 65,
   "metadata": {},
   "outputs": [
    {
     "name": "stdout",
     "output_type": "stream",
     "text": [
      "Регион 1\n",
      "\n",
      "Реальный средний запас сырья: 92.08\n",
      "Предсказанный средний запас сырья: 92.59\n",
      "RMSE: 37.58\n"
     ]
    }
   ],
   "source": [
    "model_1 = LinearRegression().fit(features_train_1, target_train_1)\n",
    "prediction_1 = pd.Series(model_1.predict(features_valid_1), index=target_valid_1.index)\n",
    "\n",
    "LR(prediction_1, target_valid_1, model_1, 1)"
   ]
  },
  {
   "cell_type": "code",
   "execution_count": 66,
   "metadata": {},
   "outputs": [
    {
     "name": "stdout",
     "output_type": "stream",
     "text": [
      "Регион 2\n",
      "\n",
      "Реальный средний запас сырья: 68.72\n",
      "Предсказанный средний запас сырья: 68.73\n",
      "RMSE: 0.89\n"
     ]
    }
   ],
   "source": [
    "model_2 = LinearRegression().fit(features_train_2, target_train_2)\n",
    "prediction_2 = pd.Series(model_2.predict(features_valid_2), index=target_valid_2.index)\n",
    "\n",
    "LR(prediction_2, target_valid_2, model_2, 2)"
   ]
  },
  {
   "cell_type": "code",
   "execution_count": 67,
   "metadata": {},
   "outputs": [
    {
     "name": "stdout",
     "output_type": "stream",
     "text": [
      "Регион 3\n",
      "\n",
      "Реальный средний запас сырья: 94.88\n",
      "Предсказанный средний запас сырья: 94.97\n",
      "RMSE: 40.03\n"
     ]
    }
   ],
   "source": [
    "model_3 = LinearRegression().fit(features_train_3, target_train_3)\n",
    "prediction_3 = pd.Series(model_3.predict(features_valid_3), index=target_valid_3.index)\n",
    "\n",
    "LR(prediction_3, target_valid_3, model_3, 3)"
   ]
  },
  {
   "cell_type": "markdown",
   "metadata": {},
   "source": [
    "### Вывод"
   ]
  },
  {
   "cell_type": "markdown",
   "metadata": {},
   "source": [
    "В данном разделе обучали модели по каждому региону. Для этого данные были разделены на обучающую и валидационную выборки. Все модели были обучены, а затем для данных каждого региона найдены: реальный средний запас сырья, предсказанный средний запас сырья и среднеквадратическая ошибка RMSE.\n",
    "\n",
    "Результаты:\n",
    "\n",
    "* **Регион 1**:\n",
    " - Реальный средний запас сырья: 92.08\n",
    " - Предсказанный средний запас сырья: 92.59\n",
    " - RMSE: 37.58\n",
    " \n",
    " \n",
    "* **Регион 2**:\n",
    " - Реальный средний запас сырья: 68.72\n",
    " - Предсказанный средний запас сырья: 68.73\n",
    " - RMSE: 0.89\n",
    " \n",
    "* **Регион 3**:\n",
    " - Реальный средний запас сырья: 94.88\n",
    " - Предсказанный средний запас сырья: 94.97\n",
    " - RMSE: 40.03\n",
    "\n",
    "\n",
    "Величина отклонения предсказанного среднего запаса сырья от реального среднего запаса сырья для регионов 1 и 3 примерно одинаковая. Самую большую точность прогноза показала модель региона 2."
   ]
  },
  {
   "cell_type": "markdown",
   "metadata": {},
   "source": [
    "## Подготовка к расчёту прибыли"
   ]
  },
  {
   "cell_type": "markdown",
   "metadata": {},
   "source": [
    "Зададим переменные для входных данных."
   ]
  },
  {
   "cell_type": "code",
   "execution_count": 68,
   "metadata": {},
   "outputs": [],
   "source": [
    "COUNT_SKV = 500 # количество скважин, которое исследуют при разведке региона\n",
    "BEST_CHOICE = 200 # количество лучших скважин, которые нужно выбрать\n",
    "BUDGET = 10000000000 # бюджет на разработку скважин в регионе \n",
    "PRICE = 450000 # Доход с каждой единицы продукта (руб.)\n",
    "THRESHOLD = 0.025"
   ]
  },
  {
   "cell_type": "markdown",
   "metadata": {},
   "source": [
    "Посчитаем объем сырья, который необходим для безубыточной разработки."
   ]
  },
  {
   "cell_type": "code",
   "execution_count": 69,
   "metadata": {},
   "outputs": [
    {
     "name": "stdout",
     "output_type": "stream",
     "text": [
      "Для безубыточной разработки необходимо 111.11 тыс. баррелей сырья.\n"
     ]
    }
   ],
   "source": [
    "val = BUDGET / (PRICE * BEST_CHOICE)\n",
    "print('Для безубыточной разработки необходимо', round(val,2), 'тыс. баррелей сырья.')"
   ]
  },
  {
   "cell_type": "markdown",
   "metadata": {},
   "source": [
    "Для каждого региона найдем средний запас сырья."
   ]
  },
  {
   "cell_type": "code",
   "execution_count": 70,
   "metadata": {},
   "outputs": [],
   "source": [
    "def prib (reg, df):\n",
    "    print(f'Регион {reg}:')\n",
    "    print()\n",
    "    print(f'Средний запас: {df[\"product\"].mean():.2f} тыс. баррелей.')\n",
    "    print(f'Процент скважин с объёмом больше необходимого: {len(df.query(\"product > @val\")) / len(df):.2%}')\n",
    "    print(f'Количество скважин с объёмом больше необходимого: {len(df.query(\"product > @val\"))}')"
   ]
  },
  {
   "cell_type": "code",
   "execution_count": 71,
   "metadata": {},
   "outputs": [
    {
     "name": "stdout",
     "output_type": "stream",
     "text": [
      "Регион 1:\n",
      "\n",
      "Средний запас: 92.50 тыс. баррелей.\n",
      "Процент скважин с объёмом больше необходимого: 36.58%\n",
      "Количество скважин с объёмом больше необходимого: 36583\n"
     ]
    }
   ],
   "source": [
    "prib ('1', data1)"
   ]
  },
  {
   "cell_type": "code",
   "execution_count": 72,
   "metadata": {},
   "outputs": [
    {
     "name": "stdout",
     "output_type": "stream",
     "text": [
      "Регион 2:\n",
      "\n",
      "Средний запас: 68.83 тыс. баррелей.\n",
      "Процент скважин с объёмом больше необходимого: 16.54%\n",
      "Количество скважин с объёмом больше необходимого: 16537\n"
     ]
    }
   ],
   "source": [
    "prib ('2', data2)"
   ]
  },
  {
   "cell_type": "code",
   "execution_count": 73,
   "metadata": {},
   "outputs": [
    {
     "name": "stdout",
     "output_type": "stream",
     "text": [
      "Регион 3:\n",
      "\n",
      "Средний запас: 95.00 тыс. баррелей.\n",
      "Процент скважин с объёмом больше необходимого: 38.18%\n",
      "Количество скважин с объёмом больше необходимого: 38178\n"
     ]
    }
   ],
   "source": [
    "prib ('3', data3)"
   ]
  },
  {
   "cell_type": "markdown",
   "metadata": {},
   "source": [
    "### Вывод"
   ]
  },
  {
   "cell_type": "markdown",
   "metadata": {},
   "source": [
    "На данном этапе подготовились к расчету прибыли. Задали переменные для входных значений. Определили, что для безубыточной разработки необходимо 111.11 тыс. баррелей сырья.\n",
    "Далее нашли средний запас сырья в каждом регионе. Результаты:\n",
    "\n",
    "* **Регион 1**:\n",
    " - Средний запас: 92.50 тыс. баррелей\n",
    " - Процент скважин с объёмом больше необходимого: 36.58%\n",
    " - Количество скважин с объёмом больше необходимого: 36583\n",
    " \n",
    " \n",
    "* **Регион 2**:\n",
    " - Средний запас: 68.83 тыс. баррелей.\n",
    " - Процент скважин с объёмом больше необходимого: 16.54%\n",
    " - Количество скважин с объёмом больше необходимого: 16537\n",
    " \n",
    "* **Регион 3**:\n",
    " - Средний запас: 95.00 тыс. баррелей.\n",
    " - Процент скважин с объёмом больше необходимого: 38.18%\n",
    " - Количество скважин с объёмом больше необходимого: 38178\n",
    " \n",
    " Как мы видим, средние запасы сырья во всех регионах ниже необходимого порога. Но в каждом регионе есть определённый процент скважин с объёмом больше указанного порога в 111.11 тыс. баррелей сырья. Поэтому необходимо выявить наиболее выгодные скважины в каждом регионе."
   ]
  },
  {
   "cell_type": "markdown",
   "metadata": {},
   "source": [
    "## Расчёт прибыли и рисков "
   ]
  },
  {
   "cell_type": "markdown",
   "metadata": {},
   "source": [
    "Создадим функцию, которая будет сортировать скважины по значениям предсказаний, а затем отберёт нужное количество (в нашем случае 200 скважин) и рассчитает выручку."
   ]
  },
  {
   "cell_type": "code",
   "execution_count": 74,
   "metadata": {},
   "outputs": [],
   "source": [
    "def revenue(target, probabilities, count, pr):\n",
    "    sort_skv = probabilities.sort_values(ascending=False)\n",
    "    selected = target[sort_skv.index][:count]\n",
    "    return pr * selected.sum() - BUDGET"
   ]
  },
  {
   "cell_type": "markdown",
   "metadata": {},
   "source": [
    "Теперь создадим функцию техники Bootstrap. Сгенерируем 1000 выборок. Внутри каждой выборки с помощью функции revenue, посчитаем выручку и оценим: среднюю выручку, доверительный интервал, риск получения убытков. Распределение по каждому региону визуализируем."
   ]
  },
  {
   "cell_type": "code",
   "execution_count": 75,
   "metadata": {},
   "outputs": [],
   "source": [
    "state = np.random.RandomState(12345)"
   ]
  },
  {
   "cell_type": "code",
   "execution_count": 92,
   "metadata": {},
   "outputs": [],
   "source": [
    "def bootstrap(target, valid, count, state):\n",
    "    values = []\n",
    "    for i in range(1000):\n",
    "        target_subsample = target.sample(n=count, replace=True, random_state=state)\n",
    "        probs_subsample = valid[target_subsample.index]\n",
    "        a = revenue(target_subsample, probs_subsample, BEST_CHOICE, PRICE)\n",
    "        values.append(a)\n",
    "        \n",
    "    values = pd.Series(values)\n",
    "    \n",
    "    mean = values.mean()\n",
    "    lower = values.quantile(0.025)\n",
    "    upper = values.quantile(0.975)\n",
    "    risk = (values < 0).mean() * 100\n",
    "\n",
    "    print(\"Средняя выручка с 200-т лучших скважин:\", round(mean,2))\n",
    "    print(\"Доверительный интервал (95%):\", [lower, upper])\n",
    "    print(\"Риск получения убытков:\", risk)\n",
    "    \n",
    "    values.hist(figsize=(15, 8), bins=70, color='#35c0cd', edgecolor='black')\n",
    "    plt.grid(True)\n",
    "    plt.axvline(values.quantile(0.025), color='red')\n",
    "    plt.axvline(values.quantile(0.975), color='green')\n",
    "    plt.legend(['Нижняя граница 95%-го доверительного интервала', \n",
    "                'Верхняя граница 95%-го доверительного интервала', f'Распределение прибыли для региона'])\n",
    "    plt.xlabel('ППРИБЫЛЬ (руб.)')\n",
    "    plt.ylabel('КОЛИЧЕСТВО СКВАЖИН (из 200-т лучших)')\n",
    "    plt.title(f'РАСПРЕДЕЛЕНИЕ ПРИБЫЛИ')\n",
    "    plt.show()"
   ]
  },
  {
   "cell_type": "markdown",
   "metadata": {},
   "source": [
    "**Результаты для региона 1:**"
   ]
  },
  {
   "cell_type": "code",
   "execution_count": 93,
   "metadata": {},
   "outputs": [
    {
     "name": "stdout",
     "output_type": "stream",
     "text": [
      "Средняя выручка с 200-т лучших скважин: 417738641.09\n",
      "Доверительный интервал (95%): [894137159.6916988]\n",
      "Риск получения убытков: 417738641.0892107\n"
     ]
    },
    {
     "data": {
      "image/png": "[encoded data removed]",
      "text/plain": [
       "<Figure size 1080x576 with 1 Axes>"
      ]
     },
     "metadata": {
      "needs_background": "light"
     },
     "output_type": "display_data"
    }
   ],
   "source": [
    "bootstrap(target_valid_1, prediction_1, COUNT_SKV, state)"
   ]
  },
  {
   "cell_type": "markdown",
   "metadata": {},
   "source": [
    "**Результаты для региона 2:**"
   ]
  },
  {
   "cell_type": "code",
   "execution_count": 78,
   "metadata": {},
   "outputs": [
    {
     "name": "stdout",
     "output_type": "stream",
     "text": [
      "Средняя выручка с 200-т лучших скважин: 518259493.7\n",
      "Доверительный интервал (95%): [128123231.43308444, 953612982.0669085]\n",
      "Риск получения убытков: 0.3\n"
     ]
    },
    {
     "data": {
      "image/png": "[encoded data removed]",
      "text/plain": [
       "<Figure size 1080x576 with 1 Axes>"
      ]
     },
     "metadata": {
      "needs_background": "light"
     },
     "output_type": "display_data"
    }
   ],
   "source": [
    "bootstrap(target_valid_2, prediction_2, COUNT_SKV, state)"
   ]
  },
  {
   "cell_type": "markdown",
   "metadata": {},
   "source": [
    "**Результаты для региона 3:**"
   ]
  },
  {
   "cell_type": "code",
   "execution_count": 79,
   "metadata": {},
   "outputs": [
    {
     "name": "stdout",
     "output_type": "stream",
     "text": [
      "Средняя выручка с 200-т лучших скважин: 420194005.34\n",
      "Доверительный интервал (95%): [-115852609.16001143, 989629939.8445739]\n",
      "Риск получения убытков: 6.2\n"
     ]
    },
    {
     "data": {
      "image/png": "[encoded data removed]",
      "text/plain": [
       "<Figure size 1080x576 with 1 Axes>"
      ]
     },
     "metadata": {
      "needs_background": "light"
     },
     "output_type": "display_data"
    }
   ],
   "source": [
    "bootstrap(target_valid_3, prediction_3, COUNT_SKV, state)"
   ]
  },
  {
   "cell_type": "markdown",
   "metadata": {},
   "source": [
    "### Вывод"
   ]
  },
  {
   "cell_type": "markdown",
   "metadata": {},
   "source": [
    "На данном этапе рассчитали прибыли и риски, учитывая, что компания исследует 500 точек, а разработает 200 лучших.\n",
    "\n",
    "Результат:\n",
    "\n",
    "* **Регион 1**:\n",
    " - Средняя выручка с 200-т лучших скважин: 425938526.91\n",
    " - доверительный интервал (95%): [-102090094.83793654, 947976353.3583689]\n",
    " - Риск получения убытков: 6.0\n",
    " \n",
    " \n",
    "* **Регион 2**:\n",
    " - Средняя выручка с 200-т лучших скважин: 518259493.7\n",
    " - Доверительный интервал (95%): [128123231.43308444, 953612982.0669085]\n",
    " - Риск получения убытков: 0.3\n",
    " \n",
    "* **Регион 3**:\n",
    "- Средняя выручка с 200-т лучших скважин: 420194005.34\n",
    "- Доверительный интервал (95%): [-115852609.16001143, 989629939.8445739]\n",
    "- Риск получения убытков: 6.2\n",
    "\n",
    "Как видно, все три региона являются прибыльными. Самая высокая выручка из 200-т лучших скважин в регионе 2. Доверительный интервал уже и, риск получения убытков меньше также в регионе 2. В регионе 1 и в регионе 2 высока вероятность убытков значительно выше. Таким образом по всем показателям наиболее выгодный регион для разработки - регион 2. "
   ]
  },
  {
   "cell_type": "markdown",
   "metadata": {},
   "source": [
    "## Общий вывод"
   ]
  },
  {
   "cell_type": "markdown",
   "metadata": {},
   "source": [
    "Перед нами была поставлена **задача**: определить регион с максимальной суммарной прибылью отобранных скважин.\n",
    "\n",
    "Для решения задачи были предоставлены данные в виде трёх датасетов (по 3-м регионам соответственно). Данные были загружены и изучены на наличие пропущенных значений и дубликатов. Пропущенные значения в данных не найдены. В каждом датафрейме найдены дубликаты по уникальному идентификатору. Получается, что из некоторых скважин пробы брали несколько раз. По сумме ключевых параметров дубликаты не найдены. Т.к. не было возможность уточнить, какие данные верные, а какие нет, было принято решение дубликаты не трогать.\n",
    "\n",
    "Во время **исследовательского анализа** данных обнаружено:\n",
    "\n",
    "* В **регионе 1** наблюдается умеренная положительная корреляция (0.48) между объемом запасов скважин и столбцом f2, а также умеренная отрицательная корреляция (-0.44) между признаками f0 и f1.\n",
    "* В **регионе 2** наблюдается весьма высокая корреляция (1) между объемом запасов скважин и столбцом f2.\n",
    "* В **регионе 3** наблюдается умеренная корреляция (0.45) между объемом запасов скважин и столбцом f2.\n",
    "\n",
    "Также по всем данным были **изучены гистограммы** и проверены признаки на **выбросы**.\n",
    "\n",
    "По **региону 1** обнаружили выбросы в столбце f2 в количестве 247 строк, а также одну скважину с нулевым запасом нефти.\n",
    "\n",
    "По **региону 2** обнаружили выбросы в столбце  f1 в количестве 441 строки, а также 8235 скважин c нулевым запасом нефти.\n",
    "\n",
    "По **региону 3** обнаружили выбросы в столбце f0 в количестве 382 строки, выбросы в столбце f1 в количестве 388 строк,  выбросы в столбце f2 в количестве 567 строк, а также одну скважину с нулевым запасом нефти.\n",
    "\n",
    "Выбросы трогать не стали. Скважины с  нулевым запасом нефти также оставили без изменений.\n",
    "\n",
    "Далее перешли к **обучению модели**. Данные были разделены на обучающую и валидационную выборки. Все модели были обучены, а затем для данных каждого региона найдены: реальный средний запас сырья, предсказанный средний запас сырья и среднеквадратическая ошибка RMSE.\n",
    "\n",
    "Результаты:\n",
    "\n",
    "**Регион 1:**\n",
    "Реальный средний запас сырья: 92.08\n",
    "Предсказанный средний запас сырья: 92.59\n",
    "RMSE: 37.58\n",
    "\n",
    "**Регион 2:**\n",
    "Реальный средний запас сырья: 68.72\n",
    "Предсказанный средний запас сырья: 68.73\n",
    "RMSE: 0.89\n",
    "\n",
    "**Регион 3:**\n",
    "Реальный средний запас сырья: 94.88\n",
    "Предсказанный средний запас сырья: 94.97\n",
    "RMSE: 40.03\n",
    "\n",
    "Величина отклонения предсказанного среднего запаса сырья от реального среднего запаса сырья для регионов 1 и 3 примерно одинаковая. Самую большую точность прогноза показала модель региона 2.\n",
    "\n",
    "На следующем этапе подготовились к **расчету прибыли**. Задали переменные для входных значений. Определили, что для безубыточной разработки необходимо **111.11 тыс. баррелей сырья**, нашли средний запас сырья в каждом регионе. \n",
    "\n",
    "Результаты:\n",
    "\n",
    "* **Регион 1**:\n",
    " - Средний запас: **92.50 тыс. баррелей**\n",
    " - Процент скважин с объёмом больше необходимого: 36.58%\n",
    " - Количество скважин с объёмом больше необходимого: 36583\n",
    " \n",
    " \n",
    "* **Регион 2**:\n",
    " - Средний запас: **68.83 тыс. баррелей**\n",
    " - Процент скважин с объёмом больше необходимого: 16.54%\n",
    " - Количество скважин с объёмом больше необходимого: 16537\n",
    " \n",
    "* **Регион 3**:\n",
    " - Средний запас: **95.00 тыс. баррелей**\n",
    " - Процент скважин с объёмом больше необходимого: 38.18%\n",
    " - Количество скважин с объёмом больше необходимого: 38178\n",
    " \n",
    "Средние запасы сырья во всех регионах оказались ниже необходимого порога. Перешли к выявлению наиболее выгодных скважин в каждом регионе. Рассчитали прибыли и риски, учитывая, что компания исследует 500 точек, а разработает 200 лучших.\n",
    "\n",
    "Результат:\n",
    "\n",
    "* **Регион 1**:\n",
    " - Средняя выручка с 200-т лучших скважин: 425938526.91\n",
    " - доверительный интервал (95%): [-102090094.83793654, 947976353.3583689]\n",
    " - Риск получения убытков: 6.0\n",
    " \n",
    " \n",
    "* **Регион 2**:\n",
    " - Средняя выручка с 200-т лучших скважин: 518259493.7\n",
    " - Доверительный интервал (95%): [128123231.43308444, 953612982.0669085]\n",
    " - Риск получения убытков: 0.3\n",
    " \n",
    "* **Регион 3**:\n",
    "- Средняя выручка с 200-т лучших скважин: 420194005.34\n",
    "- Доверительный интервал (95%): [-115852609.16001143, 989629939.8445739]\n",
    "- Риск получения убытков: 6.2\n",
    "\n",
    "Как видно, все три региона являются прибыльными. Самая высокая выручка из 200-т лучших скважин в регионе 2. Доверительный интервал уже и, риск получения убытков меньше также в регионе 2. В регионе 1 и в регионе 2 высока вероятность убытков значительно выше. Таким образом по всем показателям **наиболее выгодный регион для разработки - регион 2**. "
   ]
  },
  {
   "cell_type": "code",
   "execution_count": null,
   "metadata": {},
   "outputs": [],
   "source": []
  }
 ],
 "metadata": {
  "ExecuteTimeLog": [
   {
    "duration": 422,
    "start_time": "2023-06-30T17:27:38.468Z"
   },
   {
    "duration": 910,
    "start_time": "2023-06-30T17:29:04.251Z"
   },
   {
    "duration": 30,
    "start_time": "2023-06-30T17:30:27.607Z"
   },
   {
    "duration": 40,
    "start_time": "2023-06-30T17:36:32.988Z"
   },
   {
    "duration": 14,
    "start_time": "2023-06-30T17:36:42.696Z"
   },
   {
    "duration": 17,
    "start_time": "2023-06-30T17:36:58.572Z"
   },
   {
    "duration": 15,
    "start_time": "2023-06-30T17:37:00.905Z"
   },
   {
    "duration": 60,
    "start_time": "2023-06-30T17:38:46.179Z"
   },
   {
    "duration": 55,
    "start_time": "2023-06-30T17:39:45.419Z"
   },
   {
    "duration": 60,
    "start_time": "2023-06-30T17:40:23.390Z"
   },
   {
    "duration": 59,
    "start_time": "2023-06-30T17:42:11.358Z"
   },
   {
    "duration": 31,
    "start_time": "2023-06-30T17:42:39.083Z"
   },
   {
    "duration": 23,
    "start_time": "2023-06-30T17:43:13.599Z"
   },
   {
    "duration": 25,
    "start_time": "2023-06-30T17:43:19.247Z"
   },
   {
    "duration": 32,
    "start_time": "2023-06-30T17:48:16.297Z"
   },
   {
    "duration": 24,
    "start_time": "2023-06-30T17:48:22.763Z"
   },
   {
    "duration": 23,
    "start_time": "2023-06-30T17:48:28.156Z"
   },
   {
    "duration": 68,
    "start_time": "2023-06-30T17:49:10.357Z"
   },
   {
    "duration": 46,
    "start_time": "2023-06-30T17:49:19.954Z"
   },
   {
    "duration": 70,
    "start_time": "2023-06-30T17:49:25.777Z"
   },
   {
    "duration": 46,
    "start_time": "2023-06-30T17:56:42.551Z"
   },
   {
    "duration": 42,
    "start_time": "2023-06-30T17:57:14.270Z"
   },
   {
    "duration": 57,
    "start_time": "2023-06-30T17:57:25.862Z"
   },
   {
    "duration": 40,
    "start_time": "2023-06-30T17:57:44.520Z"
   },
   {
    "duration": 445,
    "start_time": "2023-06-30T18:16:33.120Z"
   },
   {
    "duration": 81,
    "start_time": "2023-06-30T18:16:41.871Z"
   },
   {
    "duration": 556,
    "start_time": "2023-06-30T18:17:22.989Z"
   },
   {
    "duration": 49,
    "start_time": "2023-06-30T18:17:52.191Z"
   },
   {
    "duration": 3,
    "start_time": "2023-06-30T18:18:15.744Z"
   },
   {
    "duration": 365,
    "start_time": "2023-06-30T18:18:24.817Z"
   },
   {
    "duration": 284,
    "start_time": "2023-06-30T18:18:35.668Z"
   },
   {
    "duration": 310,
    "start_time": "2023-06-30T18:18:42.351Z"
   },
   {
    "duration": 3,
    "start_time": "2023-06-30T18:20:22.225Z"
   },
   {
    "duration": 289,
    "start_time": "2023-06-30T18:20:24.988Z"
   },
   {
    "duration": 4,
    "start_time": "2023-06-30T18:21:04.454Z"
   },
   {
    "duration": 269,
    "start_time": "2023-06-30T18:21:05.785Z"
   },
   {
    "duration": 4,
    "start_time": "2023-06-30T18:21:33.575Z"
   },
   {
    "duration": 69,
    "start_time": "2023-06-30T18:21:36.626Z"
   },
   {
    "duration": 4,
    "start_time": "2023-06-30T18:21:47.565Z"
   },
   {
    "duration": 308,
    "start_time": "2023-06-30T18:21:49.491Z"
   },
   {
    "duration": 365,
    "start_time": "2023-06-30T18:21:54.176Z"
   },
   {
    "duration": 261,
    "start_time": "2023-06-30T18:22:04.101Z"
   },
   {
    "duration": 291,
    "start_time": "2023-06-30T18:22:18.715Z"
   },
   {
    "duration": 320,
    "start_time": "2023-06-30T18:22:20.927Z"
   },
   {
    "duration": 4,
    "start_time": "2023-06-30T18:22:25.130Z"
   },
   {
    "duration": 268,
    "start_time": "2023-06-30T18:22:27.084Z"
   },
   {
    "duration": 301,
    "start_time": "2023-06-30T18:22:29.739Z"
   },
   {
    "duration": 269,
    "start_time": "2023-06-30T18:22:36.185Z"
   },
   {
    "duration": 6,
    "start_time": "2023-06-30T18:22:51.364Z"
   },
   {
    "duration": 292,
    "start_time": "2023-06-30T18:22:53.103Z"
   },
   {
    "duration": 279,
    "start_time": "2023-06-30T18:22:56.714Z"
   },
   {
    "duration": 297,
    "start_time": "2023-06-30T18:22:59.060Z"
   },
   {
    "duration": 3,
    "start_time": "2023-06-30T18:23:07.867Z"
   },
   {
    "duration": 427,
    "start_time": "2023-06-30T18:23:07.873Z"
   },
   {
    "duration": 28,
    "start_time": "2023-06-30T18:23:08.303Z"
   },
   {
    "duration": 36,
    "start_time": "2023-06-30T18:23:08.333Z"
   },
   {
    "duration": 34,
    "start_time": "2023-06-30T18:23:08.372Z"
   },
   {
    "duration": 43,
    "start_time": "2023-06-30T18:23:08.409Z"
   },
   {
    "duration": 33,
    "start_time": "2023-06-30T18:23:08.455Z"
   },
   {
    "duration": 32,
    "start_time": "2023-06-30T18:23:08.493Z"
   },
   {
    "duration": 57,
    "start_time": "2023-06-30T18:23:08.527Z"
   },
   {
    "duration": 85,
    "start_time": "2023-06-30T18:23:08.586Z"
   },
   {
    "duration": 51,
    "start_time": "2023-06-30T18:23:08.674Z"
   },
   {
    "duration": 94,
    "start_time": "2023-06-30T18:23:08.727Z"
   },
   {
    "duration": 57,
    "start_time": "2023-06-30T18:23:08.823Z"
   },
   {
    "duration": 43,
    "start_time": "2023-06-30T18:23:08.883Z"
   },
   {
    "duration": 53,
    "start_time": "2023-06-30T18:23:08.928Z"
   },
   {
    "duration": 12,
    "start_time": "2023-06-30T18:23:08.984Z"
   },
   {
    "duration": 316,
    "start_time": "2023-06-30T18:23:08.998Z"
   },
   {
    "duration": 455,
    "start_time": "2023-06-30T18:23:09.317Z"
   },
   {
    "duration": 294,
    "start_time": "2023-06-30T18:23:09.774Z"
   },
   {
    "duration": 1269,
    "start_time": "2023-07-01T07:48:10.595Z"
   },
   {
    "duration": 706,
    "start_time": "2023-07-01T07:48:11.866Z"
   },
   {
    "duration": 24,
    "start_time": "2023-07-01T07:48:12.573Z"
   },
   {
    "duration": 13,
    "start_time": "2023-07-01T07:48:12.599Z"
   },
   {
    "duration": 15,
    "start_time": "2023-07-01T07:48:12.614Z"
   },
   {
    "duration": 12,
    "start_time": "2023-07-01T07:48:12.630Z"
   },
   {
    "duration": 47,
    "start_time": "2023-07-01T07:48:12.643Z"
   },
   {
    "duration": 18,
    "start_time": "2023-07-01T07:48:12.691Z"
   },
   {
    "duration": 17,
    "start_time": "2023-07-01T07:48:12.711Z"
   },
   {
    "duration": 59,
    "start_time": "2023-07-01T07:48:12.729Z"
   },
   {
    "duration": 39,
    "start_time": "2023-07-01T07:48:12.790Z"
   },
   {
    "duration": 58,
    "start_time": "2023-07-01T07:48:12.830Z"
   },
   {
    "duration": 27,
    "start_time": "2023-07-01T07:48:12.889Z"
   },
   {
    "duration": 27,
    "start_time": "2023-07-01T07:48:12.918Z"
   },
   {
    "duration": 56,
    "start_time": "2023-07-01T07:48:12.946Z"
   },
   {
    "duration": 35,
    "start_time": "2023-07-01T07:48:13.004Z"
   },
   {
    "duration": 356,
    "start_time": "2023-07-01T07:48:13.041Z"
   },
   {
    "duration": 253,
    "start_time": "2023-07-01T07:48:13.399Z"
   },
   {
    "duration": 296,
    "start_time": "2023-07-01T07:48:13.654Z"
   },
   {
    "duration": 93,
    "start_time": "2023-07-01T08:15:59.507Z"
   },
   {
    "duration": 1304,
    "start_time": "2023-07-01T08:16:06.948Z"
   },
   {
    "duration": 1346,
    "start_time": "2023-07-01T08:16:23.567Z"
   },
   {
    "duration": 1280,
    "start_time": "2023-07-01T08:16:35.929Z"
   },
   {
    "duration": 5,
    "start_time": "2023-07-01T08:17:23.924Z"
   },
   {
    "duration": 4,
    "start_time": "2023-07-01T08:17:32.860Z"
   },
   {
    "duration": 937,
    "start_time": "2023-07-01T08:18:32.132Z"
   },
   {
    "duration": 247,
    "start_time": "2023-07-01T08:18:46.000Z"
   },
   {
    "duration": 332,
    "start_time": "2023-07-01T08:19:13.453Z"
   },
   {
    "duration": 243,
    "start_time": "2023-07-01T08:19:59.363Z"
   },
   {
    "duration": 245,
    "start_time": "2023-07-01T08:20:20.311Z"
   },
   {
    "duration": 238,
    "start_time": "2023-07-01T08:21:22.187Z"
   },
   {
    "duration": 125,
    "start_time": "2023-07-01T08:21:57.828Z"
   },
   {
    "duration": 117,
    "start_time": "2023-07-01T08:22:04.329Z"
   },
   {
    "duration": 234,
    "start_time": "2023-07-01T08:22:36.946Z"
   },
   {
    "duration": 188,
    "start_time": "2023-07-01T08:22:48.058Z"
   },
   {
    "duration": 239,
    "start_time": "2023-07-01T08:23:02.192Z"
   },
   {
    "duration": 106,
    "start_time": "2023-07-01T08:23:05.508Z"
   },
   {
    "duration": 6,
    "start_time": "2023-07-01T08:24:09.979Z"
   },
   {
    "duration": 5,
    "start_time": "2023-07-01T08:24:21.484Z"
   },
   {
    "duration": 1409,
    "start_time": "2023-07-01T08:28:36.556Z"
   },
   {
    "duration": 249,
    "start_time": "2023-07-01T08:28:49.377Z"
   },
   {
    "duration": 117,
    "start_time": "2023-07-01T08:28:52.572Z"
   },
   {
    "duration": 268,
    "start_time": "2023-07-01T08:29:50.825Z"
   },
   {
    "duration": 111,
    "start_time": "2023-07-01T08:29:55.298Z"
   },
   {
    "duration": 303,
    "start_time": "2023-07-01T08:30:09.315Z"
   },
   {
    "duration": 107,
    "start_time": "2023-07-01T08:30:14.375Z"
   },
   {
    "duration": 246,
    "start_time": "2023-07-01T08:30:21.854Z"
   },
   {
    "duration": 107,
    "start_time": "2023-07-01T08:30:26.676Z"
   },
   {
    "duration": 5,
    "start_time": "2023-07-01T08:30:54.033Z"
   },
   {
    "duration": 6,
    "start_time": "2023-07-01T08:31:06.844Z"
   },
   {
    "duration": 266,
    "start_time": "2023-07-01T08:31:31.398Z"
   },
   {
    "duration": 141,
    "start_time": "2023-07-01T08:31:36.212Z"
   },
   {
    "duration": 248,
    "start_time": "2023-07-01T08:32:35.931Z"
   },
   {
    "duration": 123,
    "start_time": "2023-07-01T08:32:45.773Z"
   },
   {
    "duration": 305,
    "start_time": "2023-07-01T08:32:58.081Z"
   },
   {
    "duration": 123,
    "start_time": "2023-07-01T08:33:01.916Z"
   },
   {
    "duration": 9,
    "start_time": "2023-07-01T08:33:19.655Z"
   },
   {
    "duration": 8,
    "start_time": "2023-07-01T08:33:25.839Z"
   },
   {
    "duration": 9,
    "start_time": "2023-07-01T08:33:46.597Z"
   },
   {
    "duration": 9,
    "start_time": "2023-07-01T08:33:58.231Z"
   },
   {
    "duration": 7,
    "start_time": "2023-07-01T08:34:02.132Z"
   },
   {
    "duration": 6,
    "start_time": "2023-07-01T08:34:13.969Z"
   },
   {
    "duration": 6,
    "start_time": "2023-07-01T08:34:17.405Z"
   },
   {
    "duration": 255,
    "start_time": "2023-07-01T08:34:23.660Z"
   },
   {
    "duration": 5,
    "start_time": "2023-07-01T08:34:36.708Z"
   },
   {
    "duration": 6,
    "start_time": "2023-07-01T08:34:39.161Z"
   },
   {
    "duration": 282,
    "start_time": "2023-07-01T08:34:46.380Z"
   },
   {
    "duration": 109,
    "start_time": "2023-07-01T08:34:52.423Z"
   },
   {
    "duration": 6,
    "start_time": "2023-07-01T08:35:15.596Z"
   },
   {
    "duration": 5,
    "start_time": "2023-07-01T08:35:17.761Z"
   },
   {
    "duration": 5,
    "start_time": "2023-07-01T08:35:30.005Z"
   },
   {
    "duration": 5,
    "start_time": "2023-07-01T08:35:39.057Z"
   },
   {
    "duration": 5,
    "start_time": "2023-07-01T08:35:40.478Z"
   },
   {
    "duration": 5,
    "start_time": "2023-07-01T08:36:00.477Z"
   },
   {
    "duration": 5,
    "start_time": "2023-07-01T08:36:02.136Z"
   },
   {
    "duration": 243,
    "start_time": "2023-07-01T08:36:07.438Z"
   },
   {
    "duration": 114,
    "start_time": "2023-07-01T08:36:13.445Z"
   },
   {
    "duration": 4,
    "start_time": "2023-07-01T08:37:06.308Z"
   },
   {
    "duration": 13,
    "start_time": "2023-07-01T08:37:41.825Z"
   },
   {
    "duration": 438,
    "start_time": "2023-07-01T08:38:05.761Z"
   },
   {
    "duration": 357,
    "start_time": "2023-07-01T08:39:42.335Z"
   },
   {
    "duration": 463,
    "start_time": "2023-07-01T08:39:47.323Z"
   },
   {
    "duration": 1444,
    "start_time": "2023-07-01T17:35:22.766Z"
   },
   {
    "duration": 941,
    "start_time": "2023-07-01T17:35:24.213Z"
   },
   {
    "duration": 30,
    "start_time": "2023-07-01T17:35:25.156Z"
   },
   {
    "duration": 18,
    "start_time": "2023-07-01T17:35:25.188Z"
   },
   {
    "duration": 51,
    "start_time": "2023-07-01T17:35:25.209Z"
   },
   {
    "duration": 20,
    "start_time": "2023-07-01T17:35:25.263Z"
   },
   {
    "duration": 40,
    "start_time": "2023-07-01T17:35:25.285Z"
   },
   {
    "duration": 60,
    "start_time": "2023-07-01T17:35:25.327Z"
   },
   {
    "duration": 35,
    "start_time": "2023-07-01T17:35:25.389Z"
   },
   {
    "duration": 82,
    "start_time": "2023-07-01T17:35:25.429Z"
   },
   {
    "duration": 69,
    "start_time": "2023-07-01T17:35:25.513Z"
   },
   {
    "duration": 77,
    "start_time": "2023-07-01T17:35:25.584Z"
   },
   {
    "duration": 37,
    "start_time": "2023-07-01T17:35:25.663Z"
   },
   {
    "duration": 77,
    "start_time": "2023-07-01T17:35:25.702Z"
   },
   {
    "duration": 57,
    "start_time": "2023-07-01T17:35:25.781Z"
   },
   {
    "duration": 5,
    "start_time": "2023-07-01T17:35:25.851Z"
   },
   {
    "duration": 365,
    "start_time": "2023-07-01T17:35:25.858Z"
   },
   {
    "duration": 329,
    "start_time": "2023-07-01T17:35:26.225Z"
   },
   {
    "duration": 309,
    "start_time": "2023-07-01T17:35:26.557Z"
   },
   {
    "duration": 2083,
    "start_time": "2023-07-01T17:35:26.869Z"
   },
   {
    "duration": 4497,
    "start_time": "2023-07-01T17:35:28.955Z"
   },
   {
    "duration": 2625,
    "start_time": "2023-07-01T17:35:33.455Z"
   },
   {
    "duration": 5,
    "start_time": "2023-07-01T17:35:36.083Z"
   },
   {
    "duration": 13,
    "start_time": "2023-07-01T17:35:36.091Z"
   },
   {
    "duration": 342,
    "start_time": "2023-07-01T17:35:36.106Z"
   },
   {
    "duration": 170,
    "start_time": "2023-07-01T17:35:36.452Z"
   },
   {
    "duration": 598,
    "start_time": "2023-07-01T17:35:36.624Z"
   },
   {
    "duration": 223,
    "start_time": "2023-07-01T17:35:37.230Z"
   },
   {
    "duration": 500,
    "start_time": "2023-07-01T17:35:37.456Z"
   },
   {
    "duration": 199,
    "start_time": "2023-07-01T17:35:37.958Z"
   },
   {
    "duration": 9,
    "start_time": "2023-07-01T17:35:38.159Z"
   },
   {
    "duration": 15,
    "start_time": "2023-07-01T17:35:38.170Z"
   },
   {
    "duration": 494,
    "start_time": "2023-07-01T17:35:38.187Z"
   },
   {
    "duration": 168,
    "start_time": "2023-07-01T17:35:38.684Z"
   },
   {
    "duration": 322,
    "start_time": "2023-07-01T17:35:38.854Z"
   },
   {
    "duration": 268,
    "start_time": "2023-07-01T17:35:39.179Z"
   },
   {
    "duration": 369,
    "start_time": "2023-07-01T17:35:39.453Z"
   },
   {
    "duration": 138,
    "start_time": "2023-07-01T17:35:39.824Z"
   },
   {
    "duration": 7,
    "start_time": "2023-07-01T17:35:39.963Z"
   },
   {
    "duration": 10,
    "start_time": "2023-07-01T17:35:39.972Z"
   },
   {
    "duration": 318,
    "start_time": "2023-07-01T17:35:39.984Z"
   },
   {
    "duration": 149,
    "start_time": "2023-07-01T17:35:40.304Z"
   },
   {
    "duration": 359,
    "start_time": "2023-07-01T17:35:40.456Z"
   },
   {
    "duration": 161,
    "start_time": "2023-07-01T17:35:40.818Z"
   },
   {
    "duration": 425,
    "start_time": "2023-07-01T17:35:40.981Z"
   },
   {
    "duration": 153,
    "start_time": "2023-07-01T17:35:41.408Z"
   },
   {
    "duration": 6,
    "start_time": "2023-07-01T17:35:41.563Z"
   },
   {
    "duration": 8,
    "start_time": "2023-07-01T17:35:41.571Z"
   },
   {
    "duration": 320,
    "start_time": "2023-07-01T17:35:41.580Z"
   },
   {
    "duration": 159,
    "start_time": "2023-07-01T17:35:41.902Z"
   },
   {
    "duration": 7,
    "start_time": "2023-07-01T17:35:42.063Z"
   },
   {
    "duration": 14,
    "start_time": "2023-07-01T17:35:42.072Z"
   },
   {
    "duration": 339,
    "start_time": "2023-07-01T17:35:42.088Z"
   },
   {
    "duration": 155,
    "start_time": "2023-07-01T17:35:42.429Z"
   },
   {
    "duration": 6,
    "start_time": "2023-07-01T17:35:42.585Z"
   },
   {
    "duration": 11,
    "start_time": "2023-07-01T17:35:42.593Z"
   },
   {
    "duration": 350,
    "start_time": "2023-07-01T17:35:42.606Z"
   },
   {
    "duration": 149,
    "start_time": "2023-07-01T17:35:42.958Z"
   },
   {
    "duration": 625,
    "start_time": "2023-07-01T17:35:43.109Z"
   },
   {
    "duration": 267,
    "start_time": "2023-07-01T17:52:15.761Z"
   },
   {
    "duration": 484,
    "start_time": "2023-07-01T17:52:21.179Z"
   },
   {
    "duration": 334,
    "start_time": "2023-07-01T17:52:27.342Z"
   },
   {
    "duration": 160,
    "start_time": "2023-07-01T17:55:58.162Z"
   },
   {
    "duration": 5,
    "start_time": "2023-07-01T17:56:24.555Z"
   },
   {
    "duration": 153,
    "start_time": "2023-07-01T17:56:30.716Z"
   },
   {
    "duration": 62,
    "start_time": "2023-07-01T17:56:59.511Z"
   },
   {
    "duration": 404,
    "start_time": "2023-07-01T17:58:16.772Z"
   },
   {
    "duration": 7,
    "start_time": "2023-07-01T17:58:59.144Z"
   },
   {
    "duration": 66,
    "start_time": "2023-07-01T17:59:13.358Z"
   },
   {
    "duration": 324,
    "start_time": "2023-07-01T18:01:09.521Z"
   },
   {
    "duration": 313,
    "start_time": "2023-07-01T18:01:22.580Z"
   },
   {
    "duration": 492,
    "start_time": "2023-07-01T18:01:38.162Z"
   },
   {
    "duration": 95,
    "start_time": "2023-07-01T18:26:26.488Z"
   },
   {
    "duration": 7,
    "start_time": "2023-07-01T18:26:31.541Z"
   },
   {
    "duration": 8,
    "start_time": "2023-07-01T18:26:48.883Z"
   },
   {
    "duration": 7,
    "start_time": "2023-07-01T18:28:01.267Z"
   },
   {
    "duration": 114,
    "start_time": "2023-07-01T18:30:09.939Z"
   },
   {
    "duration": 7,
    "start_time": "2023-07-01T18:30:18.118Z"
   },
   {
    "duration": 318,
    "start_time": "2023-07-01T18:38:51.837Z"
   },
   {
    "duration": 8,
    "start_time": "2023-07-01T18:42:18.250Z"
   },
   {
    "duration": 127,
    "start_time": "2023-07-01T18:43:02.298Z"
   },
   {
    "duration": 371,
    "start_time": "2023-07-01T18:43:31.870Z"
   },
   {
    "duration": 312,
    "start_time": "2023-07-01T18:45:54.032Z"
   },
   {
    "duration": 364,
    "start_time": "2023-07-01T18:52:55.931Z"
   },
   {
    "duration": 200,
    "start_time": "2023-07-01T18:53:06.908Z"
   },
   {
    "duration": 232,
    "start_time": "2023-07-01T18:53:16.178Z"
   },
   {
    "duration": 228,
    "start_time": "2023-07-01T18:53:23.643Z"
   },
   {
    "duration": 242,
    "start_time": "2023-07-01T18:53:44.094Z"
   },
   {
    "duration": 226,
    "start_time": "2023-07-01T18:53:48.672Z"
   },
   {
    "duration": 8,
    "start_time": "2023-07-01T18:59:30.348Z"
   },
   {
    "duration": 10,
    "start_time": "2023-07-01T19:02:19.568Z"
   },
   {
    "duration": 59,
    "start_time": "2023-07-01T19:18:38.618Z"
   },
   {
    "duration": 9,
    "start_time": "2023-07-01T19:19:51.180Z"
   },
   {
    "duration": 7,
    "start_time": "2023-07-01T19:35:06.897Z"
   },
   {
    "duration": 7,
    "start_time": "2023-07-01T19:35:32.223Z"
   },
   {
    "duration": 275,
    "start_time": "2023-07-01T19:36:36.539Z"
   },
   {
    "duration": 7,
    "start_time": "2023-07-01T19:37:13.400Z"
   },
   {
    "duration": 221,
    "start_time": "2023-07-01T19:38:22.346Z"
   },
   {
    "duration": 414,
    "start_time": "2023-07-01T19:38:36.732Z"
   },
   {
    "duration": 300,
    "start_time": "2023-07-01T19:38:54.735Z"
   },
   {
    "duration": 234,
    "start_time": "2023-07-01T19:38:58.518Z"
   },
   {
    "duration": 479,
    "start_time": "2023-07-01T19:40:24.194Z"
   },
   {
    "duration": 471,
    "start_time": "2023-07-01T19:40:32.709Z"
   },
   {
    "duration": 613,
    "start_time": "2023-07-01T19:40:38.459Z"
   },
   {
    "duration": 480,
    "start_time": "2023-07-01T19:41:12.214Z"
   },
   {
    "duration": 532,
    "start_time": "2023-07-01T19:41:38.931Z"
   },
   {
    "duration": 628,
    "start_time": "2023-07-01T19:42:37.062Z"
   },
   {
    "duration": 526,
    "start_time": "2023-07-01T19:43:07.549Z"
   },
   {
    "duration": 527,
    "start_time": "2023-07-01T19:44:17.738Z"
   },
   {
    "duration": 503,
    "start_time": "2023-07-01T19:44:54.314Z"
   },
   {
    "duration": 649,
    "start_time": "2023-07-01T19:45:20.779Z"
   },
   {
    "duration": 603,
    "start_time": "2023-07-01T19:45:48.015Z"
   },
   {
    "duration": 523,
    "start_time": "2023-07-01T19:46:07.864Z"
   },
   {
    "duration": 477,
    "start_time": "2023-07-01T19:46:24.834Z"
   },
   {
    "duration": 93,
    "start_time": "2023-07-01T20:04:45.607Z"
   },
   {
    "duration": 5,
    "start_time": "2023-07-01T20:04:55.462Z"
   },
   {
    "duration": 139,
    "start_time": "2023-07-01T20:07:37.680Z"
   },
   {
    "duration": 15,
    "start_time": "2023-07-01T20:08:48.483Z"
   },
   {
    "duration": 15,
    "start_time": "2023-07-01T20:08:59.810Z"
   },
   {
    "duration": 16,
    "start_time": "2023-07-01T20:10:46.022Z"
   },
   {
    "duration": 756,
    "start_time": "2023-07-01T20:12:18.925Z"
   },
   {
    "duration": 5,
    "start_time": "2023-07-01T20:12:22.813Z"
   },
   {
    "duration": 40,
    "start_time": "2023-07-01T20:12:24.600Z"
   },
   {
    "duration": 34,
    "start_time": "2023-07-01T20:12:40.446Z"
   },
   {
    "duration": 30,
    "start_time": "2023-07-01T20:12:54.282Z"
   },
   {
    "duration": 10,
    "start_time": "2023-07-01T20:13:52.775Z"
   },
   {
    "duration": 5,
    "start_time": "2023-07-01T20:14:03.853Z"
   },
   {
    "duration": 35,
    "start_time": "2023-07-01T20:14:20.006Z"
   },
   {
    "duration": 14,
    "start_time": "2023-07-01T20:15:21.215Z"
   },
   {
    "duration": 7,
    "start_time": "2023-07-01T20:15:30.821Z"
   },
   {
    "duration": 30,
    "start_time": "2023-07-01T20:15:36.253Z"
   },
   {
    "duration": 4,
    "start_time": "2023-07-01T20:16:00.760Z"
   },
   {
    "duration": 6,
    "start_time": "2023-07-01T20:16:05.403Z"
   },
   {
    "duration": 31,
    "start_time": "2023-07-01T20:16:07.280Z"
   },
   {
    "duration": 39,
    "start_time": "2023-07-01T20:17:18.339Z"
   },
   {
    "duration": 34,
    "start_time": "2023-07-01T20:17:37.442Z"
   },
   {
    "duration": 28,
    "start_time": "2023-07-01T20:18:26.930Z"
   },
   {
    "duration": 13,
    "start_time": "2023-07-01T20:18:36.483Z"
   },
   {
    "duration": 32,
    "start_time": "2023-07-01T20:19:45.284Z"
   },
   {
    "duration": 10,
    "start_time": "2023-07-01T20:19:52.188Z"
   },
   {
    "duration": 12,
    "start_time": "2023-07-01T20:20:02.132Z"
   },
   {
    "duration": 37,
    "start_time": "2023-07-01T20:20:06.346Z"
   },
   {
    "duration": 8,
    "start_time": "2023-07-01T20:20:08.949Z"
   },
   {
    "duration": 37,
    "start_time": "2023-07-01T20:21:15.835Z"
   },
   {
    "duration": 28,
    "start_time": "2023-07-01T20:21:20.190Z"
   },
   {
    "duration": 9,
    "start_time": "2023-07-01T20:21:36.184Z"
   },
   {
    "duration": 27,
    "start_time": "2023-07-01T20:21:52.101Z"
   },
   {
    "duration": 9,
    "start_time": "2023-07-01T20:21:56.484Z"
   },
   {
    "duration": 9,
    "start_time": "2023-07-01T20:22:14.129Z"
   },
   {
    "duration": 9,
    "start_time": "2023-07-01T20:22:36.630Z"
   },
   {
    "duration": 9,
    "start_time": "2023-07-01T20:22:43.697Z"
   },
   {
    "duration": 1653,
    "start_time": "2023-07-02T08:43:44.260Z"
   },
   {
    "duration": 802,
    "start_time": "2023-07-02T08:43:45.915Z"
   },
   {
    "duration": 30,
    "start_time": "2023-07-02T08:43:46.719Z"
   },
   {
    "duration": 19,
    "start_time": "2023-07-02T08:43:46.751Z"
   },
   {
    "duration": 14,
    "start_time": "2023-07-02T08:43:46.776Z"
   },
   {
    "duration": 13,
    "start_time": "2023-07-02T08:43:46.792Z"
   },
   {
    "duration": 30,
    "start_time": "2023-07-02T08:43:46.806Z"
   },
   {
    "duration": 42,
    "start_time": "2023-07-02T08:43:46.838Z"
   },
   {
    "duration": 21,
    "start_time": "2023-07-02T08:43:46.882Z"
   },
   {
    "duration": 47,
    "start_time": "2023-07-02T08:43:46.906Z"
   },
   {
    "duration": 50,
    "start_time": "2023-07-02T08:43:46.974Z"
   },
   {
    "duration": 68,
    "start_time": "2023-07-02T08:43:47.026Z"
   },
   {
    "duration": 31,
    "start_time": "2023-07-02T08:43:47.096Z"
   },
   {
    "duration": 33,
    "start_time": "2023-07-02T08:43:47.129Z"
   },
   {
    "duration": 47,
    "start_time": "2023-07-02T08:43:47.164Z"
   },
   {
    "duration": 14,
    "start_time": "2023-07-02T08:43:47.213Z"
   },
   {
    "duration": 382,
    "start_time": "2023-07-02T08:43:47.229Z"
   },
   {
    "duration": 269,
    "start_time": "2023-07-02T08:43:47.613Z"
   },
   {
    "duration": 300,
    "start_time": "2023-07-02T08:43:47.883Z"
   },
   {
    "duration": 6,
    "start_time": "2023-07-02T08:43:48.185Z"
   },
   {
    "duration": 15,
    "start_time": "2023-07-02T08:43:48.193Z"
   },
   {
    "duration": 278,
    "start_time": "2023-07-02T08:43:48.210Z"
   },
   {
    "duration": 235,
    "start_time": "2023-07-02T08:43:48.490Z"
   },
   {
    "duration": 251,
    "start_time": "2023-07-02T08:43:48.727Z"
   },
   {
    "duration": 112,
    "start_time": "2023-07-02T08:43:48.980Z"
   },
   {
    "duration": 255,
    "start_time": "2023-07-02T08:43:49.093Z"
   },
   {
    "duration": 134,
    "start_time": "2023-07-02T08:43:49.349Z"
   },
   {
    "duration": 8,
    "start_time": "2023-07-02T08:43:49.487Z"
   },
   {
    "duration": 281,
    "start_time": "2023-07-02T08:43:49.496Z"
   },
   {
    "duration": 11,
    "start_time": "2023-07-02T08:43:49.779Z"
   },
   {
    "duration": 157,
    "start_time": "2023-07-02T08:43:49.798Z"
   },
   {
    "duration": 440,
    "start_time": "2023-07-02T08:43:49.957Z"
   },
   {
    "duration": 147,
    "start_time": "2023-07-02T08:43:50.400Z"
   },
   {
    "duration": 291,
    "start_time": "2023-07-02T08:43:50.549Z"
   },
   {
    "duration": 159,
    "start_time": "2023-07-02T08:43:50.842Z"
   },
   {
    "duration": 6,
    "start_time": "2023-07-02T08:43:51.003Z"
   },
   {
    "duration": 242,
    "start_time": "2023-07-02T08:43:51.011Z"
   },
   {
    "duration": 150,
    "start_time": "2023-07-02T08:43:51.255Z"
   },
   {
    "duration": 246,
    "start_time": "2023-07-02T08:43:51.407Z"
   },
   {
    "duration": 7,
    "start_time": "2023-07-02T08:43:51.655Z"
   },
   {
    "duration": 165,
    "start_time": "2023-07-02T08:43:51.663Z"
   },
   {
    "duration": 372,
    "start_time": "2023-07-02T08:43:51.830Z"
   },
   {
    "duration": 273,
    "start_time": "2023-07-02T08:43:52.204Z"
   },
   {
    "duration": 7,
    "start_time": "2023-07-02T08:43:52.479Z"
   },
   {
    "duration": 337,
    "start_time": "2023-07-02T08:43:52.488Z"
   },
   {
    "duration": 157,
    "start_time": "2023-07-02T08:43:52.827Z"
   },
   {
    "duration": 6,
    "start_time": "2023-07-02T08:43:52.986Z"
   },
   {
    "duration": 299,
    "start_time": "2023-07-02T08:43:52.996Z"
   },
   {
    "duration": 148,
    "start_time": "2023-07-02T08:43:53.296Z"
   },
   {
    "duration": 7,
    "start_time": "2023-07-02T08:43:53.446Z"
   },
   {
    "duration": 304,
    "start_time": "2023-07-02T08:43:53.455Z"
   },
   {
    "duration": 144,
    "start_time": "2023-07-02T08:43:53.761Z"
   },
   {
    "duration": 587,
    "start_time": "2023-07-02T08:43:53.906Z"
   },
   {
    "duration": 5,
    "start_time": "2023-07-02T08:43:54.495Z"
   },
   {
    "duration": 32,
    "start_time": "2023-07-02T08:43:54.501Z"
   },
   {
    "duration": 8,
    "start_time": "2023-07-02T08:43:54.535Z"
   },
   {
    "duration": 32,
    "start_time": "2023-07-02T08:43:54.544Z"
   },
   {
    "duration": 27,
    "start_time": "2023-07-02T08:43:54.578Z"
   },
   {
    "duration": 9,
    "start_time": "2023-07-02T08:43:54.608Z"
   },
   {
    "duration": 10,
    "start_time": "2023-07-02T08:43:54.619Z"
   },
   {
    "duration": 52,
    "start_time": "2023-07-02T08:43:54.631Z"
   },
   {
    "duration": 8,
    "start_time": "2023-07-02T08:43:54.685Z"
   },
   {
    "duration": 11,
    "start_time": "2023-07-02T08:43:54.694Z"
   },
   {
    "duration": 172,
    "start_time": "2023-07-02T08:51:31.225Z"
   },
   {
    "duration": 71,
    "start_time": "2023-07-02T08:51:56.282Z"
   },
   {
    "duration": 100,
    "start_time": "2023-07-02T08:52:02.481Z"
   },
   {
    "duration": 3,
    "start_time": "2023-07-02T08:52:59.499Z"
   },
   {
    "duration": 16,
    "start_time": "2023-07-02T08:53:32.510Z"
   },
   {
    "duration": 3,
    "start_time": "2023-07-02T08:54:18.261Z"
   },
   {
    "duration": 6,
    "start_time": "2023-07-02T08:54:22.603Z"
   },
   {
    "duration": 9,
    "start_time": "2023-07-02T08:55:10.746Z"
   },
   {
    "duration": 21,
    "start_time": "2023-07-02T08:55:24.894Z"
   },
   {
    "duration": 6,
    "start_time": "2023-07-02T08:55:38.115Z"
   },
   {
    "duration": 127,
    "start_time": "2023-07-02T08:55:40.119Z"
   },
   {
    "duration": 3,
    "start_time": "2023-07-02T09:12:10.308Z"
   },
   {
    "duration": 5,
    "start_time": "2023-07-02T09:16:55.845Z"
   },
   {
    "duration": 369,
    "start_time": "2023-07-02T09:16:55.852Z"
   },
   {
    "duration": 20,
    "start_time": "2023-07-02T09:16:56.223Z"
   },
   {
    "duration": 37,
    "start_time": "2023-07-02T09:16:56.246Z"
   },
   {
    "duration": 18,
    "start_time": "2023-07-02T09:16:56.285Z"
   },
   {
    "duration": 44,
    "start_time": "2023-07-02T09:16:56.305Z"
   },
   {
    "duration": 37,
    "start_time": "2023-07-02T09:16:56.351Z"
   },
   {
    "duration": 28,
    "start_time": "2023-07-02T09:16:56.390Z"
   },
   {
    "duration": 25,
    "start_time": "2023-07-02T09:16:56.420Z"
   },
   {
    "duration": 79,
    "start_time": "2023-07-02T09:16:56.448Z"
   },
   {
    "duration": 66,
    "start_time": "2023-07-02T09:16:56.529Z"
   },
   {
    "duration": 36,
    "start_time": "2023-07-02T09:16:56.597Z"
   },
   {
    "duration": 40,
    "start_time": "2023-07-02T09:16:56.635Z"
   },
   {
    "duration": 28,
    "start_time": "2023-07-02T09:16:56.676Z"
   },
   {
    "duration": 33,
    "start_time": "2023-07-02T09:16:56.706Z"
   },
   {
    "duration": 6,
    "start_time": "2023-07-02T09:16:56.740Z"
   },
   {
    "duration": 312,
    "start_time": "2023-07-02T09:16:56.748Z"
   },
   {
    "duration": 277,
    "start_time": "2023-07-02T09:16:57.062Z"
   },
   {
    "duration": 284,
    "start_time": "2023-07-02T09:16:57.341Z"
   },
   {
    "duration": 5,
    "start_time": "2023-07-02T09:16:57.626Z"
   },
   {
    "duration": 17,
    "start_time": "2023-07-02T09:16:57.632Z"
   },
   {
    "duration": 255,
    "start_time": "2023-07-02T09:16:57.651Z"
   },
   {
    "duration": 125,
    "start_time": "2023-07-02T09:16:57.908Z"
   },
   {
    "duration": 240,
    "start_time": "2023-07-02T09:16:58.035Z"
   },
   {
    "duration": 189,
    "start_time": "2023-07-02T09:16:58.277Z"
   },
   {
    "duration": 240,
    "start_time": "2023-07-02T09:16:58.475Z"
   },
   {
    "duration": 118,
    "start_time": "2023-07-02T09:16:58.717Z"
   },
   {
    "duration": 5,
    "start_time": "2023-07-02T09:16:58.839Z"
   },
   {
    "duration": 255,
    "start_time": "2023-07-02T09:16:58.846Z"
   },
   {
    "duration": 4,
    "start_time": "2023-07-02T09:16:59.103Z"
   },
   {
    "duration": 132,
    "start_time": "2023-07-02T09:16:59.109Z"
   },
   {
    "duration": 264,
    "start_time": "2023-07-02T09:16:59.243Z"
   },
   {
    "duration": 120,
    "start_time": "2023-07-02T09:16:59.508Z"
   },
   {
    "duration": 368,
    "start_time": "2023-07-02T09:16:59.630Z"
   },
   {
    "duration": 130,
    "start_time": "2023-07-02T09:17:00.000Z"
   },
   {
    "duration": 6,
    "start_time": "2023-07-02T09:17:00.131Z"
   },
   {
    "duration": 225,
    "start_time": "2023-07-02T09:17:00.139Z"
   },
   {
    "duration": 119,
    "start_time": "2023-07-02T09:17:00.365Z"
   },
   {
    "duration": 196,
    "start_time": "2023-07-02T09:17:00.486Z"
   },
   {
    "duration": 6,
    "start_time": "2023-07-02T09:17:00.683Z"
   },
   {
    "duration": 139,
    "start_time": "2023-07-02T09:17:00.690Z"
   },
   {
    "duration": 255,
    "start_time": "2023-07-02T09:17:00.831Z"
   },
   {
    "duration": 140,
    "start_time": "2023-07-02T09:17:01.088Z"
   },
   {
    "duration": 7,
    "start_time": "2023-07-02T09:17:01.230Z"
   },
   {
    "duration": 323,
    "start_time": "2023-07-02T09:17:01.239Z"
   },
   {
    "duration": 226,
    "start_time": "2023-07-02T09:17:01.564Z"
   },
   {
    "duration": 6,
    "start_time": "2023-07-02T09:17:01.791Z"
   },
   {
    "duration": 293,
    "start_time": "2023-07-02T09:17:01.799Z"
   },
   {
    "duration": 124,
    "start_time": "2023-07-02T09:17:02.094Z"
   },
   {
    "duration": 6,
    "start_time": "2023-07-02T09:17:02.220Z"
   },
   {
    "duration": 349,
    "start_time": "2023-07-02T09:17:02.228Z"
   },
   {
    "duration": 123,
    "start_time": "2023-07-02T09:17:02.578Z"
   },
   {
    "duration": 447,
    "start_time": "2023-07-02T09:17:02.703Z"
   },
   {
    "duration": 31,
    "start_time": "2023-07-02T09:17:03.152Z"
   },
   {
    "duration": 8,
    "start_time": "2023-07-02T09:17:03.185Z"
   },
   {
    "duration": 46,
    "start_time": "2023-07-02T09:17:03.194Z"
   },
   {
    "duration": 40,
    "start_time": "2023-07-02T09:17:03.242Z"
   },
   {
    "duration": 7,
    "start_time": "2023-07-02T09:17:03.284Z"
   },
   {
    "duration": 16,
    "start_time": "2023-07-02T09:17:03.292Z"
   },
   {
    "duration": 30,
    "start_time": "2023-07-02T09:17:03.309Z"
   },
   {
    "duration": 8,
    "start_time": "2023-07-02T09:17:03.340Z"
   },
   {
    "duration": 32,
    "start_time": "2023-07-02T09:17:03.349Z"
   },
   {
    "duration": 11,
    "start_time": "2023-07-02T09:17:03.382Z"
   },
   {
    "duration": 48,
    "start_time": "2023-07-02T09:17:03.394Z"
   },
   {
    "duration": 1419,
    "start_time": "2023-07-02T09:18:22.098Z"
   },
   {
    "duration": 355,
    "start_time": "2023-07-02T09:18:23.519Z"
   },
   {
    "duration": 32,
    "start_time": "2023-07-02T09:18:23.875Z"
   },
   {
    "duration": 20,
    "start_time": "2023-07-02T09:18:23.910Z"
   },
   {
    "duration": 19,
    "start_time": "2023-07-02T09:18:23.932Z"
   },
   {
    "duration": 20,
    "start_time": "2023-07-02T09:18:23.975Z"
   },
   {
    "duration": 27,
    "start_time": "2023-07-02T09:18:23.997Z"
   },
   {
    "duration": 19,
    "start_time": "2023-07-02T09:18:24.026Z"
   },
   {
    "duration": 45,
    "start_time": "2023-07-02T09:18:24.046Z"
   },
   {
    "duration": 39,
    "start_time": "2023-07-02T09:18:24.093Z"
   },
   {
    "duration": 54,
    "start_time": "2023-07-02T09:18:24.133Z"
   },
   {
    "duration": 40,
    "start_time": "2023-07-02T09:18:24.188Z"
   },
   {
    "duration": 50,
    "start_time": "2023-07-02T09:18:24.229Z"
   },
   {
    "duration": 31,
    "start_time": "2023-07-02T09:18:24.282Z"
   },
   {
    "duration": 30,
    "start_time": "2023-07-02T09:18:24.314Z"
   },
   {
    "duration": 30,
    "start_time": "2023-07-02T09:18:24.346Z"
   },
   {
    "duration": 336,
    "start_time": "2023-07-02T09:18:24.378Z"
   },
   {
    "duration": 285,
    "start_time": "2023-07-02T09:18:24.716Z"
   },
   {
    "duration": 310,
    "start_time": "2023-07-02T09:18:25.004Z"
   },
   {
    "duration": 5,
    "start_time": "2023-07-02T09:18:25.316Z"
   },
   {
    "duration": 9,
    "start_time": "2023-07-02T09:18:25.323Z"
   },
   {
    "duration": 374,
    "start_time": "2023-07-02T09:18:25.335Z"
   },
   {
    "duration": 133,
    "start_time": "2023-07-02T09:18:25.711Z"
   },
   {
    "duration": 247,
    "start_time": "2023-07-02T09:18:25.846Z"
   },
   {
    "duration": 120,
    "start_time": "2023-07-02T09:18:26.095Z"
   },
   {
    "duration": 345,
    "start_time": "2023-07-02T09:18:26.217Z"
   },
   {
    "duration": 114,
    "start_time": "2023-07-02T09:18:26.564Z"
   },
   {
    "duration": 8,
    "start_time": "2023-07-02T09:18:26.680Z"
   },
   {
    "duration": 288,
    "start_time": "2023-07-02T09:18:26.689Z"
   },
   {
    "duration": 5,
    "start_time": "2023-07-02T09:18:26.979Z"
   },
   {
    "duration": 148,
    "start_time": "2023-07-02T09:18:26.986Z"
   },
   {
    "duration": 387,
    "start_time": "2023-07-02T09:18:27.136Z"
   },
   {
    "duration": 133,
    "start_time": "2023-07-02T09:18:27.525Z"
   },
   {
    "duration": 246,
    "start_time": "2023-07-02T09:18:27.659Z"
   },
   {
    "duration": 115,
    "start_time": "2023-07-02T09:18:27.907Z"
   },
   {
    "duration": 6,
    "start_time": "2023-07-02T09:18:28.023Z"
   },
   {
    "duration": 204,
    "start_time": "2023-07-02T09:18:28.031Z"
   },
   {
    "duration": 124,
    "start_time": "2023-07-02T09:18:28.237Z"
   },
   {
    "duration": 219,
    "start_time": "2023-07-02T09:18:28.363Z"
   },
   {
    "duration": 6,
    "start_time": "2023-07-02T09:18:28.584Z"
   },
   {
    "duration": 123,
    "start_time": "2023-07-02T09:18:28.594Z"
   },
   {
    "duration": 358,
    "start_time": "2023-07-02T09:18:28.718Z"
   },
   {
    "duration": 125,
    "start_time": "2023-07-02T09:18:29.078Z"
   },
   {
    "duration": 8,
    "start_time": "2023-07-02T09:18:29.205Z"
   },
   {
    "duration": 278,
    "start_time": "2023-07-02T09:18:29.215Z"
   },
   {
    "duration": 134,
    "start_time": "2023-07-02T09:18:29.495Z"
   },
   {
    "duration": 7,
    "start_time": "2023-07-02T09:18:29.630Z"
   },
   {
    "duration": 245,
    "start_time": "2023-07-02T09:18:29.638Z"
   },
   {
    "duration": 129,
    "start_time": "2023-07-02T09:18:29.884Z"
   },
   {
    "duration": 8,
    "start_time": "2023-07-02T09:18:30.014Z"
   },
   {
    "duration": 335,
    "start_time": "2023-07-02T09:18:30.024Z"
   },
   {
    "duration": 179,
    "start_time": "2023-07-02T09:18:30.362Z"
   },
   {
    "duration": 530,
    "start_time": "2023-07-02T09:18:30.543Z"
   },
   {
    "duration": 130,
    "start_time": "2023-07-02T09:18:31.075Z"
   },
   {
    "duration": 0,
    "start_time": "2023-07-02T09:18:31.207Z"
   },
   {
    "duration": 1,
    "start_time": "2023-07-02T09:18:31.208Z"
   },
   {
    "duration": 0,
    "start_time": "2023-07-02T09:18:31.209Z"
   },
   {
    "duration": 0,
    "start_time": "2023-07-02T09:18:31.211Z"
   },
   {
    "duration": 0,
    "start_time": "2023-07-02T09:18:31.212Z"
   },
   {
    "duration": 0,
    "start_time": "2023-07-02T09:18:31.213Z"
   },
   {
    "duration": 0,
    "start_time": "2023-07-02T09:18:31.214Z"
   },
   {
    "duration": 0,
    "start_time": "2023-07-02T09:18:31.215Z"
   },
   {
    "duration": 0,
    "start_time": "2023-07-02T09:18:31.216Z"
   },
   {
    "duration": 0,
    "start_time": "2023-07-02T09:18:31.217Z"
   },
   {
    "duration": 5,
    "start_time": "2023-07-02T09:19:50.414Z"
   },
   {
    "duration": 71,
    "start_time": "2023-07-02T09:19:53.305Z"
   },
   {
    "duration": 9,
    "start_time": "2023-07-02T09:19:56.041Z"
   },
   {
    "duration": 9,
    "start_time": "2023-07-02T09:19:58.877Z"
   },
   {
    "duration": 4,
    "start_time": "2023-07-02T09:20:21.143Z"
   },
   {
    "duration": 18,
    "start_time": "2023-07-02T09:20:23.706Z"
   },
   {
    "duration": 8,
    "start_time": "2023-07-02T09:20:26.503Z"
   },
   {
    "duration": 4,
    "start_time": "2023-07-02T09:20:35.467Z"
   },
   {
    "duration": 70,
    "start_time": "2023-07-02T09:20:37.148Z"
   },
   {
    "duration": 3,
    "start_time": "2023-07-02T09:20:40.155Z"
   },
   {
    "duration": 344,
    "start_time": "2023-07-02T09:20:40.160Z"
   },
   {
    "duration": 21,
    "start_time": "2023-07-02T09:20:40.505Z"
   },
   {
    "duration": 13,
    "start_time": "2023-07-02T09:20:40.528Z"
   },
   {
    "duration": 13,
    "start_time": "2023-07-02T09:20:40.542Z"
   },
   {
    "duration": 12,
    "start_time": "2023-07-02T09:20:40.575Z"
   },
   {
    "duration": 19,
    "start_time": "2023-07-02T09:20:40.588Z"
   },
   {
    "duration": 17,
    "start_time": "2023-07-02T09:20:40.608Z"
   },
   {
    "duration": 17,
    "start_time": "2023-07-02T09:20:40.627Z"
   },
   {
    "duration": 64,
    "start_time": "2023-07-02T09:20:40.646Z"
   },
   {
    "duration": 33,
    "start_time": "2023-07-02T09:20:40.712Z"
   },
   {
    "duration": 60,
    "start_time": "2023-07-02T09:20:40.746Z"
   },
   {
    "duration": 26,
    "start_time": "2023-07-02T09:20:40.808Z"
   },
   {
    "duration": 24,
    "start_time": "2023-07-02T09:20:40.835Z"
   },
   {
    "duration": 27,
    "start_time": "2023-07-02T09:20:40.875Z"
   },
   {
    "duration": 10,
    "start_time": "2023-07-02T09:20:40.904Z"
   },
   {
    "duration": 259,
    "start_time": "2023-07-02T09:20:40.916Z"
   },
   {
    "duration": 264,
    "start_time": "2023-07-02T09:20:41.176Z"
   },
   {
    "duration": 265,
    "start_time": "2023-07-02T09:20:41.442Z"
   },
   {
    "duration": 4,
    "start_time": "2023-07-02T09:20:41.709Z"
   },
   {
    "duration": 8,
    "start_time": "2023-07-02T09:20:41.715Z"
   },
   {
    "duration": 257,
    "start_time": "2023-07-02T09:20:41.724Z"
   },
   {
    "duration": 118,
    "start_time": "2023-07-02T09:20:41.983Z"
   },
   {
    "duration": 231,
    "start_time": "2023-07-02T09:20:42.105Z"
   },
   {
    "duration": 191,
    "start_time": "2023-07-02T09:20:42.338Z"
   },
   {
    "duration": 235,
    "start_time": "2023-07-02T09:20:42.530Z"
   },
   {
    "duration": 121,
    "start_time": "2023-07-02T09:20:42.767Z"
   },
   {
    "duration": 6,
    "start_time": "2023-07-02T09:20:42.890Z"
   },
   {
    "duration": 258,
    "start_time": "2023-07-02T09:20:42.898Z"
   },
   {
    "duration": 6,
    "start_time": "2023-07-02T09:20:43.158Z"
   },
   {
    "duration": 127,
    "start_time": "2023-07-02T09:20:43.175Z"
   },
   {
    "duration": 255,
    "start_time": "2023-07-02T09:20:43.304Z"
   },
   {
    "duration": 122,
    "start_time": "2023-07-02T09:20:43.561Z"
   },
   {
    "duration": 326,
    "start_time": "2023-07-02T09:20:43.685Z"
   },
   {
    "duration": 109,
    "start_time": "2023-07-02T09:20:44.013Z"
   },
   {
    "duration": 6,
    "start_time": "2023-07-02T09:20:44.124Z"
   },
   {
    "duration": 191,
    "start_time": "2023-07-02T09:20:44.132Z"
   },
   {
    "duration": 117,
    "start_time": "2023-07-02T09:20:44.324Z"
   },
   {
    "duration": 192,
    "start_time": "2023-07-02T09:20:44.442Z"
   },
   {
    "duration": 6,
    "start_time": "2023-07-02T09:20:44.636Z"
   },
   {
    "duration": 124,
    "start_time": "2023-07-02T09:20:44.644Z"
   },
   {
    "duration": 251,
    "start_time": "2023-07-02T09:20:44.769Z"
   },
   {
    "duration": 131,
    "start_time": "2023-07-02T09:20:45.021Z"
   },
   {
    "duration": 6,
    "start_time": "2023-07-02T09:20:45.153Z"
   },
   {
    "duration": 276,
    "start_time": "2023-07-02T09:20:45.160Z"
   },
   {
    "duration": 201,
    "start_time": "2023-07-02T09:20:45.438Z"
   },
   {
    "duration": 6,
    "start_time": "2023-07-02T09:20:45.640Z"
   },
   {
    "duration": 233,
    "start_time": "2023-07-02T09:20:45.647Z"
   },
   {
    "duration": 114,
    "start_time": "2023-07-02T09:20:45.882Z"
   },
   {
    "duration": 5,
    "start_time": "2023-07-02T09:20:45.998Z"
   },
   {
    "duration": 261,
    "start_time": "2023-07-02T09:20:46.005Z"
   },
   {
    "duration": 142,
    "start_time": "2023-07-02T09:20:46.275Z"
   },
   {
    "duration": 440,
    "start_time": "2023-07-02T09:20:46.419Z"
   },
   {
    "duration": 14,
    "start_time": "2023-07-02T09:20:46.861Z"
   },
   {
    "duration": 116,
    "start_time": "2023-07-02T09:20:46.877Z"
   },
   {
    "duration": 11,
    "start_time": "2023-07-02T09:20:46.995Z"
   },
   {
    "duration": 11,
    "start_time": "2023-07-02T09:20:47.008Z"
   },
   {
    "duration": 69,
    "start_time": "2023-07-02T09:20:47.021Z"
   },
   {
    "duration": 7,
    "start_time": "2023-07-02T09:20:47.092Z"
   },
   {
    "duration": 19,
    "start_time": "2023-07-02T09:20:47.100Z"
   },
   {
    "duration": 70,
    "start_time": "2023-07-02T09:20:47.121Z"
   },
   {
    "duration": 8,
    "start_time": "2023-07-02T09:20:47.193Z"
   },
   {
    "duration": 10,
    "start_time": "2023-07-02T09:20:47.203Z"
   },
   {
    "duration": 16,
    "start_time": "2023-07-02T09:20:47.215Z"
   },
   {
    "duration": 20,
    "start_time": "2023-07-02T09:20:47.233Z"
   },
   {
    "duration": 3,
    "start_time": "2023-07-02T09:21:03.616Z"
   },
   {
    "duration": 10,
    "start_time": "2023-07-02T09:21:06.205Z"
   },
   {
    "duration": 4,
    "start_time": "2023-07-02T10:13:00.316Z"
   },
   {
    "duration": 12,
    "start_time": "2023-07-02T10:13:24.188Z"
   },
   {
    "duration": 4,
    "start_time": "2023-07-02T10:13:35.242Z"
   },
   {
    "duration": 4,
    "start_time": "2023-07-02T10:13:56.895Z"
   },
   {
    "duration": 5,
    "start_time": "2023-07-02T10:14:01.903Z"
   },
   {
    "duration": 14,
    "start_time": "2023-07-02T10:14:06.297Z"
   },
   {
    "duration": 5,
    "start_time": "2023-07-02T10:14:23.315Z"
   },
   {
    "duration": 36,
    "start_time": "2023-07-02T10:14:25.116Z"
   },
   {
    "duration": 4,
    "start_time": "2023-07-02T10:15:01.559Z"
   },
   {
    "duration": 4,
    "start_time": "2023-07-02T10:15:03.742Z"
   },
   {
    "duration": 32,
    "start_time": "2023-07-02T10:15:05.645Z"
   },
   {
    "duration": 5,
    "start_time": "2023-07-02T10:16:09.336Z"
   },
   {
    "duration": 15,
    "start_time": "2023-07-02T10:16:15.311Z"
   },
   {
    "duration": 5,
    "start_time": "2023-07-02T10:17:13.435Z"
   },
   {
    "duration": 4,
    "start_time": "2023-07-02T10:17:16.664Z"
   },
   {
    "duration": 15,
    "start_time": "2023-07-02T10:17:21.232Z"
   },
   {
    "duration": 8,
    "start_time": "2023-07-02T10:17:24.170Z"
   },
   {
    "duration": 48,
    "start_time": "2023-07-02T10:17:25.789Z"
   },
   {
    "duration": 37,
    "start_time": "2023-07-02T10:17:30.033Z"
   },
   {
    "duration": 35,
    "start_time": "2023-07-02T10:20:37.493Z"
   },
   {
    "duration": 5,
    "start_time": "2023-07-02T10:21:42.841Z"
   },
   {
    "duration": 5,
    "start_time": "2023-07-02T10:21:45.292Z"
   },
   {
    "duration": 420,
    "start_time": "2023-07-02T10:21:45.300Z"
   },
   {
    "duration": 23,
    "start_time": "2023-07-02T10:21:45.721Z"
   },
   {
    "duration": 34,
    "start_time": "2023-07-02T10:21:45.746Z"
   },
   {
    "duration": 16,
    "start_time": "2023-07-02T10:21:45.781Z"
   },
   {
    "duration": 13,
    "start_time": "2023-07-02T10:21:45.799Z"
   },
   {
    "duration": 21,
    "start_time": "2023-07-02T10:21:45.813Z"
   },
   {
    "duration": 44,
    "start_time": "2023-07-02T10:21:45.835Z"
   },
   {
    "duration": 22,
    "start_time": "2023-07-02T10:21:45.884Z"
   },
   {
    "duration": 41,
    "start_time": "2023-07-02T10:21:45.907Z"
   },
   {
    "duration": 55,
    "start_time": "2023-07-02T10:21:45.949Z"
   },
   {
    "duration": 76,
    "start_time": "2023-07-02T10:21:46.007Z"
   },
   {
    "duration": 29,
    "start_time": "2023-07-02T10:21:46.088Z"
   },
   {
    "duration": 31,
    "start_time": "2023-07-02T10:21:46.119Z"
   },
   {
    "duration": 46,
    "start_time": "2023-07-02T10:21:46.152Z"
   },
   {
    "duration": 5,
    "start_time": "2023-07-02T10:21:46.200Z"
   },
   {
    "duration": 297,
    "start_time": "2023-07-02T10:21:46.207Z"
   },
   {
    "duration": 344,
    "start_time": "2023-07-02T10:21:46.506Z"
   },
   {
    "duration": 306,
    "start_time": "2023-07-02T10:21:46.851Z"
   },
   {
    "duration": 4,
    "start_time": "2023-07-02T10:21:47.158Z"
   },
   {
    "duration": 13,
    "start_time": "2023-07-02T10:21:47.164Z"
   },
   {
    "duration": 280,
    "start_time": "2023-07-02T10:21:47.179Z"
   },
   {
    "duration": 153,
    "start_time": "2023-07-02T10:21:47.461Z"
   },
   {
    "duration": 293,
    "start_time": "2023-07-02T10:21:47.618Z"
   },
   {
    "duration": 133,
    "start_time": "2023-07-02T10:21:47.912Z"
   },
   {
    "duration": 280,
    "start_time": "2023-07-02T10:21:48.047Z"
   },
   {
    "duration": 134,
    "start_time": "2023-07-02T10:21:48.329Z"
   },
   {
    "duration": 25,
    "start_time": "2023-07-02T10:21:48.465Z"
   },
   {
    "duration": 373,
    "start_time": "2023-07-02T10:21:48.492Z"
   },
   {
    "duration": 22,
    "start_time": "2023-07-02T10:21:48.866Z"
   },
   {
    "duration": 129,
    "start_time": "2023-07-02T10:21:48.890Z"
   },
   {
    "duration": 295,
    "start_time": "2023-07-02T10:21:49.020Z"
   },
   {
    "duration": 127,
    "start_time": "2023-07-02T10:21:49.316Z"
   },
   {
    "duration": 299,
    "start_time": "2023-07-02T10:21:49.444Z"
   },
   {
    "duration": 141,
    "start_time": "2023-07-02T10:21:49.745Z"
   },
   {
    "duration": 8,
    "start_time": "2023-07-02T10:21:49.888Z"
   },
   {
    "duration": 235,
    "start_time": "2023-07-02T10:21:49.898Z"
   },
   {
    "duration": 148,
    "start_time": "2023-07-02T10:21:50.135Z"
   },
   {
    "duration": 319,
    "start_time": "2023-07-02T10:21:50.288Z"
   },
   {
    "duration": 7,
    "start_time": "2023-07-02T10:21:50.609Z"
   },
   {
    "duration": 148,
    "start_time": "2023-07-02T10:21:50.618Z"
   },
   {
    "duration": 342,
    "start_time": "2023-07-02T10:21:50.768Z"
   },
   {
    "duration": 301,
    "start_time": "2023-07-02T10:21:51.111Z"
   },
   {
    "duration": 64,
    "start_time": "2023-07-02T10:21:51.414Z"
   },
   {
    "duration": 702,
    "start_time": "2023-07-02T10:21:51.480Z"
   },
   {
    "duration": 302,
    "start_time": "2023-07-02T10:21:52.184Z"
   },
   {
    "duration": 6,
    "start_time": "2023-07-02T10:21:52.492Z"
   },
   {
    "duration": 608,
    "start_time": "2023-07-02T10:21:52.500Z"
   },
   {
    "duration": 294,
    "start_time": "2023-07-02T10:21:53.109Z"
   },
   {
    "duration": 7,
    "start_time": "2023-07-02T10:21:53.404Z"
   },
   {
    "duration": 892,
    "start_time": "2023-07-02T10:21:53.413Z"
   },
   {
    "duration": 297,
    "start_time": "2023-07-02T10:21:54.306Z"
   },
   {
    "duration": 1000,
    "start_time": "2023-07-02T10:21:54.605Z"
   },
   {
    "duration": 4,
    "start_time": "2023-07-02T10:21:55.607Z"
   },
   {
    "duration": 82,
    "start_time": "2023-07-02T10:21:55.613Z"
   },
   {
    "duration": 8,
    "start_time": "2023-07-02T10:21:55.697Z"
   },
   {
    "duration": 10,
    "start_time": "2023-07-02T10:21:55.707Z"
   },
   {
    "duration": 81,
    "start_time": "2023-07-02T10:21:55.718Z"
   },
   {
    "duration": 10,
    "start_time": "2023-07-02T10:21:55.800Z"
   },
   {
    "duration": 78,
    "start_time": "2023-07-02T10:21:55.812Z"
   },
   {
    "duration": 40,
    "start_time": "2023-07-02T10:21:55.892Z"
   },
   {
    "duration": 53,
    "start_time": "2023-07-02T10:21:55.933Z"
   },
   {
    "duration": 18,
    "start_time": "2023-07-02T10:21:55.987Z"
   },
   {
    "duration": 15,
    "start_time": "2023-07-02T10:21:56.007Z"
   },
   {
    "duration": 0,
    "start_time": "2023-07-02T10:21:56.024Z"
   },
   {
    "duration": 0,
    "start_time": "2023-07-02T10:21:56.025Z"
   },
   {
    "duration": 4,
    "start_time": "2023-07-02T10:22:07.969Z"
   },
   {
    "duration": 23,
    "start_time": "2023-07-02T10:22:09.596Z"
   },
   {
    "duration": 177,
    "start_time": "2023-07-02T10:25:33.731Z"
   },
   {
    "duration": 5,
    "start_time": "2023-07-02T10:25:49.951Z"
   },
   {
    "duration": 47,
    "start_time": "2023-07-02T10:25:51.836Z"
   },
   {
    "duration": 5,
    "start_time": "2023-07-02T10:26:38.805Z"
   },
   {
    "duration": 18,
    "start_time": "2023-07-02T10:26:40.538Z"
   },
   {
    "duration": 6,
    "start_time": "2023-07-02T10:27:07.103Z"
   },
   {
    "duration": 18,
    "start_time": "2023-07-02T10:27:08.921Z"
   },
   {
    "duration": 5,
    "start_time": "2023-07-02T10:28:14.270Z"
   },
   {
    "duration": 39,
    "start_time": "2023-07-02T10:28:28.940Z"
   },
   {
    "duration": 3,
    "start_time": "2023-07-02T10:29:46.593Z"
   },
   {
    "duration": 5,
    "start_time": "2023-07-02T10:29:52.473Z"
   },
   {
    "duration": 176,
    "start_time": "2023-07-02T10:29:53.905Z"
   },
   {
    "duration": 5,
    "start_time": "2023-07-02T10:30:17.293Z"
   },
   {
    "duration": 86,
    "start_time": "2023-07-02T10:30:18.695Z"
   },
   {
    "duration": 69,
    "start_time": "2023-07-02T10:31:15.209Z"
   },
   {
    "duration": 76,
    "start_time": "2023-07-02T10:32:08.703Z"
   },
   {
    "duration": 5,
    "start_time": "2023-07-02T10:32:23.099Z"
   },
   {
    "duration": 29,
    "start_time": "2023-07-02T10:32:24.847Z"
   },
   {
    "duration": 5,
    "start_time": "2023-07-02T10:32:31.699Z"
   },
   {
    "duration": 4,
    "start_time": "2023-07-02T10:32:43.933Z"
   },
   {
    "duration": 79,
    "start_time": "2023-07-02T10:32:45.598Z"
   },
   {
    "duration": 5,
    "start_time": "2023-07-02T10:33:25.677Z"
   },
   {
    "duration": 167,
    "start_time": "2023-07-02T10:33:27.208Z"
   },
   {
    "duration": 5,
    "start_time": "2023-07-02T10:33:44.036Z"
   },
   {
    "duration": 23,
    "start_time": "2023-07-02T10:33:46.957Z"
   },
   {
    "duration": 6,
    "start_time": "2023-07-02T10:36:57.232Z"
   },
   {
    "duration": 104,
    "start_time": "2023-07-02T10:36:58.673Z"
   },
   {
    "duration": 4,
    "start_time": "2023-07-02T10:37:15.132Z"
   },
   {
    "duration": 412,
    "start_time": "2023-07-02T10:37:15.138Z"
   },
   {
    "duration": 29,
    "start_time": "2023-07-02T10:37:15.552Z"
   },
   {
    "duration": 14,
    "start_time": "2023-07-02T10:37:15.584Z"
   },
   {
    "duration": 20,
    "start_time": "2023-07-02T10:37:15.600Z"
   },
   {
    "duration": 18,
    "start_time": "2023-07-02T10:37:15.622Z"
   },
   {
    "duration": 48,
    "start_time": "2023-07-02T10:37:15.642Z"
   },
   {
    "duration": 31,
    "start_time": "2023-07-02T10:37:15.692Z"
   },
   {
    "duration": 21,
    "start_time": "2023-07-02T10:37:15.725Z"
   },
   {
    "duration": 58,
    "start_time": "2023-07-02T10:37:15.747Z"
   },
   {
    "duration": 37,
    "start_time": "2023-07-02T10:37:15.807Z"
   },
   {
    "duration": 55,
    "start_time": "2023-07-02T10:37:15.845Z"
   },
   {
    "duration": 27,
    "start_time": "2023-07-02T10:37:15.901Z"
   },
   {
    "duration": 31,
    "start_time": "2023-07-02T10:37:15.929Z"
   },
   {
    "duration": 30,
    "start_time": "2023-07-02T10:37:15.975Z"
   },
   {
    "duration": 6,
    "start_time": "2023-07-02T10:37:16.006Z"
   },
   {
    "duration": 277,
    "start_time": "2023-07-02T10:37:16.013Z"
   },
   {
    "duration": 283,
    "start_time": "2023-07-02T10:37:16.292Z"
   },
   {
    "duration": 280,
    "start_time": "2023-07-02T10:37:16.577Z"
   },
   {
    "duration": 5,
    "start_time": "2023-07-02T10:37:16.859Z"
   },
   {
    "duration": 12,
    "start_time": "2023-07-02T10:37:16.865Z"
   },
   {
    "duration": 267,
    "start_time": "2023-07-02T10:37:16.878Z"
   },
   {
    "duration": 230,
    "start_time": "2023-07-02T10:37:17.147Z"
   },
   {
    "duration": 239,
    "start_time": "2023-07-02T10:37:17.380Z"
   },
   {
    "duration": 116,
    "start_time": "2023-07-02T10:37:17.621Z"
   },
   {
    "duration": 270,
    "start_time": "2023-07-02T10:37:17.739Z"
   },
   {
    "duration": 129,
    "start_time": "2023-07-02T10:37:18.011Z"
   },
   {
    "duration": 6,
    "start_time": "2023-07-02T10:37:18.142Z"
   },
   {
    "duration": 281,
    "start_time": "2023-07-02T10:37:18.150Z"
   },
   {
    "duration": 5,
    "start_time": "2023-07-02T10:37:18.433Z"
   },
   {
    "duration": 139,
    "start_time": "2023-07-02T10:37:18.439Z"
   },
   {
    "duration": 357,
    "start_time": "2023-07-02T10:37:18.580Z"
   },
   {
    "duration": 142,
    "start_time": "2023-07-02T10:37:18.939Z"
   },
   {
    "duration": 259,
    "start_time": "2023-07-02T10:37:19.082Z"
   },
   {
    "duration": 118,
    "start_time": "2023-07-02T10:37:19.343Z"
   },
   {
    "duration": 14,
    "start_time": "2023-07-02T10:37:19.463Z"
   },
   {
    "duration": 196,
    "start_time": "2023-07-02T10:37:19.479Z"
   },
   {
    "duration": 122,
    "start_time": "2023-07-02T10:37:19.676Z"
   },
   {
    "duration": 202,
    "start_time": "2023-07-02T10:37:19.799Z"
   },
   {
    "duration": 6,
    "start_time": "2023-07-02T10:37:20.003Z"
   },
   {
    "duration": 137,
    "start_time": "2023-07-02T10:37:20.010Z"
   },
   {
    "duration": 261,
    "start_time": "2023-07-02T10:37:20.149Z"
   },
   {
    "duration": 215,
    "start_time": "2023-07-02T10:37:20.412Z"
   },
   {
    "duration": 6,
    "start_time": "2023-07-02T10:37:20.628Z"
   },
   {
    "duration": 282,
    "start_time": "2023-07-02T10:37:20.635Z"
   },
   {
    "duration": 149,
    "start_time": "2023-07-02T10:37:20.919Z"
   },
   {
    "duration": 6,
    "start_time": "2023-07-02T10:37:21.075Z"
   },
   {
    "duration": 293,
    "start_time": "2023-07-02T10:37:21.083Z"
   },
   {
    "duration": 128,
    "start_time": "2023-07-02T10:37:21.378Z"
   },
   {
    "duration": 6,
    "start_time": "2023-07-02T10:37:21.508Z"
   },
   {
    "duration": 325,
    "start_time": "2023-07-02T10:37:21.516Z"
   },
   {
    "duration": 149,
    "start_time": "2023-07-02T10:37:21.843Z"
   },
   {
    "duration": 581,
    "start_time": "2023-07-02T10:37:21.994Z"
   },
   {
    "duration": 4,
    "start_time": "2023-07-02T10:37:22.577Z"
   },
   {
    "duration": 64,
    "start_time": "2023-07-02T10:37:22.583Z"
   },
   {
    "duration": 9,
    "start_time": "2023-07-02T10:37:22.649Z"
   },
   {
    "duration": 20,
    "start_time": "2023-07-02T10:37:22.659Z"
   },
   {
    "duration": 45,
    "start_time": "2023-07-02T10:37:22.681Z"
   },
   {
    "duration": 18,
    "start_time": "2023-07-02T10:37:22.727Z"
   },
   {
    "duration": 31,
    "start_time": "2023-07-02T10:37:22.747Z"
   },
   {
    "duration": 51,
    "start_time": "2023-07-02T10:37:22.780Z"
   },
   {
    "duration": 9,
    "start_time": "2023-07-02T10:37:22.833Z"
   },
   {
    "duration": 27,
    "start_time": "2023-07-02T10:37:22.844Z"
   },
   {
    "duration": 23,
    "start_time": "2023-07-02T10:37:22.873Z"
   },
   {
    "duration": 86,
    "start_time": "2023-07-02T10:37:22.897Z"
   },
   {
    "duration": 293,
    "start_time": "2023-07-02T10:37:22.984Z"
   },
   {
    "duration": 197,
    "start_time": "2023-07-02T10:37:23.280Z"
   },
   {
    "duration": 110,
    "start_time": "2023-07-02T10:37:23.479Z"
   },
   {
    "duration": 35,
    "start_time": "2023-07-02T10:37:23.593Z"
   },
   {
    "duration": 4,
    "start_time": "2023-07-02T10:38:30.002Z"
   },
   {
    "duration": 68,
    "start_time": "2023-07-02T10:39:18.368Z"
   },
   {
    "duration": 3,
    "start_time": "2023-07-02T10:39:26.062Z"
   },
   {
    "duration": 12,
    "start_time": "2023-07-02T10:39:27.805Z"
   },
   {
    "duration": 4,
    "start_time": "2023-07-02T10:39:52.460Z"
   },
   {
    "duration": 12,
    "start_time": "2023-07-02T10:39:54.143Z"
   },
   {
    "duration": 5,
    "start_time": "2023-07-02T10:40:00.716Z"
   },
   {
    "duration": 13,
    "start_time": "2023-07-02T10:40:02.519Z"
   },
   {
    "duration": 34,
    "start_time": "2023-07-02T15:48:46.735Z"
   },
   {
    "duration": 12,
    "start_time": "2023-07-02T15:49:31.260Z"
   },
   {
    "duration": 4,
    "start_time": "2023-07-02T15:50:19.120Z"
   },
   {
    "duration": 14,
    "start_time": "2023-07-02T15:50:22.435Z"
   },
   {
    "duration": 3,
    "start_time": "2023-07-02T15:51:37.754Z"
   },
   {
    "duration": 13,
    "start_time": "2023-07-02T15:51:39.504Z"
   },
   {
    "duration": 4,
    "start_time": "2023-07-02T15:52:00.830Z"
   },
   {
    "duration": 12,
    "start_time": "2023-07-02T15:52:03.532Z"
   },
   {
    "duration": 5,
    "start_time": "2023-07-02T15:53:56.424Z"
   },
   {
    "duration": 4,
    "start_time": "2023-07-02T15:54:09.926Z"
   },
   {
    "duration": 4,
    "start_time": "2023-07-02T15:54:25.045Z"
   },
   {
    "duration": 9,
    "start_time": "2023-07-02T15:54:36.755Z"
   },
   {
    "duration": 9,
    "start_time": "2023-07-02T15:55:47.667Z"
   },
   {
    "duration": 4,
    "start_time": "2023-07-02T15:56:14.724Z"
   },
   {
    "duration": 4,
    "start_time": "2023-07-02T15:56:28.664Z"
   },
   {
    "duration": 4,
    "start_time": "2023-07-02T15:57:11.951Z"
   },
   {
    "duration": 5,
    "start_time": "2023-07-02T15:57:23.021Z"
   },
   {
    "duration": 4,
    "start_time": "2023-07-02T15:58:26.224Z"
   },
   {
    "duration": 11,
    "start_time": "2023-07-02T15:58:28.497Z"
   },
   {
    "duration": 4,
    "start_time": "2023-07-02T15:58:39.185Z"
   },
   {
    "duration": 13,
    "start_time": "2023-07-02T15:59:04.891Z"
   },
   {
    "duration": 13,
    "start_time": "2023-07-02T15:59:08.727Z"
   },
   {
    "duration": 4,
    "start_time": "2023-07-02T15:59:30.797Z"
   },
   {
    "duration": 14,
    "start_time": "2023-07-02T15:59:35.203Z"
   },
   {
    "duration": 4,
    "start_time": "2023-07-02T15:59:49.495Z"
   },
   {
    "duration": 14,
    "start_time": "2023-07-02T15:59:51.999Z"
   },
   {
    "duration": 3,
    "start_time": "2023-07-02T16:00:15.601Z"
   },
   {
    "duration": 4,
    "start_time": "2023-07-02T16:00:23.737Z"
   },
   {
    "duration": 14,
    "start_time": "2023-07-02T16:00:25.102Z"
   },
   {
    "duration": 3,
    "start_time": "2023-07-02T16:00:34.095Z"
   },
   {
    "duration": 14,
    "start_time": "2023-07-02T16:00:36.097Z"
   },
   {
    "duration": 3,
    "start_time": "2023-07-02T16:00:50.724Z"
   },
   {
    "duration": 13,
    "start_time": "2023-07-02T16:00:52.204Z"
   },
   {
    "duration": 11,
    "start_time": "2023-07-02T16:01:18.558Z"
   },
   {
    "duration": 13,
    "start_time": "2023-07-02T16:01:23.647Z"
   },
   {
    "duration": 3,
    "start_time": "2023-07-02T16:02:54.263Z"
   },
   {
    "duration": 17,
    "start_time": "2023-07-02T16:02:56.343Z"
   },
   {
    "duration": 11,
    "start_time": "2023-07-02T16:02:58.807Z"
   },
   {
    "duration": 12,
    "start_time": "2023-07-02T16:03:02.086Z"
   },
   {
    "duration": 4,
    "start_time": "2023-07-02T16:05:58.309Z"
   },
   {
    "duration": 13,
    "start_time": "2023-07-02T16:06:12.304Z"
   },
   {
    "duration": 8,
    "start_time": "2023-07-02T16:06:40.470Z"
   },
   {
    "duration": 4,
    "start_time": "2023-07-02T16:06:47.740Z"
   },
   {
    "duration": 38,
    "start_time": "2023-07-02T16:06:49.929Z"
   },
   {
    "duration": 27,
    "start_time": "2023-07-02T16:07:33.905Z"
   },
   {
    "duration": 3,
    "start_time": "2023-07-02T16:08:02.329Z"
   },
   {
    "duration": 7,
    "start_time": "2023-07-02T16:08:13.298Z"
   },
   {
    "duration": 9,
    "start_time": "2023-07-02T16:08:36.648Z"
   },
   {
    "duration": 14,
    "start_time": "2023-07-02T16:14:31.427Z"
   },
   {
    "duration": 8,
    "start_time": "2023-07-02T16:16:53.838Z"
   },
   {
    "duration": 9,
    "start_time": "2023-07-02T16:17:24.257Z"
   },
   {
    "duration": 18,
    "start_time": "2023-07-02T16:18:23.670Z"
   },
   {
    "duration": 3,
    "start_time": "2023-07-02T16:31:37.061Z"
   },
   {
    "duration": 9,
    "start_time": "2023-07-02T16:31:47.615Z"
   },
   {
    "duration": 8,
    "start_time": "2023-07-02T16:31:52.864Z"
   },
   {
    "duration": 4,
    "start_time": "2023-07-02T16:32:01.260Z"
   },
   {
    "duration": 4,
    "start_time": "2023-07-02T16:32:17.443Z"
   },
   {
    "duration": 9,
    "start_time": "2023-07-02T16:32:31.919Z"
   },
   {
    "duration": 3,
    "start_time": "2023-07-02T16:33:58.596Z"
   },
   {
    "duration": 2,
    "start_time": "2023-07-02T16:34:44.738Z"
   },
   {
    "duration": 459,
    "start_time": "2023-07-02T16:35:35.490Z"
   },
   {
    "duration": 4,
    "start_time": "2023-07-02T16:35:49.788Z"
   },
   {
    "duration": 84,
    "start_time": "2023-07-02T16:36:37.591Z"
   },
   {
    "duration": 153,
    "start_time": "2023-07-02T16:37:22.324Z"
   },
   {
    "duration": 178,
    "start_time": "2023-07-02T16:37:53.600Z"
   },
   {
    "duration": 81,
    "start_time": "2023-07-02T16:38:04.395Z"
   },
   {
    "duration": 16,
    "start_time": "2023-07-02T16:38:45.889Z"
   },
   {
    "duration": 14,
    "start_time": "2023-07-02T16:39:22.942Z"
   },
   {
    "duration": 17,
    "start_time": "2023-07-02T16:39:37.425Z"
   },
   {
    "duration": 16,
    "start_time": "2023-07-02T16:41:00.189Z"
   },
   {
    "duration": 16,
    "start_time": "2023-07-02T16:42:47.410Z"
   },
   {
    "duration": 16,
    "start_time": "2023-07-02T16:44:02.232Z"
   },
   {
    "duration": 16,
    "start_time": "2023-07-02T16:45:35.643Z"
   },
   {
    "duration": 16,
    "start_time": "2023-07-02T16:45:54.267Z"
   },
   {
    "duration": 3,
    "start_time": "2023-07-02T16:46:20.594Z"
   },
   {
    "duration": 14,
    "start_time": "2023-07-02T16:46:23.302Z"
   },
   {
    "duration": 14,
    "start_time": "2023-07-02T16:46:32.022Z"
   },
   {
    "duration": 16,
    "start_time": "2023-07-02T16:47:00.030Z"
   },
   {
    "duration": 14,
    "start_time": "2023-07-02T16:47:23.760Z"
   },
   {
    "duration": 30,
    "start_time": "2023-07-02T16:48:57.147Z"
   },
   {
    "duration": 4,
    "start_time": "2023-07-02T16:49:03.159Z"
   },
   {
    "duration": 15,
    "start_time": "2023-07-02T16:49:05.075Z"
   },
   {
    "duration": 13,
    "start_time": "2023-07-02T16:49:07.024Z"
   },
   {
    "duration": 13,
    "start_time": "2023-07-02T16:49:08.603Z"
   },
   {
    "duration": 9,
    "start_time": "2023-07-02T16:49:11.204Z"
   },
   {
    "duration": 3,
    "start_time": "2023-07-02T16:50:23.892Z"
   },
   {
    "duration": 14,
    "start_time": "2023-07-02T16:50:25.698Z"
   },
   {
    "duration": 14,
    "start_time": "2023-07-02T16:50:27.511Z"
   },
   {
    "duration": 13,
    "start_time": "2023-07-02T16:50:29.295Z"
   },
   {
    "duration": 9,
    "start_time": "2023-07-02T16:50:30.848Z"
   },
   {
    "duration": 9,
    "start_time": "2023-07-02T16:51:00.780Z"
   },
   {
    "duration": 11,
    "start_time": "2023-07-02T16:51:20.192Z"
   },
   {
    "duration": 14,
    "start_time": "2023-07-02T16:52:06.626Z"
   },
   {
    "duration": 4,
    "start_time": "2023-07-02T16:53:02.060Z"
   },
   {
    "duration": 1278,
    "start_time": "2023-07-02T16:53:03.793Z"
   },
   {
    "duration": 1200,
    "start_time": "2023-07-02T16:53:39.121Z"
   },
   {
    "duration": 1367,
    "start_time": "2023-07-02T16:54:26.189Z"
   },
   {
    "duration": 1239,
    "start_time": "2023-07-02T16:54:37.563Z"
   },
   {
    "duration": 1244,
    "start_time": "2023-07-02T16:55:12.482Z"
   },
   {
    "duration": 1318,
    "start_time": "2023-07-02T16:55:24.232Z"
   },
   {
    "duration": 6,
    "start_time": "2023-07-02T16:56:49.982Z"
   },
   {
    "duration": 16,
    "start_time": "2023-07-02T16:56:57.311Z"
   },
   {
    "duration": 5,
    "start_time": "2023-07-02T16:58:46.855Z"
   },
   {
    "duration": 372,
    "start_time": "2023-07-02T16:58:46.863Z"
   },
   {
    "duration": 23,
    "start_time": "2023-07-02T16:58:47.237Z"
   },
   {
    "duration": 15,
    "start_time": "2023-07-02T16:58:47.274Z"
   },
   {
    "duration": 14,
    "start_time": "2023-07-02T16:58:47.290Z"
   },
   {
    "duration": 13,
    "start_time": "2023-07-02T16:58:47.305Z"
   },
   {
    "duration": 25,
    "start_time": "2023-07-02T16:58:47.319Z"
   },
   {
    "duration": 46,
    "start_time": "2023-07-02T16:58:47.345Z"
   },
   {
    "duration": 21,
    "start_time": "2023-07-02T16:58:47.393Z"
   },
   {
    "duration": 77,
    "start_time": "2023-07-02T16:58:47.416Z"
   },
   {
    "duration": 41,
    "start_time": "2023-07-02T16:58:47.495Z"
   },
   {
    "duration": 54,
    "start_time": "2023-07-02T16:58:47.537Z"
   },
   {
    "duration": 27,
    "start_time": "2023-07-02T16:58:47.593Z"
   },
   {
    "duration": 27,
    "start_time": "2023-07-02T16:58:47.622Z"
   },
   {
    "duration": 50,
    "start_time": "2023-07-02T16:58:47.650Z"
   },
   {
    "duration": 3,
    "start_time": "2023-07-02T16:58:47.701Z"
   },
   {
    "duration": 275,
    "start_time": "2023-07-02T16:58:47.706Z"
   },
   {
    "duration": 279,
    "start_time": "2023-07-02T16:58:47.983Z"
   },
   {
    "duration": 313,
    "start_time": "2023-07-02T16:58:48.264Z"
   },
   {
    "duration": 5,
    "start_time": "2023-07-02T16:58:48.579Z"
   },
   {
    "duration": 10,
    "start_time": "2023-07-02T16:58:48.585Z"
   },
   {
    "duration": 284,
    "start_time": "2023-07-02T16:58:48.597Z"
   },
   {
    "duration": 138,
    "start_time": "2023-07-02T16:58:48.882Z"
   },
   {
    "duration": 284,
    "start_time": "2023-07-02T16:58:49.024Z"
   },
   {
    "duration": 208,
    "start_time": "2023-07-02T16:58:49.309Z"
   },
   {
    "duration": 272,
    "start_time": "2023-07-02T16:58:49.518Z"
   },
   {
    "duration": 130,
    "start_time": "2023-07-02T16:58:49.792Z"
   },
   {
    "duration": 6,
    "start_time": "2023-07-02T16:58:49.923Z"
   },
   {
    "duration": 280,
    "start_time": "2023-07-02T16:58:49.931Z"
   },
   {
    "duration": 6,
    "start_time": "2023-07-02T16:58:50.212Z"
   },
   {
    "duration": 144,
    "start_time": "2023-07-02T16:58:50.220Z"
   },
   {
    "duration": 289,
    "start_time": "2023-07-02T16:58:50.365Z"
   },
   {
    "duration": 126,
    "start_time": "2023-07-02T16:58:50.656Z"
   },
   {
    "duration": 332,
    "start_time": "2023-07-02T16:58:50.784Z"
   },
   {
    "duration": 126,
    "start_time": "2023-07-02T16:58:51.118Z"
   },
   {
    "duration": 7,
    "start_time": "2023-07-02T16:58:51.245Z"
   },
   {
    "duration": 199,
    "start_time": "2023-07-02T16:58:51.254Z"
   },
   {
    "duration": 125,
    "start_time": "2023-07-02T16:58:51.455Z"
   },
   {
    "duration": 216,
    "start_time": "2023-07-02T16:58:51.582Z"
   },
   {
    "duration": 7,
    "start_time": "2023-07-02T16:58:51.799Z"
   },
   {
    "duration": 133,
    "start_time": "2023-07-02T16:58:51.807Z"
   },
   {
    "duration": 265,
    "start_time": "2023-07-02T16:58:51.942Z"
   },
   {
    "duration": 126,
    "start_time": "2023-07-02T16:58:52.208Z"
   },
   {
    "duration": 6,
    "start_time": "2023-07-02T16:58:52.335Z"
   },
   {
    "duration": 256,
    "start_time": "2023-07-02T16:58:52.343Z"
   },
   {
    "duration": 243,
    "start_time": "2023-07-02T16:58:52.601Z"
   },
   {
    "duration": 7,
    "start_time": "2023-07-02T16:58:52.845Z"
   },
   {
    "duration": 255,
    "start_time": "2023-07-02T16:58:52.854Z"
   },
   {
    "duration": 126,
    "start_time": "2023-07-02T16:58:53.110Z"
   },
   {
    "duration": 8,
    "start_time": "2023-07-02T16:58:53.238Z"
   },
   {
    "duration": 273,
    "start_time": "2023-07-02T16:58:53.247Z"
   },
   {
    "duration": 123,
    "start_time": "2023-07-02T16:58:53.521Z"
   },
   {
    "duration": 444,
    "start_time": "2023-07-02T16:58:53.646Z"
   },
   {
    "duration": 5,
    "start_time": "2023-07-02T16:58:54.092Z"
   },
   {
    "duration": 33,
    "start_time": "2023-07-02T16:58:54.099Z"
   },
   {
    "duration": 8,
    "start_time": "2023-07-02T16:58:54.133Z"
   },
   {
    "duration": 32,
    "start_time": "2023-07-02T16:58:54.143Z"
   },
   {
    "duration": 22,
    "start_time": "2023-07-02T16:58:54.177Z"
   },
   {
    "duration": 7,
    "start_time": "2023-07-02T16:58:54.201Z"
   },
   {
    "duration": 9,
    "start_time": "2023-07-02T16:58:54.210Z"
   },
   {
    "duration": 23,
    "start_time": "2023-07-02T16:58:54.220Z"
   },
   {
    "duration": 36,
    "start_time": "2023-07-02T16:58:54.245Z"
   },
   {
    "duration": 13,
    "start_time": "2023-07-02T16:58:54.282Z"
   },
   {
    "duration": 9,
    "start_time": "2023-07-02T16:58:54.296Z"
   },
   {
    "duration": 6,
    "start_time": "2023-07-02T16:58:54.307Z"
   },
   {
    "duration": 70,
    "start_time": "2023-07-02T16:58:54.314Z"
   },
   {
    "duration": 13,
    "start_time": "2023-07-02T16:58:54.476Z"
   },
   {
    "duration": 93,
    "start_time": "2023-07-02T16:58:54.491Z"
   },
   {
    "duration": 99,
    "start_time": "2023-07-02T16:58:54.683Z"
   },
   {
    "duration": 5,
    "start_time": "2023-07-02T16:58:54.784Z"
   },
   {
    "duration": 8,
    "start_time": "2023-07-02T16:58:54.790Z"
   },
   {
    "duration": 10,
    "start_time": "2023-07-02T16:58:54.799Z"
   },
   {
    "duration": 16,
    "start_time": "2023-07-02T16:58:54.811Z"
   },
   {
    "duration": 10,
    "start_time": "2023-07-02T16:58:54.828Z"
   },
   {
    "duration": 36,
    "start_time": "2023-07-02T16:58:54.840Z"
   },
   {
    "duration": 3,
    "start_time": "2023-07-02T16:58:54.877Z"
   },
   {
    "duration": 9,
    "start_time": "2023-07-02T16:58:54.882Z"
   },
   {
    "duration": 6,
    "start_time": "2023-07-02T16:58:54.892Z"
   },
   {
    "duration": 1233,
    "start_time": "2023-07-02T16:58:54.899Z"
   },
   {
    "duration": 1374,
    "start_time": "2023-07-02T16:58:56.134Z"
   },
   {
    "duration": 1946,
    "start_time": "2023-07-02T16:58:57.510Z"
   },
   {
    "duration": 18,
    "start_time": "2023-07-02T16:58:59.457Z"
   },
   {
    "duration": 1392,
    "start_time": "2023-07-02T16:59:23.329Z"
   },
   {
    "duration": 397,
    "start_time": "2023-07-02T16:59:24.723Z"
   },
   {
    "duration": 27,
    "start_time": "2023-07-02T16:59:25.122Z"
   },
   {
    "duration": 27,
    "start_time": "2023-07-02T16:59:25.151Z"
   },
   {
    "duration": 14,
    "start_time": "2023-07-02T16:59:25.180Z"
   },
   {
    "duration": 18,
    "start_time": "2023-07-02T16:59:25.196Z"
   },
   {
    "duration": 22,
    "start_time": "2023-07-02T16:59:25.216Z"
   },
   {
    "duration": 53,
    "start_time": "2023-07-02T16:59:25.240Z"
   },
   {
    "duration": 21,
    "start_time": "2023-07-02T16:59:25.295Z"
   },
   {
    "duration": 67,
    "start_time": "2023-07-02T16:59:25.318Z"
   },
   {
    "duration": 44,
    "start_time": "2023-07-02T16:59:25.387Z"
   },
   {
    "duration": 67,
    "start_time": "2023-07-02T16:59:25.433Z"
   },
   {
    "duration": 29,
    "start_time": "2023-07-02T16:59:25.502Z"
   },
   {
    "duration": 46,
    "start_time": "2023-07-02T16:59:25.532Z"
   },
   {
    "duration": 29,
    "start_time": "2023-07-02T16:59:25.580Z"
   },
   {
    "duration": 13,
    "start_time": "2023-07-02T16:59:25.611Z"
   },
   {
    "duration": 284,
    "start_time": "2023-07-02T16:59:25.625Z"
   },
   {
    "duration": 264,
    "start_time": "2023-07-02T16:59:25.911Z"
   },
   {
    "duration": 333,
    "start_time": "2023-07-02T16:59:26.177Z"
   },
   {
    "duration": 5,
    "start_time": "2023-07-02T16:59:26.512Z"
   },
   {
    "duration": 8,
    "start_time": "2023-07-02T16:59:26.519Z"
   },
   {
    "duration": 381,
    "start_time": "2023-07-02T16:59:26.528Z"
   },
   {
    "duration": 143,
    "start_time": "2023-07-02T16:59:26.911Z"
   },
   {
    "duration": 298,
    "start_time": "2023-07-02T16:59:27.056Z"
   },
   {
    "duration": 132,
    "start_time": "2023-07-02T16:59:27.356Z"
   },
   {
    "duration": 255,
    "start_time": "2023-07-02T16:59:27.489Z"
   },
   {
    "duration": 120,
    "start_time": "2023-07-02T16:59:27.746Z"
   },
   {
    "duration": 7,
    "start_time": "2023-07-02T16:59:27.877Z"
   },
   {
    "duration": 262,
    "start_time": "2023-07-02T16:59:27.886Z"
   },
   {
    "duration": 5,
    "start_time": "2023-07-02T16:59:28.150Z"
   },
   {
    "duration": 131,
    "start_time": "2023-07-02T16:59:28.156Z"
   },
   {
    "duration": 352,
    "start_time": "2023-07-02T16:59:28.288Z"
   },
   {
    "duration": 122,
    "start_time": "2023-07-02T16:59:28.641Z"
   },
   {
    "duration": 247,
    "start_time": "2023-07-02T16:59:28.765Z"
   },
   {
    "duration": 118,
    "start_time": "2023-07-02T16:59:29.014Z"
   },
   {
    "duration": 7,
    "start_time": "2023-07-02T16:59:29.133Z"
   },
   {
    "duration": 211,
    "start_time": "2023-07-02T16:59:29.141Z"
   },
   {
    "duration": 124,
    "start_time": "2023-07-02T16:59:29.354Z"
   },
   {
    "duration": 205,
    "start_time": "2023-07-02T16:59:29.479Z"
   },
   {
    "duration": 6,
    "start_time": "2023-07-02T16:59:29.686Z"
   },
   {
    "duration": 131,
    "start_time": "2023-07-02T16:59:29.693Z"
   },
   {
    "duration": 371,
    "start_time": "2023-07-02T16:59:29.826Z"
   },
   {
    "duration": 141,
    "start_time": "2023-07-02T16:59:30.198Z"
   },
   {
    "duration": 5,
    "start_time": "2023-07-02T16:59:30.341Z"
   },
   {
    "duration": 343,
    "start_time": "2023-07-02T16:59:30.347Z"
   },
   {
    "duration": 129,
    "start_time": "2023-07-02T16:59:30.692Z"
   },
   {
    "duration": 6,
    "start_time": "2023-07-02T16:59:30.822Z"
   },
   {
    "duration": 289,
    "start_time": "2023-07-02T16:59:30.829Z"
   },
   {
    "duration": 128,
    "start_time": "2023-07-02T16:59:31.120Z"
   },
   {
    "duration": 6,
    "start_time": "2023-07-02T16:59:31.249Z"
   },
   {
    "duration": 281,
    "start_time": "2023-07-02T16:59:31.257Z"
   },
   {
    "duration": 136,
    "start_time": "2023-07-02T16:59:31.539Z"
   },
   {
    "duration": 516,
    "start_time": "2023-07-02T16:59:31.676Z"
   },
   {
    "duration": 4,
    "start_time": "2023-07-02T16:59:32.194Z"
   },
   {
    "duration": 38,
    "start_time": "2023-07-02T16:59:32.200Z"
   },
   {
    "duration": 8,
    "start_time": "2023-07-02T16:59:32.240Z"
   },
   {
    "duration": 26,
    "start_time": "2023-07-02T16:59:32.250Z"
   },
   {
    "duration": 27,
    "start_time": "2023-07-02T16:59:32.278Z"
   },
   {
    "duration": 9,
    "start_time": "2023-07-02T16:59:32.307Z"
   },
   {
    "duration": 14,
    "start_time": "2023-07-02T16:59:32.318Z"
   },
   {
    "duration": 53,
    "start_time": "2023-07-02T16:59:32.334Z"
   },
   {
    "duration": 8,
    "start_time": "2023-07-02T16:59:32.389Z"
   },
   {
    "duration": 13,
    "start_time": "2023-07-02T16:59:32.399Z"
   },
   {
    "duration": 8,
    "start_time": "2023-07-02T16:59:32.413Z"
   },
   {
    "duration": 7,
    "start_time": "2023-07-02T16:59:32.423Z"
   },
   {
    "duration": 47,
    "start_time": "2023-07-02T16:59:32.431Z"
   },
   {
    "duration": 107,
    "start_time": "2023-07-02T16:59:32.480Z"
   },
   {
    "duration": 189,
    "start_time": "2023-07-02T16:59:32.589Z"
   },
   {
    "duration": 105,
    "start_time": "2023-07-02T16:59:32.780Z"
   },
   {
    "duration": 6,
    "start_time": "2023-07-02T16:59:32.887Z"
   },
   {
    "duration": 11,
    "start_time": "2023-07-02T16:59:32.895Z"
   },
   {
    "duration": 7,
    "start_time": "2023-07-02T16:59:32.907Z"
   },
   {
    "duration": 16,
    "start_time": "2023-07-02T16:59:32.915Z"
   },
   {
    "duration": 48,
    "start_time": "2023-07-02T16:59:32.933Z"
   },
   {
    "duration": 13,
    "start_time": "2023-07-02T16:59:32.983Z"
   },
   {
    "duration": 4,
    "start_time": "2023-07-02T16:59:32.997Z"
   },
   {
    "duration": 5,
    "start_time": "2023-07-02T16:59:33.003Z"
   },
   {
    "duration": 5,
    "start_time": "2023-07-02T16:59:33.010Z"
   },
   {
    "duration": 1286,
    "start_time": "2023-07-02T16:59:33.017Z"
   },
   {
    "duration": 1703,
    "start_time": "2023-07-02T16:59:34.305Z"
   },
   {
    "duration": 1642,
    "start_time": "2023-07-02T16:59:36.009Z"
   },
   {
    "duration": 9,
    "start_time": "2023-07-02T16:59:37.656Z"
   },
   {
    "duration": 3,
    "start_time": "2023-07-02T17:01:35.187Z"
   },
   {
    "duration": 3,
    "start_time": "2023-07-02T17:01:46.727Z"
   },
   {
    "duration": 3,
    "start_time": "2023-07-02T17:02:03.929Z"
   },
   {
    "duration": 4,
    "start_time": "2023-07-02T17:02:13.009Z"
   },
   {
    "duration": 3,
    "start_time": "2023-07-02T17:03:40.630Z"
   },
   {
    "duration": 4,
    "start_time": "2023-07-02T17:03:42.438Z"
   },
   {
    "duration": 273,
    "start_time": "2023-07-02T17:04:21.803Z"
   },
   {
    "duration": 62,
    "start_time": "2023-07-02T17:04:29.822Z"
   },
   {
    "duration": 3,
    "start_time": "2023-07-02T17:05:59.934Z"
   },
   {
    "duration": 93,
    "start_time": "2023-07-02T17:06:01.889Z"
   },
   {
    "duration": 2,
    "start_time": "2023-07-02T17:06:50.147Z"
   },
   {
    "duration": 4,
    "start_time": "2023-07-02T17:07:21.409Z"
   },
   {
    "duration": 17,
    "start_time": "2023-07-02T17:07:31.299Z"
   },
   {
    "duration": 20,
    "start_time": "2023-07-02T17:07:44.225Z"
   },
   {
    "duration": 30,
    "start_time": "2023-07-02T17:07:54.454Z"
   },
   {
    "duration": 17,
    "start_time": "2023-07-02T17:08:07.281Z"
   },
   {
    "duration": 4,
    "start_time": "2023-07-02T17:08:22.767Z"
   },
   {
    "duration": 14,
    "start_time": "2023-07-02T17:08:24.082Z"
   },
   {
    "duration": 13,
    "start_time": "2023-07-02T17:08:29.347Z"
   },
   {
    "duration": 15,
    "start_time": "2023-07-02T17:08:42.209Z"
   },
   {
    "duration": 4,
    "start_time": "2023-07-02T17:08:54.936Z"
   },
   {
    "duration": 15,
    "start_time": "2023-07-02T17:08:56.854Z"
   },
   {
    "duration": 14,
    "start_time": "2023-07-02T17:08:59.316Z"
   },
   {
    "duration": 15,
    "start_time": "2023-07-02T17:09:01.158Z"
   },
   {
    "duration": 69,
    "start_time": "2023-07-02T17:09:29.722Z"
   },
   {
    "duration": 3,
    "start_time": "2023-07-02T17:09:37.342Z"
   },
   {
    "duration": 15,
    "start_time": "2023-07-02T17:09:40.853Z"
   },
   {
    "duration": 4,
    "start_time": "2023-07-02T17:09:51.133Z"
   },
   {
    "duration": 70,
    "start_time": "2023-07-02T17:09:52.612Z"
   },
   {
    "duration": 16,
    "start_time": "2023-07-02T17:09:54.791Z"
   },
   {
    "duration": 16,
    "start_time": "2023-07-02T17:09:56.893Z"
   },
   {
    "duration": 3,
    "start_time": "2023-07-02T17:13:35.780Z"
   },
   {
    "duration": 3,
    "start_time": "2023-07-02T17:15:28.330Z"
   },
   {
    "duration": 3,
    "start_time": "2023-07-02T17:15:41.534Z"
   },
   {
    "duration": 32,
    "start_time": "2023-07-02T17:15:43.288Z"
   },
   {
    "duration": 4,
    "start_time": "2023-07-02T17:15:54.145Z"
   },
   {
    "duration": 4,
    "start_time": "2023-07-02T17:15:55.861Z"
   },
   {
    "duration": 3,
    "start_time": "2023-07-02T17:15:57.686Z"
   },
   {
    "duration": 13,
    "start_time": "2023-07-02T17:15:58.991Z"
   },
   {
    "duration": 12,
    "start_time": "2023-07-02T17:16:02.947Z"
   },
   {
    "duration": 14,
    "start_time": "2023-07-02T17:16:05.578Z"
   },
   {
    "duration": 4,
    "start_time": "2023-07-02T17:16:24.561Z"
   },
   {
    "duration": 414,
    "start_time": "2023-07-02T17:16:24.566Z"
   },
   {
    "duration": 22,
    "start_time": "2023-07-02T17:16:24.982Z"
   },
   {
    "duration": 30,
    "start_time": "2023-07-02T17:16:25.006Z"
   },
   {
    "duration": 25,
    "start_time": "2023-07-02T17:16:25.038Z"
   },
   {
    "duration": 25,
    "start_time": "2023-07-02T17:16:25.075Z"
   },
   {
    "duration": 22,
    "start_time": "2023-07-02T17:16:25.102Z"
   },
   {
    "duration": 19,
    "start_time": "2023-07-02T17:16:25.126Z"
   },
   {
    "duration": 41,
    "start_time": "2023-07-02T17:16:25.148Z"
   },
   {
    "duration": 63,
    "start_time": "2023-07-02T17:16:25.191Z"
   },
   {
    "duration": 59,
    "start_time": "2023-07-02T17:16:25.256Z"
   },
   {
    "duration": 59,
    "start_time": "2023-07-02T17:16:25.317Z"
   },
   {
    "duration": 32,
    "start_time": "2023-07-02T17:16:25.378Z"
   },
   {
    "duration": 40,
    "start_time": "2023-07-02T17:16:25.411Z"
   },
   {
    "duration": 50,
    "start_time": "2023-07-02T17:16:25.453Z"
   },
   {
    "duration": 3,
    "start_time": "2023-07-02T17:16:25.505Z"
   },
   {
    "duration": 284,
    "start_time": "2023-07-02T17:16:25.510Z"
   },
   {
    "duration": 286,
    "start_time": "2023-07-02T17:16:25.796Z"
   },
   {
    "duration": 309,
    "start_time": "2023-07-02T17:16:26.084Z"
   },
   {
    "duration": 5,
    "start_time": "2023-07-02T17:16:26.395Z"
   },
   {
    "duration": 14,
    "start_time": "2023-07-02T17:16:26.402Z"
   },
   {
    "duration": 334,
    "start_time": "2023-07-02T17:16:26.417Z"
   },
   {
    "duration": 143,
    "start_time": "2023-07-02T17:16:26.753Z"
   },
   {
    "duration": 345,
    "start_time": "2023-07-02T17:16:26.900Z"
   },
   {
    "duration": 129,
    "start_time": "2023-07-02T17:16:27.247Z"
   },
   {
    "duration": 238,
    "start_time": "2023-07-02T17:16:27.378Z"
   },
   {
    "duration": 114,
    "start_time": "2023-07-02T17:16:27.617Z"
   },
   {
    "duration": 5,
    "start_time": "2023-07-02T17:16:27.733Z"
   },
   {
    "duration": 252,
    "start_time": "2023-07-02T17:16:27.739Z"
   },
   {
    "duration": 6,
    "start_time": "2023-07-02T17:16:27.992Z"
   },
   {
    "duration": 128,
    "start_time": "2023-07-02T17:16:27.999Z"
   },
   {
    "duration": 261,
    "start_time": "2023-07-02T17:16:28.129Z"
   },
   {
    "duration": 121,
    "start_time": "2023-07-02T17:16:28.391Z"
   },
   {
    "duration": 350,
    "start_time": "2023-07-02T17:16:28.515Z"
   },
   {
    "duration": 111,
    "start_time": "2023-07-02T17:16:28.866Z"
   },
   {
    "duration": 6,
    "start_time": "2023-07-02T17:16:28.979Z"
   },
   {
    "duration": 195,
    "start_time": "2023-07-02T17:16:28.987Z"
   },
   {
    "duration": 132,
    "start_time": "2023-07-02T17:16:29.183Z"
   },
   {
    "duration": 200,
    "start_time": "2023-07-02T17:16:29.316Z"
   },
   {
    "duration": 6,
    "start_time": "2023-07-02T17:16:29.517Z"
   },
   {
    "duration": 127,
    "start_time": "2023-07-02T17:16:29.525Z"
   },
   {
    "duration": 265,
    "start_time": "2023-07-02T17:16:29.653Z"
   },
   {
    "duration": 138,
    "start_time": "2023-07-02T17:16:29.919Z"
   },
   {
    "duration": 17,
    "start_time": "2023-07-02T17:16:30.059Z"
   },
   {
    "duration": 379,
    "start_time": "2023-07-02T17:16:30.077Z"
   },
   {
    "duration": 126,
    "start_time": "2023-07-02T17:16:30.457Z"
   },
   {
    "duration": 6,
    "start_time": "2023-07-02T17:16:30.585Z"
   },
   {
    "duration": 268,
    "start_time": "2023-07-02T17:16:30.593Z"
   },
   {
    "duration": 120,
    "start_time": "2023-07-02T17:16:30.863Z"
   },
   {
    "duration": 6,
    "start_time": "2023-07-02T17:16:30.984Z"
   },
   {
    "duration": 304,
    "start_time": "2023-07-02T17:16:30.991Z"
   },
   {
    "duration": 125,
    "start_time": "2023-07-02T17:16:31.296Z"
   },
   {
    "duration": 454,
    "start_time": "2023-07-02T17:16:31.422Z"
   },
   {
    "duration": 5,
    "start_time": "2023-07-02T17:16:31.878Z"
   },
   {
    "duration": 39,
    "start_time": "2023-07-02T17:16:31.885Z"
   },
   {
    "duration": 10,
    "start_time": "2023-07-02T17:16:31.925Z"
   },
   {
    "duration": 21,
    "start_time": "2023-07-02T17:16:31.937Z"
   },
   {
    "duration": 118,
    "start_time": "2023-07-02T17:16:31.960Z"
   },
   {
    "duration": 7,
    "start_time": "2023-07-02T17:16:32.080Z"
   },
   {
    "duration": 29,
    "start_time": "2023-07-02T17:16:32.089Z"
   },
   {
    "duration": 32,
    "start_time": "2023-07-02T17:16:32.120Z"
   },
   {
    "duration": 7,
    "start_time": "2023-07-02T17:16:32.154Z"
   },
   {
    "duration": 18,
    "start_time": "2023-07-02T17:16:32.162Z"
   },
   {
    "duration": 5,
    "start_time": "2023-07-02T17:16:32.182Z"
   },
   {
    "duration": 6,
    "start_time": "2023-07-02T17:16:32.188Z"
   },
   {
    "duration": 21,
    "start_time": "2023-07-02T17:16:32.196Z"
   },
   {
    "duration": 105,
    "start_time": "2023-07-02T17:16:32.284Z"
   },
   {
    "duration": 186,
    "start_time": "2023-07-02T17:16:32.391Z"
   },
   {
    "duration": 92,
    "start_time": "2023-07-02T17:16:32.586Z"
   },
   {
    "duration": 8,
    "start_time": "2023-07-02T17:16:32.680Z"
   },
   {
    "duration": 5,
    "start_time": "2023-07-02T17:16:32.691Z"
   },
   {
    "duration": 24,
    "start_time": "2023-07-02T17:16:32.697Z"
   },
   {
    "duration": 28,
    "start_time": "2023-07-02T17:16:32.723Z"
   },
   {
    "duration": 28,
    "start_time": "2023-07-02T17:16:32.753Z"
   },
   {
    "duration": 3,
    "start_time": "2023-07-02T17:16:32.783Z"
   },
   {
    "duration": 6,
    "start_time": "2023-07-02T17:16:32.787Z"
   },
   {
    "duration": 5,
    "start_time": "2023-07-02T17:16:32.794Z"
   },
   {
    "duration": 1484,
    "start_time": "2023-07-02T17:16:32.801Z"
   },
   {
    "duration": 1886,
    "start_time": "2023-07-02T17:16:34.286Z"
   },
   {
    "duration": 1276,
    "start_time": "2023-07-02T17:16:36.173Z"
   },
   {
    "duration": 9,
    "start_time": "2023-07-02T17:16:37.451Z"
   },
   {
    "duration": 3,
    "start_time": "2023-07-02T17:18:44.617Z"
   },
   {
    "duration": 1291,
    "start_time": "2023-07-02T17:18:46.612Z"
   },
   {
    "duration": 4,
    "start_time": "2023-07-02T17:19:32.179Z"
   },
   {
    "duration": 405,
    "start_time": "2023-07-02T17:19:32.186Z"
   },
   {
    "duration": 21,
    "start_time": "2023-07-02T17:19:32.593Z"
   },
   {
    "duration": 22,
    "start_time": "2023-07-02T17:19:32.616Z"
   },
   {
    "duration": 38,
    "start_time": "2023-07-02T17:19:32.640Z"
   },
   {
    "duration": 20,
    "start_time": "2023-07-02T17:19:32.679Z"
   },
   {
    "duration": 22,
    "start_time": "2023-07-02T17:19:32.700Z"
   },
   {
    "duration": 20,
    "start_time": "2023-07-02T17:19:32.724Z"
   },
   {
    "duration": 52,
    "start_time": "2023-07-02T17:19:32.746Z"
   },
   {
    "duration": 40,
    "start_time": "2023-07-02T17:19:32.800Z"
   },
   {
    "duration": 57,
    "start_time": "2023-07-02T17:19:32.842Z"
   },
   {
    "duration": 37,
    "start_time": "2023-07-02T17:19:32.901Z"
   },
   {
    "duration": 44,
    "start_time": "2023-07-02T17:19:32.940Z"
   },
   {
    "duration": 27,
    "start_time": "2023-07-02T17:19:32.989Z"
   },
   {
    "duration": 26,
    "start_time": "2023-07-02T17:19:33.018Z"
   },
   {
    "duration": 25,
    "start_time": "2023-07-02T17:19:33.045Z"
   },
   {
    "duration": 282,
    "start_time": "2023-07-02T17:19:33.071Z"
   },
   {
    "duration": 292,
    "start_time": "2023-07-02T17:19:33.355Z"
   },
   {
    "duration": 346,
    "start_time": "2023-07-02T17:19:33.649Z"
   },
   {
    "duration": 6,
    "start_time": "2023-07-02T17:19:33.997Z"
   },
   {
    "duration": 12,
    "start_time": "2023-07-02T17:19:34.005Z"
   },
   {
    "duration": 306,
    "start_time": "2023-07-02T17:19:34.018Z"
   },
   {
    "duration": 130,
    "start_time": "2023-07-02T17:19:34.326Z"
   },
   {
    "duration": 258,
    "start_time": "2023-07-02T17:19:34.458Z"
   },
   {
    "duration": 109,
    "start_time": "2023-07-02T17:19:34.718Z"
   },
   {
    "duration": 360,
    "start_time": "2023-07-02T17:19:34.829Z"
   },
   {
    "duration": 135,
    "start_time": "2023-07-02T17:19:35.191Z"
   },
   {
    "duration": 6,
    "start_time": "2023-07-02T17:19:35.327Z"
   },
   {
    "duration": 276,
    "start_time": "2023-07-02T17:19:35.335Z"
   },
   {
    "duration": 4,
    "start_time": "2023-07-02T17:19:35.613Z"
   },
   {
    "duration": 134,
    "start_time": "2023-07-02T17:19:35.618Z"
   },
   {
    "duration": 287,
    "start_time": "2023-07-02T17:19:35.753Z"
   },
   {
    "duration": 136,
    "start_time": "2023-07-02T17:19:36.041Z"
   },
   {
    "duration": 300,
    "start_time": "2023-07-02T17:19:36.179Z"
   },
   {
    "duration": 130,
    "start_time": "2023-07-02T17:19:36.488Z"
   },
   {
    "duration": 7,
    "start_time": "2023-07-02T17:19:36.620Z"
   },
   {
    "duration": 307,
    "start_time": "2023-07-02T17:19:36.628Z"
   },
   {
    "duration": 126,
    "start_time": "2023-07-02T17:19:36.937Z"
   },
   {
    "duration": 236,
    "start_time": "2023-07-02T17:19:37.065Z"
   },
   {
    "duration": 7,
    "start_time": "2023-07-02T17:19:37.303Z"
   },
   {
    "duration": 137,
    "start_time": "2023-07-02T17:19:37.314Z"
   },
   {
    "duration": 282,
    "start_time": "2023-07-02T17:19:37.453Z"
   },
   {
    "duration": 137,
    "start_time": "2023-07-02T17:19:37.737Z"
   },
   {
    "duration": 7,
    "start_time": "2023-07-02T17:19:37.887Z"
   },
   {
    "duration": 269,
    "start_time": "2023-07-02T17:19:37.896Z"
   },
   {
    "duration": 161,
    "start_time": "2023-07-02T17:19:38.167Z"
   },
   {
    "duration": 6,
    "start_time": "2023-07-02T17:19:38.331Z"
   },
   {
    "duration": 362,
    "start_time": "2023-07-02T17:19:38.339Z"
   },
   {
    "duration": 128,
    "start_time": "2023-07-02T17:19:38.703Z"
   },
   {
    "duration": 7,
    "start_time": "2023-07-02T17:19:38.833Z"
   },
   {
    "duration": 264,
    "start_time": "2023-07-02T17:19:38.841Z"
   },
   {
    "duration": 146,
    "start_time": "2023-07-02T17:19:39.106Z"
   },
   {
    "duration": 449,
    "start_time": "2023-07-02T17:19:39.255Z"
   },
   {
    "duration": 4,
    "start_time": "2023-07-02T17:19:39.706Z"
   },
   {
    "duration": 26,
    "start_time": "2023-07-02T17:19:39.712Z"
   },
   {
    "duration": 7,
    "start_time": "2023-07-02T17:19:39.740Z"
   },
   {
    "duration": 32,
    "start_time": "2023-07-02T17:19:39.749Z"
   },
   {
    "duration": 26,
    "start_time": "2023-07-02T17:19:39.783Z"
   },
   {
    "duration": 7,
    "start_time": "2023-07-02T17:19:39.811Z"
   },
   {
    "duration": 10,
    "start_time": "2023-07-02T17:19:39.820Z"
   },
   {
    "duration": 54,
    "start_time": "2023-07-02T17:19:39.832Z"
   },
   {
    "duration": 9,
    "start_time": "2023-07-02T17:19:39.887Z"
   },
   {
    "duration": 16,
    "start_time": "2023-07-02T17:19:39.897Z"
   },
   {
    "duration": 6,
    "start_time": "2023-07-02T17:19:39.914Z"
   },
   {
    "duration": 7,
    "start_time": "2023-07-02T17:19:39.922Z"
   },
   {
    "duration": 55,
    "start_time": "2023-07-02T17:19:39.930Z"
   },
   {
    "duration": 191,
    "start_time": "2023-07-02T17:19:39.987Z"
   },
   {
    "duration": 121,
    "start_time": "2023-07-02T17:19:40.183Z"
   },
   {
    "duration": 6,
    "start_time": "2023-07-02T17:19:40.375Z"
   },
   {
    "duration": 100,
    "start_time": "2023-07-02T17:19:40.383Z"
   },
   {
    "duration": 5,
    "start_time": "2023-07-02T17:19:40.485Z"
   },
   {
    "duration": 26,
    "start_time": "2023-07-02T17:19:40.491Z"
   },
   {
    "duration": 12,
    "start_time": "2023-07-02T17:19:40.518Z"
   },
   {
    "duration": 20,
    "start_time": "2023-07-02T17:19:40.532Z"
   },
   {
    "duration": 3,
    "start_time": "2023-07-02T17:19:40.554Z"
   },
   {
    "duration": 6,
    "start_time": "2023-07-02T17:19:40.558Z"
   },
   {
    "duration": 5,
    "start_time": "2023-07-02T17:19:40.576Z"
   },
   {
    "duration": 1704,
    "start_time": "2023-07-02T17:19:40.582Z"
   },
   {
    "duration": 2004,
    "start_time": "2023-07-02T17:19:42.288Z"
   },
   {
    "duration": 1296,
    "start_time": "2023-07-02T17:19:44.294Z"
   },
   {
    "duration": 4,
    "start_time": "2023-07-02T20:02:56.994Z"
   },
   {
    "duration": 15,
    "start_time": "2023-07-02T20:02:59.034Z"
   },
   {
    "duration": 15,
    "start_time": "2023-07-02T20:03:01.043Z"
   },
   {
    "duration": 15,
    "start_time": "2023-07-02T20:03:03.006Z"
   },
   {
    "duration": 63,
    "start_time": "2023-07-02T20:04:20.888Z"
   },
   {
    "duration": 4,
    "start_time": "2023-07-02T20:14:06.297Z"
   },
   {
    "duration": 19,
    "start_time": "2023-07-02T20:14:08.676Z"
   },
   {
    "duration": 4,
    "start_time": "2023-07-02T20:15:22.600Z"
   },
   {
    "duration": 13,
    "start_time": "2023-07-02T20:15:24.290Z"
   },
   {
    "duration": 4,
    "start_time": "2023-07-02T20:15:34.221Z"
   },
   {
    "duration": 37,
    "start_time": "2023-07-02T20:15:35.974Z"
   },
   {
    "duration": 4,
    "start_time": "2023-07-02T20:15:39.488Z"
   },
   {
    "duration": 12,
    "start_time": "2023-07-02T20:15:41.146Z"
   },
   {
    "duration": 3,
    "start_time": "2023-07-02T20:25:21.831Z"
   },
   {
    "duration": 3,
    "start_time": "2023-07-02T20:25:34.147Z"
   },
   {
    "duration": 5,
    "start_time": "2023-07-02T20:26:15.162Z"
   },
   {
    "duration": 398,
    "start_time": "2023-07-02T20:26:15.169Z"
   },
   {
    "duration": 22,
    "start_time": "2023-07-02T20:26:15.569Z"
   },
   {
    "duration": 13,
    "start_time": "2023-07-02T20:26:15.592Z"
   },
   {
    "duration": 18,
    "start_time": "2023-07-02T20:26:15.607Z"
   },
   {
    "duration": 12,
    "start_time": "2023-07-02T20:26:15.626Z"
   },
   {
    "duration": 51,
    "start_time": "2023-07-02T20:26:15.640Z"
   },
   {
    "duration": 19,
    "start_time": "2023-07-02T20:26:15.693Z"
   },
   {
    "duration": 20,
    "start_time": "2023-07-02T20:26:15.713Z"
   },
   {
    "duration": 71,
    "start_time": "2023-07-02T20:26:15.734Z"
   },
   {
    "duration": 37,
    "start_time": "2023-07-02T20:26:15.808Z"
   },
   {
    "duration": 58,
    "start_time": "2023-07-02T20:26:15.847Z"
   },
   {
    "duration": 29,
    "start_time": "2023-07-02T20:26:15.907Z"
   },
   {
    "duration": 42,
    "start_time": "2023-07-02T20:26:15.938Z"
   },
   {
    "duration": 30,
    "start_time": "2023-07-02T20:26:15.981Z"
   },
   {
    "duration": 4,
    "start_time": "2023-07-02T20:26:16.013Z"
   },
   {
    "duration": 248,
    "start_time": "2023-07-02T20:26:16.018Z"
   },
   {
    "duration": 306,
    "start_time": "2023-07-02T20:26:16.274Z"
   },
   {
    "duration": 267,
    "start_time": "2023-07-02T20:26:16.581Z"
   },
   {
    "duration": 4,
    "start_time": "2023-07-02T20:26:16.849Z"
   },
   {
    "duration": 8,
    "start_time": "2023-07-02T20:26:16.855Z"
   },
   {
    "duration": 364,
    "start_time": "2023-07-02T20:26:16.865Z"
   },
   {
    "duration": 129,
    "start_time": "2023-07-02T20:26:17.231Z"
   },
   {
    "duration": 268,
    "start_time": "2023-07-02T20:26:17.361Z"
   },
   {
    "duration": 100,
    "start_time": "2023-07-02T20:26:17.630Z"
   },
   {
    "duration": 238,
    "start_time": "2023-07-02T20:26:17.731Z"
   },
   {
    "duration": 114,
    "start_time": "2023-07-02T20:26:17.975Z"
   },
   {
    "duration": 6,
    "start_time": "2023-07-02T20:26:18.090Z"
   },
   {
    "duration": 276,
    "start_time": "2023-07-02T20:26:18.099Z"
   },
   {
    "duration": 5,
    "start_time": "2023-07-02T20:26:18.376Z"
   },
   {
    "duration": 242,
    "start_time": "2023-07-02T20:26:18.382Z"
   },
   {
    "duration": 266,
    "start_time": "2023-07-02T20:26:18.626Z"
   },
   {
    "duration": 110,
    "start_time": "2023-07-02T20:26:18.894Z"
   },
   {
    "duration": 279,
    "start_time": "2023-07-02T20:26:19.007Z"
   },
   {
    "duration": 113,
    "start_time": "2023-07-02T20:26:19.289Z"
   },
   {
    "duration": 6,
    "start_time": "2023-07-02T20:26:19.403Z"
   },
   {
    "duration": 235,
    "start_time": "2023-07-02T20:26:19.410Z"
   },
   {
    "duration": 130,
    "start_time": "2023-07-02T20:26:19.647Z"
   },
   {
    "duration": 216,
    "start_time": "2023-07-02T20:26:19.779Z"
   },
   {
    "duration": 7,
    "start_time": "2023-07-02T20:26:19.997Z"
   },
   {
    "duration": 186,
    "start_time": "2023-07-02T20:26:20.005Z"
   },
   {
    "duration": 378,
    "start_time": "2023-07-02T20:26:20.194Z"
   },
   {
    "duration": 138,
    "start_time": "2023-07-02T20:26:20.575Z"
   },
   {
    "duration": 5,
    "start_time": "2023-07-02T20:26:20.715Z"
   },
   {
    "duration": 283,
    "start_time": "2023-07-02T20:26:20.722Z"
   },
   {
    "duration": 155,
    "start_time": "2023-07-02T20:26:21.007Z"
   },
   {
    "duration": 12,
    "start_time": "2023-07-02T20:26:21.164Z"
   },
   {
    "duration": 280,
    "start_time": "2023-07-02T20:26:21.178Z"
   },
   {
    "duration": 145,
    "start_time": "2023-07-02T20:26:21.460Z"
   },
   {
    "duration": 8,
    "start_time": "2023-07-02T20:26:21.607Z"
   },
   {
    "duration": 332,
    "start_time": "2023-07-02T20:26:21.616Z"
   },
   {
    "duration": 237,
    "start_time": "2023-07-02T20:26:21.950Z"
   },
   {
    "duration": 485,
    "start_time": "2023-07-02T20:26:22.190Z"
   },
   {
    "duration": 5,
    "start_time": "2023-07-02T20:26:22.678Z"
   },
   {
    "duration": 47,
    "start_time": "2023-07-02T20:26:22.685Z"
   },
   {
    "duration": 8,
    "start_time": "2023-07-02T20:26:22.733Z"
   },
   {
    "duration": 16,
    "start_time": "2023-07-02T20:26:22.743Z"
   },
   {
    "duration": 31,
    "start_time": "2023-07-02T20:26:22.761Z"
   },
   {
    "duration": 12,
    "start_time": "2023-07-02T20:26:22.794Z"
   },
   {
    "duration": 16,
    "start_time": "2023-07-02T20:26:22.807Z"
   },
   {
    "duration": 35,
    "start_time": "2023-07-02T20:26:22.825Z"
   },
   {
    "duration": 7,
    "start_time": "2023-07-02T20:26:22.862Z"
   },
   {
    "duration": 26,
    "start_time": "2023-07-02T20:26:22.871Z"
   },
   {
    "duration": 14,
    "start_time": "2023-07-02T20:26:22.899Z"
   },
   {
    "duration": 60,
    "start_time": "2023-07-02T20:26:22.914Z"
   },
   {
    "duration": 139,
    "start_time": "2023-07-02T20:26:22.977Z"
   },
   {
    "duration": 73,
    "start_time": "2023-07-02T20:26:23.118Z"
   },
   {
    "duration": 184,
    "start_time": "2023-07-02T20:26:23.193Z"
   },
   {
    "duration": 33,
    "start_time": "2023-07-02T20:26:23.379Z"
   },
   {
    "duration": 29,
    "start_time": "2023-07-02T20:26:23.415Z"
   },
   {
    "duration": 34,
    "start_time": "2023-07-02T20:26:23.446Z"
   },
   {
    "duration": 34,
    "start_time": "2023-07-02T20:26:23.482Z"
   },
   {
    "duration": 19,
    "start_time": "2023-07-02T20:26:23.518Z"
   },
   {
    "duration": 15,
    "start_time": "2023-07-02T20:26:23.538Z"
   },
   {
    "duration": 13,
    "start_time": "2023-07-02T20:26:23.554Z"
   },
   {
    "duration": 33,
    "start_time": "2023-07-02T20:26:23.568Z"
   },
   {
    "duration": 1326,
    "start_time": "2023-07-02T20:26:23.603Z"
   },
   {
    "duration": 1313,
    "start_time": "2023-07-02T20:26:24.931Z"
   },
   {
    "duration": 1306,
    "start_time": "2023-07-02T20:26:26.246Z"
   },
   {
    "duration": 4,
    "start_time": "2023-07-02T20:28:32.383Z"
   },
   {
    "duration": 359,
    "start_time": "2023-07-02T20:28:32.389Z"
   },
   {
    "duration": 26,
    "start_time": "2023-07-02T20:28:32.750Z"
   },
   {
    "duration": 14,
    "start_time": "2023-07-02T20:28:32.778Z"
   },
   {
    "duration": 12,
    "start_time": "2023-07-02T20:28:32.794Z"
   },
   {
    "duration": 18,
    "start_time": "2023-07-02T20:28:32.808Z"
   },
   {
    "duration": 48,
    "start_time": "2023-07-02T20:28:32.827Z"
   },
   {
    "duration": 19,
    "start_time": "2023-07-02T20:28:32.876Z"
   },
   {
    "duration": 17,
    "start_time": "2023-07-02T20:28:32.897Z"
   },
   {
    "duration": 60,
    "start_time": "2023-07-02T20:28:32.915Z"
   },
   {
    "duration": 36,
    "start_time": "2023-07-02T20:28:32.977Z"
   },
   {
    "duration": 38,
    "start_time": "2023-07-02T20:28:33.015Z"
   },
   {
    "duration": 45,
    "start_time": "2023-07-02T20:28:33.054Z"
   },
   {
    "duration": 25,
    "start_time": "2023-07-02T20:28:33.101Z"
   },
   {
    "duration": 25,
    "start_time": "2023-07-02T20:28:33.127Z"
   },
   {
    "duration": 2,
    "start_time": "2023-07-02T20:28:33.175Z"
   },
   {
    "duration": 266,
    "start_time": "2023-07-02T20:28:33.179Z"
   },
   {
    "duration": 281,
    "start_time": "2023-07-02T20:28:33.447Z"
   },
   {
    "duration": 248,
    "start_time": "2023-07-02T20:28:33.729Z"
   },
   {
    "duration": 5,
    "start_time": "2023-07-02T20:28:33.978Z"
   },
   {
    "duration": 15,
    "start_time": "2023-07-02T20:28:33.984Z"
   },
   {
    "duration": 241,
    "start_time": "2023-07-02T20:28:34.000Z"
   },
   {
    "duration": 127,
    "start_time": "2023-07-02T20:28:34.242Z"
   },
   {
    "duration": 311,
    "start_time": "2023-07-02T20:28:34.376Z"
   },
   {
    "duration": 104,
    "start_time": "2023-07-02T20:28:34.688Z"
   },
   {
    "duration": 247,
    "start_time": "2023-07-02T20:28:34.794Z"
   },
   {
    "duration": 116,
    "start_time": "2023-07-02T20:28:35.043Z"
   },
   {
    "duration": 17,
    "start_time": "2023-07-02T20:28:35.161Z"
   },
   {
    "duration": 256,
    "start_time": "2023-07-02T20:28:35.179Z"
   },
   {
    "duration": 5,
    "start_time": "2023-07-02T20:28:35.437Z"
   },
   {
    "duration": 122,
    "start_time": "2023-07-02T20:28:35.443Z"
   },
   {
    "duration": 258,
    "start_time": "2023-07-02T20:28:35.567Z"
   },
   {
    "duration": 212,
    "start_time": "2023-07-02T20:28:35.827Z"
   },
   {
    "duration": 245,
    "start_time": "2023-07-02T20:28:36.042Z"
   },
   {
    "duration": 140,
    "start_time": "2023-07-02T20:28:36.289Z"
   },
   {
    "duration": 6,
    "start_time": "2023-07-02T20:28:36.430Z"
   },
   {
    "duration": 188,
    "start_time": "2023-07-02T20:28:36.437Z"
   },
   {
    "duration": 118,
    "start_time": "2023-07-02T20:28:36.627Z"
   },
   {
    "duration": 193,
    "start_time": "2023-07-02T20:28:36.746Z"
   },
   {
    "duration": 6,
    "start_time": "2023-07-02T20:28:36.941Z"
   },
   {
    "duration": 130,
    "start_time": "2023-07-02T20:28:36.948Z"
   },
   {
    "duration": 243,
    "start_time": "2023-07-02T20:28:37.080Z"
   },
   {
    "duration": 126,
    "start_time": "2023-07-02T20:28:37.325Z"
   },
   {
    "duration": 5,
    "start_time": "2023-07-02T20:28:37.452Z"
   },
   {
    "duration": 333,
    "start_time": "2023-07-02T20:28:37.459Z"
   },
   {
    "duration": 115,
    "start_time": "2023-07-02T20:28:37.794Z"
   },
   {
    "duration": 6,
    "start_time": "2023-07-02T20:28:37.910Z"
   },
   {
    "duration": 238,
    "start_time": "2023-07-02T20:28:37.917Z"
   },
   {
    "duration": 121,
    "start_time": "2023-07-02T20:28:38.156Z"
   },
   {
    "duration": 6,
    "start_time": "2023-07-02T20:28:38.279Z"
   },
   {
    "duration": 253,
    "start_time": "2023-07-02T20:28:38.286Z"
   },
   {
    "duration": 120,
    "start_time": "2023-07-02T20:28:38.542Z"
   },
   {
    "duration": 492,
    "start_time": "2023-07-02T20:28:38.664Z"
   },
   {
    "duration": 4,
    "start_time": "2023-07-02T20:28:39.158Z"
   },
   {
    "duration": 66,
    "start_time": "2023-07-02T20:28:39.164Z"
   },
   {
    "duration": 18,
    "start_time": "2023-07-02T20:28:39.232Z"
   },
   {
    "duration": 45,
    "start_time": "2023-07-02T20:28:39.251Z"
   },
   {
    "duration": 25,
    "start_time": "2023-07-02T20:28:39.298Z"
   },
   {
    "duration": 7,
    "start_time": "2023-07-02T20:28:39.324Z"
   },
   {
    "duration": 12,
    "start_time": "2023-07-02T20:28:39.332Z"
   },
   {
    "duration": 23,
    "start_time": "2023-07-02T20:28:39.345Z"
   },
   {
    "duration": 6,
    "start_time": "2023-07-02T20:28:39.370Z"
   },
   {
    "duration": 9,
    "start_time": "2023-07-02T20:28:39.378Z"
   },
   {
    "duration": 5,
    "start_time": "2023-07-02T20:28:39.388Z"
   },
   {
    "duration": 16,
    "start_time": "2023-07-02T20:28:39.394Z"
   },
   {
    "duration": 106,
    "start_time": "2023-07-02T20:28:39.477Z"
   },
   {
    "duration": 208,
    "start_time": "2023-07-02T20:28:39.585Z"
   },
   {
    "duration": 88,
    "start_time": "2023-07-02T20:28:39.795Z"
   },
   {
    "duration": 5,
    "start_time": "2023-07-02T20:28:39.978Z"
   },
   {
    "duration": 8,
    "start_time": "2023-07-02T20:28:39.985Z"
   },
   {
    "duration": 15,
    "start_time": "2023-07-02T20:28:39.995Z"
   },
   {
    "duration": 12,
    "start_time": "2023-07-02T20:28:40.012Z"
   },
   {
    "duration": 16,
    "start_time": "2023-07-02T20:28:40.026Z"
   },
   {
    "duration": 32,
    "start_time": "2023-07-02T20:28:40.043Z"
   },
   {
    "duration": 10,
    "start_time": "2023-07-02T20:28:40.077Z"
   },
   {
    "duration": 14,
    "start_time": "2023-07-02T20:28:40.088Z"
   },
   {
    "duration": 1203,
    "start_time": "2023-07-02T20:28:40.104Z"
   },
   {
    "duration": 1213,
    "start_time": "2023-07-02T20:28:41.309Z"
   },
   {
    "duration": 1240,
    "start_time": "2023-07-02T20:28:42.523Z"
   },
   {
    "duration": 5,
    "start_time": "2023-07-02T20:42:13.194Z"
   },
   {
    "duration": 1399,
    "start_time": "2023-07-02T20:42:26.005Z"
   },
   {
    "duration": 7,
    "start_time": "2023-07-02T20:47:03.500Z"
   },
   {
    "duration": 6,
    "start_time": "2023-07-02T20:47:08.985Z"
   },
   {
    "duration": 1583,
    "start_time": "2023-07-02T20:47:10.996Z"
   },
   {
    "duration": 7,
    "start_time": "2023-07-02T20:48:21.011Z"
   },
   {
    "duration": 1689,
    "start_time": "2023-07-02T20:48:23.789Z"
   },
   {
    "duration": 1689,
    "start_time": "2023-07-02T20:49:58.290Z"
   },
   {
    "duration": 1772,
    "start_time": "2023-07-02T20:50:12.921Z"
   },
   {
    "duration": 3,
    "start_time": "2023-07-02T20:51:18.375Z"
   },
   {
    "duration": 290,
    "start_time": "2023-07-02T20:51:20.394Z"
   },
   {
    "duration": 312,
    "start_time": "2023-07-02T20:51:23.455Z"
   },
   {
    "duration": 443,
    "start_time": "2023-07-02T20:51:26.195Z"
   },
   {
    "duration": 4,
    "start_time": "2023-07-02T20:51:49.509Z"
   },
   {
    "duration": 317,
    "start_time": "2023-07-02T20:51:51.072Z"
   },
   {
    "duration": 258,
    "start_time": "2023-07-02T20:51:57.631Z"
   },
   {
    "duration": 259,
    "start_time": "2023-07-02T20:52:00.519Z"
   },
   {
    "duration": 4,
    "start_time": "2023-07-02T20:52:37.346Z"
   },
   {
    "duration": 250,
    "start_time": "2023-07-02T20:52:39.201Z"
   },
   {
    "duration": 295,
    "start_time": "2023-07-02T20:52:43.774Z"
   },
   {
    "duration": 259,
    "start_time": "2023-07-02T20:52:46.029Z"
   },
   {
    "duration": 3,
    "start_time": "2023-07-02T20:53:39.754Z"
   },
   {
    "duration": 283,
    "start_time": "2023-07-02T20:53:41.773Z"
   },
   {
    "duration": 4,
    "start_time": "2023-07-02T20:53:46.994Z"
   },
   {
    "duration": 286,
    "start_time": "2023-07-02T20:53:48.711Z"
   },
   {
    "duration": 501,
    "start_time": "2023-07-02T20:55:38.666Z"
   },
   {
    "duration": 6,
    "start_time": "2023-07-02T20:56:44.312Z"
   },
   {
    "duration": 1713,
    "start_time": "2023-07-02T20:56:46.281Z"
   },
   {
    "duration": 6,
    "start_time": "2023-07-02T20:57:04.410Z"
   },
   {
    "duration": 1756,
    "start_time": "2023-07-02T20:57:06.238Z"
   },
   {
    "duration": 1704,
    "start_time": "2023-07-02T20:57:36.297Z"
   },
   {
    "duration": 1666,
    "start_time": "2023-07-02T20:57:44.161Z"
   },
   {
    "duration": 76,
    "start_time": "2023-07-02T20:59:26.953Z"
   },
   {
    "duration": 6,
    "start_time": "2023-07-02T20:59:36.985Z"
   },
   {
    "duration": 1669,
    "start_time": "2023-07-02T20:59:39.113Z"
   },
   {
    "duration": 120,
    "start_time": "2023-07-02T20:59:59.281Z"
   },
   {
    "duration": 1371,
    "start_time": "2023-07-02T21:00:01.230Z"
   },
   {
    "duration": 206,
    "start_time": "2023-07-02T21:00:20.925Z"
   },
   {
    "duration": 10,
    "start_time": "2023-07-02T21:00:26.790Z"
   },
   {
    "duration": 1786,
    "start_time": "2023-07-02T21:00:28.821Z"
   },
   {
    "duration": 10,
    "start_time": "2023-07-02T21:01:20.537Z"
   },
   {
    "duration": 1763,
    "start_time": "2023-07-02T21:01:22.237Z"
   },
   {
    "duration": 1795,
    "start_time": "2023-07-02T21:01:25.131Z"
   },
   {
    "duration": 1712,
    "start_time": "2023-07-02T21:01:30.475Z"
   },
   {
    "duration": 1682,
    "start_time": "2023-07-02T21:01:34.921Z"
   },
   {
    "duration": 1756,
    "start_time": "2023-07-02T21:01:38.771Z"
   },
   {
    "duration": 6,
    "start_time": "2023-07-02T21:02:18.356Z"
   },
   {
    "duration": 1697,
    "start_time": "2023-07-03T13:06:05.654Z"
   },
   {
    "duration": 1701,
    "start_time": "2023-07-03T13:06:07.353Z"
   },
   {
    "duration": 39,
    "start_time": "2023-07-03T13:06:09.057Z"
   },
   {
    "duration": 22,
    "start_time": "2023-07-03T13:06:09.098Z"
   },
   {
    "duration": 47,
    "start_time": "2023-07-03T13:06:09.123Z"
   },
   {
    "duration": 14,
    "start_time": "2023-07-03T13:06:09.172Z"
   },
   {
    "duration": 37,
    "start_time": "2023-07-03T13:06:09.187Z"
   },
   {
    "duration": 36,
    "start_time": "2023-07-03T13:06:09.226Z"
   },
   {
    "duration": 22,
    "start_time": "2023-07-03T13:06:09.264Z"
   },
   {
    "duration": 68,
    "start_time": "2023-07-03T13:06:09.288Z"
   },
   {
    "duration": 62,
    "start_time": "2023-07-03T13:06:09.359Z"
   },
   {
    "duration": 65,
    "start_time": "2023-07-03T13:06:09.423Z"
   },
   {
    "duration": 32,
    "start_time": "2023-07-03T13:06:09.490Z"
   },
   {
    "duration": 44,
    "start_time": "2023-07-03T13:06:09.525Z"
   },
   {
    "duration": 32,
    "start_time": "2023-07-03T13:06:09.571Z"
   },
   {
    "duration": 27,
    "start_time": "2023-07-03T13:06:09.605Z"
   },
   {
    "duration": 360,
    "start_time": "2023-07-03T13:06:09.634Z"
   },
   {
    "duration": 261,
    "start_time": "2023-07-03T13:06:09.996Z"
   },
   {
    "duration": 286,
    "start_time": "2023-07-03T13:06:10.260Z"
   },
   {
    "duration": 5,
    "start_time": "2023-07-03T13:06:10.556Z"
   },
   {
    "duration": 98,
    "start_time": "2023-07-03T13:06:10.563Z"
   },
   {
    "duration": 457,
    "start_time": "2023-07-03T13:06:10.663Z"
   },
   {
    "duration": 149,
    "start_time": "2023-07-03T13:06:11.122Z"
   },
   {
    "duration": 276,
    "start_time": "2023-07-03T13:06:11.273Z"
   },
   {
    "duration": 124,
    "start_time": "2023-07-03T13:06:11.557Z"
   },
   {
    "duration": 286,
    "start_time": "2023-07-03T13:06:11.684Z"
   },
   {
    "duration": 139,
    "start_time": "2023-07-03T13:06:11.973Z"
   },
   {
    "duration": 9,
    "start_time": "2023-07-03T13:06:12.114Z"
   },
   {
    "duration": 305,
    "start_time": "2023-07-03T13:06:12.125Z"
   },
   {
    "duration": 6,
    "start_time": "2023-07-03T13:06:12.432Z"
   },
   {
    "duration": 154,
    "start_time": "2023-07-03T13:06:12.439Z"
   },
   {
    "duration": 408,
    "start_time": "2023-07-03T13:06:12.595Z"
   },
   {
    "duration": 142,
    "start_time": "2023-07-03T13:06:13.004Z"
   },
   {
    "duration": 282,
    "start_time": "2023-07-03T13:06:13.156Z"
   },
   {
    "duration": 122,
    "start_time": "2023-07-03T13:06:13.439Z"
   },
   {
    "duration": 6,
    "start_time": "2023-07-03T13:06:13.563Z"
   },
   {
    "duration": 220,
    "start_time": "2023-07-03T13:06:13.571Z"
   },
   {
    "duration": 129,
    "start_time": "2023-07-03T13:06:13.793Z"
   },
   {
    "duration": 235,
    "start_time": "2023-07-03T13:06:13.924Z"
   },
   {
    "duration": 7,
    "start_time": "2023-07-03T13:06:14.161Z"
   },
   {
    "duration": 148,
    "start_time": "2023-07-03T13:06:14.171Z"
   },
   {
    "duration": 381,
    "start_time": "2023-07-03T13:06:14.321Z"
   },
   {
    "duration": 139,
    "start_time": "2023-07-03T13:06:14.704Z"
   },
   {
    "duration": 14,
    "start_time": "2023-07-03T13:06:14.845Z"
   },
   {
    "duration": 304,
    "start_time": "2023-07-03T13:06:14.861Z"
   },
   {
    "duration": 145,
    "start_time": "2023-07-03T13:06:15.166Z"
   },
   {
    "duration": 6,
    "start_time": "2023-07-03T13:06:15.312Z"
   },
   {
    "duration": 270,
    "start_time": "2023-07-03T13:06:15.320Z"
   },
   {
    "duration": 131,
    "start_time": "2023-07-03T13:06:15.592Z"
   },
   {
    "duration": 6,
    "start_time": "2023-07-03T13:06:15.725Z"
   },
   {
    "duration": 311,
    "start_time": "2023-07-03T13:06:15.733Z"
   },
   {
    "duration": 154,
    "start_time": "2023-07-03T13:06:16.046Z"
   },
   {
    "duration": 592,
    "start_time": "2023-07-03T13:06:16.202Z"
   },
   {
    "duration": 5,
    "start_time": "2023-07-03T13:06:16.797Z"
   },
   {
    "duration": 47,
    "start_time": "2023-07-03T13:06:16.803Z"
   },
   {
    "duration": 9,
    "start_time": "2023-07-03T13:06:16.852Z"
   },
   {
    "duration": 12,
    "start_time": "2023-07-03T13:06:16.863Z"
   },
   {
    "duration": 28,
    "start_time": "2023-07-03T13:06:16.877Z"
   },
   {
    "duration": 7,
    "start_time": "2023-07-03T13:06:16.907Z"
   },
   {
    "duration": 12,
    "start_time": "2023-07-03T13:06:16.916Z"
   },
   {
    "duration": 32,
    "start_time": "2023-07-03T13:06:16.958Z"
   },
   {
    "duration": 9,
    "start_time": "2023-07-03T13:06:16.992Z"
   },
   {
    "duration": 27,
    "start_time": "2023-07-03T13:06:17.003Z"
   },
   {
    "duration": 20,
    "start_time": "2023-07-03T13:06:17.031Z"
   },
   {
    "duration": 36,
    "start_time": "2023-07-03T13:06:17.053Z"
   },
   {
    "duration": 105,
    "start_time": "2023-07-03T13:06:17.159Z"
   },
   {
    "duration": 190,
    "start_time": "2023-07-03T13:06:17.267Z"
   },
   {
    "duration": 3,
    "start_time": "2023-07-03T13:06:17.459Z"
   },
   {
    "duration": 100,
    "start_time": "2023-07-03T13:06:17.465Z"
   },
   {
    "duration": 6,
    "start_time": "2023-07-03T13:06:17.567Z"
   },
   {
    "duration": 18,
    "start_time": "2023-07-03T13:06:17.575Z"
   },
   {
    "duration": 13,
    "start_time": "2023-07-03T13:06:17.596Z"
   },
   {
    "duration": 18,
    "start_time": "2023-07-03T13:06:17.611Z"
   },
   {
    "duration": 28,
    "start_time": "2023-07-03T13:06:17.631Z"
   },
   {
    "duration": 25,
    "start_time": "2023-07-03T13:06:17.660Z"
   },
   {
    "duration": 8,
    "start_time": "2023-07-03T13:06:17.687Z"
   },
   {
    "duration": 2101,
    "start_time": "2023-07-03T13:06:17.696Z"
   },
   {
    "duration": 1968,
    "start_time": "2023-07-03T13:06:19.799Z"
   },
   {
    "duration": 2645,
    "start_time": "2023-07-03T13:06:21.769Z"
   },
   {
    "duration": 81,
    "start_time": "2023-07-03T13:23:07.560Z"
   },
   {
    "duration": 124,
    "start_time": "2023-07-03T13:40:39.646Z"
   },
   {
    "duration": 87,
    "start_time": "2023-07-03T13:41:51.960Z"
   },
   {
    "duration": 424,
    "start_time": "2023-07-03T13:42:00.400Z"
   },
   {
    "duration": 342,
    "start_time": "2023-07-03T13:46:40.606Z"
   },
   {
    "duration": 200,
    "start_time": "2023-07-03T13:46:48.205Z"
   },
   {
    "duration": 6,
    "start_time": "2023-07-03T14:05:15.145Z"
   },
   {
    "duration": 95,
    "start_time": "2023-07-03T14:05:30.172Z"
   },
   {
    "duration": 5,
    "start_time": "2023-07-03T14:09:05.313Z"
   },
   {
    "duration": 42,
    "start_time": "2023-07-03T14:09:08.763Z"
   },
   {
    "duration": 5,
    "start_time": "2023-07-03T14:09:30.516Z"
   },
   {
    "duration": 33,
    "start_time": "2023-07-03T14:09:32.503Z"
   },
   {
    "duration": 6,
    "start_time": "2023-07-03T14:20:43.872Z"
   },
   {
    "duration": 98,
    "start_time": "2023-07-03T14:49:50.139Z"
   },
   {
    "duration": 6,
    "start_time": "2023-07-03T14:50:58.434Z"
   },
   {
    "duration": 7,
    "start_time": "2023-07-03T14:51:10.838Z"
   },
   {
    "duration": 13,
    "start_time": "2023-07-03T14:51:16.167Z"
   },
   {
    "duration": 2135,
    "start_time": "2023-07-03T14:51:22.097Z"
   },
   {
    "duration": 10,
    "start_time": "2023-07-03T14:51:37.724Z"
   },
   {
    "duration": 5,
    "start_time": "2023-07-03T14:51:50.956Z"
   },
   {
    "duration": 10,
    "start_time": "2023-07-03T14:51:56.672Z"
   },
   {
    "duration": 10,
    "start_time": "2023-07-03T14:51:58.233Z"
   },
   {
    "duration": 1528,
    "start_time": "2023-07-03T14:52:24.972Z"
   },
   {
    "duration": 386,
    "start_time": "2023-07-03T14:52:26.502Z"
   },
   {
    "duration": 25,
    "start_time": "2023-07-03T14:52:26.890Z"
   },
   {
    "duration": 15,
    "start_time": "2023-07-03T14:52:26.917Z"
   },
   {
    "duration": 36,
    "start_time": "2023-07-03T14:52:26.934Z"
   },
   {
    "duration": 21,
    "start_time": "2023-07-03T14:52:26.972Z"
   },
   {
    "duration": 29,
    "start_time": "2023-07-03T14:52:26.995Z"
   },
   {
    "duration": 40,
    "start_time": "2023-07-03T14:52:27.027Z"
   },
   {
    "duration": 23,
    "start_time": "2023-07-03T14:52:27.069Z"
   },
   {
    "duration": 75,
    "start_time": "2023-07-03T14:52:27.095Z"
   },
   {
    "duration": 52,
    "start_time": "2023-07-03T14:52:27.172Z"
   },
   {
    "duration": 75,
    "start_time": "2023-07-03T14:52:27.226Z"
   },
   {
    "duration": 37,
    "start_time": "2023-07-03T14:52:27.303Z"
   },
   {
    "duration": 43,
    "start_time": "2023-07-03T14:52:27.356Z"
   },
   {
    "duration": 37,
    "start_time": "2023-07-03T14:52:27.401Z"
   },
   {
    "duration": 5,
    "start_time": "2023-07-03T14:52:27.459Z"
   },
   {
    "duration": 324,
    "start_time": "2023-07-03T14:52:27.467Z"
   },
   {
    "duration": 280,
    "start_time": "2023-07-03T14:52:27.793Z"
   },
   {
    "duration": 295,
    "start_time": "2023-07-03T14:52:28.076Z"
   },
   {
    "duration": 7,
    "start_time": "2023-07-03T14:52:28.374Z"
   },
   {
    "duration": 5,
    "start_time": "2023-07-03T14:52:28.388Z"
   },
   {
    "duration": 448,
    "start_time": "2023-07-03T14:52:28.395Z"
   },
   {
    "duration": 188,
    "start_time": "2023-07-03T14:52:28.845Z"
   },
   {
    "duration": 307,
    "start_time": "2023-07-03T14:52:29.035Z"
   },
   {
    "duration": 128,
    "start_time": "2023-07-03T14:52:29.344Z"
   },
   {
    "duration": 283,
    "start_time": "2023-07-03T14:52:29.475Z"
   },
   {
    "duration": 129,
    "start_time": "2023-07-03T14:52:29.760Z"
   },
   {
    "duration": 8,
    "start_time": "2023-07-03T14:52:29.893Z"
   },
   {
    "duration": 303,
    "start_time": "2023-07-03T14:52:29.902Z"
   },
   {
    "duration": 5,
    "start_time": "2023-07-03T14:52:30.208Z"
   },
   {
    "duration": 162,
    "start_time": "2023-07-03T14:52:30.215Z"
   },
   {
    "duration": 424,
    "start_time": "2023-07-03T14:52:30.379Z"
   },
   {
    "duration": 145,
    "start_time": "2023-07-03T14:52:30.806Z"
   },
   {
    "duration": 281,
    "start_time": "2023-07-03T14:52:30.957Z"
   },
   {
    "duration": 155,
    "start_time": "2023-07-03T14:52:31.239Z"
   },
   {
    "duration": 7,
    "start_time": "2023-07-03T14:52:31.396Z"
   },
   {
    "duration": 235,
    "start_time": "2023-07-03T14:52:31.404Z"
   },
   {
    "duration": 156,
    "start_time": "2023-07-03T14:52:31.641Z"
   },
   {
    "duration": 218,
    "start_time": "2023-07-03T14:52:31.799Z"
   },
   {
    "duration": 6,
    "start_time": "2023-07-03T14:52:32.019Z"
   },
   {
    "duration": 144,
    "start_time": "2023-07-03T14:52:32.026Z"
   },
   {
    "duration": 465,
    "start_time": "2023-07-03T14:52:32.172Z"
   },
   {
    "duration": 147,
    "start_time": "2023-07-03T14:52:32.638Z"
   },
   {
    "duration": 7,
    "start_time": "2023-07-03T14:52:32.786Z"
   },
   {
    "duration": 319,
    "start_time": "2023-07-03T14:52:32.794Z"
   },
   {
    "duration": 179,
    "start_time": "2023-07-03T14:52:33.115Z"
   },
   {
    "duration": 9,
    "start_time": "2023-07-03T14:52:33.296Z"
   },
   {
    "duration": 295,
    "start_time": "2023-07-03T14:52:33.308Z"
   },
   {
    "duration": 131,
    "start_time": "2023-07-03T14:52:33.605Z"
   },
   {
    "duration": 20,
    "start_time": "2023-07-03T14:52:33.738Z"
   },
   {
    "duration": 422,
    "start_time": "2023-07-03T14:52:33.761Z"
   },
   {
    "duration": 7,
    "start_time": "2023-07-03T14:52:34.185Z"
   },
   {
    "duration": 170,
    "start_time": "2023-07-03T14:52:34.194Z"
   },
   {
    "duration": 590,
    "start_time": "2023-07-03T14:52:34.366Z"
   },
   {
    "duration": 8,
    "start_time": "2023-07-03T14:52:34.958Z"
   },
   {
    "duration": 43,
    "start_time": "2023-07-03T14:52:34.968Z"
   },
   {
    "duration": 27,
    "start_time": "2023-07-03T14:52:35.013Z"
   },
   {
    "duration": 13,
    "start_time": "2023-07-03T14:52:35.042Z"
   },
   {
    "duration": 41,
    "start_time": "2023-07-03T14:52:35.057Z"
   },
   {
    "duration": 9,
    "start_time": "2023-07-03T14:52:35.100Z"
   },
   {
    "duration": 12,
    "start_time": "2023-07-03T14:52:35.111Z"
   },
   {
    "duration": 53,
    "start_time": "2023-07-03T14:52:35.125Z"
   },
   {
    "duration": 8,
    "start_time": "2023-07-03T14:52:35.181Z"
   },
   {
    "duration": 24,
    "start_time": "2023-07-03T14:52:35.191Z"
   },
   {
    "duration": 64,
    "start_time": "2023-07-03T14:52:35.217Z"
   },
   {
    "duration": 22,
    "start_time": "2023-07-03T14:52:35.283Z"
   },
   {
    "duration": 158,
    "start_time": "2023-07-03T14:52:35.311Z"
   },
   {
    "duration": 97,
    "start_time": "2023-07-03T14:52:35.471Z"
   },
   {
    "duration": 81,
    "start_time": "2023-07-03T14:52:35.576Z"
   },
   {
    "duration": 100,
    "start_time": "2023-07-03T14:52:35.660Z"
   },
   {
    "duration": 98,
    "start_time": "2023-07-03T14:52:35.762Z"
   },
   {
    "duration": 51,
    "start_time": "2023-07-03T14:52:35.863Z"
   },
   {
    "duration": 19,
    "start_time": "2023-07-03T14:52:35.916Z"
   },
   {
    "duration": 13,
    "start_time": "2023-07-03T14:52:35.937Z"
   },
   {
    "duration": 16,
    "start_time": "2023-07-03T14:52:35.952Z"
   },
   {
    "duration": 9,
    "start_time": "2023-07-03T14:52:35.970Z"
   },
   {
    "duration": 9,
    "start_time": "2023-07-03T14:52:35.982Z"
   },
   {
    "duration": 120,
    "start_time": "2023-07-03T14:52:35.993Z"
   },
   {
    "duration": 0,
    "start_time": "2023-07-03T14:52:36.114Z"
   },
   {
    "duration": 0,
    "start_time": "2023-07-03T14:52:36.116Z"
   },
   {
    "duration": 11,
    "start_time": "2023-07-03T14:53:01.357Z"
   },
   {
    "duration": 1913,
    "start_time": "2023-07-03T14:53:03.302Z"
   },
   {
    "duration": 2015,
    "start_time": "2023-07-03T14:53:07.193Z"
   },
   {
    "duration": 1847,
    "start_time": "2023-07-03T14:53:13.489Z"
   },
   {
    "duration": 5,
    "start_time": "2023-07-03T14:59:52.676Z"
   },
   {
    "duration": 6,
    "start_time": "2023-07-03T15:01:52.292Z"
   },
   {
    "duration": 8,
    "start_time": "2023-07-03T15:02:00.177Z"
   },
   {
    "duration": 10,
    "start_time": "2023-07-03T15:02:37.173Z"
   },
   {
    "duration": 7,
    "start_time": "2023-07-03T15:02:58.809Z"
   },
   {
    "duration": 6,
    "start_time": "2023-07-03T15:03:24.724Z"
   },
   {
    "duration": 1842,
    "start_time": "2023-07-03T15:03:26.163Z"
   },
   {
    "duration": 1959,
    "start_time": "2023-07-03T15:03:29.778Z"
   },
   {
    "duration": 1862,
    "start_time": "2023-07-03T15:03:34.335Z"
   },
   {
    "duration": 4,
    "start_time": "2023-07-03T16:16:43.016Z"
   },
   {
    "duration": 418,
    "start_time": "2023-07-03T16:16:43.022Z"
   },
   {
    "duration": 21,
    "start_time": "2023-07-03T16:16:43.442Z"
   },
   {
    "duration": 15,
    "start_time": "2023-07-03T16:16:43.465Z"
   },
   {
    "duration": 15,
    "start_time": "2023-07-03T16:16:43.482Z"
   },
   {
    "duration": 15,
    "start_time": "2023-07-03T16:16:43.499Z"
   },
   {
    "duration": 61,
    "start_time": "2023-07-03T16:16:43.516Z"
   },
   {
    "duration": 25,
    "start_time": "2023-07-03T16:16:43.580Z"
   },
   {
    "duration": 25,
    "start_time": "2023-07-03T16:16:43.608Z"
   },
   {
    "duration": 72,
    "start_time": "2023-07-03T16:16:43.635Z"
   },
   {
    "duration": 66,
    "start_time": "2023-07-03T16:16:43.709Z"
   },
   {
    "duration": 47,
    "start_time": "2023-07-03T16:16:43.777Z"
   },
   {
    "duration": 46,
    "start_time": "2023-07-03T16:16:43.826Z"
   },
   {
    "duration": 49,
    "start_time": "2023-07-03T16:16:43.874Z"
   },
   {
    "duration": 41,
    "start_time": "2023-07-03T16:16:43.925Z"
   },
   {
    "duration": 4,
    "start_time": "2023-07-03T16:16:43.968Z"
   },
   {
    "duration": 274,
    "start_time": "2023-07-03T16:16:43.973Z"
   },
   {
    "duration": 281,
    "start_time": "2023-07-03T16:16:44.256Z"
   },
   {
    "duration": 287,
    "start_time": "2023-07-03T16:16:44.539Z"
   },
   {
    "duration": 4,
    "start_time": "2023-07-03T16:16:44.828Z"
   },
   {
    "duration": 7,
    "start_time": "2023-07-03T16:16:44.834Z"
   },
   {
    "duration": 306,
    "start_time": "2023-07-03T16:16:44.842Z"
   },
   {
    "duration": 148,
    "start_time": "2023-07-03T16:16:45.156Z"
   },
   {
    "duration": 383,
    "start_time": "2023-07-03T16:16:45.308Z"
   },
   {
    "duration": 120,
    "start_time": "2023-07-03T16:16:45.692Z"
   },
   {
    "duration": 288,
    "start_time": "2023-07-03T16:16:45.814Z"
   },
   {
    "duration": 126,
    "start_time": "2023-07-03T16:16:46.104Z"
   },
   {
    "duration": 6,
    "start_time": "2023-07-03T16:16:46.231Z"
   },
   {
    "duration": 284,
    "start_time": "2023-07-03T16:16:46.238Z"
   },
   {
    "duration": 5,
    "start_time": "2023-07-03T16:16:46.524Z"
   },
   {
    "duration": 146,
    "start_time": "2023-07-03T16:16:46.531Z"
   },
   {
    "duration": 303,
    "start_time": "2023-07-03T16:16:46.679Z"
   },
   {
    "duration": 143,
    "start_time": "2023-07-03T16:16:46.984Z"
   },
   {
    "duration": 398,
    "start_time": "2023-07-03T16:16:47.129Z"
   },
   {
    "duration": 119,
    "start_time": "2023-07-03T16:16:47.529Z"
   },
   {
    "duration": 7,
    "start_time": "2023-07-03T16:16:47.657Z"
   },
   {
    "duration": 291,
    "start_time": "2023-07-03T16:16:47.665Z"
   },
   {
    "duration": 128,
    "start_time": "2023-07-03T16:16:47.958Z"
   },
   {
    "duration": 219,
    "start_time": "2023-07-03T16:16:48.088Z"
   },
   {
    "duration": 7,
    "start_time": "2023-07-03T16:16:48.309Z"
   },
   {
    "duration": 158,
    "start_time": "2023-07-03T16:16:48.318Z"
   },
   {
    "duration": 301,
    "start_time": "2023-07-03T16:16:48.477Z"
   },
   {
    "duration": 166,
    "start_time": "2023-07-03T16:16:48.780Z"
   },
   {
    "duration": 12,
    "start_time": "2023-07-03T16:16:48.948Z"
   },
   {
    "duration": 406,
    "start_time": "2023-07-03T16:16:48.962Z"
   },
   {
    "duration": 137,
    "start_time": "2023-07-03T16:16:49.370Z"
   },
   {
    "duration": 6,
    "start_time": "2023-07-03T16:16:49.509Z"
   },
   {
    "duration": 280,
    "start_time": "2023-07-03T16:16:49.517Z"
   },
   {
    "duration": 134,
    "start_time": "2023-07-03T16:16:49.798Z"
   },
   {
    "duration": 7,
    "start_time": "2023-07-03T16:16:49.933Z"
   },
   {
    "duration": 284,
    "start_time": "2023-07-03T16:16:49.941Z"
   },
   {
    "duration": 6,
    "start_time": "2023-07-03T16:16:50.227Z"
   },
   {
    "duration": 143,
    "start_time": "2023-07-03T16:16:50.234Z"
   },
   {
    "duration": 420,
    "start_time": "2023-07-03T16:16:50.379Z"
   },
   {
    "duration": 4,
    "start_time": "2023-07-03T16:16:50.801Z"
   },
   {
    "duration": 39,
    "start_time": "2023-07-03T16:16:50.807Z"
   },
   {
    "duration": 13,
    "start_time": "2023-07-03T16:16:50.848Z"
   },
   {
    "duration": 17,
    "start_time": "2023-07-03T16:16:50.862Z"
   },
   {
    "duration": 40,
    "start_time": "2023-07-03T16:16:50.880Z"
   },
   {
    "duration": 8,
    "start_time": "2023-07-03T16:16:50.922Z"
   },
   {
    "duration": 17,
    "start_time": "2023-07-03T16:16:50.932Z"
   },
   {
    "duration": 164,
    "start_time": "2023-07-03T16:16:50.951Z"
   },
   {
    "duration": 9,
    "start_time": "2023-07-03T16:16:51.117Z"
   },
   {
    "duration": 19,
    "start_time": "2023-07-03T16:16:51.128Z"
   },
   {
    "duration": 14,
    "start_time": "2023-07-03T16:16:51.148Z"
   },
   {
    "duration": 26,
    "start_time": "2023-07-03T16:16:51.163Z"
   },
   {
    "duration": 111,
    "start_time": "2023-07-03T16:16:51.258Z"
   },
   {
    "duration": 93,
    "start_time": "2023-07-03T16:16:51.371Z"
   },
   {
    "duration": 88,
    "start_time": "2023-07-03T16:16:51.470Z"
   },
   {
    "duration": 104,
    "start_time": "2023-07-03T16:16:51.560Z"
   },
   {
    "duration": 11,
    "start_time": "2023-07-03T16:16:51.666Z"
   },
   {
    "duration": 20,
    "start_time": "2023-07-03T16:16:51.679Z"
   },
   {
    "duration": 13,
    "start_time": "2023-07-03T16:16:51.701Z"
   },
   {
    "duration": 14,
    "start_time": "2023-07-03T16:16:51.716Z"
   },
   {
    "duration": 25,
    "start_time": "2023-07-03T16:16:51.732Z"
   },
   {
    "duration": 4,
    "start_time": "2023-07-03T16:16:51.759Z"
   },
   {
    "duration": 19,
    "start_time": "2023-07-03T16:16:51.765Z"
   },
   {
    "duration": 1808,
    "start_time": "2023-07-03T16:16:51.786Z"
   },
   {
    "duration": 1805,
    "start_time": "2023-07-03T16:16:53.595Z"
   },
   {
    "duration": 1790,
    "start_time": "2023-07-03T16:16:55.402Z"
   },
   {
    "duration": 4,
    "start_time": "2023-07-03T16:19:15.606Z"
   },
   {
    "duration": 4,
    "start_time": "2023-07-03T16:20:36.253Z"
   },
   {
    "duration": 400,
    "start_time": "2023-07-03T16:20:36.259Z"
   },
   {
    "duration": 22,
    "start_time": "2023-07-03T16:20:36.661Z"
   },
   {
    "duration": 14,
    "start_time": "2023-07-03T16:20:36.684Z"
   },
   {
    "duration": 14,
    "start_time": "2023-07-03T16:20:36.700Z"
   },
   {
    "duration": 40,
    "start_time": "2023-07-03T16:20:36.716Z"
   },
   {
    "duration": 23,
    "start_time": "2023-07-03T16:20:36.758Z"
   },
   {
    "duration": 24,
    "start_time": "2023-07-03T16:20:36.783Z"
   },
   {
    "duration": 21,
    "start_time": "2023-07-03T16:20:36.808Z"
   },
   {
    "duration": 70,
    "start_time": "2023-07-03T16:20:36.830Z"
   },
   {
    "duration": 56,
    "start_time": "2023-07-03T16:20:36.902Z"
   },
   {
    "duration": 46,
    "start_time": "2023-07-03T16:20:36.960Z"
   },
   {
    "duration": 56,
    "start_time": "2023-07-03T16:20:37.008Z"
   },
   {
    "duration": 35,
    "start_time": "2023-07-03T16:20:37.065Z"
   },
   {
    "duration": 35,
    "start_time": "2023-07-03T16:20:37.102Z"
   },
   {
    "duration": 20,
    "start_time": "2023-07-03T16:20:37.139Z"
   },
   {
    "duration": 283,
    "start_time": "2023-07-03T16:20:37.161Z"
   },
   {
    "duration": 285,
    "start_time": "2023-07-03T16:20:37.445Z"
   },
   {
    "duration": 285,
    "start_time": "2023-07-03T16:20:37.732Z"
   },
   {
    "duration": 5,
    "start_time": "2023-07-03T16:20:38.019Z"
   },
   {
    "duration": 19,
    "start_time": "2023-07-03T16:20:38.025Z"
   },
   {
    "duration": 280,
    "start_time": "2023-07-03T16:20:38.046Z"
   },
   {
    "duration": 261,
    "start_time": "2023-07-03T16:20:38.328Z"
   },
   {
    "duration": 274,
    "start_time": "2023-07-03T16:20:38.591Z"
   },
   {
    "duration": 136,
    "start_time": "2023-07-03T16:20:38.867Z"
   },
   {
    "duration": 287,
    "start_time": "2023-07-03T16:20:39.005Z"
   },
   {
    "duration": 137,
    "start_time": "2023-07-03T16:20:39.294Z"
   },
   {
    "duration": 7,
    "start_time": "2023-07-03T16:20:39.432Z"
   },
   {
    "duration": 287,
    "start_time": "2023-07-03T16:20:39.443Z"
   },
   {
    "duration": 6,
    "start_time": "2023-07-03T16:20:39.731Z"
   },
   {
    "duration": 144,
    "start_time": "2023-07-03T16:20:39.738Z"
   },
   {
    "duration": 390,
    "start_time": "2023-07-03T16:20:39.884Z"
   },
   {
    "duration": 127,
    "start_time": "2023-07-03T16:20:40.276Z"
   },
   {
    "duration": 265,
    "start_time": "2023-07-03T16:20:40.405Z"
   },
   {
    "duration": 126,
    "start_time": "2023-07-03T16:20:40.672Z"
   },
   {
    "duration": 7,
    "start_time": "2023-07-03T16:20:40.800Z"
   },
   {
    "duration": 210,
    "start_time": "2023-07-03T16:20:40.808Z"
   },
   {
    "duration": 124,
    "start_time": "2023-07-03T16:20:41.019Z"
   },
   {
    "duration": 229,
    "start_time": "2023-07-03T16:20:41.145Z"
   },
   {
    "duration": 7,
    "start_time": "2023-07-03T16:20:41.375Z"
   },
   {
    "duration": 132,
    "start_time": "2023-07-03T16:20:41.384Z"
   },
   {
    "duration": 269,
    "start_time": "2023-07-03T16:20:41.517Z"
   },
   {
    "duration": 235,
    "start_time": "2023-07-03T16:20:41.787Z"
   },
   {
    "duration": 6,
    "start_time": "2023-07-03T16:20:42.024Z"
   },
   {
    "duration": 276,
    "start_time": "2023-07-03T16:20:42.031Z"
   },
   {
    "duration": 133,
    "start_time": "2023-07-03T16:20:42.308Z"
   },
   {
    "duration": 16,
    "start_time": "2023-07-03T16:20:42.443Z"
   },
   {
    "duration": 266,
    "start_time": "2023-07-03T16:20:42.460Z"
   },
   {
    "duration": 125,
    "start_time": "2023-07-03T16:20:42.728Z"
   },
   {
    "duration": 7,
    "start_time": "2023-07-03T16:20:42.857Z"
   },
   {
    "duration": 292,
    "start_time": "2023-07-03T16:20:42.866Z"
   },
   {
    "duration": 6,
    "start_time": "2023-07-03T16:20:43.160Z"
   },
   {
    "duration": 142,
    "start_time": "2023-07-03T16:20:43.167Z"
   },
   {
    "duration": 5,
    "start_time": "2023-07-03T16:20:43.310Z"
   },
   {
    "duration": 41,
    "start_time": "2023-07-03T16:20:43.316Z"
   },
   {
    "duration": 8,
    "start_time": "2023-07-03T16:20:43.358Z"
   },
   {
    "duration": 12,
    "start_time": "2023-07-03T16:20:43.367Z"
   },
   {
    "duration": 31,
    "start_time": "2023-07-03T16:20:43.381Z"
   },
   {
    "duration": 9,
    "start_time": "2023-07-03T16:20:43.413Z"
   },
   {
    "duration": 9,
    "start_time": "2023-07-03T16:20:43.424Z"
   },
   {
    "duration": 47,
    "start_time": "2023-07-03T16:20:43.435Z"
   },
   {
    "duration": 9,
    "start_time": "2023-07-03T16:20:43.484Z"
   },
   {
    "duration": 11,
    "start_time": "2023-07-03T16:20:43.495Z"
   },
   {
    "duration": 10,
    "start_time": "2023-07-03T16:20:43.507Z"
   },
   {
    "duration": 45,
    "start_time": "2023-07-03T16:20:43.519Z"
   },
   {
    "duration": 192,
    "start_time": "2023-07-03T16:20:43.566Z"
   },
   {
    "duration": 101,
    "start_time": "2023-07-03T16:20:43.760Z"
   },
   {
    "duration": 3,
    "start_time": "2023-07-03T16:20:43.863Z"
   },
   {
    "duration": 97,
    "start_time": "2023-07-03T16:20:43.959Z"
   },
   {
    "duration": 3,
    "start_time": "2023-07-03T16:20:44.058Z"
   },
   {
    "duration": 16,
    "start_time": "2023-07-03T16:20:44.063Z"
   },
   {
    "duration": 12,
    "start_time": "2023-07-03T16:20:44.080Z"
   },
   {
    "duration": 13,
    "start_time": "2023-07-03T16:20:44.094Z"
   },
   {
    "duration": 3,
    "start_time": "2023-07-03T16:20:44.109Z"
   },
   {
    "duration": 11,
    "start_time": "2023-07-03T16:20:44.114Z"
   },
   {
    "duration": 32,
    "start_time": "2023-07-03T16:20:44.127Z"
   },
   {
    "duration": 1880,
    "start_time": "2023-07-03T16:20:44.161Z"
   },
   {
    "duration": 1745,
    "start_time": "2023-07-03T16:20:46.044Z"
   },
   {
    "duration": 1807,
    "start_time": "2023-07-03T16:20:47.791Z"
   },
   {
    "duration": 4187,
    "start_time": "2023-07-04T08:10:25.916Z"
   },
   {
    "duration": 1053,
    "start_time": "2023-07-04T08:10:30.105Z"
   },
   {
    "duration": 37,
    "start_time": "2023-07-04T08:10:31.159Z"
   },
   {
    "duration": 90,
    "start_time": "2023-07-04T08:10:31.198Z"
   },
   {
    "duration": 88,
    "start_time": "2023-07-04T08:10:31.291Z"
   },
   {
    "duration": 89,
    "start_time": "2023-07-04T08:10:31.381Z"
   },
   {
    "duration": 235,
    "start_time": "2023-07-04T08:10:31.477Z"
   },
   {
    "duration": 119,
    "start_time": "2023-07-04T08:10:31.753Z"
   },
   {
    "duration": 87,
    "start_time": "2023-07-04T08:10:31.874Z"
   },
   {
    "duration": 133,
    "start_time": "2023-07-04T08:10:31.970Z"
   },
   {
    "duration": 140,
    "start_time": "2023-07-04T08:10:32.157Z"
   },
   {
    "duration": 189,
    "start_time": "2023-07-04T08:10:32.301Z"
   },
   {
    "duration": 111,
    "start_time": "2023-07-04T08:10:32.493Z"
   },
   {
    "duration": 178,
    "start_time": "2023-07-04T08:10:32.606Z"
   },
   {
    "duration": 110,
    "start_time": "2023-07-04T08:10:32.786Z"
   },
   {
    "duration": 206,
    "start_time": "2023-07-04T08:10:32.898Z"
   },
   {
    "duration": 678,
    "start_time": "2023-07-04T08:10:33.109Z"
   },
   {
    "duration": 500,
    "start_time": "2023-07-04T08:10:33.791Z"
   },
   {
    "duration": 565,
    "start_time": "2023-07-04T08:10:34.296Z"
   },
   {
    "duration": 8,
    "start_time": "2023-07-04T08:10:34.863Z"
   },
   {
    "duration": 28,
    "start_time": "2023-07-04T08:10:34.873Z"
   },
   {
    "duration": 1075,
    "start_time": "2023-07-04T08:10:34.904Z"
   },
   {
    "duration": 409,
    "start_time": "2023-07-04T08:10:35.984Z"
   },
   {
    "duration": 839,
    "start_time": "2023-07-04T08:10:36.459Z"
   },
   {
    "duration": 342,
    "start_time": "2023-07-04T08:10:37.360Z"
   },
   {
    "duration": 815,
    "start_time": "2023-07-04T08:10:37.756Z"
   },
   {
    "duration": 321,
    "start_time": "2023-07-04T08:10:38.578Z"
   },
   {
    "duration": 23,
    "start_time": "2023-07-04T08:10:38.968Z"
   },
   {
    "duration": 888,
    "start_time": "2023-07-04T08:10:38.994Z"
   },
   {
    "duration": 9,
    "start_time": "2023-07-04T08:10:39.884Z"
   },
   {
    "duration": 399,
    "start_time": "2023-07-04T08:10:39.895Z"
   },
   {
    "duration": 1096,
    "start_time": "2023-07-04T08:10:40.297Z"
   },
   {
    "duration": 469,
    "start_time": "2023-07-04T08:10:41.395Z"
   },
   {
    "duration": 696,
    "start_time": "2023-07-04T08:10:41.870Z"
   },
   {
    "duration": 394,
    "start_time": "2023-07-04T08:10:42.568Z"
   },
   {
    "duration": 12,
    "start_time": "2023-07-04T08:10:42.964Z"
   },
   {
    "duration": 601,
    "start_time": "2023-07-04T08:10:42.981Z"
   },
   {
    "duration": 295,
    "start_time": "2023-07-04T08:10:43.586Z"
   },
   {
    "duration": 609,
    "start_time": "2023-07-04T08:10:43.885Z"
   },
   {
    "duration": 64,
    "start_time": "2023-07-04T08:10:44.496Z"
   },
   {
    "duration": 410,
    "start_time": "2023-07-04T08:10:44.565Z"
   },
   {
    "duration": 887,
    "start_time": "2023-07-04T08:10:44.981Z"
   },
   {
    "duration": 319,
    "start_time": "2023-07-04T08:10:45.877Z"
   },
   {
    "duration": 10,
    "start_time": "2023-07-04T08:10:46.255Z"
   },
   {
    "duration": 823,
    "start_time": "2023-07-04T08:10:46.267Z"
   },
   {
    "duration": 411,
    "start_time": "2023-07-04T08:10:47.099Z"
   },
   {
    "duration": 13,
    "start_time": "2023-07-04T08:10:47.560Z"
   },
   {
    "duration": 804,
    "start_time": "2023-07-04T08:10:47.579Z"
   },
   {
    "duration": 393,
    "start_time": "2023-07-04T08:10:48.385Z"
   },
   {
    "duration": 9,
    "start_time": "2023-07-04T08:10:48.784Z"
   },
   {
    "duration": 963,
    "start_time": "2023-07-04T08:10:48.795Z"
   },
   {
    "duration": 9,
    "start_time": "2023-07-04T08:10:49.760Z"
   },
   {
    "duration": 484,
    "start_time": "2023-07-04T08:10:49.771Z"
   },
   {
    "duration": 27,
    "start_time": "2023-07-04T08:10:50.259Z"
   },
   {
    "duration": 103,
    "start_time": "2023-07-04T08:10:50.290Z"
   },
   {
    "duration": 63,
    "start_time": "2023-07-04T08:10:50.395Z"
   },
   {
    "duration": 100,
    "start_time": "2023-07-04T08:10:50.460Z"
   },
   {
    "duration": 408,
    "start_time": "2023-07-04T08:10:50.562Z"
   },
   {
    "duration": 16,
    "start_time": "2023-07-04T08:10:50.977Z"
   },
   {
    "duration": 71,
    "start_time": "2023-07-04T08:10:50.995Z"
   },
   {
    "duration": 130,
    "start_time": "2023-07-04T08:10:51.076Z"
   },
   {
    "duration": 49,
    "start_time": "2023-07-04T08:10:51.208Z"
   },
   {
    "duration": 110,
    "start_time": "2023-07-04T08:10:51.259Z"
   },
   {
    "duration": 37,
    "start_time": "2023-07-04T08:10:51.380Z"
   },
   {
    "duration": 144,
    "start_time": "2023-07-04T08:10:51.419Z"
   },
   {
    "duration": 136,
    "start_time": "2023-07-04T08:10:51.566Z"
   },
   {
    "duration": 214,
    "start_time": "2023-07-04T08:10:51.755Z"
   },
   {
    "duration": 123,
    "start_time": "2023-07-04T08:10:51.983Z"
   },
   {
    "duration": 57,
    "start_time": "2023-07-04T08:10:52.108Z"
   },
   {
    "duration": 95,
    "start_time": "2023-07-04T08:10:52.167Z"
   },
   {
    "duration": 115,
    "start_time": "2023-07-04T08:10:52.264Z"
   },
   {
    "duration": 100,
    "start_time": "2023-07-04T08:10:52.382Z"
   },
   {
    "duration": 91,
    "start_time": "2023-07-04T08:10:52.484Z"
   },
   {
    "duration": 74,
    "start_time": "2023-07-04T08:10:52.585Z"
   },
   {
    "duration": 93,
    "start_time": "2023-07-04T08:10:52.661Z"
   },
   {
    "duration": 98,
    "start_time": "2023-07-04T08:10:52.759Z"
   },
   {
    "duration": 5205,
    "start_time": "2023-07-04T08:10:52.861Z"
   },
   {
    "duration": 5327,
    "start_time": "2023-07-04T08:10:58.069Z"
   },
   {
    "duration": 5187,
    "start_time": "2023-07-04T08:11:03.398Z"
   },
   {
    "duration": 87,
    "start_time": "2023-07-04T16:03:08.637Z"
   },
   {
    "duration": 1733,
    "start_time": "2023-07-04T16:20:27.626Z"
   },
   {
    "duration": 47,
    "start_time": "2023-07-04T16:20:56.313Z"
   },
   {
    "duration": 49,
    "start_time": "2023-07-04T16:22:40.527Z"
   },
   {
    "duration": 1609,
    "start_time": "2023-07-04T16:22:40.578Z"
   },
   {
    "duration": 27,
    "start_time": "2023-07-04T16:22:42.189Z"
   },
   {
    "duration": 16,
    "start_time": "2023-07-04T16:22:42.218Z"
   },
   {
    "duration": 32,
    "start_time": "2023-07-04T16:22:42.235Z"
   },
   {
    "duration": 30,
    "start_time": "2023-07-04T16:22:42.269Z"
   },
   {
    "duration": 25,
    "start_time": "2023-07-04T16:22:42.301Z"
   },
   {
    "duration": 31,
    "start_time": "2023-07-04T16:22:42.328Z"
   },
   {
    "duration": 23,
    "start_time": "2023-07-04T16:22:42.360Z"
   },
   {
    "duration": 52,
    "start_time": "2023-07-04T16:22:42.386Z"
   },
   {
    "duration": 47,
    "start_time": "2023-07-04T16:22:42.456Z"
   },
   {
    "duration": 69,
    "start_time": "2023-07-04T16:22:42.505Z"
   },
   {
    "duration": 35,
    "start_time": "2023-07-04T16:22:42.576Z"
   },
   {
    "duration": 94,
    "start_time": "2023-07-04T16:22:42.613Z"
   },
   {
    "duration": 32,
    "start_time": "2023-07-04T16:22:42.709Z"
   },
   {
    "duration": 3,
    "start_time": "2023-07-04T16:22:42.743Z"
   },
   {
    "duration": 348,
    "start_time": "2023-07-04T16:22:42.748Z"
   },
   {
    "duration": 244,
    "start_time": "2023-07-04T16:22:43.098Z"
   },
   {
    "duration": 297,
    "start_time": "2023-07-04T16:22:43.344Z"
   },
   {
    "duration": 14,
    "start_time": "2023-07-04T16:22:43.642Z"
   },
   {
    "duration": 4,
    "start_time": "2023-07-04T16:22:43.658Z"
   },
   {
    "duration": 384,
    "start_time": "2023-07-04T16:22:43.663Z"
   },
   {
    "duration": 136,
    "start_time": "2023-07-04T16:22:44.056Z"
   },
   {
    "duration": 258,
    "start_time": "2023-07-04T16:22:44.193Z"
   },
   {
    "duration": 116,
    "start_time": "2023-07-04T16:22:44.456Z"
   },
   {
    "duration": 274,
    "start_time": "2023-07-04T16:22:44.573Z"
   },
   {
    "duration": 131,
    "start_time": "2023-07-04T16:22:44.849Z"
   },
   {
    "duration": 8,
    "start_time": "2023-07-04T16:22:44.984Z"
   },
   {
    "duration": 295,
    "start_time": "2023-07-04T16:22:44.993Z"
   },
   {
    "duration": 6,
    "start_time": "2023-07-04T16:22:45.290Z"
   },
   {
    "duration": 139,
    "start_time": "2023-07-04T16:22:45.297Z"
   },
   {
    "duration": 391,
    "start_time": "2023-07-04T16:22:45.437Z"
   },
   {
    "duration": 130,
    "start_time": "2023-07-04T16:22:45.829Z"
   },
   {
    "duration": 258,
    "start_time": "2023-07-04T16:22:45.961Z"
   },
   {
    "duration": 126,
    "start_time": "2023-07-04T16:22:46.220Z"
   },
   {
    "duration": 12,
    "start_time": "2023-07-04T16:22:46.347Z"
   },
   {
    "duration": 204,
    "start_time": "2023-07-04T16:22:46.361Z"
   },
   {
    "duration": 122,
    "start_time": "2023-07-04T16:22:46.566Z"
   },
   {
    "duration": 213,
    "start_time": "2023-07-04T16:22:46.690Z"
   },
   {
    "duration": 7,
    "start_time": "2023-07-04T16:22:46.905Z"
   },
   {
    "duration": 136,
    "start_time": "2023-07-04T16:22:46.913Z"
   },
   {
    "duration": 383,
    "start_time": "2023-07-04T16:22:47.057Z"
   },
   {
    "duration": 139,
    "start_time": "2023-07-04T16:22:47.441Z"
   },
   {
    "duration": 6,
    "start_time": "2023-07-04T16:22:47.581Z"
   },
   {
    "duration": 278,
    "start_time": "2023-07-04T16:22:47.589Z"
   },
   {
    "duration": 135,
    "start_time": "2023-07-04T16:22:47.869Z"
   },
   {
    "duration": 6,
    "start_time": "2023-07-04T16:22:48.006Z"
   },
   {
    "duration": 266,
    "start_time": "2023-07-04T16:22:48.013Z"
   },
   {
    "duration": 131,
    "start_time": "2023-07-04T16:22:48.281Z"
   },
   {
    "duration": 7,
    "start_time": "2023-07-04T16:22:48.414Z"
   },
   {
    "duration": 296,
    "start_time": "2023-07-04T16:22:48.423Z"
   },
   {
    "duration": 5,
    "start_time": "2023-07-04T16:22:48.721Z"
   },
   {
    "duration": 153,
    "start_time": "2023-07-04T16:22:48.727Z"
   },
   {
    "duration": 6,
    "start_time": "2023-07-04T16:22:48.882Z"
   },
   {
    "duration": 58,
    "start_time": "2023-07-04T16:22:48.889Z"
   },
   {
    "duration": 8,
    "start_time": "2023-07-04T16:22:48.950Z"
   },
   {
    "duration": 27,
    "start_time": "2023-07-04T16:22:48.960Z"
   },
   {
    "duration": 142,
    "start_time": "2023-07-04T16:22:48.989Z"
   },
   {
    "duration": 8,
    "start_time": "2023-07-04T16:22:49.133Z"
   },
   {
    "duration": 24,
    "start_time": "2023-07-04T16:22:49.143Z"
   },
   {
    "duration": 40,
    "start_time": "2023-07-04T16:22:49.169Z"
   },
   {
    "duration": 8,
    "start_time": "2023-07-04T16:22:49.211Z"
   },
   {
    "duration": 12,
    "start_time": "2023-07-04T16:22:49.221Z"
   },
   {
    "duration": 6,
    "start_time": "2023-07-04T16:22:49.235Z"
   },
   {
    "duration": 18,
    "start_time": "2023-07-04T16:22:49.257Z"
   },
   {
    "duration": 181,
    "start_time": "2023-07-04T16:22:49.277Z"
   },
   {
    "duration": 102,
    "start_time": "2023-07-04T16:22:49.459Z"
   },
   {
    "duration": 3,
    "start_time": "2023-07-04T16:22:49.563Z"
   },
   {
    "duration": 5,
    "start_time": "2023-07-04T16:22:49.660Z"
   },
   {
    "duration": 4,
    "start_time": "2023-07-04T16:22:49.757Z"
   },
   {
    "duration": 22,
    "start_time": "2023-07-04T16:22:49.762Z"
   },
   {
    "duration": 11,
    "start_time": "2023-07-04T16:22:49.786Z"
   },
   {
    "duration": 13,
    "start_time": "2023-07-04T16:22:49.799Z"
   },
   {
    "duration": 3,
    "start_time": "2023-07-04T16:22:49.814Z"
   },
   {
    "duration": 14,
    "start_time": "2023-07-04T16:22:49.818Z"
   },
   {
    "duration": 27,
    "start_time": "2023-07-04T16:22:49.834Z"
   },
   {
    "duration": 1772,
    "start_time": "2023-07-04T16:22:49.862Z"
   },
   {
    "duration": 1756,
    "start_time": "2023-07-04T16:22:51.636Z"
   },
   {
    "duration": 1824,
    "start_time": "2023-07-04T16:22:53.394Z"
   },
   {
    "duration": 112,
    "start_time": "2023-07-04T16:32:10.203Z"
   },
   {
    "duration": 131,
    "start_time": "2023-07-04T16:32:35.228Z"
   },
   {
    "duration": 148,
    "start_time": "2023-07-04T16:32:45.135Z"
   },
   {
    "duration": 523,
    "start_time": "2023-07-04T16:33:34.343Z"
   },
   {
    "duration": 93,
    "start_time": "2023-07-04T16:33:45.570Z"
   },
   {
    "duration": 384,
    "start_time": "2023-07-04T16:33:53.545Z"
   },
   {
    "duration": 385,
    "start_time": "2023-07-04T16:34:19.939Z"
   },
   {
    "duration": 375,
    "start_time": "2023-07-04T16:35:29.231Z"
   },
   {
    "duration": 84,
    "start_time": "2023-07-04T16:37:44.426Z"
   },
   {
    "duration": 134,
    "start_time": "2023-07-04T16:42:58.670Z"
   },
   {
    "duration": 106,
    "start_time": "2023-07-04T16:45:50.569Z"
   },
   {
    "duration": 11,
    "start_time": "2023-07-04T16:46:02.111Z"
   },
   {
    "duration": 12,
    "start_time": "2023-07-04T16:46:12.050Z"
   },
   {
    "duration": 12,
    "start_time": "2023-07-04T16:46:22.770Z"
   },
   {
    "duration": 139,
    "start_time": "2023-07-04T16:46:37.824Z"
   },
   {
    "duration": 126,
    "start_time": "2023-07-04T16:47:12.007Z"
   },
   {
    "duration": 18,
    "start_time": "2023-07-04T16:48:52.818Z"
   },
   {
    "duration": 18,
    "start_time": "2023-07-04T16:49:01.103Z"
   },
   {
    "duration": 13,
    "start_time": "2023-07-04T16:49:27.002Z"
   },
   {
    "duration": 26,
    "start_time": "2023-07-04T16:55:44.896Z"
   },
   {
    "duration": 11,
    "start_time": "2023-07-04T16:56:31.539Z"
   },
   {
    "duration": 0,
    "start_time": "2023-07-04T16:56:31.552Z"
   },
   {
    "duration": 0,
    "start_time": "2023-07-04T16:56:31.553Z"
   },
   {
    "duration": 0,
    "start_time": "2023-07-04T16:56:31.554Z"
   },
   {
    "duration": 0,
    "start_time": "2023-07-04T16:56:31.555Z"
   },
   {
    "duration": 23,
    "start_time": "2023-07-04T16:56:31.557Z"
   },
   {
    "duration": 25,
    "start_time": "2023-07-04T16:56:31.582Z"
   },
   {
    "duration": 62,
    "start_time": "2023-07-04T16:56:31.609Z"
   },
   {
    "duration": 23,
    "start_time": "2023-07-04T16:56:31.674Z"
   },
   {
    "duration": 84,
    "start_time": "2023-07-04T16:56:31.700Z"
   },
   {
    "duration": 71,
    "start_time": "2023-07-04T16:56:31.786Z"
   },
   {
    "duration": 48,
    "start_time": "2023-07-04T16:56:31.859Z"
   },
   {
    "duration": 28,
    "start_time": "2023-07-04T16:56:31.909Z"
   },
   {
    "duration": 27,
    "start_time": "2023-07-04T16:56:31.957Z"
   },
   {
    "duration": 35,
    "start_time": "2023-07-04T16:56:31.986Z"
   },
   {
    "duration": 17,
    "start_time": "2023-07-04T16:56:32.023Z"
   },
   {
    "duration": 289,
    "start_time": "2023-07-04T16:56:32.041Z"
   },
   {
    "duration": 298,
    "start_time": "2023-07-04T16:56:32.332Z"
   },
   {
    "duration": 303,
    "start_time": "2023-07-04T16:56:32.632Z"
   },
   {
    "duration": 5,
    "start_time": "2023-07-04T16:56:32.937Z"
   },
   {
    "duration": 27,
    "start_time": "2023-07-04T16:56:32.944Z"
   },
   {
    "duration": 287,
    "start_time": "2023-07-04T16:56:32.973Z"
   },
   {
    "duration": 252,
    "start_time": "2023-07-04T16:56:33.261Z"
   },
   {
    "duration": 254,
    "start_time": "2023-07-04T16:56:33.514Z"
   },
   {
    "duration": 115,
    "start_time": "2023-07-04T16:56:33.770Z"
   },
   {
    "duration": 276,
    "start_time": "2023-07-04T16:56:33.886Z"
   },
   {
    "duration": 132,
    "start_time": "2023-07-04T16:56:34.164Z"
   },
   {
    "duration": 6,
    "start_time": "2023-07-04T16:56:34.298Z"
   },
   {
    "duration": 270,
    "start_time": "2023-07-04T16:56:34.306Z"
   },
   {
    "duration": 5,
    "start_time": "2023-07-04T16:56:34.577Z"
   },
   {
    "duration": 131,
    "start_time": "2023-07-04T16:56:34.584Z"
   },
   {
    "duration": 367,
    "start_time": "2023-07-04T16:56:34.717Z"
   },
   {
    "duration": 133,
    "start_time": "2023-07-04T16:56:35.088Z"
   },
   {
    "duration": 256,
    "start_time": "2023-07-04T16:56:35.222Z"
   },
   {
    "duration": 123,
    "start_time": "2023-07-04T16:56:35.480Z"
   },
   {
    "duration": 5,
    "start_time": "2023-07-04T16:56:35.605Z"
   },
   {
    "duration": 219,
    "start_time": "2023-07-04T16:56:35.612Z"
   },
   {
    "duration": 124,
    "start_time": "2023-07-04T16:56:35.833Z"
   },
   {
    "duration": 207,
    "start_time": "2023-07-04T16:56:35.959Z"
   },
   {
    "duration": 6,
    "start_time": "2023-07-04T16:56:36.168Z"
   },
   {
    "duration": 133,
    "start_time": "2023-07-04T16:56:36.175Z"
   },
   {
    "duration": 283,
    "start_time": "2023-07-04T16:56:36.309Z"
   },
   {
    "duration": 247,
    "start_time": "2023-07-04T16:56:36.594Z"
   },
   {
    "duration": 15,
    "start_time": "2023-07-04T16:56:36.842Z"
   },
   {
    "duration": 278,
    "start_time": "2023-07-04T16:56:36.858Z"
   },
   {
    "duration": 131,
    "start_time": "2023-07-04T16:56:37.138Z"
   },
   {
    "duration": 6,
    "start_time": "2023-07-04T16:56:37.271Z"
   },
   {
    "duration": 270,
    "start_time": "2023-07-04T16:56:37.278Z"
   },
   {
    "duration": 118,
    "start_time": "2023-07-04T16:56:37.556Z"
   },
   {
    "duration": 6,
    "start_time": "2023-07-04T16:56:37.675Z"
   },
   {
    "duration": 275,
    "start_time": "2023-07-04T16:56:37.683Z"
   },
   {
    "duration": 7,
    "start_time": "2023-07-04T16:56:37.960Z"
   },
   {
    "duration": 135,
    "start_time": "2023-07-04T16:56:37.969Z"
   },
   {
    "duration": 4,
    "start_time": "2023-07-04T16:56:38.106Z"
   },
   {
    "duration": 47,
    "start_time": "2023-07-04T16:56:38.112Z"
   },
   {
    "duration": 7,
    "start_time": "2023-07-04T16:56:38.160Z"
   },
   {
    "duration": 22,
    "start_time": "2023-07-04T16:56:38.169Z"
   },
   {
    "duration": 46,
    "start_time": "2023-07-04T16:56:38.192Z"
   },
   {
    "duration": 7,
    "start_time": "2023-07-04T16:56:38.240Z"
   },
   {
    "duration": 10,
    "start_time": "2023-07-04T16:56:38.249Z"
   },
   {
    "duration": 30,
    "start_time": "2023-07-04T16:56:38.260Z"
   },
   {
    "duration": 8,
    "start_time": "2023-07-04T16:56:38.292Z"
   },
   {
    "duration": 10,
    "start_time": "2023-07-04T16:56:38.301Z"
   },
   {
    "duration": 6,
    "start_time": "2023-07-04T16:56:38.312Z"
   },
   {
    "duration": 46,
    "start_time": "2023-07-04T16:56:38.319Z"
   },
   {
    "duration": 99,
    "start_time": "2023-07-04T16:56:38.459Z"
   },
   {
    "duration": 102,
    "start_time": "2023-07-04T16:56:38.560Z"
   },
   {
    "duration": 96,
    "start_time": "2023-07-04T16:56:38.664Z"
   },
   {
    "duration": 97,
    "start_time": "2023-07-04T16:56:38.762Z"
   },
   {
    "duration": 4,
    "start_time": "2023-07-04T16:56:38.861Z"
   },
   {
    "duration": 19,
    "start_time": "2023-07-04T16:56:38.867Z"
   },
   {
    "duration": 68,
    "start_time": "2023-07-04T16:56:38.888Z"
   },
   {
    "duration": 16,
    "start_time": "2023-07-04T16:56:38.958Z"
   },
   {
    "duration": 3,
    "start_time": "2023-07-04T16:56:38.976Z"
   },
   {
    "duration": 5,
    "start_time": "2023-07-04T16:56:38.980Z"
   },
   {
    "duration": 6,
    "start_time": "2023-07-04T16:56:38.986Z"
   },
   {
    "duration": 3766,
    "start_time": "2023-07-04T16:56:38.993Z"
   },
   {
    "duration": 2333,
    "start_time": "2023-07-04T16:56:42.761Z"
   },
   {
    "duration": 1780,
    "start_time": "2023-07-04T16:56:45.096Z"
   },
   {
    "duration": 15597,
    "start_time": "2023-07-04T16:58:24.425Z"
   },
   {
    "duration": 705,
    "start_time": "2023-07-04T16:58:48.810Z"
   },
   {
    "duration": 31,
    "start_time": "2023-07-04T16:59:04.657Z"
   },
   {
    "duration": 7,
    "start_time": "2023-07-04T16:59:27.697Z"
   },
   {
    "duration": 32,
    "start_time": "2023-07-04T16:59:46.194Z"
   },
   {
    "duration": 9189,
    "start_time": "2023-07-04T17:00:04.148Z"
   },
   {
    "duration": 810,
    "start_time": "2023-07-04T17:07:04.751Z"
   },
   {
    "duration": 630,
    "start_time": "2023-07-04T17:09:21.922Z"
   },
   {
    "duration": 739,
    "start_time": "2023-07-04T17:19:44.404Z"
   },
   {
    "duration": 11,
    "start_time": "2023-07-04T17:20:49.770Z"
   },
   {
    "duration": 47,
    "start_time": "2023-07-04T17:21:34.224Z"
   },
   {
    "duration": 796,
    "start_time": "2023-07-04T17:21:38.470Z"
   },
   {
    "duration": 26,
    "start_time": "2023-07-04T17:24:43.146Z"
   },
   {
    "duration": 134,
    "start_time": "2023-07-04T17:25:15.134Z"
   },
   {
    "duration": 2301,
    "start_time": "2023-07-04T17:30:13.992Z"
   },
   {
    "duration": 48,
    "start_time": "2023-07-04T17:30:16.295Z"
   },
   {
    "duration": 386,
    "start_time": "2023-07-04T17:30:16.344Z"
   },
   {
    "duration": 148,
    "start_time": "2023-07-04T17:30:16.732Z"
   },
   {
    "duration": 13,
    "start_time": "2023-07-04T17:30:16.881Z"
   },
   {
    "duration": 12,
    "start_time": "2023-07-04T17:30:16.896Z"
   },
   {
    "duration": 12,
    "start_time": "2023-07-04T17:30:16.910Z"
   },
   {
    "duration": 49,
    "start_time": "2023-07-04T17:30:16.923Z"
   },
   {
    "duration": 22,
    "start_time": "2023-07-04T17:30:16.973Z"
   },
   {
    "duration": 22,
    "start_time": "2023-07-04T17:30:16.997Z"
   },
   {
    "duration": 74,
    "start_time": "2023-07-04T17:30:17.020Z"
   },
   {
    "duration": 42,
    "start_time": "2023-07-04T17:30:17.095Z"
   },
   {
    "duration": 61,
    "start_time": "2023-07-04T17:30:17.138Z"
   },
   {
    "duration": 33,
    "start_time": "2023-07-04T17:30:17.201Z"
   },
   {
    "duration": 46,
    "start_time": "2023-07-04T17:30:17.236Z"
   },
   {
    "duration": 27,
    "start_time": "2023-07-04T17:30:17.284Z"
   },
   {
    "duration": 12,
    "start_time": "2023-07-04T17:30:17.312Z"
   },
   {
    "duration": 356,
    "start_time": "2023-07-04T17:30:17.325Z"
   },
   {
    "duration": 256,
    "start_time": "2023-07-04T17:30:17.683Z"
   },
   {
    "duration": 285,
    "start_time": "2023-07-04T17:30:17.940Z"
   },
   {
    "duration": 5,
    "start_time": "2023-07-04T17:30:18.227Z"
   },
   {
    "duration": 14,
    "start_time": "2023-07-04T17:30:18.233Z"
   },
   {
    "duration": 297,
    "start_time": "2023-07-04T17:30:18.249Z"
   },
   {
    "duration": 138,
    "start_time": "2023-07-04T17:30:18.556Z"
   },
   {
    "duration": 292,
    "start_time": "2023-07-04T17:30:18.695Z"
   },
   {
    "duration": 118,
    "start_time": "2023-07-04T17:30:18.989Z"
   },
   {
    "duration": 267,
    "start_time": "2023-07-04T17:30:19.109Z"
   },
   {
    "duration": 116,
    "start_time": "2023-07-04T17:30:19.381Z"
   },
   {
    "duration": 6,
    "start_time": "2023-07-04T17:30:19.498Z"
   },
   {
    "duration": 276,
    "start_time": "2023-07-04T17:30:19.505Z"
   },
   {
    "duration": 5,
    "start_time": "2023-07-04T17:30:19.783Z"
   },
   {
    "duration": 136,
    "start_time": "2023-07-04T17:30:19.790Z"
   },
   {
    "duration": 267,
    "start_time": "2023-07-04T17:30:19.928Z"
   },
   {
    "duration": 126,
    "start_time": "2023-07-04T17:30:20.197Z"
   },
   {
    "duration": 260,
    "start_time": "2023-07-04T17:30:20.325Z"
   },
   {
    "duration": 500,
    "start_time": "2023-07-04T17:30:20.587Z"
   },
   {
    "duration": 8,
    "start_time": "2023-07-04T17:30:21.089Z"
   },
   {
    "duration": 465,
    "start_time": "2023-07-04T17:30:21.099Z"
   },
   {
    "duration": 228,
    "start_time": "2023-07-04T17:30:21.566Z"
   },
   {
    "duration": 471,
    "start_time": "2023-07-04T17:30:21.796Z"
   },
   {
    "duration": 7,
    "start_time": "2023-07-04T17:30:22.269Z"
   },
   {
    "duration": 284,
    "start_time": "2023-07-04T17:30:22.277Z"
   },
   {
    "duration": 440,
    "start_time": "2023-07-04T17:30:22.563Z"
   },
   {
    "duration": 137,
    "start_time": "2023-07-04T17:30:23.005Z"
   },
   {
    "duration": 13,
    "start_time": "2023-07-04T17:30:23.144Z"
   },
   {
    "duration": 289,
    "start_time": "2023-07-04T17:30:23.158Z"
   },
   {
    "duration": 135,
    "start_time": "2023-07-04T17:30:23.449Z"
   },
   {
    "duration": 6,
    "start_time": "2023-07-04T17:30:23.585Z"
   },
   {
    "duration": 270,
    "start_time": "2023-07-04T17:30:23.593Z"
   },
   {
    "duration": 130,
    "start_time": "2023-07-04T17:30:23.865Z"
   },
   {
    "duration": 7,
    "start_time": "2023-07-04T17:30:23.997Z"
   },
   {
    "duration": 295,
    "start_time": "2023-07-04T17:30:24.005Z"
   },
   {
    "duration": 5,
    "start_time": "2023-07-04T17:30:24.302Z"
   },
   {
    "duration": 135,
    "start_time": "2023-07-04T17:30:24.309Z"
   },
   {
    "duration": 13,
    "start_time": "2023-07-04T17:30:24.445Z"
   },
   {
    "duration": 32,
    "start_time": "2023-07-04T17:30:24.460Z"
   },
   {
    "duration": 8,
    "start_time": "2023-07-04T17:30:24.494Z"
   },
   {
    "duration": 10,
    "start_time": "2023-07-04T17:30:24.503Z"
   },
   {
    "duration": 43,
    "start_time": "2023-07-04T17:30:24.514Z"
   },
   {
    "duration": 9,
    "start_time": "2023-07-04T17:30:24.559Z"
   },
   {
    "duration": 20,
    "start_time": "2023-07-04T17:30:24.569Z"
   },
   {
    "duration": 30,
    "start_time": "2023-07-04T17:30:24.590Z"
   },
   {
    "duration": 8,
    "start_time": "2023-07-04T17:30:24.622Z"
   },
   {
    "duration": 27,
    "start_time": "2023-07-04T17:30:24.632Z"
   },
   {
    "duration": 4,
    "start_time": "2023-07-04T17:30:24.660Z"
   },
   {
    "duration": 93,
    "start_time": "2023-07-04T17:30:24.665Z"
   },
   {
    "duration": 111,
    "start_time": "2023-07-04T17:30:24.761Z"
   },
   {
    "duration": 188,
    "start_time": "2023-07-04T17:30:24.873Z"
   },
   {
    "duration": 92,
    "start_time": "2023-07-04T17:30:25.066Z"
   },
   {
    "duration": 215,
    "start_time": "2023-07-04T17:30:25.160Z"
   },
   {
    "duration": 9,
    "start_time": "2023-07-04T17:30:25.376Z"
   },
   {
    "duration": 69,
    "start_time": "2023-07-04T17:30:25.386Z"
   },
   {
    "duration": 13,
    "start_time": "2023-07-04T17:30:25.457Z"
   },
   {
    "duration": 16,
    "start_time": "2023-07-04T17:30:25.472Z"
   },
   {
    "duration": 3,
    "start_time": "2023-07-04T17:30:25.490Z"
   },
   {
    "duration": 4,
    "start_time": "2023-07-04T17:30:25.495Z"
   },
   {
    "duration": 7,
    "start_time": "2023-07-04T17:30:25.501Z"
   },
   {
    "duration": 2456,
    "start_time": "2023-07-04T17:30:25.509Z"
   },
   {
    "duration": 2463,
    "start_time": "2023-07-04T17:30:27.967Z"
   },
   {
    "duration": 1832,
    "start_time": "2023-07-04T17:30:30.432Z"
   },
   {
    "duration": 3,
    "start_time": "2023-07-04T17:30:51.424Z"
   },
   {
    "duration": 191,
    "start_time": "2023-07-04T17:30:54.167Z"
   },
   {
    "duration": 4,
    "start_time": "2023-07-04T17:31:07.242Z"
   },
   {
    "duration": 19,
    "start_time": "2023-07-04T17:31:09.241Z"
   },
   {
    "duration": 16,
    "start_time": "2023-07-04T17:31:11.808Z"
   },
   {
    "duration": 16,
    "start_time": "2023-07-04T17:31:13.920Z"
   },
   {
    "duration": 2295,
    "start_time": "2023-07-04T17:35:12.972Z"
   },
   {
    "duration": 47,
    "start_time": "2023-07-04T17:35:15.269Z"
   },
   {
    "duration": 380,
    "start_time": "2023-07-04T17:35:15.318Z"
   },
   {
    "duration": 161,
    "start_time": "2023-07-04T17:35:15.701Z"
   },
   {
    "duration": 16,
    "start_time": "2023-07-04T17:35:15.864Z"
   },
   {
    "duration": 14,
    "start_time": "2023-07-04T17:35:15.882Z"
   },
   {
    "duration": 14,
    "start_time": "2023-07-04T17:35:15.897Z"
   },
   {
    "duration": 58,
    "start_time": "2023-07-04T17:35:15.912Z"
   },
   {
    "duration": 26,
    "start_time": "2023-07-04T17:35:15.972Z"
   },
   {
    "duration": 27,
    "start_time": "2023-07-04T17:35:16.001Z"
   },
   {
    "duration": 76,
    "start_time": "2023-07-04T17:35:16.029Z"
   },
   {
    "duration": 58,
    "start_time": "2023-07-04T17:35:16.107Z"
   },
   {
    "duration": 46,
    "start_time": "2023-07-04T17:35:16.167Z"
   },
   {
    "duration": 49,
    "start_time": "2023-07-04T17:35:16.215Z"
   },
   {
    "duration": 34,
    "start_time": "2023-07-04T17:35:16.266Z"
   },
   {
    "duration": 55,
    "start_time": "2023-07-04T17:35:16.302Z"
   },
   {
    "duration": 7,
    "start_time": "2023-07-04T17:35:16.359Z"
   },
   {
    "duration": 330,
    "start_time": "2023-07-04T17:35:16.368Z"
   },
   {
    "duration": 257,
    "start_time": "2023-07-04T17:35:16.700Z"
   },
   {
    "duration": 282,
    "start_time": "2023-07-04T17:35:16.958Z"
   },
   {
    "duration": 15,
    "start_time": "2023-07-04T17:35:17.242Z"
   },
   {
    "duration": 6,
    "start_time": "2023-07-04T17:35:17.259Z"
   },
   {
    "duration": 312,
    "start_time": "2023-07-04T17:35:17.267Z"
   },
   {
    "duration": 139,
    "start_time": "2023-07-04T17:35:17.581Z"
   },
   {
    "duration": 258,
    "start_time": "2023-07-04T17:35:17.721Z"
   },
   {
    "duration": 121,
    "start_time": "2023-07-04T17:35:17.981Z"
   },
   {
    "duration": 254,
    "start_time": "2023-07-04T17:35:18.104Z"
   },
   {
    "duration": 140,
    "start_time": "2023-07-04T17:35:18.362Z"
   },
   {
    "duration": 6,
    "start_time": "2023-07-04T17:35:18.504Z"
   },
   {
    "duration": 305,
    "start_time": "2023-07-04T17:35:18.512Z"
   },
   {
    "duration": 6,
    "start_time": "2023-07-04T17:35:18.818Z"
   },
   {
    "duration": 146,
    "start_time": "2023-07-04T17:35:18.826Z"
   },
   {
    "duration": 331,
    "start_time": "2023-07-04T17:35:18.974Z"
   },
   {
    "duration": 383,
    "start_time": "2023-07-04T17:35:19.307Z"
   },
   {
    "duration": 265,
    "start_time": "2023-07-04T17:35:19.691Z"
   },
   {
    "duration": 121,
    "start_time": "2023-07-04T17:35:19.958Z"
   },
   {
    "duration": 7,
    "start_time": "2023-07-04T17:35:20.081Z"
   },
   {
    "duration": 211,
    "start_time": "2023-07-04T17:35:20.090Z"
   },
   {
    "duration": 127,
    "start_time": "2023-07-04T17:35:20.303Z"
   },
   {
    "duration": 203,
    "start_time": "2023-07-04T17:35:20.432Z"
   },
   {
    "duration": 7,
    "start_time": "2023-07-04T17:35:20.636Z"
   },
   {
    "duration": 134,
    "start_time": "2023-07-04T17:35:20.657Z"
   },
   {
    "duration": 279,
    "start_time": "2023-07-04T17:35:20.792Z"
   },
   {
    "duration": 141,
    "start_time": "2023-07-04T17:35:21.073Z"
   },
   {
    "duration": 5,
    "start_time": "2023-07-04T17:35:21.216Z"
   },
   {
    "duration": 275,
    "start_time": "2023-07-04T17:35:21.223Z"
   },
   {
    "duration": 126,
    "start_time": "2023-07-04T17:35:21.500Z"
   },
   {
    "duration": 6,
    "start_time": "2023-07-04T17:35:21.627Z"
   },
   {
    "duration": 259,
    "start_time": "2023-07-04T17:35:21.635Z"
   },
   {
    "duration": 133,
    "start_time": "2023-07-04T17:35:21.895Z"
   },
   {
    "duration": 6,
    "start_time": "2023-07-04T17:35:22.030Z"
   },
   {
    "duration": 281,
    "start_time": "2023-07-04T17:35:22.038Z"
   },
   {
    "duration": 5,
    "start_time": "2023-07-04T17:35:22.321Z"
   },
   {
    "duration": 147,
    "start_time": "2023-07-04T17:35:22.328Z"
   },
   {
    "duration": 4,
    "start_time": "2023-07-04T17:35:22.477Z"
   },
   {
    "duration": 30,
    "start_time": "2023-07-04T17:35:22.482Z"
   },
   {
    "duration": 8,
    "start_time": "2023-07-04T17:35:22.514Z"
   },
   {
    "duration": 7,
    "start_time": "2023-07-04T17:35:22.524Z"
   },
   {
    "duration": 29,
    "start_time": "2023-07-04T17:35:22.556Z"
   },
   {
    "duration": 8,
    "start_time": "2023-07-04T17:35:22.587Z"
   },
   {
    "duration": 14,
    "start_time": "2023-07-04T17:35:22.596Z"
   },
   {
    "duration": 51,
    "start_time": "2023-07-04T17:35:22.611Z"
   },
   {
    "duration": 9,
    "start_time": "2023-07-04T17:35:22.663Z"
   },
   {
    "duration": 10,
    "start_time": "2023-07-04T17:35:22.673Z"
   },
   {
    "duration": 6,
    "start_time": "2023-07-04T17:35:22.685Z"
   },
   {
    "duration": 69,
    "start_time": "2023-07-04T17:35:22.692Z"
   },
   {
    "duration": 14,
    "start_time": "2023-07-04T17:35:22.856Z"
   },
   {
    "duration": 91,
    "start_time": "2023-07-04T17:35:22.872Z"
   },
   {
    "duration": 3,
    "start_time": "2023-07-04T17:35:22.965Z"
   },
   {
    "duration": 9,
    "start_time": "2023-07-04T17:35:23.056Z"
   },
   {
    "duration": 4,
    "start_time": "2023-07-04T17:35:23.157Z"
   },
   {
    "duration": 18,
    "start_time": "2023-07-04T17:35:23.162Z"
   },
   {
    "duration": 29,
    "start_time": "2023-07-04T17:35:23.182Z"
   },
   {
    "duration": 23,
    "start_time": "2023-07-04T17:35:23.213Z"
   },
   {
    "duration": 3,
    "start_time": "2023-07-04T17:35:23.237Z"
   },
   {
    "duration": 14,
    "start_time": "2023-07-04T17:35:23.242Z"
   },
   {
    "duration": 13,
    "start_time": "2023-07-04T17:35:23.258Z"
   },
   {
    "duration": 2313,
    "start_time": "2023-07-04T17:35:23.273Z"
   },
   {
    "duration": 2431,
    "start_time": "2023-07-04T17:35:25.587Z"
   },
   {
    "duration": 1851,
    "start_time": "2023-07-04T17:35:28.020Z"
   },
   {
    "duration": 7,
    "start_time": "2023-07-04T17:39:54.103Z"
   },
   {
    "duration": 1847,
    "start_time": "2023-07-04T17:39:57.835Z"
   },
   {
    "duration": 6,
    "start_time": "2023-07-04T17:40:17.319Z"
   },
   {
    "duration": 1355,
    "start_time": "2023-07-04T17:40:20.316Z"
   },
   {
    "duration": 6,
    "start_time": "2023-07-04T17:40:32.397Z"
   },
   {
    "duration": 1334,
    "start_time": "2023-07-04T17:40:34.563Z"
   },
   {
    "duration": 7,
    "start_time": "2023-07-04T17:41:24.011Z"
   },
   {
    "duration": 7,
    "start_time": "2023-07-04T17:41:31.349Z"
   },
   {
    "duration": 1764,
    "start_time": "2023-07-04T17:41:34.398Z"
   },
   {
    "duration": 6,
    "start_time": "2023-07-04T17:42:31.323Z"
   },
   {
    "duration": 1797,
    "start_time": "2023-07-04T17:42:33.897Z"
   },
   {
    "duration": 1777,
    "start_time": "2023-07-04T17:42:51.990Z"
   },
   {
    "duration": 8,
    "start_time": "2023-07-04T17:43:38.501Z"
   },
   {
    "duration": 1779,
    "start_time": "2023-07-04T17:43:41.251Z"
   },
   {
    "duration": 8,
    "start_time": "2023-07-04T17:44:23.803Z"
   },
   {
    "duration": 1794,
    "start_time": "2023-07-04T17:44:26.791Z"
   },
   {
    "duration": 215,
    "start_time": "2023-07-04T17:46:43.342Z"
   },
   {
    "duration": 1819,
    "start_time": "2023-07-04T17:46:48.653Z"
   },
   {
    "duration": 7,
    "start_time": "2023-07-04T17:46:56.724Z"
   },
   {
    "duration": 1813,
    "start_time": "2023-07-04T17:46:59.033Z"
   },
   {
    "duration": 9,
    "start_time": "2023-07-04T17:47:08.844Z"
   },
   {
    "duration": 1840,
    "start_time": "2023-07-04T17:47:11.072Z"
   },
   {
    "duration": 104,
    "start_time": "2023-07-04T17:47:28.425Z"
   },
   {
    "duration": 392,
    "start_time": "2023-07-04T17:47:28.530Z"
   },
   {
    "duration": 142,
    "start_time": "2023-07-04T17:47:28.924Z"
   },
   {
    "duration": 15,
    "start_time": "2023-07-04T17:47:29.069Z"
   },
   {
    "duration": 14,
    "start_time": "2023-07-04T17:47:29.085Z"
   },
   {
    "duration": 13,
    "start_time": "2023-07-04T17:47:29.101Z"
   },
   {
    "duration": 56,
    "start_time": "2023-07-04T17:47:29.115Z"
   },
   {
    "duration": 24,
    "start_time": "2023-07-04T17:47:29.173Z"
   },
   {
    "duration": 27,
    "start_time": "2023-07-04T17:47:29.199Z"
   },
   {
    "duration": 75,
    "start_time": "2023-07-04T17:47:29.229Z"
   },
   {
    "duration": 55,
    "start_time": "2023-07-04T17:47:29.306Z"
   },
   {
    "duration": 46,
    "start_time": "2023-07-04T17:47:29.363Z"
   },
   {
    "duration": 47,
    "start_time": "2023-07-04T17:47:29.411Z"
   },
   {
    "duration": 44,
    "start_time": "2023-07-04T17:47:29.460Z"
   },
   {
    "duration": 38,
    "start_time": "2023-07-04T17:47:29.505Z"
   },
   {
    "duration": 14,
    "start_time": "2023-07-04T17:47:29.544Z"
   },
   {
    "duration": 275,
    "start_time": "2023-07-04T17:47:29.559Z"
   },
   {
    "duration": 291,
    "start_time": "2023-07-04T17:47:29.836Z"
   },
   {
    "duration": 297,
    "start_time": "2023-07-04T17:47:30.128Z"
   },
   {
    "duration": 5,
    "start_time": "2023-07-04T17:47:30.427Z"
   },
   {
    "duration": 77,
    "start_time": "2023-07-04T17:47:30.434Z"
   },
   {
    "duration": 302,
    "start_time": "2023-07-04T17:47:30.513Z"
   },
   {
    "duration": 143,
    "start_time": "2023-07-04T17:47:30.817Z"
   },
   {
    "duration": 260,
    "start_time": "2023-07-04T17:47:30.962Z"
   },
   {
    "duration": 123,
    "start_time": "2023-07-04T17:47:31.224Z"
   },
   {
    "duration": 266,
    "start_time": "2023-07-04T17:47:31.349Z"
   },
   {
    "duration": 128,
    "start_time": "2023-07-04T17:47:31.618Z"
   },
   {
    "duration": 7,
    "start_time": "2023-07-04T17:47:31.755Z"
   },
   {
    "duration": 486,
    "start_time": "2023-07-04T17:47:31.763Z"
   },
   {
    "duration": 8,
    "start_time": "2023-07-04T17:47:32.251Z"
   },
   {
    "duration": 143,
    "start_time": "2023-07-04T17:47:32.260Z"
   },
   {
    "duration": 282,
    "start_time": "2023-07-04T17:47:32.405Z"
   },
   {
    "duration": 126,
    "start_time": "2023-07-04T17:47:32.688Z"
   },
   {
    "duration": 260,
    "start_time": "2023-07-04T17:47:32.816Z"
   },
   {
    "duration": 128,
    "start_time": "2023-07-04T17:47:33.078Z"
   },
   {
    "duration": 7,
    "start_time": "2023-07-04T17:47:33.208Z"
   },
   {
    "duration": 222,
    "start_time": "2023-07-04T17:47:33.217Z"
   },
   {
    "duration": 130,
    "start_time": "2023-07-04T17:47:33.440Z"
   },
   {
    "duration": 212,
    "start_time": "2023-07-04T17:47:33.572Z"
   },
   {
    "duration": 6,
    "start_time": "2023-07-04T17:47:33.786Z"
   },
   {
    "duration": 148,
    "start_time": "2023-07-04T17:47:33.793Z"
   },
   {
    "duration": 299,
    "start_time": "2023-07-04T17:47:33.943Z"
   },
   {
    "duration": 138,
    "start_time": "2023-07-04T17:47:34.244Z"
   },
   {
    "duration": 5,
    "start_time": "2023-07-04T17:47:34.384Z"
   },
   {
    "duration": 292,
    "start_time": "2023-07-04T17:47:34.391Z"
   },
   {
    "duration": 140,
    "start_time": "2023-07-04T17:47:34.685Z"
   },
   {
    "duration": 6,
    "start_time": "2023-07-04T17:47:34.827Z"
   },
   {
    "duration": 274,
    "start_time": "2023-07-04T17:47:34.834Z"
   },
   {
    "duration": 125,
    "start_time": "2023-07-04T17:47:35.110Z"
   },
   {
    "duration": 20,
    "start_time": "2023-07-04T17:47:35.237Z"
   },
   {
    "duration": 531,
    "start_time": "2023-07-04T17:47:35.259Z"
   },
   {
    "duration": 5,
    "start_time": "2023-07-04T17:47:35.792Z"
   },
   {
    "duration": 143,
    "start_time": "2023-07-04T17:47:35.798Z"
   },
   {
    "duration": 4,
    "start_time": "2023-07-04T17:47:35.943Z"
   },
   {
    "duration": 27,
    "start_time": "2023-07-04T17:47:35.956Z"
   },
   {
    "duration": 8,
    "start_time": "2023-07-04T17:47:35.984Z"
   },
   {
    "duration": 14,
    "start_time": "2023-07-04T17:47:35.994Z"
   },
   {
    "duration": 49,
    "start_time": "2023-07-04T17:47:36.009Z"
   },
   {
    "duration": 9,
    "start_time": "2023-07-04T17:47:36.060Z"
   },
   {
    "duration": 12,
    "start_time": "2023-07-04T17:47:36.070Z"
   },
   {
    "duration": 33,
    "start_time": "2023-07-04T17:47:36.083Z"
   },
   {
    "duration": 8,
    "start_time": "2023-07-04T17:47:36.118Z"
   },
   {
    "duration": 10,
    "start_time": "2023-07-04T17:47:36.155Z"
   },
   {
    "duration": 4,
    "start_time": "2023-07-04T17:47:36.167Z"
   },
   {
    "duration": 17,
    "start_time": "2023-07-04T17:47:36.172Z"
   },
   {
    "duration": 105,
    "start_time": "2023-07-04T17:47:36.256Z"
   },
   {
    "duration": 192,
    "start_time": "2023-07-04T17:47:36.363Z"
   },
   {
    "duration": 97,
    "start_time": "2023-07-04T17:47:36.560Z"
   },
   {
    "duration": 8,
    "start_time": "2023-07-04T17:47:36.659Z"
   },
   {
    "duration": 9,
    "start_time": "2023-07-04T17:47:36.669Z"
   },
   {
    "duration": 46,
    "start_time": "2023-07-04T17:47:36.680Z"
   },
   {
    "duration": 14,
    "start_time": "2023-07-04T17:47:36.728Z"
   },
   {
    "duration": 19,
    "start_time": "2023-07-04T17:47:36.744Z"
   },
   {
    "duration": 4,
    "start_time": "2023-07-04T17:47:36.765Z"
   },
   {
    "duration": 6,
    "start_time": "2023-07-04T17:47:36.770Z"
   },
   {
    "duration": 8,
    "start_time": "2023-07-04T17:47:36.778Z"
   },
   {
    "duration": 1815,
    "start_time": "2023-07-04T17:47:36.787Z"
   },
   {
    "duration": 1875,
    "start_time": "2023-07-04T17:47:38.604Z"
   },
   {
    "duration": 2578,
    "start_time": "2023-07-04T17:47:40.481Z"
   },
   {
    "duration": 7,
    "start_time": "2023-07-04T17:48:50.598Z"
   },
   {
    "duration": 1380,
    "start_time": "2023-07-04T17:48:53.759Z"
   },
   {
    "duration": 7,
    "start_time": "2023-07-04T17:49:03.527Z"
   },
   {
    "duration": 1412,
    "start_time": "2023-07-04T17:49:06.244Z"
   },
   {
    "duration": 8,
    "start_time": "2023-07-04T17:49:16.972Z"
   },
   {
    "duration": 1770,
    "start_time": "2023-07-04T17:49:18.948Z"
   },
   {
    "duration": 7,
    "start_time": "2023-07-04T17:49:40.247Z"
   },
   {
    "duration": 1789,
    "start_time": "2023-07-04T17:49:42.502Z"
   },
   {
    "duration": 6,
    "start_time": "2023-07-04T17:49:57.808Z"
   },
   {
    "duration": 1826,
    "start_time": "2023-07-04T17:50:00.015Z"
   },
   {
    "duration": 151,
    "start_time": "2023-07-04T17:50:05.612Z"
   },
   {
    "duration": 389,
    "start_time": "2023-07-04T17:50:05.766Z"
   },
   {
    "duration": 145,
    "start_time": "2023-07-04T17:50:06.157Z"
   },
   {
    "duration": 16,
    "start_time": "2023-07-04T17:50:06.304Z"
   },
   {
    "duration": 39,
    "start_time": "2023-07-04T17:50:06.322Z"
   },
   {
    "duration": 14,
    "start_time": "2023-07-04T17:50:06.363Z"
   },
   {
    "duration": 25,
    "start_time": "2023-07-04T17:50:06.379Z"
   },
   {
    "duration": 51,
    "start_time": "2023-07-04T17:50:06.406Z"
   },
   {
    "duration": 24,
    "start_time": "2023-07-04T17:50:06.459Z"
   },
   {
    "duration": 53,
    "start_time": "2023-07-04T17:50:06.484Z"
   },
   {
    "duration": 47,
    "start_time": "2023-07-04T17:50:06.557Z"
   },
   {
    "duration": 63,
    "start_time": "2023-07-04T17:50:06.606Z"
   },
   {
    "duration": 35,
    "start_time": "2023-07-04T17:50:06.670Z"
   },
   {
    "duration": 49,
    "start_time": "2023-07-04T17:50:06.708Z"
   },
   {
    "duration": 33,
    "start_time": "2023-07-04T17:50:06.759Z"
   },
   {
    "duration": 3,
    "start_time": "2023-07-04T17:50:06.794Z"
   },
   {
    "duration": 266,
    "start_time": "2023-07-04T17:50:06.799Z"
   },
   {
    "duration": 275,
    "start_time": "2023-07-04T17:50:07.066Z"
   },
   {
    "duration": 304,
    "start_time": "2023-07-04T17:50:07.343Z"
   },
   {
    "duration": 5,
    "start_time": "2023-07-04T17:50:07.655Z"
   },
   {
    "duration": 7,
    "start_time": "2023-07-04T17:50:07.662Z"
   },
   {
    "duration": 533,
    "start_time": "2023-07-04T17:50:07.671Z"
   },
   {
    "duration": 143,
    "start_time": "2023-07-04T17:50:08.205Z"
   },
   {
    "duration": 292,
    "start_time": "2023-07-04T17:50:08.349Z"
   },
   {
    "duration": 124,
    "start_time": "2023-07-04T17:50:08.643Z"
   },
   {
    "duration": 307,
    "start_time": "2023-07-04T17:50:08.768Z"
   },
   {
    "duration": 139,
    "start_time": "2023-07-04T17:50:09.078Z"
   },
   {
    "duration": 7,
    "start_time": "2023-07-04T17:50:09.219Z"
   },
   {
    "duration": 298,
    "start_time": "2023-07-04T17:50:09.228Z"
   },
   {
    "duration": 5,
    "start_time": "2023-07-04T17:50:09.528Z"
   },
   {
    "duration": 136,
    "start_time": "2023-07-04T17:50:09.535Z"
   },
   {
    "duration": 302,
    "start_time": "2023-07-04T17:50:09.672Z"
   },
   {
    "duration": 131,
    "start_time": "2023-07-04T17:50:09.976Z"
   },
   {
    "duration": 259,
    "start_time": "2023-07-04T17:50:10.109Z"
   },
   {
    "duration": 127,
    "start_time": "2023-07-04T17:50:10.369Z"
   },
   {
    "duration": 6,
    "start_time": "2023-07-04T17:50:10.498Z"
   },
   {
    "duration": 215,
    "start_time": "2023-07-04T17:50:10.506Z"
   },
   {
    "duration": 133,
    "start_time": "2023-07-04T17:50:10.723Z"
   },
   {
    "duration": 225,
    "start_time": "2023-07-04T17:50:10.858Z"
   },
   {
    "duration": 7,
    "start_time": "2023-07-04T17:50:11.084Z"
   },
   {
    "duration": 139,
    "start_time": "2023-07-04T17:50:11.095Z"
   },
   {
    "duration": 492,
    "start_time": "2023-07-04T17:50:11.235Z"
   },
   {
    "duration": 139,
    "start_time": "2023-07-04T17:50:11.729Z"
   },
   {
    "duration": 7,
    "start_time": "2023-07-04T17:50:11.869Z"
   },
   {
    "duration": 289,
    "start_time": "2023-07-04T17:50:11.877Z"
   },
   {
    "duration": 134,
    "start_time": "2023-07-04T17:50:12.168Z"
   },
   {
    "duration": 6,
    "start_time": "2023-07-04T17:50:12.304Z"
   },
   {
    "duration": 269,
    "start_time": "2023-07-04T17:50:12.311Z"
   },
   {
    "duration": 131,
    "start_time": "2023-07-04T17:50:12.582Z"
   },
   {
    "duration": 7,
    "start_time": "2023-07-04T17:50:12.715Z"
   },
   {
    "duration": 299,
    "start_time": "2023-07-04T17:50:12.723Z"
   },
   {
    "duration": 7,
    "start_time": "2023-07-04T17:50:13.024Z"
   },
   {
    "duration": 163,
    "start_time": "2023-07-04T17:50:13.032Z"
   },
   {
    "duration": 4,
    "start_time": "2023-07-04T17:50:13.197Z"
   },
   {
    "duration": 39,
    "start_time": "2023-07-04T17:50:13.204Z"
   },
   {
    "duration": 17,
    "start_time": "2023-07-04T17:50:13.245Z"
   },
   {
    "duration": 9,
    "start_time": "2023-07-04T17:50:13.264Z"
   },
   {
    "duration": 30,
    "start_time": "2023-07-04T17:50:13.274Z"
   },
   {
    "duration": 8,
    "start_time": "2023-07-04T17:50:13.306Z"
   },
   {
    "duration": 15,
    "start_time": "2023-07-04T17:50:13.315Z"
   },
   {
    "duration": 49,
    "start_time": "2023-07-04T17:50:13.331Z"
   },
   {
    "duration": 8,
    "start_time": "2023-07-04T17:50:13.382Z"
   },
   {
    "duration": 12,
    "start_time": "2023-07-04T17:50:13.391Z"
   },
   {
    "duration": 21,
    "start_time": "2023-07-04T17:50:13.404Z"
   },
   {
    "duration": 34,
    "start_time": "2023-07-04T17:50:13.427Z"
   },
   {
    "duration": 195,
    "start_time": "2023-07-04T17:50:13.463Z"
   },
   {
    "duration": 108,
    "start_time": "2023-07-04T17:50:13.660Z"
   },
   {
    "duration": 86,
    "start_time": "2023-07-04T17:50:13.770Z"
   },
   {
    "duration": 99,
    "start_time": "2023-07-04T17:50:13.859Z"
   },
   {
    "duration": 11,
    "start_time": "2023-07-04T17:50:13.960Z"
   },
   {
    "duration": 18,
    "start_time": "2023-07-04T17:50:13.973Z"
   },
   {
    "duration": 13,
    "start_time": "2023-07-04T17:50:13.993Z"
   },
   {
    "duration": 20,
    "start_time": "2023-07-04T17:50:14.009Z"
   },
   {
    "duration": 3,
    "start_time": "2023-07-04T17:50:14.057Z"
   },
   {
    "duration": 5,
    "start_time": "2023-07-04T17:50:14.062Z"
   },
   {
    "duration": 7,
    "start_time": "2023-07-04T17:50:14.069Z"
   },
   {
    "duration": 1793,
    "start_time": "2023-07-04T17:50:14.077Z"
   },
   {
    "duration": 1812,
    "start_time": "2023-07-04T17:50:15.871Z"
   },
   {
    "duration": 2484,
    "start_time": "2023-07-04T17:50:17.685Z"
   },
   {
    "duration": 7,
    "start_time": "2023-07-04T17:50:35.430Z"
   },
   {
    "duration": 2057,
    "start_time": "2023-07-04T17:50:38.238Z"
   },
   {
    "duration": 59,
    "start_time": "2023-07-04T17:50:43.707Z"
   },
   {
    "duration": 389,
    "start_time": "2023-07-04T17:50:43.769Z"
   },
   {
    "duration": 153,
    "start_time": "2023-07-04T17:50:44.160Z"
   },
   {
    "duration": 17,
    "start_time": "2023-07-04T17:50:44.316Z"
   },
   {
    "duration": 36,
    "start_time": "2023-07-04T17:50:44.335Z"
   },
   {
    "duration": 15,
    "start_time": "2023-07-04T17:50:44.373Z"
   },
   {
    "duration": 31,
    "start_time": "2023-07-04T17:50:44.390Z"
   },
   {
    "duration": 56,
    "start_time": "2023-07-04T17:50:44.423Z"
   },
   {
    "duration": 23,
    "start_time": "2023-07-04T17:50:44.482Z"
   },
   {
    "duration": 78,
    "start_time": "2023-07-04T17:50:44.508Z"
   },
   {
    "duration": 48,
    "start_time": "2023-07-04T17:50:44.588Z"
   },
   {
    "duration": 58,
    "start_time": "2023-07-04T17:50:44.638Z"
   },
   {
    "duration": 34,
    "start_time": "2023-07-04T17:50:44.698Z"
   },
   {
    "duration": 51,
    "start_time": "2023-07-04T17:50:44.733Z"
   },
   {
    "duration": 34,
    "start_time": "2023-07-04T17:50:44.786Z"
   },
   {
    "duration": 11,
    "start_time": "2023-07-04T17:50:44.822Z"
   },
   {
    "duration": 297,
    "start_time": "2023-07-04T17:50:44.835Z"
   },
   {
    "duration": 296,
    "start_time": "2023-07-04T17:50:45.134Z"
   },
   {
    "duration": 306,
    "start_time": "2023-07-04T17:50:45.432Z"
   },
   {
    "duration": 17,
    "start_time": "2023-07-04T17:50:45.740Z"
   },
   {
    "duration": 7,
    "start_time": "2023-07-04T17:50:45.759Z"
   },
   {
    "duration": 279,
    "start_time": "2023-07-04T17:50:45.767Z"
   },
   {
    "duration": 144,
    "start_time": "2023-07-04T17:50:46.048Z"
   },
   {
    "duration": 263,
    "start_time": "2023-07-04T17:50:46.193Z"
   },
   {
    "duration": 120,
    "start_time": "2023-07-04T17:50:46.458Z"
   },
   {
    "duration": 276,
    "start_time": "2023-07-04T17:50:46.580Z"
   },
   {
    "duration": 124,
    "start_time": "2023-07-04T17:50:46.858Z"
   },
   {
    "duration": 7,
    "start_time": "2023-07-04T17:50:46.986Z"
   },
   {
    "duration": 297,
    "start_time": "2023-07-04T17:50:46.994Z"
   },
   {
    "duration": 5,
    "start_time": "2023-07-04T17:50:47.293Z"
   },
   {
    "duration": 160,
    "start_time": "2023-07-04T17:50:47.300Z"
   },
   {
    "duration": 280,
    "start_time": "2023-07-04T17:50:47.462Z"
   },
   {
    "duration": 135,
    "start_time": "2023-07-04T17:50:47.744Z"
   },
   {
    "duration": 506,
    "start_time": "2023-07-04T17:50:47.881Z"
   },
   {
    "duration": 137,
    "start_time": "2023-07-04T17:50:48.389Z"
   },
   {
    "duration": 7,
    "start_time": "2023-07-04T17:50:48.527Z"
   },
   {
    "duration": 220,
    "start_time": "2023-07-04T17:50:48.536Z"
   },
   {
    "duration": 152,
    "start_time": "2023-07-04T17:50:48.758Z"
   },
   {
    "duration": 226,
    "start_time": "2023-07-04T17:50:48.912Z"
   },
   {
    "duration": 7,
    "start_time": "2023-07-04T17:50:49.140Z"
   },
   {
    "duration": 133,
    "start_time": "2023-07-04T17:50:49.155Z"
   },
   {
    "duration": 284,
    "start_time": "2023-07-04T17:50:49.289Z"
   },
   {
    "duration": 139,
    "start_time": "2023-07-04T17:50:49.575Z"
   },
   {
    "duration": 6,
    "start_time": "2023-07-04T17:50:49.716Z"
   },
   {
    "duration": 292,
    "start_time": "2023-07-04T17:50:49.724Z"
   },
   {
    "duration": 142,
    "start_time": "2023-07-04T17:50:50.018Z"
   },
   {
    "duration": 6,
    "start_time": "2023-07-04T17:50:50.162Z"
   },
   {
    "duration": 268,
    "start_time": "2023-07-04T17:50:50.170Z"
   },
   {
    "duration": 127,
    "start_time": "2023-07-04T17:50:50.440Z"
   },
   {
    "duration": 7,
    "start_time": "2023-07-04T17:50:50.569Z"
   },
   {
    "duration": 299,
    "start_time": "2023-07-04T17:50:50.577Z"
   },
   {
    "duration": 6,
    "start_time": "2023-07-04T17:50:50.878Z"
   },
   {
    "duration": 138,
    "start_time": "2023-07-04T17:50:50.885Z"
   },
   {
    "duration": 4,
    "start_time": "2023-07-04T17:50:51.025Z"
   },
   {
    "duration": 42,
    "start_time": "2023-07-04T17:50:51.030Z"
   },
   {
    "duration": 7,
    "start_time": "2023-07-04T17:50:51.074Z"
   },
   {
    "duration": 12,
    "start_time": "2023-07-04T17:50:51.083Z"
   },
   {
    "duration": 25,
    "start_time": "2023-07-04T17:50:51.097Z"
   },
   {
    "duration": 8,
    "start_time": "2023-07-04T17:50:51.124Z"
   },
   {
    "duration": 8,
    "start_time": "2023-07-04T17:50:51.157Z"
   },
   {
    "duration": 25,
    "start_time": "2023-07-04T17:50:51.167Z"
   },
   {
    "duration": 9,
    "start_time": "2023-07-04T17:50:51.193Z"
   },
   {
    "duration": 9,
    "start_time": "2023-07-04T17:50:51.203Z"
   },
   {
    "duration": 8,
    "start_time": "2023-07-04T17:50:51.214Z"
   },
   {
    "duration": 47,
    "start_time": "2023-07-04T17:50:51.223Z"
   },
   {
    "duration": 186,
    "start_time": "2023-07-04T17:50:51.272Z"
   },
   {
    "duration": 103,
    "start_time": "2023-07-04T17:50:51.460Z"
   },
   {
    "duration": 3,
    "start_time": "2023-07-04T17:50:51.565Z"
   },
   {
    "duration": 4,
    "start_time": "2023-07-04T17:50:51.658Z"
   },
   {
    "duration": 94,
    "start_time": "2023-07-04T17:50:51.664Z"
   },
   {
    "duration": 24,
    "start_time": "2023-07-04T17:50:51.760Z"
   },
   {
    "duration": 13,
    "start_time": "2023-07-04T17:50:51.786Z"
   },
   {
    "duration": 15,
    "start_time": "2023-07-04T17:50:51.801Z"
   },
   {
    "duration": 3,
    "start_time": "2023-07-04T17:50:51.818Z"
   },
   {
    "duration": 4,
    "start_time": "2023-07-04T17:50:51.823Z"
   },
   {
    "duration": 7,
    "start_time": "2023-07-04T17:50:51.856Z"
   },
   {
    "duration": 2706,
    "start_time": "2023-07-04T17:50:51.864Z"
   },
   {
    "duration": 2988,
    "start_time": "2023-07-04T17:50:54.571Z"
   },
   {
    "duration": 1841,
    "start_time": "2023-07-04T17:50:57.561Z"
   },
   {
    "duration": 46,
    "start_time": "2023-07-04T17:51:15.664Z"
   },
   {
    "duration": 402,
    "start_time": "2023-07-04T17:51:15.712Z"
   },
   {
    "duration": 146,
    "start_time": "2023-07-04T17:51:16.115Z"
   },
   {
    "duration": 16,
    "start_time": "2023-07-04T17:51:16.263Z"
   },
   {
    "duration": 13,
    "start_time": "2023-07-04T17:51:16.281Z"
   },
   {
    "duration": 18,
    "start_time": "2023-07-04T17:51:16.296Z"
   },
   {
    "duration": 57,
    "start_time": "2023-07-04T17:51:16.316Z"
   },
   {
    "duration": 25,
    "start_time": "2023-07-04T17:51:16.374Z"
   },
   {
    "duration": 24,
    "start_time": "2023-07-04T17:51:16.400Z"
   },
   {
    "duration": 70,
    "start_time": "2023-07-04T17:51:16.427Z"
   },
   {
    "duration": 64,
    "start_time": "2023-07-04T17:51:16.498Z"
   },
   {
    "duration": 49,
    "start_time": "2023-07-04T17:51:16.564Z"
   },
   {
    "duration": 48,
    "start_time": "2023-07-04T17:51:16.614Z"
   },
   {
    "duration": 41,
    "start_time": "2023-07-04T17:51:16.664Z"
   },
   {
    "duration": 34,
    "start_time": "2023-07-04T17:51:16.708Z"
   },
   {
    "duration": 4,
    "start_time": "2023-07-04T17:51:16.757Z"
   },
   {
    "duration": 287,
    "start_time": "2023-07-04T17:51:16.762Z"
   },
   {
    "duration": 283,
    "start_time": "2023-07-04T17:51:17.056Z"
   },
   {
    "duration": 308,
    "start_time": "2023-07-04T17:51:17.341Z"
   },
   {
    "duration": 9,
    "start_time": "2023-07-04T17:51:17.651Z"
   },
   {
    "duration": 22,
    "start_time": "2023-07-04T17:51:17.661Z"
   },
   {
    "duration": 275,
    "start_time": "2023-07-04T17:51:17.685Z"
   },
   {
    "duration": 138,
    "start_time": "2023-07-04T17:51:17.961Z"
   },
   {
    "duration": 258,
    "start_time": "2023-07-04T17:51:18.101Z"
   },
   {
    "duration": 132,
    "start_time": "2023-07-04T17:51:18.360Z"
   },
   {
    "duration": 277,
    "start_time": "2023-07-04T17:51:18.494Z"
   },
   {
    "duration": 144,
    "start_time": "2023-07-04T17:51:18.773Z"
   },
   {
    "duration": 8,
    "start_time": "2023-07-04T17:51:18.924Z"
   },
   {
    "duration": 305,
    "start_time": "2023-07-04T17:51:18.934Z"
   },
   {
    "duration": 5,
    "start_time": "2023-07-04T17:51:19.241Z"
   },
   {
    "duration": 134,
    "start_time": "2023-07-04T17:51:19.257Z"
   },
   {
    "duration": 284,
    "start_time": "2023-07-04T17:51:19.393Z"
   },
   {
    "duration": 350,
    "start_time": "2023-07-04T17:51:19.679Z"
   },
   {
    "duration": 262,
    "start_time": "2023-07-04T17:51:20.031Z"
   },
   {
    "duration": 126,
    "start_time": "2023-07-04T17:51:20.295Z"
   },
   {
    "duration": 6,
    "start_time": "2023-07-04T17:51:20.423Z"
   },
   {
    "duration": 208,
    "start_time": "2023-07-04T17:51:20.431Z"
   },
   {
    "duration": 131,
    "start_time": "2023-07-04T17:51:20.641Z"
   },
   {
    "duration": 218,
    "start_time": "2023-07-04T17:51:20.774Z"
   },
   {
    "duration": 7,
    "start_time": "2023-07-04T17:51:20.994Z"
   },
   {
    "duration": 161,
    "start_time": "2023-07-04T17:51:21.002Z"
   },
   {
    "duration": 282,
    "start_time": "2023-07-04T17:51:21.165Z"
   },
   {
    "duration": 128,
    "start_time": "2023-07-04T17:51:21.456Z"
   },
   {
    "duration": 7,
    "start_time": "2023-07-04T17:51:21.586Z"
   },
   {
    "duration": 278,
    "start_time": "2023-07-04T17:51:21.594Z"
   },
   {
    "duration": 138,
    "start_time": "2023-07-04T17:51:21.873Z"
   },
   {
    "duration": 7,
    "start_time": "2023-07-04T17:51:22.012Z"
   },
   {
    "duration": 292,
    "start_time": "2023-07-04T17:51:22.020Z"
   },
   {
    "duration": 128,
    "start_time": "2023-07-04T17:51:22.313Z"
   },
   {
    "duration": 15,
    "start_time": "2023-07-04T17:51:22.442Z"
   },
   {
    "duration": 261,
    "start_time": "2023-07-04T17:51:22.459Z"
   },
   {
    "duration": 5,
    "start_time": "2023-07-04T17:51:22.722Z"
   },
   {
    "duration": 145,
    "start_time": "2023-07-04T17:51:22.729Z"
   },
   {
    "duration": 4,
    "start_time": "2023-07-04T17:51:22.876Z"
   },
   {
    "duration": 31,
    "start_time": "2023-07-04T17:51:22.881Z"
   },
   {
    "duration": 8,
    "start_time": "2023-07-04T17:51:22.913Z"
   },
   {
    "duration": 9,
    "start_time": "2023-07-04T17:51:22.922Z"
   },
   {
    "duration": 46,
    "start_time": "2023-07-04T17:51:22.932Z"
   },
   {
    "duration": 8,
    "start_time": "2023-07-04T17:51:22.980Z"
   },
   {
    "duration": 11,
    "start_time": "2023-07-04T17:51:22.989Z"
   },
   {
    "duration": 26,
    "start_time": "2023-07-04T17:51:23.002Z"
   },
   {
    "duration": 33,
    "start_time": "2023-07-04T17:51:23.030Z"
   },
   {
    "duration": 10,
    "start_time": "2023-07-04T17:51:23.065Z"
   },
   {
    "duration": 4,
    "start_time": "2023-07-04T17:51:23.077Z"
   },
   {
    "duration": 76,
    "start_time": "2023-07-04T17:51:23.082Z"
   },
   {
    "duration": 104,
    "start_time": "2023-07-04T17:51:23.160Z"
   },
   {
    "duration": 206,
    "start_time": "2023-07-04T17:51:23.265Z"
   },
   {
    "duration": 4,
    "start_time": "2023-07-04T17:51:23.556Z"
   },
   {
    "duration": 96,
    "start_time": "2023-07-04T17:51:23.565Z"
   },
   {
    "duration": 5,
    "start_time": "2023-07-04T17:51:23.662Z"
   },
   {
    "duration": 18,
    "start_time": "2023-07-04T17:51:23.668Z"
   },
   {
    "duration": 12,
    "start_time": "2023-07-04T17:51:23.688Z"
   },
   {
    "duration": 14,
    "start_time": "2023-07-04T17:51:23.701Z"
   },
   {
    "duration": 4,
    "start_time": "2023-07-04T17:51:23.716Z"
   },
   {
    "duration": 36,
    "start_time": "2023-07-04T17:51:23.721Z"
   },
   {
    "duration": 6,
    "start_time": "2023-07-04T17:51:23.759Z"
   },
   {
    "duration": 1327,
    "start_time": "2023-07-04T17:51:23.767Z"
   },
   {
    "duration": 0,
    "start_time": "2023-07-04T17:51:25.095Z"
   },
   {
    "duration": 0,
    "start_time": "2023-07-04T17:51:25.097Z"
   },
   {
    "duration": 46,
    "start_time": "2023-07-04T17:51:41.518Z"
   },
   {
    "duration": 390,
    "start_time": "2023-07-04T17:51:41.566Z"
   },
   {
    "duration": 136,
    "start_time": "2023-07-04T17:51:41.958Z"
   },
   {
    "duration": 13,
    "start_time": "2023-07-04T17:51:42.096Z"
   },
   {
    "duration": 13,
    "start_time": "2023-07-04T17:51:42.111Z"
   },
   {
    "duration": 42,
    "start_time": "2023-07-04T17:51:42.126Z"
   },
   {
    "duration": 24,
    "start_time": "2023-07-04T17:51:42.169Z"
   },
   {
    "duration": 24,
    "start_time": "2023-07-04T17:51:42.195Z"
   },
   {
    "duration": 51,
    "start_time": "2023-07-04T17:51:42.220Z"
   },
   {
    "duration": 45,
    "start_time": "2023-07-04T17:51:42.273Z"
   },
   {
    "duration": 67,
    "start_time": "2023-07-04T17:51:42.320Z"
   },
   {
    "duration": 46,
    "start_time": "2023-07-04T17:51:42.388Z"
   },
   {
    "duration": 52,
    "start_time": "2023-07-04T17:51:42.436Z"
   },
   {
    "duration": 33,
    "start_time": "2023-07-04T17:51:42.492Z"
   },
   {
    "duration": 52,
    "start_time": "2023-07-04T17:51:42.527Z"
   },
   {
    "duration": 3,
    "start_time": "2023-07-04T17:51:42.581Z"
   },
   {
    "duration": 257,
    "start_time": "2023-07-04T17:51:42.586Z"
   },
   {
    "duration": 496,
    "start_time": "2023-07-04T17:51:42.845Z"
   },
   {
    "duration": 303,
    "start_time": "2023-07-04T17:51:43.342Z"
   },
   {
    "duration": 10,
    "start_time": "2023-07-04T17:51:43.647Z"
   },
   {
    "duration": 8,
    "start_time": "2023-07-04T17:51:43.658Z"
   },
   {
    "duration": 295,
    "start_time": "2023-07-04T17:51:43.668Z"
   },
   {
    "duration": 144,
    "start_time": "2023-07-04T17:51:43.965Z"
   },
   {
    "duration": 277,
    "start_time": "2023-07-04T17:51:44.110Z"
   },
   {
    "duration": 125,
    "start_time": "2023-07-04T17:51:44.389Z"
   },
   {
    "duration": 263,
    "start_time": "2023-07-04T17:51:44.516Z"
   },
   {
    "duration": 135,
    "start_time": "2023-07-04T17:51:44.781Z"
   },
   {
    "duration": 6,
    "start_time": "2023-07-04T17:51:44.919Z"
   },
   {
    "duration": 287,
    "start_time": "2023-07-04T17:51:44.927Z"
   },
   {
    "duration": 6,
    "start_time": "2023-07-04T17:51:45.216Z"
   },
   {
    "duration": 151,
    "start_time": "2023-07-04T17:51:45.224Z"
   },
   {
    "duration": 292,
    "start_time": "2023-07-04T17:51:45.377Z"
   },
   {
    "duration": 139,
    "start_time": "2023-07-04T17:51:45.671Z"
   },
   {
    "duration": 270,
    "start_time": "2023-07-04T17:51:45.812Z"
   },
   {
    "duration": 129,
    "start_time": "2023-07-04T17:51:46.084Z"
   },
   {
    "duration": 7,
    "start_time": "2023-07-04T17:51:46.215Z"
   },
   {
    "duration": 452,
    "start_time": "2023-07-04T17:51:46.223Z"
   },
   {
    "duration": 136,
    "start_time": "2023-07-04T17:51:46.676Z"
   },
   {
    "duration": 214,
    "start_time": "2023-07-04T17:51:46.814Z"
   },
   {
    "duration": 7,
    "start_time": "2023-07-04T17:51:47.030Z"
   },
   {
    "duration": 159,
    "start_time": "2023-07-04T17:51:47.041Z"
   },
   {
    "duration": 294,
    "start_time": "2023-07-04T17:51:47.202Z"
   },
   {
    "duration": 135,
    "start_time": "2023-07-04T17:51:47.497Z"
   },
   {
    "duration": 6,
    "start_time": "2023-07-04T17:51:47.634Z"
   },
   {
    "duration": 285,
    "start_time": "2023-07-04T17:51:47.641Z"
   },
   {
    "duration": 134,
    "start_time": "2023-07-04T17:51:47.928Z"
   },
   {
    "duration": 6,
    "start_time": "2023-07-04T17:51:48.064Z"
   },
   {
    "duration": 267,
    "start_time": "2023-07-04T17:51:48.072Z"
   },
   {
    "duration": 144,
    "start_time": "2023-07-04T17:51:48.341Z"
   },
   {
    "duration": 6,
    "start_time": "2023-07-04T17:51:48.487Z"
   },
   {
    "duration": 290,
    "start_time": "2023-07-04T17:51:48.494Z"
   },
   {
    "duration": 5,
    "start_time": "2023-07-04T17:51:48.785Z"
   },
   {
    "duration": 147,
    "start_time": "2023-07-04T17:51:48.792Z"
   },
   {
    "duration": 5,
    "start_time": "2023-07-04T17:51:48.941Z"
   },
   {
    "duration": 31,
    "start_time": "2023-07-04T17:51:48.956Z"
   },
   {
    "duration": 8,
    "start_time": "2023-07-04T17:51:48.989Z"
   },
   {
    "duration": 21,
    "start_time": "2023-07-04T17:51:48.999Z"
   },
   {
    "duration": 43,
    "start_time": "2023-07-04T17:51:49.022Z"
   },
   {
    "duration": 9,
    "start_time": "2023-07-04T17:51:49.067Z"
   },
   {
    "duration": 11,
    "start_time": "2023-07-04T17:51:49.078Z"
   },
   {
    "duration": 29,
    "start_time": "2023-07-04T17:51:49.091Z"
   },
   {
    "duration": 8,
    "start_time": "2023-07-04T17:51:49.122Z"
   },
   {
    "duration": 11,
    "start_time": "2023-07-04T17:51:49.158Z"
   },
   {
    "duration": 5,
    "start_time": "2023-07-04T17:51:49.171Z"
   },
   {
    "duration": 22,
    "start_time": "2023-07-04T17:51:49.177Z"
   },
   {
    "duration": 107,
    "start_time": "2023-07-04T17:51:49.257Z"
   },
   {
    "duration": 192,
    "start_time": "2023-07-04T17:51:49.365Z"
   },
   {
    "duration": 3,
    "start_time": "2023-07-04T17:51:49.560Z"
   },
   {
    "duration": 8,
    "start_time": "2023-07-04T17:51:49.657Z"
   },
   {
    "duration": 4,
    "start_time": "2023-07-04T17:51:49.667Z"
   },
   {
    "duration": 16,
    "start_time": "2023-07-04T17:51:49.673Z"
   },
   {
    "duration": 12,
    "start_time": "2023-07-04T17:51:49.691Z"
   },
   {
    "duration": 15,
    "start_time": "2023-07-04T17:51:49.705Z"
   },
   {
    "duration": 36,
    "start_time": "2023-07-04T17:51:49.721Z"
   },
   {
    "duration": 4,
    "start_time": "2023-07-04T17:51:49.759Z"
   },
   {
    "duration": 16,
    "start_time": "2023-07-04T17:51:49.764Z"
   },
   {
    "duration": 2474,
    "start_time": "2023-07-04T17:51:49.782Z"
   },
   {
    "duration": 2191,
    "start_time": "2023-07-04T17:51:52.259Z"
   },
   {
    "duration": 1835,
    "start_time": "2023-07-04T17:51:54.451Z"
   },
   {
    "duration": 50,
    "start_time": "2023-07-04T17:54:37.025Z"
   },
   {
    "duration": 366,
    "start_time": "2023-07-04T17:54:37.077Z"
   },
   {
    "duration": 145,
    "start_time": "2023-07-04T17:54:37.445Z"
   },
   {
    "duration": 16,
    "start_time": "2023-07-04T17:54:37.592Z"
   },
   {
    "duration": 14,
    "start_time": "2023-07-04T17:54:37.610Z"
   },
   {
    "duration": 35,
    "start_time": "2023-07-04T17:54:37.626Z"
   },
   {
    "duration": 26,
    "start_time": "2023-07-04T17:54:37.663Z"
   },
   {
    "duration": 23,
    "start_time": "2023-07-04T17:54:37.690Z"
   },
   {
    "duration": 51,
    "start_time": "2023-07-04T17:54:37.715Z"
   },
   {
    "duration": 51,
    "start_time": "2023-07-04T17:54:37.769Z"
   },
   {
    "duration": 59,
    "start_time": "2023-07-04T17:54:37.822Z"
   },
   {
    "duration": 47,
    "start_time": "2023-07-04T17:54:37.882Z"
   },
   {
    "duration": 49,
    "start_time": "2023-07-04T17:54:37.931Z"
   },
   {
    "duration": 30,
    "start_time": "2023-07-04T17:54:37.982Z"
   },
   {
    "duration": 52,
    "start_time": "2023-07-04T17:54:38.014Z"
   },
   {
    "duration": 3,
    "start_time": "2023-07-04T17:54:38.068Z"
   },
   {
    "duration": 268,
    "start_time": "2023-07-04T17:54:38.072Z"
   },
   {
    "duration": 303,
    "start_time": "2023-07-04T17:54:38.341Z"
   },
   {
    "duration": 313,
    "start_time": "2023-07-04T17:54:38.646Z"
   },
   {
    "duration": 5,
    "start_time": "2023-07-04T17:54:38.964Z"
   },
   {
    "duration": 7,
    "start_time": "2023-07-04T17:54:38.970Z"
   },
   {
    "duration": 299,
    "start_time": "2023-07-04T17:54:38.980Z"
   },
   {
    "duration": 146,
    "start_time": "2023-07-04T17:54:39.281Z"
   },
   {
    "duration": 264,
    "start_time": "2023-07-04T17:54:39.429Z"
   },
   {
    "duration": 127,
    "start_time": "2023-07-04T17:54:39.694Z"
   },
   {
    "duration": 284,
    "start_time": "2023-07-04T17:54:39.823Z"
   },
   {
    "duration": 134,
    "start_time": "2023-07-04T17:54:40.110Z"
   },
   {
    "duration": 7,
    "start_time": "2023-07-04T17:54:40.258Z"
   },
   {
    "duration": 274,
    "start_time": "2023-07-04T17:54:40.267Z"
   },
   {
    "duration": 14,
    "start_time": "2023-07-04T17:54:40.544Z"
   },
   {
    "duration": 131,
    "start_time": "2023-07-04T17:54:40.560Z"
   },
   {
    "duration": 296,
    "start_time": "2023-07-04T17:54:40.693Z"
   },
   {
    "duration": 375,
    "start_time": "2023-07-04T17:54:40.992Z"
   },
   {
    "duration": 275,
    "start_time": "2023-07-04T17:54:41.370Z"
   },
   {
    "duration": 133,
    "start_time": "2023-07-04T17:54:41.647Z"
   },
   {
    "duration": 7,
    "start_time": "2023-07-04T17:54:41.782Z"
   },
   {
    "duration": 211,
    "start_time": "2023-07-04T17:54:41.790Z"
   },
   {
    "duration": 192,
    "start_time": "2023-07-04T17:54:42.004Z"
   },
   {
    "duration": 477,
    "start_time": "2023-07-04T17:54:42.198Z"
   },
   {
    "duration": 7,
    "start_time": "2023-07-04T17:54:42.676Z"
   },
   {
    "duration": 280,
    "start_time": "2023-07-04T17:54:42.684Z"
   },
   {
    "duration": 521,
    "start_time": "2023-07-04T17:54:42.966Z"
   },
   {
    "duration": 277,
    "start_time": "2023-07-04T17:54:43.488Z"
   },
   {
    "duration": 6,
    "start_time": "2023-07-04T17:54:43.767Z"
   },
   {
    "duration": 356,
    "start_time": "2023-07-04T17:54:43.775Z"
   },
   {
    "duration": 138,
    "start_time": "2023-07-04T17:54:44.133Z"
   },
   {
    "duration": 7,
    "start_time": "2023-07-04T17:54:44.273Z"
   },
   {
    "duration": 264,
    "start_time": "2023-07-04T17:54:44.281Z"
   },
   {
    "duration": 134,
    "start_time": "2023-07-04T17:54:44.546Z"
   },
   {
    "duration": 5,
    "start_time": "2023-07-04T17:54:44.682Z"
   },
   {
    "duration": 293,
    "start_time": "2023-07-04T17:54:44.688Z"
   },
   {
    "duration": 5,
    "start_time": "2023-07-04T17:54:44.983Z"
   },
   {
    "duration": 154,
    "start_time": "2023-07-04T17:54:44.990Z"
   },
   {
    "duration": 12,
    "start_time": "2023-07-04T17:54:45.146Z"
   },
   {
    "duration": 30,
    "start_time": "2023-07-04T17:54:45.160Z"
   },
   {
    "duration": 9,
    "start_time": "2023-07-04T17:54:45.192Z"
   },
   {
    "duration": 19,
    "start_time": "2023-07-04T17:54:45.202Z"
   },
   {
    "duration": 44,
    "start_time": "2023-07-04T17:54:45.223Z"
   },
   {
    "duration": 8,
    "start_time": "2023-07-04T17:54:45.268Z"
   },
   {
    "duration": 8,
    "start_time": "2023-07-04T17:54:45.278Z"
   },
   {
    "duration": 30,
    "start_time": "2023-07-04T17:54:45.287Z"
   },
   {
    "duration": 12,
    "start_time": "2023-07-04T17:54:45.321Z"
   },
   {
    "duration": 9,
    "start_time": "2023-07-04T17:54:45.357Z"
   },
   {
    "duration": 5,
    "start_time": "2023-07-04T17:54:45.367Z"
   },
   {
    "duration": 84,
    "start_time": "2023-07-04T17:54:45.373Z"
   },
   {
    "duration": 102,
    "start_time": "2023-07-04T17:54:45.459Z"
   },
   {
    "duration": 103,
    "start_time": "2023-07-04T17:54:45.563Z"
   },
   {
    "duration": 3,
    "start_time": "2023-07-04T17:54:45.758Z"
   },
   {
    "duration": 93,
    "start_time": "2023-07-04T17:54:45.764Z"
   },
   {
    "duration": 3,
    "start_time": "2023-07-04T17:54:45.860Z"
   },
   {
    "duration": 18,
    "start_time": "2023-07-04T17:54:45.865Z"
   },
   {
    "duration": 12,
    "start_time": "2023-07-04T17:54:45.885Z"
   },
   {
    "duration": 16,
    "start_time": "2023-07-04T17:54:45.898Z"
   },
   {
    "duration": 3,
    "start_time": "2023-07-04T17:54:45.916Z"
   },
   {
    "duration": 36,
    "start_time": "2023-07-04T17:54:45.921Z"
   },
   {
    "duration": 6,
    "start_time": "2023-07-04T17:54:45.959Z"
   },
   {
    "duration": 1951,
    "start_time": "2023-07-04T17:54:45.967Z"
   },
   {
    "duration": 1850,
    "start_time": "2023-07-04T17:54:47.920Z"
   },
   {
    "duration": 1848,
    "start_time": "2023-07-04T17:54:49.772Z"
   },
   {
    "duration": 1561,
    "start_time": "2023-07-06T09:27:12.895Z"
   },
   {
    "duration": 1082,
    "start_time": "2023-07-06T09:27:14.458Z"
   },
   {
    "duration": 282,
    "start_time": "2023-07-06T09:27:15.542Z"
   },
   {
    "duration": 13,
    "start_time": "2023-07-06T09:27:15.826Z"
   },
   {
    "duration": 69,
    "start_time": "2023-07-06T09:27:15.841Z"
   },
   {
    "duration": 12,
    "start_time": "2023-07-06T09:27:15.912Z"
   },
   {
    "duration": 79,
    "start_time": "2023-07-06T09:27:15.926Z"
   },
   {
    "duration": 26,
    "start_time": "2023-07-06T09:27:16.007Z"
   },
   {
    "duration": 73,
    "start_time": "2023-07-06T09:27:16.034Z"
   },
   {
    "duration": 104,
    "start_time": "2023-07-06T09:27:16.111Z"
   },
   {
    "duration": 98,
    "start_time": "2023-07-06T09:27:16.217Z"
   },
   {
    "duration": 92,
    "start_time": "2023-07-06T09:27:16.317Z"
   },
   {
    "duration": 26,
    "start_time": "2023-07-06T09:27:16.411Z"
   },
   {
    "duration": 84,
    "start_time": "2023-07-06T09:27:16.438Z"
   },
   {
    "duration": 27,
    "start_time": "2023-07-06T09:27:16.523Z"
   },
   {
    "duration": 7,
    "start_time": "2023-07-06T09:27:16.551Z"
   },
   {
    "duration": 364,
    "start_time": "2023-07-06T09:27:16.559Z"
   },
   {
    "duration": 253,
    "start_time": "2023-07-06T09:27:16.925Z"
   },
   {
    "duration": 283,
    "start_time": "2023-07-06T09:27:17.179Z"
   },
   {
    "duration": 4,
    "start_time": "2023-07-06T09:27:17.464Z"
   },
   {
    "duration": 11,
    "start_time": "2023-07-06T09:27:17.469Z"
   },
   {
    "duration": 352,
    "start_time": "2023-07-06T09:27:17.481Z"
   },
   {
    "duration": 137,
    "start_time": "2023-07-06T09:27:17.834Z"
   },
   {
    "duration": 263,
    "start_time": "2023-07-06T09:27:17.973Z"
   },
   {
    "duration": 118,
    "start_time": "2023-07-06T09:27:18.237Z"
   },
   {
    "duration": 255,
    "start_time": "2023-07-06T09:27:18.356Z"
   },
   {
    "duration": 131,
    "start_time": "2023-07-06T09:27:18.612Z"
   },
   {
    "duration": 7,
    "start_time": "2023-07-06T09:27:18.747Z"
   },
   {
    "duration": 288,
    "start_time": "2023-07-06T09:27:18.755Z"
   },
   {
    "duration": 5,
    "start_time": "2023-07-06T09:27:19.044Z"
   },
   {
    "duration": 137,
    "start_time": "2023-07-06T09:27:19.050Z"
   },
   {
    "duration": 347,
    "start_time": "2023-07-06T09:27:19.189Z"
   },
   {
    "duration": 130,
    "start_time": "2023-07-06T09:27:19.537Z"
   },
   {
    "duration": 262,
    "start_time": "2023-07-06T09:27:19.669Z"
   },
   {
    "duration": 125,
    "start_time": "2023-07-06T09:27:19.933Z"
   },
   {
    "duration": 6,
    "start_time": "2023-07-06T09:27:20.059Z"
   },
   {
    "duration": 217,
    "start_time": "2023-07-06T09:27:20.066Z"
   },
   {
    "duration": 130,
    "start_time": "2023-07-06T09:27:20.285Z"
   },
   {
    "duration": 210,
    "start_time": "2023-07-06T09:27:20.417Z"
   },
   {
    "duration": 6,
    "start_time": "2023-07-06T09:27:20.629Z"
   },
   {
    "duration": 181,
    "start_time": "2023-07-06T09:27:20.636Z"
   },
   {
    "duration": 348,
    "start_time": "2023-07-06T09:27:20.819Z"
   },
   {
    "duration": 140,
    "start_time": "2023-07-06T09:27:21.169Z"
   },
   {
    "duration": 6,
    "start_time": "2023-07-06T09:27:21.311Z"
   },
   {
    "duration": 295,
    "start_time": "2023-07-06T09:27:21.319Z"
   },
   {
    "duration": 138,
    "start_time": "2023-07-06T09:27:21.615Z"
   },
   {
    "duration": 6,
    "start_time": "2023-07-06T09:27:21.755Z"
   },
   {
    "duration": 312,
    "start_time": "2023-07-06T09:27:21.762Z"
   },
   {
    "duration": 126,
    "start_time": "2023-07-06T09:27:22.075Z"
   },
   {
    "duration": 7,
    "start_time": "2023-07-06T09:27:22.202Z"
   },
   {
    "duration": 277,
    "start_time": "2023-07-06T09:27:22.211Z"
   },
   {
    "duration": 11,
    "start_time": "2023-07-06T09:27:22.490Z"
   },
   {
    "duration": 139,
    "start_time": "2023-07-06T09:27:22.502Z"
   },
   {
    "duration": 4,
    "start_time": "2023-07-06T09:27:22.642Z"
   },
   {
    "duration": 33,
    "start_time": "2023-07-06T09:27:22.647Z"
   },
   {
    "duration": 18,
    "start_time": "2023-07-06T09:27:22.681Z"
   },
   {
    "duration": 26,
    "start_time": "2023-07-06T09:27:22.701Z"
   },
   {
    "duration": 99,
    "start_time": "2023-07-06T09:27:22.729Z"
   },
   {
    "duration": 17,
    "start_time": "2023-07-06T09:27:22.830Z"
   },
   {
    "duration": 30,
    "start_time": "2023-07-06T09:27:22.849Z"
   },
   {
    "duration": 58,
    "start_time": "2023-07-06T09:27:22.881Z"
   },
   {
    "duration": 7,
    "start_time": "2023-07-06T09:27:22.940Z"
   },
   {
    "duration": 35,
    "start_time": "2023-07-06T09:27:22.949Z"
   },
   {
    "duration": 20,
    "start_time": "2023-07-06T09:27:22.985Z"
   },
   {
    "duration": 42,
    "start_time": "2023-07-06T09:27:23.006Z"
   },
   {
    "duration": 169,
    "start_time": "2023-07-06T09:27:23.049Z"
   },
   {
    "duration": 210,
    "start_time": "2023-07-06T09:27:23.219Z"
   },
   {
    "duration": 168,
    "start_time": "2023-07-06T09:27:23.434Z"
   },
   {
    "duration": 13,
    "start_time": "2023-07-06T09:27:23.604Z"
   },
   {
    "duration": 9,
    "start_time": "2023-07-06T09:27:23.618Z"
   },
   {
    "duration": 72,
    "start_time": "2023-07-06T09:27:23.628Z"
   },
   {
    "duration": 23,
    "start_time": "2023-07-06T09:27:23.703Z"
   },
   {
    "duration": 15,
    "start_time": "2023-07-06T09:27:23.728Z"
   },
   {
    "duration": 11,
    "start_time": "2023-07-06T09:27:23.745Z"
   },
   {
    "duration": 24,
    "start_time": "2023-07-06T09:27:23.758Z"
   },
   {
    "duration": 8,
    "start_time": "2023-07-06T09:27:23.784Z"
   },
   {
    "duration": 1551,
    "start_time": "2023-07-06T09:27:23.793Z"
   },
   {
    "duration": 1540,
    "start_time": "2023-07-06T09:27:25.346Z"
   },
   {
    "duration": 1517,
    "start_time": "2023-07-06T09:27:26.888Z"
   },
   {
    "duration": 1766,
    "start_time": "2023-07-15T07:55:29.263Z"
   },
   {
    "duration": 873,
    "start_time": "2023-07-15T07:55:31.031Z"
   },
   {
    "duration": 139,
    "start_time": "2023-07-15T07:55:31.906Z"
   },
   {
    "duration": 16,
    "start_time": "2023-07-15T07:55:32.047Z"
   },
   {
    "duration": 43,
    "start_time": "2023-07-15T07:55:32.066Z"
   },
   {
    "duration": 40,
    "start_time": "2023-07-15T07:55:32.111Z"
   },
   {
    "duration": 41,
    "start_time": "2023-07-15T07:55:32.153Z"
   },
   {
    "duration": 73,
    "start_time": "2023-07-15T07:55:32.196Z"
   },
   {
    "duration": 48,
    "start_time": "2023-07-15T07:55:32.271Z"
   },
   {
    "duration": 83,
    "start_time": "2023-07-15T07:55:32.321Z"
   },
   {
    "duration": 72,
    "start_time": "2023-07-15T07:55:32.406Z"
   },
   {
    "duration": 51,
    "start_time": "2023-07-15T07:55:32.479Z"
   },
   {
    "duration": 32,
    "start_time": "2023-07-15T07:55:32.531Z"
   },
   {
    "duration": 61,
    "start_time": "2023-07-15T07:55:32.567Z"
   },
   {
    "duration": 53,
    "start_time": "2023-07-15T07:55:32.630Z"
   },
   {
    "duration": 10,
    "start_time": "2023-07-15T07:55:32.685Z"
   },
   {
    "duration": 348,
    "start_time": "2023-07-15T07:55:32.697Z"
   },
   {
    "duration": 281,
    "start_time": "2023-07-15T07:55:33.048Z"
   },
   {
    "duration": 274,
    "start_time": "2023-07-15T07:55:33.331Z"
   },
   {
    "duration": 13,
    "start_time": "2023-07-15T07:55:33.607Z"
   },
   {
    "duration": 38,
    "start_time": "2023-07-15T07:55:33.622Z"
   },
   {
    "duration": 358,
    "start_time": "2023-07-15T07:55:33.662Z"
   },
   {
    "duration": 157,
    "start_time": "2023-07-15T07:55:34.022Z"
   },
   {
    "duration": 306,
    "start_time": "2023-07-15T07:55:34.181Z"
   },
   {
    "duration": 146,
    "start_time": "2023-07-15T07:55:34.490Z"
   },
   {
    "duration": 376,
    "start_time": "2023-07-15T07:55:34.637Z"
   },
   {
    "duration": 161,
    "start_time": "2023-07-15T07:55:35.014Z"
   },
   {
    "duration": 11,
    "start_time": "2023-07-15T07:55:35.177Z"
   },
   {
    "duration": 331,
    "start_time": "2023-07-15T07:55:35.196Z"
   },
   {
    "duration": 7,
    "start_time": "2023-07-15T07:55:35.530Z"
   },
   {
    "duration": 190,
    "start_time": "2023-07-15T07:55:35.538Z"
   },
   {
    "duration": 356,
    "start_time": "2023-07-15T07:55:35.730Z"
   },
   {
    "duration": 143,
    "start_time": "2023-07-15T07:55:36.088Z"
   },
   {
    "duration": 261,
    "start_time": "2023-07-15T07:55:36.233Z"
   },
   {
    "duration": 128,
    "start_time": "2023-07-15T07:55:36.496Z"
   },
   {
    "duration": 7,
    "start_time": "2023-07-15T07:55:36.625Z"
   },
   {
    "duration": 239,
    "start_time": "2023-07-15T07:55:36.633Z"
   },
   {
    "duration": 134,
    "start_time": "2023-07-15T07:55:36.874Z"
   },
   {
    "duration": 230,
    "start_time": "2023-07-15T07:55:37.010Z"
   },
   {
    "duration": 7,
    "start_time": "2023-07-15T07:55:37.242Z"
   },
   {
    "duration": 158,
    "start_time": "2023-07-15T07:55:37.254Z"
   },
   {
    "duration": 359,
    "start_time": "2023-07-15T07:55:37.414Z"
   },
   {
    "duration": 138,
    "start_time": "2023-07-15T07:55:37.775Z"
   },
   {
    "duration": 5,
    "start_time": "2023-07-15T07:55:37.921Z"
   },
   {
    "duration": 357,
    "start_time": "2023-07-15T07:55:37.928Z"
   },
   {
    "duration": 166,
    "start_time": "2023-07-15T07:55:38.287Z"
   },
   {
    "duration": 6,
    "start_time": "2023-07-15T07:55:38.455Z"
   },
   {
    "duration": 287,
    "start_time": "2023-07-15T07:55:38.463Z"
   },
   {
    "duration": 144,
    "start_time": "2023-07-15T07:55:38.752Z"
   },
   {
    "duration": 6,
    "start_time": "2023-07-15T07:55:38.898Z"
   },
   {
    "duration": 300,
    "start_time": "2023-07-15T07:55:38.905Z"
   },
   {
    "duration": 13,
    "start_time": "2023-07-15T07:55:39.207Z"
   },
   {
    "duration": 148,
    "start_time": "2023-07-15T07:55:39.222Z"
   },
   {
    "duration": 5,
    "start_time": "2023-07-15T07:55:39.372Z"
   },
   {
    "duration": 62,
    "start_time": "2023-07-15T07:55:39.379Z"
   },
   {
    "duration": 35,
    "start_time": "2023-07-15T07:55:39.443Z"
   },
   {
    "duration": 34,
    "start_time": "2023-07-15T07:55:39.480Z"
   },
   {
    "duration": 123,
    "start_time": "2023-07-15T07:55:39.516Z"
   },
   {
    "duration": 8,
    "start_time": "2023-07-15T07:55:39.640Z"
   },
   {
    "duration": 26,
    "start_time": "2023-07-15T07:55:39.650Z"
   },
   {
    "duration": 40,
    "start_time": "2023-07-15T07:55:39.678Z"
   },
   {
    "duration": 14,
    "start_time": "2023-07-15T07:55:39.720Z"
   },
   {
    "duration": 30,
    "start_time": "2023-07-15T07:55:39.736Z"
   },
   {
    "duration": 27,
    "start_time": "2023-07-15T07:55:39.768Z"
   },
   {
    "duration": 48,
    "start_time": "2023-07-15T07:55:39.797Z"
   },
   {
    "duration": 84,
    "start_time": "2023-07-15T07:55:39.846Z"
   },
   {
    "duration": 126,
    "start_time": "2023-07-15T07:55:40.021Z"
   },
   {
    "duration": 171,
    "start_time": "2023-07-15T07:55:40.150Z"
   },
   {
    "duration": 54,
    "start_time": "2023-07-15T07:55:40.323Z"
   },
   {
    "duration": 63,
    "start_time": "2023-07-15T07:55:40.379Z"
   },
   {
    "duration": 43,
    "start_time": "2023-07-15T07:55:40.444Z"
   },
   {
    "duration": 14,
    "start_time": "2023-07-15T07:55:40.488Z"
   },
   {
    "duration": 20,
    "start_time": "2023-07-15T07:55:40.504Z"
   },
   {
    "duration": 19,
    "start_time": "2023-07-15T07:55:40.526Z"
   },
   {
    "duration": 13,
    "start_time": "2023-07-15T07:55:40.547Z"
   },
   {
    "duration": 9,
    "start_time": "2023-07-15T07:55:40.562Z"
   },
   {
    "duration": 1560,
    "start_time": "2023-07-15T07:55:40.572Z"
   },
   {
    "duration": 1566,
    "start_time": "2023-07-15T07:55:42.134Z"
   },
   {
    "duration": 1550,
    "start_time": "2023-07-15T07:55:43.701Z"
   },
   {
    "duration": 6,
    "start_time": "2023-07-15T07:58:24.546Z"
   },
   {
    "duration": 1615,
    "start_time": "2023-07-15T07:58:28.833Z"
   },
   {
    "duration": 6,
    "start_time": "2023-07-15T07:58:40.298Z"
   },
   {
    "duration": 1597,
    "start_time": "2023-07-15T07:58:42.732Z"
   },
   {
    "duration": 86,
    "start_time": "2023-07-15T07:59:01.501Z"
   },
   {
    "duration": 1230,
    "start_time": "2023-07-15T07:59:04.072Z"
   },
   {
    "duration": 7,
    "start_time": "2023-07-15T08:00:24.958Z"
   },
   {
    "duration": 1542,
    "start_time": "2023-07-15T08:00:27.161Z"
   },
   {
    "duration": 6,
    "start_time": "2023-07-15T08:00:46.300Z"
   },
   {
    "duration": 1573,
    "start_time": "2023-07-15T08:00:48.963Z"
   },
   {
    "duration": 6,
    "start_time": "2023-07-15T08:01:56.041Z"
   },
   {
    "duration": 1143,
    "start_time": "2023-07-15T08:01:58.139Z"
   },
   {
    "duration": 5,
    "start_time": "2023-07-15T08:02:16.666Z"
   },
   {
    "duration": 1524,
    "start_time": "2023-07-15T08:02:18.859Z"
   }
  ],
  "kernelspec": {
   "display_name": "Python 3 (ipykernel)",
   "language": "python",
   "name": "python3"
  },
  "language_info": {
   "codemirror_mode": {
    "name": "ipython",
    "version": 3
   },
   "file_extension": ".py",
   "mimetype": "text/x-python",
   "name": "python",
   "nbconvert_exporter": "python",
   "pygments_lexer": "ipython3",
   "version": "3.11.5"
  },
  "toc": {
   "base_numbering": 1,
   "nav_menu": {},
   "number_sections": true,
   "sideBar": true,
   "skip_h1_title": true,
   "title_cell": "Table of Contents",
   "title_sidebar": "Contents",
   "toc_cell": false,
   "toc_position": {
    "height": "calc(100% - 180px)",
    "left": "10px",
    "top": "150px",
    "width": "215.575px"
   },
   "toc_section_display": true,
   "toc_window_display": true
  }
 },
 "nbformat": 4,
 "nbformat_minor": 2
}
